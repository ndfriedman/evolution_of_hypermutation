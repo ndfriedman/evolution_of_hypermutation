{
 "cells": [
  {
   "cell_type": "code",
   "execution_count": 1,
   "metadata": {},
   "outputs": [],
   "source": [
    "import sys\n",
    "import os\n",
    "import pandas as pd\n",
    "import numpy as np\n",
    "from collections import Counter\n",
    "import re\n",
    "import scipy\n",
    "\n",
    "notebookPath = 'scripts/figure1'\n",
    "projectDir = re.sub(notebookPath, '', os.getcwd())\n",
    "sys.path.append(os.path.join(notebookPath, 'scripts/utilityScripts'))\n",
    "\n",
    "sys.path.append('/Users/friedman/Desktop/hypermutationProjectFinal/scripts/utilityScripts')\n",
    "import analysis_utils \n",
    "import mutationSigUtils \n",
    "import maf_analysis_utils\n",
    "import clonality_analysis_util\n",
    "import get_gene_and_cohort_list_utils\n",
    "import configuration_util\n",
    "import mutation_modeling_util\n",
    "\n",
    "reload(configuration_util)\n",
    "filePathDict = configuration_util.get_all_files_path_dict()"
   ]
  },
  {
   "cell_type": "code",
   "execution_count": 5,
   "metadata": {},
   "outputs": [],
   "source": [
    "#specify where to write files\n",
    "writeDir = os.path.join(projectDir, 'scripts/figure1/FIGURE1_PLOTTING_FILES/plotDataFiles')"
   ]
  },
  {
   "cell_type": "markdown",
   "metadata": {},
   "source": [
    "## Figure S1(a)\n",
    "Summaries of TMB distributions and hypermutation classifications<br>\n",
    "Run code in <code>scripts/utilityScripts/plotAndDefineHypermutationThresholds.R</code>"
   ]
  },
  {
   "cell_type": "markdown",
   "metadata": {},
   "source": [
    "## Figure S1(b)\n",
    "Signature summaries of hypermutated cases by cancer type. Use data frame: <code>scripts/figure1/FIGURE1_PLOTTING_FILES/plotDataFiles/figure_1b.tsv</code>"
   ]
  },
  {
   "cell_type": "markdown",
   "metadata": {},
   "source": [
    "## Figure S1(c)\n",
    "Driver/VUS ratio by TMB"
   ]
  },
  {
   "cell_type": "code",
   "execution_count": 2,
   "metadata": {},
   "outputs": [],
   "source": [
    "def count_fraction_drivers(maf):\n",
    "    impact341Genes = get_gene_and_cohort_list_utils.get_im3_genes()\n",
    "    im341Maf = maf[maf['Hugo_Symbol'].isin(impact341Genes)]\n",
    "    driverMaf = im341Maf[im341Maf['oncogenic'].notnull()]\n",
    "    driverCounts = dict(driverMaf['Tumor_Sample_Barcode'].value_counts())\n",
    "    mutCounts = dict(im341Maf['Tumor_Sample_Barcode'].value_counts())\n",
    "    dominantSigDict = get_gene_and_cohort_list_utils.get_hypermutator_signature_cohorts(impactSigsPath=filePathDict['IMPACT_SIGNATURE_DECOMPOSITIONS'])\n",
    "    \n",
    "    listOfDicts = []\n",
    "    for case in set(im341Maf['Tumor_Sample_Barcode']):\n",
    "        listOfDicts.append({\n",
    "            'nMut': mutCounts[case] if case in mutCounts else 0,\n",
    "            'nDriver': driverCounts[case] if case in driverCounts else 0,\n",
    "            'dominantSignature': dominantSigDict[case] if case in dominantSigDict else None\n",
    "        })\n",
    "    \n",
    "    df = pd.DataFrame(listOfDicts)\n",
    "    df['fracDriver'] = df['nDriver']/df['nMut']\n",
    "    return df"
   ]
  },
  {
   "cell_type": "code",
   "execution_count": 3,
   "metadata": {},
   "outputs": [
    {
     "name": "stderr",
     "output_type": "stream",
     "text": [
      "/anaconda2/lib/python2.7/site-packages/ipykernel_launcher.py:1: FutureWarning: read_table is deprecated, use read_csv instead, passing sep='\\t'.\n",
      "  \"\"\"Entry point for launching an IPython kernel.\n",
      "/anaconda2/lib/python2.7/site-packages/IPython/core/interactiveshell.py:2714: DtypeWarning: Columns (4,17,18,40,41,43,44,71,108,124,125,128,129,130,131,132,133,134,135,137) have mixed types. Specify dtype option on import or set low_memory=False.\n",
      "  interactivity=interactivity, compiler=compiler, result=result)\n",
      "/Users/friedman/Desktop/hypermutationProjectFinal/scripts/utilityScripts/get_gene_and_cohort_list_utils.py:204: FutureWarning: read_table is deprecated, use read_csv instead, passing sep='\\t'.\n",
      "  impactSigs = pd.read_table(impactSigsPath)\n"
     ]
    }
   ],
   "source": [
    "allImpactMutsMaf = pd.read_table(filePathDict['IMPACT_BASE_MAF'])\n",
    "df = count_fraction_drivers(allImpactMutsMaf)\n",
    "#adjust the labels for plotting\n",
    "df['dominantSignature'] = df['dominantSignature'].apply(lambda x:\n",
    "        'low-TMB' if x == 'insufficientMutBurden'\n",
    "        else 'APOBEC' if x == 'mean_APOBEC'\n",
    "        else 'MMR' if x == 'mean_MMR'\n",
    "        else 'SMOKING' if x == 'mean_SMOKING'\n",
    "        else 'POLE' if x == 'mean_10'\n",
    "        else 'TMZ' if x == 'mean_11'\n",
    "        else 'UV' if x == 'mean_7'\n",
    "        else 'other')"
   ]
  },
  {
   "cell_type": "code",
   "execution_count": 6,
   "metadata": {},
   "outputs": [],
   "source": [
    "writePath = os.path.join(writeDir, 'figureS1_c.tsv')\n",
    "df.to_csv(writePath, index=False, sep='\\t')"
   ]
  },
  {
   "cell_type": "markdown",
   "metadata": {},
   "source": [
    "## Figure S1(d) \n",
    "Distributions of observed and expected mutations in TCGA"
   ]
  },
  {
   "cell_type": "code",
   "execution_count": 7,
   "metadata": {},
   "outputs": [],
   "source": [
    "def summarize_observed_and_expected_distributions(maf, expectedDf, essentialGenesDict, essentialGeneSizesDict):\n",
    "    #ONLY look at SNPs\n",
    "    ###################\n",
    "    \n",
    "    #adjust the expected df ids please \n",
    "    expectedDf['case'] = expectedDf['case'].apply(lambda x: x[:12])\n",
    "    \n",
    "    stopGainSNPMaf = maf[maf['Consequence'] == 'stop_gained']\n",
    "    im3Genes = get_gene_and_cohort_list_utils.get_im3_genes()\n",
    "    maf = maf[maf['Variant_Type'] == 'SNP']\n",
    "    oncogenicIM341MutsMaf = maf[(maf['oncogenic'].notnull()) & (maf['Hugo_Symbol'].isin(im3Genes))]\n",
    "    impact341VusMutsMaf = maf[(~maf['oncogenic'].notnull()) & (maf['Hugo_Symbol'].isin(im3Genes))]\n",
    "    \n",
    "    #get counts for various mutation types\n",
    "    driverCounts = oncogenicIM341MutsMaf['Tumor_Sample_Barcode'].value_counts()\n",
    "    vusCounts = impact341VusMutsMaf['Tumor_Sample_Barcode'].value_counts()\n",
    "    mutCounts = maf['Tumor_Sample_Barcode'].value_counts()\n",
    "    \n",
    "    listOfDicts = []\n",
    "    for case in set(maf['Tumor_Sample_Barcode']):\n",
    "        mutCountCase = mutCounts[case] if case in mutCounts else 0\n",
    "        \n",
    "        #essential genes\n",
    "        caseStopGainMaf = stopGainSNPMaf[stopGainSNPMaf['Tumor_Sample_Barcode'] == case]\n",
    "        cancerType = None\n",
    "        if caseStopGainMaf.shape[0] > 0:\n",
    "            cancerType = caseStopGainMaf['cancerTypeDepMap'].iloc[0]\n",
    "        \n",
    "        #dont do analysis if not one of specified cancer types\n",
    "        if cancerType in essentialGeneSizesDict and cancerType in essentialGenesDict:\n",
    "        \n",
    "            #get the essential genes, and the base pairs they cover\n",
    "            essentialGenes = essentialGenesDict[cancerType]\n",
    "            caseStopGainEssential = caseStopGainMaf[caseStopGainMaf['Hugo_Symbol'].isin(essentialGenes)]\n",
    "            essentialGeneBasePairs = essentialGeneSizesDict[cancerType]\n",
    "\n",
    "            if mutCountCase != 0:\n",
    "\n",
    "                snpsExpectedIM3 = mutCountCase*(.89/30) #im genes = 830kb; tcga = 30mb\n",
    "                caseExpectation = expectedDf[expectedDf['case'] == case[:12]]\n",
    "                \n",
    "                oncogenicSNPRate = sum(caseExpectation['oncogenicChance'])\n",
    "                oncogenicSNPExpected = oncogenicSNPRate*snpsExpectedIM3\n",
    "                impactVUSSNPExpected = (1-oncogenicSNPRate)*snpsExpectedIM3\n",
    "\n",
    "                snpsExpectedEssential = mutCountCase*((1.0*essentialGeneBasePairs)/30e6)\n",
    "                #we assume the expected truncating rate in essential genes will be approximately equal to the expected truncating rate in impact genes\n",
    "                #Note we do it this way because we have calculated expected rates for all genes, only impact genes\n",
    "                \n",
    "                truncatingSNPRate = sum(caseExpectation['truncatingChance'])\n",
    "                truncatingExpected = truncatingSNPRate*snpsExpectedEssential\n",
    "                truncatingObservedEssential = caseStopGainEssential.shape[0]\n",
    "\n",
    "                listOfDicts.append({\n",
    "                    'Tumor_Sample_Barcode': case,\n",
    "                    'snpPerMb': mutCountCase/30.0,\n",
    "                    'oncogenicSNPExpected': oncogenicSNPExpected,\n",
    "                    'impactVUSSNPExpected': impactVUSSNPExpected,\n",
    "                    'oncogenicObserved': driverCounts[case] if case in driverCounts else 0,\n",
    "                    'vusObserved': vusCounts[case] if case in vusCounts else 0,\n",
    "                    'truncatingEssentialExpected': truncatingExpected, 'truncatingEssentialObserved': truncatingObservedEssential\n",
    "                })\n",
    "    return pd.DataFrame(listOfDicts)\n",
    "       \n",
    "def summarize_essential_gene_sizes(essentialGenesDict, geneSizes):\n",
    "    d = {}\n",
    "    for cancerType, genes in essentialGenesDict.items():\n",
    "        size = np.nansum([geneSizes[gene] for gene in genes if gene in geneSizes])\n",
    "        d[cancerType] = size\n",
    "    return d\n",
    "            "
   ]
  },
  {
   "cell_type": "code",
   "execution_count": 8,
   "metadata": {},
   "outputs": [
    {
     "name": "stderr",
     "output_type": "stream",
     "text": [
      "/anaconda2/lib/python2.7/site-packages/ipykernel_launcher.py:3: FutureWarning: read_table is deprecated, use read_csv instead, passing sep='\\t'.\n",
      "  This is separate from the ipykernel package so we can avoid doing imports until\n",
      "/anaconda2/lib/python2.7/site-packages/ipykernel_launcher.py:4: FutureWarning: read_table is deprecated, use read_csv instead, passing sep='\\t'.\n",
      "  after removing the cwd from sys.path.\n",
      "/anaconda2/lib/python2.7/site-packages/IPython/core/interactiveshell.py:2714: DtypeWarning: Columns (0,1,2,3,4,5,6,7,9,12,17,19,20,22,25,26,27,29,30,31,32,35,36,50,51,52,54,55,56,57,58,65,66,68,69,73,74,75,82,84,85,89,90,91,92,93,94,95,96,97,101,102,104,106,110,111,112,113,117,118,120,123,124,125,128,135,136,137,138,144,147,150,151,154,155,158,160,161,190,192,200,212,213,214,215,218,219,235,236,238,239,240,242,280,283,286,287,307,308,309,310,313,315,316) have mixed types. Specify dtype option on import or set low_memory=False.\n",
      "  interactivity=interactivity, compiler=compiler, result=result)\n"
     ]
    },
    {
     "name": "stdout",
     "output_type": "stream",
     "text": [
      "beginning annotation of exome maf; takes a long time\n"
     ]
    },
    {
     "name": "stderr",
     "output_type": "stream",
     "text": [
      "/Users/friedman/Desktop/hypermutationProjectFinal/scripts/utilityScripts/get_gene_and_cohort_list_utils.py:213: FutureWarning: read_table is deprecated, use read_csv instead, passing sep='\\t'.\n",
      "  tcgaDf = pd.read_table(tcgaInfoPath)\n",
      "/Users/friedman/Desktop/hypermutationProjectFinal/scripts/utilityScripts/get_gene_and_cohort_list_utils.py:217: FutureWarning: read_table is deprecated, use read_csv instead, passing sep='\\t'.\n",
      "  impactCancerTypeDf = pd.read_table(impactCancerTypeInfoPath)\n"
     ]
    },
    {
     "name": "stdout",
     "output_type": "stream",
     "text": [
      "assigning cancer type info\n",
      "assiging dep map cancer type info\n",
      "analyzing  Brain Cancer\n",
      "analyzing  Prostate Cancer\n",
      "analyzing  Bladder Cancer\n",
      "analyzing  Gastric Cancer\n",
      "analyzing  other\n",
      "analyzing  Esophageal Cancer\n",
      "analyzing  Skin Cancer\n",
      "analyzing  Lung Cancer\n",
      "analyzing  Breast Cancer\n",
      "analyzing  Endometrial/Uterine Cancer\n",
      "analyzing  Colon/Colorectal Cancer\n",
      "analyzing  Brain Cancer\n",
      "analyzing  Prostate Cancer\n",
      "analyzing  Bladder Cancer\n",
      "analyzing  Gastric Cancer\n",
      "analyzing  other\n",
      "analyzing  Esophageal Cancer\n",
      "analyzing  Skin Cancer\n",
      "analyzing  Lung Cancer\n",
      "analyzing  Breast Cancer\n",
      "analyzing  Endometrial/Uterine Cancer\n",
      "analyzing  Colon/Colorectal Cancer\n"
     ]
    },
    {
     "name": "stderr",
     "output_type": "stream",
     "text": [
      "/anaconda2/lib/python2.7/site-packages/ipykernel_launcher.py:11: FutureWarning: read_table is deprecated, use read_csv instead, passing sep='\\t'.\n",
      "  # This is added back by InteractiveShellApp.init_path()\n"
     ]
    }
   ],
   "source": [
    "#Heavy duty cell: takes ~5-10 min to run\n",
    "\n",
    "tcgaExpectedMutInfo = pd.read_table(filePathDict['TCGA_EXPECTED_MUTATION_INFO'])\n",
    "exomeHypermutatorMaf = pd.read_table(filePathDict['ALL_EXOME_HYPERMUTATOR_MAF'])\n",
    "exomeHypermutatorMafWithCancerType = maf_analysis_utils.annotate_maf_with_dep_map_cancer_type(exomeHypermutatorMaf, tcgaInfoPath=filePathDict['TCGA_CANCER_TYPE_INFO'], impactInfoPath=filePathDict['CANCER_TYPE_INFO'])\n",
    "\n",
    "#specifically run analysis on certain cancer types where we can identify essential genes\n",
    "cTypes = set(exomeHypermutatorMafWithCancerType['cancerTypeDepMap'])\n",
    "d = get_gene_and_cohort_list_utils.get_cancer_type_specific_dep_map_data(cancerTypes = cTypes)\n",
    "cancerTypeEssentialGenesDict = get_gene_and_cohort_list_utils.get_cancer_type_specific_essential_genes(cTypes, essentialThresh = -1)\n",
    "geneLengthInfo = pd.read_table(filePathDict['GENE_LENGTH_INFO'])\n",
    "geneLengthDict = dict(zip(geneLengthInfo['hgnc_symbol'], geneLengthInfo['nt.length']))\n",
    "\n",
    "essentialSizeDict = summarize_essential_gene_sizes(cancerTypeEssentialGenesDict, geneLengthDict)\n",
    "\n",
    "df = summarize_observed_and_expected_distributions(exomeHypermutatorMafWithCancerType, tcgaExpectedMutInfo, cancerTypeEssentialGenesDict, essentialSizeDict)\n",
    "\n",
    "df = df[df['oncogenicSNPExpected'] > 0]\n"
   ]
  },
  {
   "cell_type": "code",
   "execution_count": 9,
   "metadata": {},
   "outputs": [],
   "source": [
    "writePath = os.path.join(writeDir, 'figureS1_d.tsv')\n",
    "df.to_csv(writePath, index=False, sep='\\t')"
   ]
  },
  {
   "cell_type": "code",
   "execution_count": 8,
   "metadata": {},
   "outputs": [
    {
     "name": "stdout",
     "output_type": "stream",
     "text": [
      "oncogenic mutations: Ks_2sampResult(statistic=0.521885521885522, pvalue=2.6429664081916436e-36)\n",
      "vus mutations: Ks_2sampResult(statistic=0.08417508417508418, pvalue=0.23279104277249027)\n"
     ]
    }
   ],
   "source": [
    "#p values: comparing observed and expected distributions:\n",
    "print 'oncogenic mutations:', scipy.stats.ks_2samp(\n",
    "    np.array(df['oncogenicObserved'])\n",
    "    ,np.array(df['oncogenicSNPExpected']))\n",
    "\n",
    "print 'vus mutations:', scipy.stats.ks_2samp(\n",
    "    np.array(df['vusObserved'])\n",
    "    ,np.array(df['impactVUSSNPExpected']))"
   ]
  },
  {
   "cell_type": "markdown",
   "metadata": {},
   "source": [
    "## Figure S1(e)\n",
    "Mutation rates in essential genes"
   ]
  },
  {
   "cell_type": "code",
   "execution_count": 10,
   "metadata": {},
   "outputs": [],
   "source": [
    "def summarize_observed_and_expected_truncating_mutation(maf, essentialGenesDict, essentialGeneSizesDict):\n",
    "    mutationCounts = maf['Tumor_Sample_Barcode'].value_counts()\n",
    "    nonsenseMutationMaf = maf[maf['Variant_Classification'] == 'Nonsense_Mutation']\n",
    "    impactGenes = get_gene_and_cohort_list_utils.get_im6_genes()\n",
    "    tsgs = get_gene_and_cohort_list_utils.get_tsgs()\n",
    "    listOfDicts = []\n",
    "    for case in set(maf['Tumor_Sample_Barcode']):\n",
    "        caseMaf = nonsenseMutationMaf[nonsenseMutationMaf['Tumor_Sample_Barcode'] == case]\n",
    "        \n",
    "        cancerType = None\n",
    "        if caseMaf.shape[0] > 0:\n",
    "            cancerType = caseMaf['cancerTypeDepMap'].iloc[0]\n",
    "        if cancerType != None:\n",
    "        \n",
    "            essentialGenes = essentialGenesDict[cancerType]\n",
    "            caseMafEssential = caseMaf[caseMaf['Hugo_Symbol'].isin(essentialGenes)]\n",
    "            caseMafNotEssentialNotImpact = caseMaf[~caseMaf['Hugo_Symbol'].isin(set(impactGenes) | set(essentialGenesDict))]\n",
    "            caseMafTsg = caseMaf[caseMaf['Hugo_Symbol'].isin(tsgs)]\n",
    "            essentialGeneBasePairs = essentialGeneSizesDict[cancerType]\n",
    "            TCGA_BASE_PAIRS = 30e6\n",
    "            IMPACT_BASE_PAIRS = 1.3e6\n",
    "            TSG_BASE_PAIRS = 774186\n",
    "            nNotEssentialNotImpactBasePairs = TCGA_BASE_PAIRS - IMPACT_BASE_PAIRS - essentialGeneBasePairs #the number of not essential base pairs is TCGA base pairs minues impact base pairs minus essential gene base pairs\n",
    "            listOfDicts.append({\n",
    "                'Tumor_Sample_Barcode': case, 'cancerType': cancerType,\n",
    "                'nmut': mutationCounts[case] if case in mutationCounts else 0,\n",
    "                'mutRateEssential': (1.0*caseMafEssential.shape[0])/essentialGeneBasePairs,\n",
    "                'mutRateNotEssential': (1.0*caseMafNotEssentialNotImpact.shape[0])/nNotEssentialNotImpactBasePairs, \n",
    "                'mutRateTSG': (1.0*caseMafTsg.shape[0])/TSG_BASE_PAIRS\n",
    "            })\n",
    "    return pd.DataFrame(listOfDicts)\n",
    "\n",
    "       \n",
    "def summarize_essential_gene_sizes(essentialGenesDict, geneSizes):\n",
    "    d = {}\n",
    "    for cancerType, genes in essentialGenesDict.items():\n",
    "        size = np.nansum([geneSizes[gene] for gene in genes if gene in geneSizes])\n",
    "        d[cancerType] = size\n",
    "    return d\n",
    "\n"
   ]
  },
  {
   "cell_type": "code",
   "execution_count": 11,
   "metadata": {},
   "outputs": [
    {
     "name": "stderr",
     "output_type": "stream",
     "text": [
      "/anaconda2/lib/python2.7/site-packages/ipykernel_launcher.py:1: FutureWarning: read_table is deprecated, use read_csv instead, passing sep='\\t'.\n",
      "  \"\"\"Entry point for launching an IPython kernel.\n"
     ]
    },
    {
     "name": "stdout",
     "output_type": "stream",
     "text": [
      "beginning annotation of exome maf; takes a long time\n",
      "assigning cancer type info\n",
      "assiging dep map cancer type info\n",
      "analyzing  Brain Cancer\n",
      "analyzing  Prostate Cancer\n",
      "analyzing  Bladder Cancer\n",
      "analyzing  Gastric Cancer\n",
      "analyzing  other\n",
      "analyzing  Esophageal Cancer\n",
      "analyzing  Skin Cancer\n",
      "analyzing  Lung Cancer\n",
      "analyzing  Breast Cancer\n",
      "analyzing  Endometrial/Uterine Cancer\n",
      "analyzing  Colon/Colorectal Cancer\n",
      "analyzing  Brain Cancer\n",
      "analyzing  Prostate Cancer\n",
      "analyzing  Bladder Cancer\n",
      "analyzing  Gastric Cancer\n",
      "analyzing  other\n",
      "analyzing  Esophageal Cancer\n",
      "analyzing  Skin Cancer\n",
      "analyzing  Lung Cancer\n",
      "analyzing  Breast Cancer\n",
      "analyzing  Endometrial/Uterine Cancer\n",
      "analyzing  Colon/Colorectal Cancer\n"
     ]
    },
    {
     "name": "stderr",
     "output_type": "stream",
     "text": [
      "/anaconda2/lib/python2.7/site-packages/ipykernel_launcher.py:8: FutureWarning: read_table is deprecated, use read_csv instead, passing sep='\\t'.\n",
      "  \n"
     ]
    }
   ],
   "source": [
    "exomeHypermutatorMaf = pd.read_table(filePathDict['ALL_EXOME_HYPERMUTATOR_MAF'])\n",
    "exomeHypermutatorMafWithCancerType = maf_analysis_utils.annotate_maf_with_dep_map_cancer_type(exomeHypermutatorMaf, tcgaInfoPath=filePathDict['TCGA_CANCER_TYPE_INFO'], impactInfoPath=filePathDict['CANCER_TYPE_INFO'])\n",
    "#specifically run analysis on certain cancer types where we can identify essential genes\n",
    "cTypes = set(exomeHypermutatorMafWithCancerType['cancerTypeDepMap'])\n",
    "\n",
    "d = get_gene_and_cohort_list_utils.get_cancer_type_specific_dep_map_data(cancerTypes = cTypes)\n",
    "cancerTypeEssentialGenesDict = get_gene_and_cohort_list_utils.get_cancer_type_specific_essential_genes(cTypes, essentialThresh = -1)\n",
    "geneLengthInfo = pd.read_table(filePathDict['GENE_LENGTH_INFO'])\n",
    "geneLengthDict = dict(zip(geneLengthInfo['hgnc_symbol'], geneLengthInfo['nt.length']))\n",
    "essentialSizeDict = summarize_essential_gene_sizes(cancerTypeEssentialGenesDict, geneLengthDict)\n",
    "\n",
    "df = summarize_observed_and_expected_truncating_mutation(exomeHypermutatorMafWithCancerType, cancerTypeEssentialGenesDict, essentialSizeDict)\n"
   ]
  },
  {
   "cell_type": "code",
   "execution_count": 12,
   "metadata": {},
   "outputs": [],
   "source": [
    "writePath = os.path.join(writeDir, 'figureS1_e.tsv')\n",
    "df.to_csv(writePath, index=False, sep = '\\t')"
   ]
  },
  {
   "cell_type": "markdown",
   "metadata": {},
   "source": [
    "## Figure S1(f)\n",
    "Fraction SNVs, INDELs etc by aetiology"
   ]
  },
  {
   "cell_type": "code",
   "execution_count": 13,
   "metadata": {},
   "outputs": [],
   "source": [
    "def summarize_mutation_information_by_signature(maf):\n",
    "    indelTypes = ['INS', 'DEL']\n",
    "    listOfDicts = []\n",
    "    for signature in set(maf['dominantSignature']):\n",
    "        signatureMaf = maf[maf['dominantSignature'] == signature]\n",
    "        nMuts = 1.0*signatureMaf.shape[0]\n",
    "        nIndels = 1.0*signatureMaf[signatureMaf['Variant_Type'].isin(indelTypes)].shape[0]\n",
    "        nTruncating = 1.0*signatureMaf[signatureMaf['Variant_Classification'] == 'Nonsense_Mutation'].shape[0]\n",
    "        \n",
    "        listOfDicts.append({'signature': signature, 'fracIndel': nIndels/nMuts,\n",
    "                           'fracTruncating': nTruncating/nMuts\n",
    "                           })\n",
    "        \n",
    "    df = pd.DataFrame(listOfDicts)\n",
    "    return df"
   ]
  },
  {
   "cell_type": "code",
   "execution_count": 14,
   "metadata": {
    "scrolled": true
   },
   "outputs": [
    {
     "name": "stderr",
     "output_type": "stream",
     "text": [
      "/anaconda2/lib/python2.7/site-packages/ipykernel_launcher.py:1: FutureWarning: read_table is deprecated, use read_csv instead, passing sep='\\t'.\n",
      "  \"\"\"Entry point for launching an IPython kernel.\n",
      "/Users/friedman/Desktop/hypermutationProjectFinal/scripts/utilityScripts/get_gene_and_cohort_list_utils.py:226: FutureWarning: read_table is deprecated, use read_csv instead, passing sep='\\t'.\n",
      "  df = pd.read_table(path)\n",
      "/anaconda2/lib/python2.7/site-packages/ipykernel_launcher.py:7: SettingWithCopyWarning: \n",
      "A value is trying to be set on a copy of a slice from a DataFrame.\n",
      "Try using .loc[row_indexer,col_indexer] = value instead\n",
      "\n",
      "See the caveats in the documentation: http://pandas.pydata.org/pandas-docs/stable/indexing.html#indexing-view-versus-copy\n",
      "  import sys\n",
      "/anaconda2/lib/python2.7/site-packages/ipykernel_launcher.py:9: SettingWithCopyWarning: \n",
      "A value is trying to be set on a copy of a slice from a DataFrame.\n",
      "Try using .loc[row_indexer,col_indexer] = value instead\n",
      "\n",
      "See the caveats in the documentation: http://pandas.pydata.org/pandas-docs/stable/indexing.html#indexing-view-versus-copy\n",
      "  if __name__ == '__main__':\n",
      "/anaconda2/lib/python2.7/site-packages/ipykernel_launcher.py:21: SettingWithCopyWarning: \n",
      "A value is trying to be set on a copy of a slice from a DataFrame.\n",
      "Try using .loc[row_indexer,col_indexer] = value instead\n",
      "\n",
      "See the caveats in the documentation: http://pandas.pydata.org/pandas-docs/stable/indexing.html#indexing-view-versus-copy\n",
      "/anaconda2/lib/python2.7/site-packages/ipykernel_launcher.py:23: SettingWithCopyWarning: \n",
      "A value is trying to be set on a copy of a slice from a DataFrame.\n",
      "Try using .loc[row_indexer,col_indexer] = value instead\n",
      "\n",
      "See the caveats in the documentation: http://pandas.pydata.org/pandas-docs/stable/indexing.html#indexing-view-versus-copy\n"
     ]
    }
   ],
   "source": [
    "allImpactMutsMaf = pd.read_table(filePathDict['IMPACT_BASE_MAF'])\n",
    "domSigDict = get_gene_and_cohort_list_utils.get_hypermutator_signature_cohorts(impactSigsPath = filePathDict['IMPACT_SIGNATURE_DECOMPOSITIONS'])\n",
    "hypermutatedIds = get_gene_and_cohort_list_utils.get_all_hypermutant_ids(hypermutantIdDir=filePathDict['HYPERMUTATION_STATUS_IDS'])\n",
    "hypermutatedMaf = allImpactMutsMaf[allImpactMutsMaf['Tumor_Sample_Barcode'].isin(hypermutatedIds)]\n",
    "\n",
    "#summarize dominant signatures\n",
    "hypermutatedMaf['dominantSignature'] = hypermutatedMaf['Tumor_Sample_Barcode'].apply(lambda x:\n",
    "    domSigDict[x] if x in domSigDict else None)\n",
    "hypermutatedMaf['dominantSignature'] = hypermutatedMaf['dominantSignature'].apply(lambda x:\n",
    "        'APOBEC' if x == 'mean_APOBEC'\n",
    "        else 'MMR' if x == 'mean_MMR' or x == 'mean_1'\n",
    "        else 'SMOKING' if x == 'mean_SMOKING'\n",
    "        else 'POLE' if x == 'mean_10'\n",
    "        else 'POLE_MMR' if x == 'mean_14'\n",
    "        else 'TMZ' if x == 'mean_11'\n",
    "        else 'UV' if x == 'mean_7'\n",
    "        else 'other')\n",
    "\n",
    "#summarize indels\n",
    "indels = ['INS', 'DEL']\n",
    "hypermutatedMaf['isTruncating'] = hypermutatedMaf['Variant_Classification'].apply(lambda x:\n",
    "        1 if x == 'Nonsense_Mutation' else 0)\n",
    "hypermutatedMaf['isIndel'] = hypermutatedMaf['Variant_Type'].apply(lambda x: 1 if x in indels else 0)\n"
   ]
  },
  {
   "cell_type": "code",
   "execution_count": 15,
   "metadata": {},
   "outputs": [],
   "source": [
    "hypermutatedMafWrite = hypermutatedMaf[['isIndel', 'isTruncating', 'dominantSignature']]\n",
    "writePath = os.path.join(writeDir, 'figureS1_f.tsv')\n",
    "hypermutatedMafWrite.to_csv(writePath, index=False, sep='\\t')"
   ]
  },
  {
   "cell_type": "markdown",
   "metadata": {},
   "source": [
    "## Figure S1(g)\n",
    "Propensity of cosmic signatures to cause mutations"
   ]
  },
  {
   "cell_type": "code",
   "execution_count": 16,
   "metadata": {},
   "outputs": [],
   "source": [
    "def calculate_mut_susceptibility_of_genes_by_signature(dfAllPossibleMutations, mutType):\n",
    "    listOfDicts = []\n",
    "    sigNames = ['Signature.' + str(i) for i in range(1,31)]\n",
    "    spectraD = mutationSigUtils.convert_spectrum_file_to_dict_of_dicts(spectrumFile=filePathDict['SIGNATURE_SPECTRUM'])\n",
    "    for i in range(1,31):\n",
    "        curSig = 'Signature.' + str(i)\n",
    "        d = {}\n",
    "        for s in sigNames:\n",
    "            d[s] = 0\n",
    "        d[curSig] = 1\n",
    "        #PRETEND we got a case with 100% signature i on the decomposition\n",
    "        quadNucFractions = mutation_modeling_util.get_quadnuc_fracs_given_decomposition(d, spectraD)\n",
    "        d = mutation_modeling_util.summarize_mutation_chances(dfAllPossibleMutations, mutType)\n",
    "\n",
    "        p = mutation_modeling_util.get_expected_mut_chance_given_quadnuc_fractions(quadNucFractions, d)\n",
    "        \n",
    "        listOfDicts.append({'Signature_Name': curSig, 'frac': p, 'mutType': mutType})\n",
    "        \n",
    "    return pd.DataFrame(listOfDicts)"
   ]
  },
  {
   "cell_type": "code",
   "execution_count": 17,
   "metadata": {},
   "outputs": [
    {
     "name": "stderr",
     "output_type": "stream",
     "text": [
      "/anaconda2/lib/python2.7/site-packages/ipykernel_launcher.py:1: FutureWarning: read_table is deprecated, use read_csv instead, passing sep='\\t'.\n",
      "  \"\"\"Entry point for launching an IPython kernel.\n",
      "/Users/friedman/Desktop/hypermutationProjectFinal/scripts/utilityScripts/mutationSigUtils.py:215: FutureWarning: read_table is deprecated, use read_csv instead, passing sep='\\t'.\n",
      "  df = pd.read_table(spectrumFile)\n"
     ]
    }
   ],
   "source": [
    "dfAllPossibleMutations = pd.read_table(filePathDict['ALL_POSSIBLE_MUTATION_SUMMARY'])\n",
    "dfAllPossibleMutations = mutation_modeling_util.add_zero_cols_to_counts_df(dfAllPossibleMutations)\n",
    "dfTruncating = calculate_mut_susceptibility_of_genes_by_signature(dfAllPossibleMutations, 'truncating')\n",
    "dfOncogneic = calculate_mut_susceptibility_of_genes_by_signature(dfAllPossibleMutations, 'oncogenic')\n",
    "dfHotspot = calculate_mut_susceptibility_of_genes_by_signature(dfAllPossibleMutations, 'hotspot')\n",
    "\n",
    "#set colors for plotting\n",
    "df = pd.concat([dfTruncating, dfOncogneic, dfHotspot])\n",
    "df['colorName'] = df['Signature_Name'].apply(lambda x:\n",
    "                                            'POLE' if x == 'Signature.10'\n",
    "                                            else 'TMZ' if x == 'Signature.11'\n",
    "                                            else 'MMR' if x in set(['Signature.6', 'Signature.15', 'Signature.20', 'Signature.21', 'Signature.26'])\n",
    "                                            else 'UV' if x == 'Signature.7'\n",
    "                                            else 'APOBEC' if x in set(['Signature.2', 'Signature.13'])\n",
    "                                            else 'BRCA' if x == 'Signature.3'\n",
    "                                            else 'SMOKING' if x == 'Signature.4'\n",
    "                                            else 'POLE_MMR' if x == 'Signature.14'\n",
    "                                            else 'AGING' if x == 'Signature.1'\n",
    "                                            else 'OTHER')"
   ]
  },
  {
   "cell_type": "code",
   "execution_count": 18,
   "metadata": {},
   "outputs": [],
   "source": [
    "writePath = os.path.join(writeDir, 'figureS1_g.tsv')\n",
    "df.to_csv(writePath, index=False, sep='\\t')"
   ]
  },
  {
   "cell_type": "markdown",
   "metadata": {},
   "source": [
    "## Figure S1(h)\n",
    "Nucleosome positioning does not explain enrichment of drivers in hypermutated tumors"
   ]
  },
  {
   "cell_type": "code",
   "execution_count": 19,
   "metadata": {},
   "outputs": [],
   "source": [
    "def find_nearest(array, value):\n",
    "    array = np.asarray(array)\n",
    "    idx = (np.abs(array - value)).argmin()\n",
    "    return array[idx]\n"
   ]
  },
  {
   "cell_type": "code",
   "execution_count": 20,
   "metadata": {},
   "outputs": [
    {
     "name": "stderr",
     "output_type": "stream",
     "text": [
      "/anaconda2/lib/python2.7/site-packages/ipykernel_launcher.py:1: FutureWarning: read_table is deprecated, use read_csv instead, passing sep='\\t'.\n",
      "  \"\"\"Entry point for launching an IPython kernel.\n",
      "/anaconda2/lib/python2.7/site-packages/ipykernel_launcher.py:4: FutureWarning: read_table is deprecated, use read_csv instead, passing sep='\\t'.\n",
      "  after removing the cwd from sys.path.\n",
      "/anaconda2/lib/python2.7/site-packages/ipykernel_launcher.py:27: SettingWithCopyWarning: \n",
      "A value is trying to be set on a copy of a slice from a DataFrame.\n",
      "Try using .loc[row_indexer,col_indexer] = value instead\n",
      "\n",
      "See the caveats in the documentation: http://pandas.pydata.org/pandas-docs/stable/indexing.html#indexing-view-versus-copy\n"
     ]
    }
   ],
   "source": [
    "nucleosomeBed = pd.read_table(filePathDict['NUCLEOSOME_DYAD_POSITIONS'], header=None)\n",
    "nucleosomeBed = nucleosomeBed.rename(columns = {0: 'Chromosome', 1: 'Nucleosome_Start_Position', 2: 'Nucleosome_End_Position'})\n",
    "nucleosomeBed['Chromosome'] = nucleosomeBed['Chromosome'].apply(lambda x: re.sub('chr', '', x))\n",
    "impactMaf = pd.read_table(filePathDict['IMPACT_BASE_MAF'])\n",
    "\n",
    "#Figure out the closest nucleosome\n",
    "chromosomeDicts = {}\n",
    "for chromosome in set(nucleosomeBed['Chromosome']):\n",
    "    chromosomeBed = nucleosomeBed[nucleosomeBed['Chromosome'] == chromosome]\n",
    "    chromosomeDicts[chromosome] = list(chromosomeBed['Nucleosome_Start_Position'])\n",
    "impactMaf['closestNucleosome'] = impactMaf.apply(lambda row:\n",
    "        find_nearest(chromosomeDicts[str(row['Chromosome'])], row['Start_Position']), axis = 1)\n",
    "impactMaf['closestNucleosomeDistance'] = impactMaf.apply(lambda row: row['Start_Position'] - row['closestNucleosome'], axis=1)\n",
    "nucleosomeCloseThresh = 1000\n",
    "impactMaf['isCloseToNucleosome'] = impactMaf['closestNucleosomeDistance'].apply(lambda x:\n",
    "        1 if abs(x) < nucleosomeCloseThresh else 0)\n",
    "\n",
    "#Make curved plot for fraction of mutations\n",
    "hypermutationIds = get_gene_and_cohort_list_utils.get_all_hypermutant_ids(hypermutantIdDir=filePathDict['HYPERMUTATION_STATUS_IDS'])\n",
    "hypermutationMaf = impactMaf[impactMaf['Tumor_Sample_Barcode'].isin(hypermutationIds)]\n",
    "tsgs = get_gene_and_cohort_list_utils.get_tsgs()\n",
    "oncogenes = get_gene_and_cohort_list_utils.get_oncogenes()\n",
    "truncatingConsequences = set(['Nonsense_Mutation', 'Frame_Shift_Del', 'Frame_Shift_Ins'])\n",
    "hypermutationMaf['truncatingType'] = hypermutationMaf.apply(lambda row:\n",
    "        'truncatingTSG' if row['Hugo_Symbol'] in tsgs and row['Variant_Classification'] in truncatingConsequences\n",
    "        else 'truncatingOncogene' if row['Hugo_Symbol'] in oncogenes and row['Variant_Classification'] in truncatingConsequences\n",
    "        else None, axis=1)\n"
   ]
  },
  {
   "cell_type": "code",
   "execution_count": 21,
   "metadata": {},
   "outputs": [],
   "source": [
    "#FYI this is written as a csv because of errors that were present when writing as a tsv\n",
    "writePath = os.path.join(writeDir, 'figureS1_h.csv')\n",
    "hypermutationMaf.to_csv(writePath, index=False, sep=',')"
   ]
  },
  {
   "cell_type": "markdown",
   "metadata": {},
   "source": [
    "## Figure S1(i)\n",
    "Expression does not explain enrichment of drivers in hypermutated tumors"
   ]
  },
  {
   "cell_type": "code",
   "execution_count": 22,
   "metadata": {},
   "outputs": [],
   "source": [
    "#currently this analysis is performed in impact it could be done in tcga as well\n",
    "#returns to data frames, one for analysis by signature and one for analysis by mutation type\n",
    "def summarize_mutation_rate_by_expression(maf, expressedGenes, geneSizeDict, tmbDict):\n",
    "    impactToGtexMapping = {\n",
    "        'Endometrial Cancer': ['Uterus'],\n",
    "        'Colorectal Cancer': ['Colon - Sigmoid', 'Colon - Transverse'],\n",
    "        'Non-Small Cell Lung Cancer': ['Lung'],\n",
    "        'Bladder Cancer': ['Bladder'],\n",
    "        'Melanoma': ['Skin - Sun Exposed (Lower leg)', 'Skin - Not Sun Exposed (Suprapubic)'],\n",
    "        'Esophagogastric Cancer': ['Esophagus - Muscularis', 'Esophagus - Mucosa', 'Esophagus - Gastroesophageal Junction'],\n",
    "        'Prostate': ['Prostate'],\n",
    "        'Glioma': ['Brain - Anterior cingulate cortex (BA24)',\n",
    "                     'Brain - Putamen (basal ganglia)',\n",
    "                     'Brain - Cerebellum',\n",
    "                     'Brain - Cerebellar Hemisphere',\n",
    "                     'Brain - Hypothalamus',\n",
    "                     'Brain - Amygdala',\n",
    "                     'Brain - Hippocampus',\n",
    "                     'Brain - Cortex',\n",
    "                     'Brain - Spinal cord (cervical c-1)',\n",
    "                     'Brain - Nucleus accumbens (basal ganglia)',\n",
    "                     'Brain - Caudate (basal ganglia)',\n",
    "                     'Brain - Frontal Cortex (BA9)',\n",
    "                     'Brain - Substantia nigra']\n",
    "    }\n",
    "    \n",
    "    impactGenes = get_gene_and_cohort_list_utils.get_im6_genes()\n",
    "    #collapse all multiple gtex tissue types\n",
    "    impactMapping = {}\n",
    "    for impactCancerType, gtexCancerTypes in impactToGtexMapping.items():\n",
    "        impactMapping[impactCancerType] = set.union(*[expressedGenes[x] for x in gtexCancerTypes])\n",
    "    \n",
    "    maf = maf[maf['cancerType'].isin(impactToGtexMapping.keys())]\n",
    "    analysisSignatures = ['mean_10', 'mean_11', 'mean_APOBEC', 'mean_7', 'mean_MMR', 'mean_SMOKING']\n",
    "    maf = maf[maf['dominantSignature'].isin(analysisSignatures)]\n",
    "    \n",
    "    #iterate this way to be faster\n",
    "    listOfDicts = []\n",
    "    for cancerType in set(maf['cancerType']):\n",
    "        \n",
    "        #we calculate expressed genes for each cancer type\n",
    "        print cancerType,\n",
    "        cancerTypeMaf = maf[maf['cancerType'] == cancerType]\n",
    "        expressedGenes = impactMapping[cancerType]\n",
    "        bpExpressedGenes = 1.0*sum([value for key, value in geneSizeDict.items() if key in expressedGenes and key in impactGenes])\n",
    "        bpNotExpressedGenes = 1.0*sum([value for key, value in geneSizeDict.items() if key in expressedGenes and key in impactGenes])\n",
    "        \n",
    "        for case in set(maf['Tumor_Sample_Barcode']):\n",
    "            caseMaf = maf[maf['Tumor_Sample_Barcode'] == case]\n",
    "            caseMafExpressed = caseMaf[caseMaf['Hugo_Symbol'].isin(expressedGenes)]\n",
    "            caseMafNotExpressed = caseMaf[~caseMaf['Hugo_Symbol'].isin(expressedGenes)]\n",
    "            #mutTypeAnalysis\n",
    "            truncatingConsequences = set(['Frame_Shift_Del', 'Frame_Shift_Ins', 'Nonsense_Mutation'])\n",
    "            caseMafDriver = caseMaf[caseMaf['oncogenic'].notnull()]\n",
    "            caseMafVus = caseMaf[~caseMaf['oncogenic'].notnull()]\n",
    "            caseMafTruncating = caseMaf[caseMaf['Variant_Classification'].isin(truncatingConsequences)]\n",
    "            \n",
    "            listOfDicts.append({'Tumor_Sample_Barcode': case,\n",
    "                                'tmb': tmbDict[case] if case in tmbDict else None,\n",
    "                               'Signature': caseMaf['dominantSignature'].iloc[0],\n",
    "                                \n",
    "                                'mutRateExpressed': caseMafExpressed.shape[0]/bpExpressedGenes,\n",
    "                                'mutRateNotExpressed': caseMafNotExpressed.shape[0]/bpNotExpressedGenes,\n",
    "                                'mutRateDriverExpressed': caseMafDriver[caseMafDriver['Hugo_Symbol'].isin(expressedGenes)].shape[0]/bpExpressedGenes,\n",
    "                                'mutRateDriverNotExpressed': caseMafDriver[~caseMafDriver['Hugo_Symbol'].isin(expressedGenes)].shape[0]/bpNotExpressedGenes,\n",
    "                                'mutRateVUSExpressed': caseMafVus[caseMafVus['Hugo_Symbol'].isin(expressedGenes)].shape[0]/bpExpressedGenes,\n",
    "                                'mutRateVUSNotExpressed': caseMafVus[~caseMafVus['Hugo_Symbol'].isin(expressedGenes)].shape[0]/bpNotExpressedGenes,\n",
    "                                'mutRateTruncatingExpressed': caseMafTruncating[caseMafTruncating['Hugo_Symbol'].isin(expressedGenes)].shape[0]/bpExpressedGenes,\n",
    "                                'mutRateTruncatingNotExpressed': caseMafTruncating[~caseMafTruncating['Hugo_Symbol'].isin(expressedGenes)].shape[0]/bpNotExpressedGenes\n",
    "                               })\n",
    "    df = pd.DataFrame(listOfDicts)\n",
    "    return df\n",
    "            \n",
    "            "
   ]
  },
  {
   "cell_type": "code",
   "execution_count": 23,
   "metadata": {},
   "outputs": [
    {
     "name": "stderr",
     "output_type": "stream",
     "text": [
      "/Users/friedman/Desktop/hypermutationProjectFinal/scripts/utilityScripts/get_gene_and_cohort_list_utils.py:119: FutureWarning: read_table is deprecated, use read_csv instead, passing sep='\\t'.\n",
      "  gtexData = pd.read_table(gtexDataPath, skiprows=[0,1])\n"
     ]
    },
    {
     "name": "stdout",
     "output_type": "stream",
     "text": [
      "set(['Thyroid', 'Testis', 'Skin - Not Sun Exposed (Suprapubic)', 'Esophagus - Muscularis', 'Vagina', 'Cells - Cultured fibroblasts', 'Heart - Atrial Appendage', 'Brain - Caudate (basal ganglia)', 'Brain - Anterior cingulate cortex (BA24)', 'Brain - Cerebellar Hemisphere', 'Small Intestine - Terminal Ileum', 'Breast - Mammary Tissue', 'Cervix - Ectocervix', 'Cervix - Endocervix', 'Fallopian Tube', 'Brain - Cerebellum', 'Colon - Transverse', 'Esophagus - Mucosa', 'Bladder', 'Brain - Putamen (basal ganglia)', 'Artery - Coronary', 'Liver', 'Esophagus - Gastroesophageal Junction', 'Brain - Hypothalamus', 'Artery - Aorta', 'Prostate', 'Brain - Amygdala', 'Pancreas', 'Adipose - Subcutaneous', 'Skin - Sun Exposed (Lower leg)', 'Spleen', 'Brain - Hippocampus', 'Heart - Left Ventricle', 'Brain - Cortex', 'Artery - Tibial', 'Brain - Spinal cord (cervical c-1)', 'Kidney - Medulla', 'Uterus', 'Brain - Nucleus accumbens (basal ganglia)', 'Ovary', 'Minor Salivary Gland', 'Whole Blood', 'Kidney - Cortex', 'Stomach', 'Nerve - Tibial', 'Brain - Frontal Cortex (BA9)', 'Adipose - Visceral (Omentum)', 'Adrenal Gland', 'Lung', 'Muscle - Skeletal', 'Colon - Sigmoid', 'Pituitary', 'Brain - Substantia nigra', 'Cells - EBV-transformed lymphocytes'])\n"
     ]
    },
    {
     "name": "stderr",
     "output_type": "stream",
     "text": [
      "/anaconda2/lib/python2.7/site-packages/ipykernel_launcher.py:5: FutureWarning: read_table is deprecated, use read_csv instead, passing sep='\\t'.\n",
      "  \"\"\"\n",
      "/Users/friedman/Desktop/hypermutationProjectFinal/scripts/utilityScripts/get_gene_and_cohort_list_utils.py:263: FutureWarning: read_table is deprecated, use read_csv instead, passing sep='\\t'.\n",
      "  df = pd.read_table(tmbFilePath)\n",
      "/anaconda2/lib/python2.7/site-packages/ipykernel_launcher.py:10: FutureWarning: read_table is deprecated, use read_csv instead, passing sep='\\t'.\n",
      "  # Remove the CWD from sys.path while we load stuff.\n",
      "/Users/friedman/Desktop/hypermutationProjectFinal/scripts/utilityScripts/get_gene_and_cohort_list_utils.py:273: FutureWarning: read_table is deprecated, use read_csv instead, passing sep='\\t'.\n",
      "  sigsDf = pd.read_table(impactSigsPath)\n",
      "/anaconda2/lib/python2.7/site-packages/ipykernel_launcher.py:18: SettingWithCopyWarning: \n",
      "A value is trying to be set on a copy of a slice from a DataFrame.\n",
      "Try using .loc[row_indexer,col_indexer] = value instead\n",
      "\n",
      "See the caveats in the documentation: http://pandas.pydata.org/pandas-docs/stable/indexing.html#indexing-view-versus-copy\n"
     ]
    },
    {
     "name": "stdout",
     "output_type": "stream",
     "text": [
      "Melanoma Glioma Bladder Cancer Colorectal Cancer Non-Small Cell Lung Cancer Endometrial Cancer Esophagogastric Cancer\n"
     ]
    }
   ],
   "source": [
    "#note this cell takes ~3 minutes to run\n",
    "#get summary data as needed\n",
    "expressedGenes = get_gene_and_cohort_list_utils.get_expressed_genes_from_gtex(\n",
    "    gtexDataPath = filePathDict['GTEX_DATA'], thresh=1)\n",
    "geneLengthInfo = pd.read_table(filePathDict['GENE_LENGTH_INFO'])\n",
    "geneLengthDict = dict(zip(geneLengthInfo['hgnc_symbol'], geneLengthInfo['nt.length']))\n",
    "tmbDict = get_gene_and_cohort_list_utils.get_all_tmb_info(tmbFilePath = filePathDict['CASE_TMB_AND_MSI_STATS'])\n",
    "\n",
    "#prepare the maf as needed\n",
    "allImpactMutsMaf = pd.read_table(filePathDict['IMPACT_BASE_MAF'])\n",
    "dominantSignatureDict = get_gene_and_cohort_list_utils.get_pan_impact_signature_mapping(\n",
    "    filePathDict['IMPACT_SIGNATURE_DECOMPOSITIONS'])\n",
    "allHypermutantIds = get_gene_and_cohort_list_utils.get_all_hypermutant_ids(hypermutantIdDir=filePathDict['HYPERMUTATION_STATUS_IDS'])\n",
    "allNormalIds = get_gene_and_cohort_list_utils.get_all_normal_ids(hypermutantIdDir=filePathDict['HYPERMUTATION_STATUS_IDS'])\n",
    "cancerTypeDict = get_gene_and_cohort_list_utils.get_impact_cancer_type_info(impactCancerTypeInfoPath = filePathDict['CANCER_TYPE_INFO'])\n",
    "allImpactMutsMaf['cancerType'] = allImpactMutsMaf['Tumor_Sample_Barcode'].apply(lambda x: cancerTypeDict[x] if x in cancerTypeDict else None)\n",
    "hypermutatedMaf = allImpactMutsMaf[allImpactMutsMaf['Tumor_Sample_Barcode'].isin(allHypermutantIds)]\n",
    "hypermutatedMaf['dominantSignature'] = hypermutatedMaf['Tumor_Sample_Barcode'].apply(lambda x: dominantSignatureDict[x] if x in dominantSignatureDict else None)\n",
    "\n",
    "\n",
    "df = summarize_mutation_rate_by_expression(hypermutatedMaf, expressedGenes, geneLengthDict, tmbDict)\n",
    "df['Signature'] = df['Signature'].apply(lambda x:\n",
    "                                                       'POLE' if x == 'mean_10'\n",
    "                                                       else 'MMR' if x == 'mean_MMR'\n",
    "                                                       else 'TMZ' if x == 'mean_11'\n",
    "                                                       else 'UV' if x == 'mean_7'\n",
    "                                                       else 'APOBEC' if x == 'mean_APOBEC'\n",
    "                                                       else 'SMOKING' if x == 'mean_SMOKING'\n",
    "                                                       else None)"
   ]
  },
  {
   "cell_type": "code",
   "execution_count": 24,
   "metadata": {},
   "outputs": [],
   "source": [
    "writePath = os.path.join(writeDir, 'figureS1_i.tsv')\n",
    "df.to_csv(writePath, index=False, sep='\\t')"
   ]
  },
  {
   "cell_type": "markdown",
   "metadata": {},
   "source": [
    "## Figure S1(j)\n",
    "Effect of replication timing on mutation rate"
   ]
  },
  {
   "cell_type": "code",
   "execution_count": 25,
   "metadata": {},
   "outputs": [
    {
     "name": "stderr",
     "output_type": "stream",
     "text": [
      "/anaconda2/lib/python2.7/site-packages/ipykernel_launcher.py:1: FutureWarning: read_table is deprecated, use read_csv instead, passing sep='\\t'.\n",
      "  \"\"\"Entry point for launching an IPython kernel.\n",
      "/anaconda2/lib/python2.7/site-packages/ipykernel_launcher.py:13: SettingWithCopyWarning: \n",
      "A value is trying to be set on a copy of a slice from a DataFrame.\n",
      "Try using .loc[row_indexer,col_indexer] = value instead\n",
      "\n",
      "See the caveats in the documentation: http://pandas.pydata.org/pandas-docs/stable/indexing.html#indexing-view-versus-copy\n",
      "  del sys.path[0]\n",
      "/anaconda2/lib/python2.7/site-packages/ipykernel_launcher.py:15: SettingWithCopyWarning: \n",
      "A value is trying to be set on a copy of a slice from a DataFrame.\n",
      "Try using .loc[row_indexer,col_indexer] = value instead\n",
      "\n",
      "See the caveats in the documentation: http://pandas.pydata.org/pandas-docs/stable/indexing.html#indexing-view-versus-copy\n",
      "  from ipykernel import kernelapp as app\n",
      "/anaconda2/lib/python2.7/site-packages/ipykernel_launcher.py:18: SettingWithCopyWarning: \n",
      "A value is trying to be set on a copy of a slice from a DataFrame.\n",
      "Try using .loc[row_indexer,col_indexer] = value instead\n",
      "\n",
      "See the caveats in the documentation: http://pandas.pydata.org/pandas-docs/stable/indexing.html#indexing-view-versus-copy\n"
     ]
    }
   ],
   "source": [
    "allImpactMutsMaf = pd.read_table(filePathDict['IMPACT_BASE_MAF'])\n",
    "allHypermutantIds = get_gene_and_cohort_list_utils.get_all_hypermutant_ids(hypermutantIdDir=filePathDict['HYPERMUTATION_STATUS_IDS'])\n",
    "hypermutatedMaf = allImpactMutsMaf[allImpactMutsMaf['Tumor_Sample_Barcode'].isin(allHypermutantIds)]\n",
    "\n",
    "replicationTimingDf = pd.read_csv(filePathDict['REPLICATION_TIMING_DATA'])\n",
    "replicationTimeDict = dict(zip(replicationTimingDf['gene'], replicationTimingDf['replication_time']))\n",
    "tsgs = get_gene_and_cohort_list_utils.get_tsgs()\n",
    "oncogenes = get_gene_and_cohort_list_utils.get_oncogenes()\n",
    "truncatingConsequences = set(['Nonsense_Mutation', 'Frame_Shift_Del', 'Frame_Shift_Ins'])\n",
    "hypermutatedMaf['truncatingType'] = hypermutatedMaf.apply(lambda row:\n",
    "        'truncatingTSG' if row['Hugo_Symbol'] in tsgs and row['Variant_Classification'] in truncatingConsequences\n",
    "        else 'truncatingOncogene' if row['Hugo_Symbol'] in oncogenes and row['Variant_Classification'] in truncatingConsequences\n",
    "        else None, axis=1)\n",
    "\n",
    "hypermutatedMaf['driverType'] = hypermutatedMaf['oncogenic'].apply(lambda x: 'driver' if x in ['Oncogenic', 'Likely Oncogenic', 'Predicted Oncogenic'] else 'VUS')\n",
    "\n",
    "\n",
    "hypermutatedMaf['replicationTime'] = hypermutatedMaf['Hugo_Symbol'].apply(lambda x: replicationTimeDict[x] if x in replicationTimeDict else None)\n"
   ]
  },
  {
   "cell_type": "code",
   "execution_count": 28,
   "metadata": {},
   "outputs": [],
   "source": [
    "#FYI this is written as a csv because of errors that were present when writing as a tsv\n",
    "writeMaf = hypermutatedMaf[['driverType', 'truncatingType', 'Hugo_Symbol', 'replicationTime']]\n",
    "writePath = os.path.join(writeDir, 'figureS1_j.tsv')\n",
    "writeMaf.to_csv(writePath, index=False, sep='\\t')"
   ]
  }
 ],
 "metadata": {
  "kernelspec": {
   "display_name": "Python 2",
   "language": "python",
   "name": "python2"
  },
  "language_info": {
   "codemirror_mode": {
    "name": "ipython",
    "version": 2
   },
   "file_extension": ".py",
   "mimetype": "text/x-python",
   "name": "python",
   "nbconvert_exporter": "python",
   "pygments_lexer": "ipython2",
   "version": "2.7.15"
  }
 },
 "nbformat": 4,
 "nbformat_minor": 2
}
