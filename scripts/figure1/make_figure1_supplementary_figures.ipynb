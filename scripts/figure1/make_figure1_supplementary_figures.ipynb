{
 "cells": [
  {
   "cell_type": "code",
   "execution_count": 1,
   "metadata": {},
   "outputs": [],
   "source": [
    "import sys\n",
    "import argparse\n",
    "import os\n",
    "import pandas as pd\n",
    "import numpy as np\n",
    "\n",
    "from collections import Counter\n",
    "\n",
    "sys.path.append('/Users/friedman/Desktop/hypermutationProjectFinal/scripts/utilityScripts')\n",
    "import analysis_utils \n",
    "import mutationSigUtils \n",
    "import maf_analysis_utils\n",
    "import clonality_analysis_util\n",
    "import get_gene_and_cohort_list_utils\n",
    "import configuration_util\n",
    "import mutation_modeling_util\n",
    "import re\n",
    "\n",
    "reload(configuration_util)\n",
    "filePathDict = configuration_util.get_all_files_path_dict()"
   ]
  },
  {
   "cell_type": "code",
   "execution_count": null,
   "metadata": {},
   "outputs": [],
   "source": [
    "#specify where to write files\n",
    "writeDir = '/Users/friedman/Desktop/hypermutationProjectFinal/scripts/figure1/FIGURE1_PLOTTING_FILES/'"
   ]
  },
  {
   "cell_type": "markdown",
   "metadata": {},
   "source": [
    "## Figure S1(i)\n",
    "Summaries of TMB distributions and hypermutation classifications"
   ]
  },
  {
   "cell_type": "code",
   "execution_count": null,
   "metadata": {},
   "outputs": [],
   "source": []
  },
  {
   "cell_type": "code",
   "execution_count": null,
   "metadata": {},
   "outputs": [],
   "source": [
    "writePath = os.path.join(writeDir, 'figureS1_iv.tsv', index=False, sep='\\t')\n",
    "df.to_csv(writePath, index=False, sep='\\t')"
   ]
  },
  {
   "cell_type": "markdown",
   "metadata": {},
   "source": [
    "## Figure S1(ii)\n",
    "Signature summaries of hypermutated cases by cancer type"
   ]
  },
  {
   "cell_type": "code",
   "execution_count": null,
   "metadata": {},
   "outputs": [],
   "source": []
  },
  {
   "cell_type": "code",
   "execution_count": null,
   "metadata": {},
   "outputs": [],
   "source": [
    "writePath = os.path.join(writeDir, 'figureS1_iii.tsv', index=False, sep='\\t')\n",
    "df.to_csv(writePath, index=False, sep='\\t')"
   ]
  },
  {
   "cell_type": "markdown",
   "metadata": {},
   "source": [
    "## Figure S1(iii)\n",
    "Fraction drivers by TMB"
   ]
  },
  {
   "cell_type": "code",
   "execution_count": null,
   "metadata": {},
   "outputs": [],
   "source": [
    "def count_fraction_drivers(maf):\n",
    "    impact341Genes = get_gene_and_cohort_list_utils.get_im3_genes()\n",
    "    im341Maf = maf[maf['Hugo_Symbol'].isin(impact341Genes)]\n",
    "    driverMaf = im341Maf[im341Maf['oncogenic'].notnull()]\n",
    "    driverCounts = dict(driverMaf['Tumor_Sample_Barcode'].value_counts())\n",
    "    mutCounts = dict(im341Maf['Tumor_Sample_Barcode'].value_counts())\n",
    "    dominantSigDict = get_gene_and_cohort_list_utils.get_hypermutator_signature_cohorts(impactSigsPath=filePathDict['IMPACT_SIGNATURE_DECOMPOSITIONS'])\n",
    "    \n",
    "    listOfDicts = []\n",
    "    for case in set(im341Maf['Tumor_Sample_Barcode']):\n",
    "        listOfDicts.append({\n",
    "            'nMut': mutCounts[case] if case in mutCounts else 0,\n",
    "            'nDriver': driverCounts[case] if case in driverCounts else 0,\n",
    "            'dominantSignature': dominantSigDict[case] if case in dominantSigDict else None\n",
    "        })\n",
    "    \n",
    "    df = pd.DataFrame(listOfDicts)\n",
    "    df['fracDriver'] = df['nDriver']/df['nMut']\n",
    "    return df"
   ]
  },
  {
   "cell_type": "code",
   "execution_count": 2,
   "metadata": {},
   "outputs": [
    {
     "name": "stderr",
     "output_type": "stream",
     "text": [
      "/anaconda2/lib/python2.7/site-packages/ipykernel_launcher.py:1: FutureWarning: read_table is deprecated, use read_csv instead, passing sep='\\t'.\n",
      "  \"\"\"Entry point for launching an IPython kernel.\n",
      "/anaconda2/lib/python2.7/site-packages/IPython/core/interactiveshell.py:2714: DtypeWarning: Columns (4,17,18,40,41,43,44,71,108,124,125,128,129,130,131,132,133,134,135,137) have mixed types. Specify dtype option on import or set low_memory=False.\n",
      "  interactivity=interactivity, compiler=compiler, result=result)\n"
     ]
    }
   ],
   "source": [
    "allImpactMutsMaf = pd.read_table(filePathDict['IMPACT_BASE_MAF'])\n",
    "df = count_fraction_drivers(allImpactMutsMaf)\n",
    "#adjust the labels for plotting\n",
    "df['dominantSignature'] = df['dominantSignature'].apply(lambda x:\n",
    "        'low-TMB' if x == 'insufficientMutBurden'\n",
    "        else 'APOBEC' if x == 'mean_APOBEC'\n",
    "        else 'MMR' if x == 'mean_MMR'\n",
    "        else 'SMOKING' if x == 'mean_SMOKING'\n",
    "        else 'POLE' if x == 'mean_10'\n",
    "        else 'TMZ' if x == 'mean_11'\n",
    "        else 'UV' if x == 'mean_7'\n",
    "        else 'other')"
   ]
  },
  {
   "cell_type": "code",
   "execution_count": null,
   "metadata": {},
   "outputs": [],
   "source": [
    "writePath = os.path.join(writeDir, 'figureS1_iii.tsv', index=False, sep='\\t')\n",
    "df.to_csv(writePath, index=False, sep='\\t')"
   ]
  },
  {
   "cell_type": "markdown",
   "metadata": {},
   "source": [
    "## Figure S1(iv)\n",
    "Propensity of cosmic signatures to cause mutations"
   ]
  },
  {
   "cell_type": "code",
   "execution_count": null,
   "metadata": {},
   "outputs": [],
   "source": [
    "def calculate_mut_susceptibility_of_genes_by_signature(dfAllPossibleMutations, mutType):\n",
    "    listOfDicts = []\n",
    "    sigNames = ['Signature.' + str(i) for i in range(1,31)]\n",
    "    spectraD = mutationSigUtils.convert_spectrum_file_to_dict_of_dicts(spectrumFile=filePathDict['SIGNATURE_SPECTRUM'])\n",
    "    for i in range(1,31):\n",
    "        curSig = 'Signature.' + str(i)\n",
    "        d = {}\n",
    "        for s in sigNames:\n",
    "            d[s] = 0\n",
    "        d[curSig] = 1\n",
    "        #PRETEND we got a case with 100% signature i on the decomposition\n",
    "        quadNucFractions = mutation_modeling_util.get_quadnuc_fracs_given_decomposition(d, spectraD)\n",
    "        d = mutation_modeling_util.summarize_mutation_chances(dfAllPossibleMutations, mutType)\n",
    "\n",
    "        p = mutation_modeling_util.get_expected_mut_chance_given_quadnuc_fractions(quadNucFractions, d)\n",
    "        \n",
    "        listOfDicts.append({'Signature_Name': curSig, 'frac': p, 'mutType': mutType})\n",
    "        \n",
    "    return pd.DataFrame(listOfDicts)"
   ]
  },
  {
   "cell_type": "code",
   "execution_count": null,
   "metadata": {},
   "outputs": [],
   "source": [
    "dfAllPossibleMutations = pd.read_table(filePathDict['ALL_POSSIBLE_MUTATION_SUMMARY'])\n",
    "dfAllPossibleMutations = mutation_modeling_util.add_zero_cols_to_counts_df(dfAllPossibleMutations)\n",
    "dfTruncating = calculate_mut_susceptibility_of_genes_by_signature(dfAllPossibleMutations, 'truncating')\n",
    "dfOncogneic = calculate_mut_susceptibility_of_genes_by_signature(dfAllPossibleMutations, 'oncogenic')\n",
    "dfHotspot = calculate_mut_susceptibility_of_genes_by_signature(dfAllPossibleMutations, 'hotspot')\n",
    "\n",
    "#set colors for plotting\n",
    "df = pd.concat([dfTruncating, dfOncogneic, dfHotspot])\n",
    "df['colorName'] = df['Signature_Name'].apply(lambda x:\n",
    "                                            'POLE' if x == 'Signature.10'\n",
    "                                            else 'MMR' if x in set(['Signature.6', 'Signature.15', 'Signature.20', 'Signature.21', 'Signature.26'])\n",
    "                                            else 'UV' if x == 'Signature.7'\n",
    "                                            else 'APOBEC' if x in set(['Signature.2', 'Signature.13'])\n",
    "                                            else 'BRCA' if x == 'Signature.3'\n",
    "                                            else 'SMOKING' if x == 'Signature.4'\n",
    "                                            else 'POLE_MMR' if x == 'Signature.14'\n",
    "                                            else 'AGING' if x == 'Signature.1'\n",
    "                                            else 'OTHER')"
   ]
  },
  {
   "cell_type": "code",
   "execution_count": null,
   "metadata": {},
   "outputs": [],
   "source": [
    "writePath = os.path.join(writeDir, 'figureS1_iv.tsv', index=False, sep='\\t')\n",
    "df.to_csv(writePath, index=False, sep='\\t')"
   ]
  },
  {
   "cell_type": "markdown",
   "metadata": {},
   "source": [
    "## Figure S1(v)\n",
    "Fraction SNVs, INDELs etc by aetiology"
   ]
  },
  {
   "cell_type": "code",
   "execution_count": 12,
   "metadata": {},
   "outputs": [],
   "source": [
    "def summarize_mutation_information_by_signature(maf):\n",
    "    indelTypes = ['INS', 'DEL']\n",
    "    listOfDicts = []\n",
    "    for signature in set(maf['dominantSignature']):\n",
    "        signatureMaf = maf[maf['dominantSignature'] == signature]\n",
    "        nMuts = 1.0*signatureMaf.shape[0]\n",
    "        nIndels = 1.0*signatureMaf[signatureMaf['Variant_Type'].isin(indelTypes)].shape[0]\n",
    "        nTruncating = 1.0*signatureMaf[signatureMaf['Variant_Classification'] == 'Nonsense_Mutation'].shape[0]\n",
    "        \n",
    "        listOfDicts.append({'signature': signature, 'fracIndel': nIndels/nMuts,\n",
    "                           'fracTruncating': nTruncating/nMuts\n",
    "                           })\n",
    "        \n",
    "    df = pd.DataFrame(listOfDicts)\n",
    "    return df"
   ]
  },
  {
   "cell_type": "code",
   "execution_count": 2,
   "metadata": {},
   "outputs": [
    {
     "name": "stderr",
     "output_type": "stream",
     "text": [
      "/anaconda2/lib/python2.7/site-packages/ipykernel_launcher.py:1: FutureWarning: read_table is deprecated, use read_csv instead, passing sep='\\t'.\n",
      "  \"\"\"Entry point for launching an IPython kernel.\n",
      "/anaconda2/lib/python2.7/site-packages/IPython/core/interactiveshell.py:2714: DtypeWarning: Columns (4,17,18,40,41,43,44,71,108,124,125,128,129,130,131,132,133,134,135,137) have mixed types. Specify dtype option on import or set low_memory=False.\n",
      "  interactivity=interactivity, compiler=compiler, result=result)\n"
     ]
    }
   ],
   "source": [
    "allImpactMutsMaf = pd.read_table(filePathDict['IMPACT_BASE_MAF'])\n",
    "domSigDict = get_gene_and_cohort_list_utils.get_hypermutator_signature_cohorts(impactSigsPath = filePathDict['IMPACT_SIGNATURE_DECOMPOSITIONS'])\n",
    "hypermutatedIds = get_gene_and_cohort_list_utils.get_all_hypermutant_ids(hypermutantIdDir=filePathDict['HYPERMUTATION_STATUS_IDS'])\n",
    "hypermutatedMaf = allImpactMutsMaf[allImpactMutsMaf['Tumor_Sample_Barcode'].isin(hypermutatedIds)]\n",
    "\n",
    "#summarize dominant signatures\n",
    "hypermutatedMaf['dominantSignature'] = hypermutatedMaf['Tumor_Sample_Barcode'].apply(lambda x:\n",
    "    domSigDict[x] if x in domSigDict else None)\n",
    "hypermutatedMaf['dominantSignature'] = hypermutatedMaf['dominantSignature'].apply(lambda x:\n",
    "        'APOBEC' if x == 'mean_APOBEC'\n",
    "        else 'MMR' if x == 'mean_MMR' or x == 'mean_1'\n",
    "        else 'SMOKING' if x == 'mean_SMOKING'\n",
    "        else 'POLE' if x == 'mean_10'\n",
    "        else 'POLE_MMR' if x == 'mean_14'\n",
    "        else 'TMZ' if x == 'mean_11'\n",
    "        else 'UV' if x == 'mean_7'\n",
    "        else 'other')\n",
    "\n",
    "#summarize indels\n",
    "indels = ['INS', 'DEL']\n",
    "hypermutatedMaf['isTruncating'] = hypermutatedMaf['Variant_Classification'].apply(lambda x:\n",
    "        1 if x == 'Nonsense_Mutation' else 0)\n",
    "hypermutatedMaf['isIndel'] = hypermutatedMaf['Variant_Type'].apply(lambda x: 1 if x in indels else 0)\n"
   ]
  },
  {
   "cell_type": "code",
   "execution_count": 19,
   "metadata": {},
   "outputs": [],
   "source": [
    "hypermutatedMafWrite = hypermutatedMaf[['isIndel', 'isTruncating', 'dominantSignature']]\n",
    "hypermutatedMafWrite.to_csv('/Users/friedman/Desktop/WORK/dataForLocalPlotting/mutationTypeSummary.tsv', index=False, sep='\\t')"
   ]
  },
  {
   "cell_type": "markdown",
   "metadata": {},
   "source": [
    "## Figure S1(vi)"
   ]
  },
  {
   "cell_type": "code",
   "execution_count": 13,
   "metadata": {},
   "outputs": [],
   "source": [
    "def find_nearest(array, value):\n",
    "    array = np.asarray(array)\n",
    "    idx = (np.abs(array - value)).argmin()\n",
    "    return array[idx]\n"
   ]
  },
  {
   "cell_type": "code",
   "execution_count": 19,
   "metadata": {},
   "outputs": [
    {
     "name": "stderr",
     "output_type": "stream",
     "text": [
      "/anaconda2/lib/python2.7/site-packages/ipykernel_launcher.py:1: FutureWarning: read_table is deprecated, use read_csv instead, passing sep='\\t'.\n",
      "  \"\"\"Entry point for launching an IPython kernel.\n"
     ]
    }
   ],
   "source": [
    "nucleosomeBed = pd.read_table(filePathDict['NUCLEOSOME_DYAD_POSITIONS'], header=None)\n",
    "nucleosomeBed = nucleosomeBed.rename(columns = {0: 'Chromosome', 1: 'Nucleosome_Start_Position', 2: 'Nucleosome_End_Position'})\n",
    "nucleosomeBed['Chromosome'] = nucleosomeBed['Chromosome'].apply(lambda x: re.sub('chr', '', x))\n",
    "impactMaf = pd.read_table(filePathDict['IMPACT_BASE_MAF'])\n",
    "\n",
    "#Figure out the closest nucleosome\n",
    "chromosomeDicts = {}\n",
    "for chromosome in set(nucleosomeBed['Chromosome']):\n",
    "    chromosomeBed = nucleosomeBed[nucleosomeBed['Chromosome'] == chromosome]\n",
    "    chromosomeDicts[chromosome] = list(chromosomeBed['Nucleosome_Start_Position'])\n",
    "impactMaf['closestNucleosome'] = impactMaf.apply(lambda row:\n",
    "        find_nearest(chromosomeDicts[str(row['Chromosome'])], row['Start_Position']), axis = 1)\n",
    "impactMaf['closestNucleosomeDistance'] = impactMaf.apply(lambda row: row['Start_Position'] - row['closestNucleosome'], axis=1)\n",
    "nucleosomeCloseThresh = 1000\n",
    "impactMaf['isCloseToNucleosome'] = impactMaf['closestNucleosomeDistance'].apply(lambda x:\n",
    "        1 if abs(x) < nucleosomeCloseThresh else 0)\n",
    "\n",
    "#Make curved plot for fraction of mutations\n",
    "hypermutationIds = get_gene_and_cohort_list_utils.get_all_hypermutant_ids(hypermutantIdDir=filePathDict['HYPERMUTATION_STATUS_IDS'])\n",
    "hypermutationMaf = impactMaf[impactMaf['Tumor_Sample_Barcode'].isin(hypermutationIds)]\n",
    "tsgs = get_gene_and_cohort_list_utils.get_tsgs()\n",
    "oncogenes = get_gene_and_cohort_list_utils.get_oncogenes()\n",
    "truncatingConsequences = set(['Nonsense_Mutation', 'Frame_Shift_Del', 'Frame_Shift_Ins'])\n",
    "hypermutationMaf['truncatingType'] = hypermutationMaf.apply(lambda row:\n",
    "        'truncatingTSG' if row['Hugo_Symbol'] in tsgs and row['Variant_Classification'] in truncatingConsequences\n",
    "        else 'truncatingOncogene' if row['Hugo_Symbol'] in oncogenes and row['Variant_Classification'] in truncatingConsequences\n",
    "        else None, axis=1)\n"
   ]
  },
  {
   "cell_type": "code",
   "execution_count": 41,
   "metadata": {},
   "outputs": [],
   "source": [
    "writePath = os.path.join(writeDir, 'figureS1_v.tsv', index=False, sep='\\t')\n",
    "hypermutationMaf.to_csv(writePath, index=False, sep='\\t')\n",
    "#hypermutationMaf.to_csv('/Users/friedman/Desktop/WORK/dataForLocalPlotting/nucleosomeDyadOnfo.tsv', index=False)"
   ]
  }
 ],
 "metadata": {
  "kernelspec": {
   "display_name": "Python 2",
   "language": "python",
   "name": "python2"
  },
  "language_info": {
   "codemirror_mode": {
    "name": "ipython",
    "version": 2
   },
   "file_extension": ".py",
   "mimetype": "text/x-python",
   "name": "python",
   "nbconvert_exporter": "python",
   "pygments_lexer": "ipython2",
   "version": "2.7.15"
  }
 },
 "nbformat": 4,
 "nbformat_minor": 2
}
