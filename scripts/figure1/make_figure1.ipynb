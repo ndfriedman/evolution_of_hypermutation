{
 "cells": [
  {
   "cell_type": "code",
   "execution_count": 6,
   "metadata": {},
   "outputs": [],
   "source": [
    "#IMPORTS and CONFIGURATION\n",
    "\n",
    "import pandas as pd\n",
    "import sys\n",
    "import os\n",
    "import pandas as pd\n",
    "import numpy as np\n",
    "import re\n",
    "from collections import Counter\n",
    "import scipy.stats as stats\n",
    "\n",
    "notebookPath = 'scripts/figure1'\n",
    "projectDir = re.sub(notebookPath, '', os.getcwd())\n",
    "sys.path.append(os.path.join(projectDir, 'scripts/utilityScripts'))\n",
    "\n",
    "import configuration_util\n",
    "import get_gene_and_cohort_list_utils\n",
    "import analysis_utils\n",
    "import mutationSigUtils\n",
    "import maf_analysis_utils\n",
    "\n",
    "filePathDict = configuration_util.get_all_files_path_dict()"
   ]
  },
  {
   "cell_type": "code",
   "execution_count": 7,
   "metadata": {},
   "outputs": [],
   "source": [
    "#Set where to write the files\n",
    "writeDir = os.path.join(projectDir, 'scripts/figure1/FIGURE1_PLOTTING_FILES/plotDataFiles')"
   ]
  },
  {
   "cell_type": "markdown",
   "metadata": {},
   "source": [
    "## FIGURE 1A\n",
    "Cancer types represented in cohort of hypermutated tumors"
   ]
  },
  {
   "cell_type": "code",
   "execution_count": 8,
   "metadata": {},
   "outputs": [],
   "source": [
    "#Figure 1a functions (used for figure 1b as well)\n",
    "\n",
    "def summarize_n_hypermutated_and_signatures_of_cases(dominantSignatureDict, mutClassificationDir):\n",
    "    nCasesSummaryL = []\n",
    "    signaturesSummaryL = []\n",
    "    for f in os.listdir(mutClassificationDir):\n",
    "        cancerType = re.sub('.tsv', '', f)\n",
    "        filePath = os.path.join(mutClassificationDir, f)\n",
    "        df = pd.read_table(filePath)\n",
    "        df['dominantSignature'] = df['Tumor_Sample_Barcode'].apply(lambda x: dominantSignatureDict[x] if x in dominantSignatureDict else None)\n",
    "  \n",
    "        hypermutatedDf = df[df['hypermutantClassification'] == 'Hypermutated']\n",
    "        highMutBurdenDf = df[df['hypermutantClassification'] == 'highMutationBurden']\n",
    "        \n",
    "        nCasesSummaryL.append({'cancerType': cancerType,\n",
    "        'nHypermutated': hypermutatedDf.shape[0], 'nTotal': df.shape[0], 'nHighMutBurden': highMutBurdenDf.shape[0]})\n",
    "      \n",
    "        #TODO make the code for plotting the signatures\n",
    "        for signature in set(df[df['dominantSignature'].notnull()]['dominantSignature']):\n",
    "            \n",
    "            signatureName = re.sub('mean_', '', signature)\n",
    "            signaturesSummaryL.append({'cancerType': cancerType,\n",
    "                'signature': signatureName, 'nCases': df.shape[0], \n",
    "                'nHypermutatedCases': hypermutatedDf[hypermutatedDf['dominantSignature'] == signature].shape[0],\n",
    "                'nHighMutationBurdenCases': highMutBurdenDf[highMutBurdenDf['dominantSignature'] == signature].shape[0],\n",
    "                'nTotal': df.shape[0]})\n",
    "        \n",
    "    casesSummaryDf = pd.DataFrame(nCasesSummaryL)\n",
    "    signaturesSummaryDf = pd.DataFrame(signaturesSummaryL)\n",
    "    return casesSummaryDf, signaturesSummaryDf"
   ]
  },
  {
   "cell_type": "code",
   "execution_count": 11,
   "metadata": {},
   "outputs": [
    {
     "name": "stderr",
     "output_type": "stream",
     "text": [
      "/anaconda2/lib/python2.7/site-packages/ipykernel_launcher.py:9: FutureWarning: read_table is deprecated, use read_csv instead, passing sep='\\t'.\n",
      "  if __name__ == '__main__':\n"
     ]
    }
   ],
   "source": [
    "#Summarize dominant signatures\n",
    "dominantSignatureDict = get_gene_and_cohort_list_utils.get_hypermutator_signature_cohorts(impactSigsPath=filePathDict['IMPACT_SIGNATURE_DECOMPOSITIONS'])\n",
    "casesSummary, signaturesSummary = summarize_n_hypermutated_and_signatures_of_cases(dominantSignatureDict,\n",
    "    mutClassificationDir = filePathDict['HYPERMUTATION_STATUS_IDS'])\n",
    "minNCasesToDisplay = 250 #lump all cancers with fewer than this number of cases as other\n",
    "casesSummary['cancerType'] = casesSummary.apply(lambda row: 'other' if row['nHypermutated'] + row['nHighMutBurden'] < 10 else row['cancerType'] ,axis=1)\n",
    "\n",
    "#GET RID OF CANCER'S OF INDETERMINATE_ORIGIN\n",
    "cancersOfIndeterminateOrigin = set(['Cancer_of_Unknown_Primary', 'Skin_Cancer,_Non-Melanoma'])  #remove cancers of indeterminate origin\n",
    "casesSummary = casesSummary[~casesSummary['cancerType'].isin(cancersOfIndeterminateOrigin)]\n",
    "casesSummary = casesSummary.groupby(['cancerType']).sum()\n",
    "casesSummary['cancerType'] = casesSummary.index\n",
    "\n",
    "#SUMMARIZE THE FRACTION THAT ARE HYPERMUTATED\n",
    "casesSummary['fracHypermutated'] = casesSummary.apply(lambda row:\n",
    "        (1.0*(row['nHypermutated'] + row['nHighMutBurden']))/row['nTotal'], axis=1)\n",
    "casesSummary['fracHypermutatedOrdering'] = casesSummary.apply(lambda row:\n",
    "        row['fracHypermutated'] if row['cancerType'] != 'other' else -1, axis=1)\n",
    "casesSummary['label'] = casesSummary.apply(lambda row:\n",
    "                                          row['cancerType'] + ' (n = ' + str(row['nHypermutated'] + row['nHighMutBurden']) + ')', axis=1)\n"
   ]
  },
  {
   "cell_type": "code",
   "execution_count": 12,
   "metadata": {},
   "outputs": [],
   "source": [
    "writePath = os.path.join(writeDir, 'figure_1a.tsv')\n",
    "casesSummary.to_csv(writePath, index=False, sep='\\t')"
   ]
  },
  {
   "cell_type": "markdown",
   "metadata": {},
   "source": [
    "## FIGURE 1B\n",
    "Signatures prominent in hypermutated tumors"
   ]
  },
  {
   "cell_type": "code",
   "execution_count": null,
   "metadata": {},
   "outputs": [],
   "source": [
    "#make sure to have run code cells from figure 1a first"
   ]
  },
  {
   "cell_type": "code",
   "execution_count": 13,
   "metadata": {},
   "outputs": [
    {
     "name": "stderr",
     "output_type": "stream",
     "text": [
      "/anaconda2/lib/python2.7/site-packages/ipykernel_launcher.py:9: FutureWarning: read_table is deprecated, use read_csv instead, passing sep='\\t'.\n",
      "  if __name__ == '__main__':\n"
     ]
    }
   ],
   "source": [
    "dominantSignatureDict = get_gene_and_cohort_list_utils.get_hypermutator_signature_cohorts(impactSigsPath=filePathDict['IMPACT_SIGNATURE_DECOMPOSITIONS'])\n",
    "casesSummary, signaturesSummary = summarize_n_hypermutated_and_signatures_of_cases(dominantSignatureDict,\n",
    "    mutClassificationDir = filePathDict['HYPERMUTATION_STATUS_IDS'])\n",
    "\n",
    "#ADJUST THE SIGNATURES SUMMARY INFORMATION\n",
    "minNHypermutatedCasesToDisplay = 10\n",
    "signaturesSummary['cancerType'] = signaturesSummary.apply(\n",
    "    lambda row: 'other' if row['nHypermutatedCases'] + row['nHighMutationBurdenCases'] < minNHypermutatedCasesToDisplay else row['cancerType'] ,axis=1)\n",
    "signaturesSummary['orderingVal'] = signaturesSummary.apply(\n",
    "    lambda row: -1 if row['cancerType'] == 'other' else row['nHypermutatedCases'], axis=1)\n",
    "\n",
    "#RENAME SIGNATURES\n",
    "signaturesRenameDict = {'1': 'MMR', 'SMOKING': 'SMOKING',\n",
    "                        'MMR': 'MMR', 'APOBEC': 'APOBEC', '10': 'POLE',\n",
    "                       '11': 'TMZ', '14': 'MMR', '7': 'UV'}\n",
    "signaturesSummary['signature'] = signaturesSummary['signature'].apply(lambda x:\n",
    "        signaturesRenameDict[x] if x in signaturesRenameDict else 'other')\n",
    "\n",
    "#SUMMARIZE FRACTIONS\n",
    "signaturesSummary['nHyperHigh'] = signaturesSummary['nHighMutationBurdenCases'] + signaturesSummary['nHypermutatedCases']\n",
    "signaturesSummary['nCasesHyperHighType'] = signaturesSummary.apply(lambda row:\n",
    "            sum(signaturesSummary[signaturesSummary['cancerType'] == row['cancerType']]['nHighMutationBurdenCases']) + \n",
    "            sum(signaturesSummary[signaturesSummary['cancerType'] == row['cancerType']]['nHypermutatedCases']), axis=1)\n",
    "signaturesSummary['frac'] = signaturesSummary.apply(lambda row:\n",
    "        (row['nHighMutationBurdenCases'] + row['nHypermutatedCases'] + 0.0)/row['nCasesHyperHighType'] , axis=1)\n",
    "\n",
    "#LEAVE OUT 'CANCER'S OF INDETERMINATE ORIGIN'\n",
    "cancersOfIndeterminateOrigin = set(['Cancer_of_Unknown_Primary', 'Skin_Cancer,_Non-Melanoma'])  #remove cancers of indeterminate origin\n",
    "signaturesSummary = signaturesSummary[~signaturesSummary['cancerType'].isin(cancersOfIndeterminateOrigin)]"
   ]
  },
  {
   "cell_type": "code",
   "execution_count": 14,
   "metadata": {},
   "outputs": [],
   "source": [
    "writePath = os.path.join(writeDir, 'figure_1b.tsv')\n",
    "signaturesSummary.to_csv(writePath, index=False, sep='\\t')"
   ]
  },
  {
   "cell_type": "code",
   "execution_count": 13,
   "metadata": {},
   "outputs": [
    {
     "name": "stdout",
     "output_type": "stream",
     "text": [
      "POLE : 85 / 1978 ; 4.3 %\n",
      "MMR : 889 / 1978 ; 44.94 %\n",
      "APOBEC : 222 / 1978 ; 11.22 %\n",
      "SMOKING : 286 / 1978 ; 14.46 %\n",
      "UV : 379 / 1978 ; 19.16 %\n",
      "TMZ : 61 / 1978 ; 3.08 %\n"
     ]
    }
   ],
   "source": [
    "#Values for text: number of cases for each signature aetiology; fraction\n",
    "nTotalHypermutated = sum(signaturesSummary['nHyperHigh'])\n",
    "for signature in ['POLE', 'MMR', 'APOBEC', 'SMOKING', 'UV', 'TMZ']:\n",
    "    s= sum(signaturesSummary[signaturesSummary['signature'] == signature]['nHyperHigh'])\n",
    "    print signature, ':', s, '/', nTotalHypermutated, ';', round(100.0*s/nTotalHypermutated, 2), '%'\n"
   ]
  },
  {
   "cell_type": "markdown",
   "metadata": {},
   "source": [
    "## FIGURE 1C\n",
    "Per cancer type summaries of the number of drivers in hypermutated and non-hypermutated tumors"
   ]
  },
  {
   "cell_type": "code",
   "execution_count": 15,
   "metadata": {},
   "outputs": [],
   "source": [
    "def get_per_case_oncogenic_mut_info(muts):\n",
    "    oncogenicMuts = muts[muts['oncogenic'].notnull()]\n",
    "    nMutOncDict = dict(oncogenicMuts['Tumor_Sample_Barcode'].value_counts())\n",
    "    return nMutOncDict\n",
    "\n",
    "def get_per_case_hotspot_mut_info(muts):\n",
    "    hotspotMuts = muts[muts['is-a-hotspot'] == 'Y']\n",
    "    nHotspotDict = dict(hotspotMuts['Tumor_Sample_Barcode'].value_counts())\n",
    "    return nHotspotDict\n",
    "\n",
    "def summarize_putative_drivers(cohortsAndNames, perCaseOncogenicInfo, perCaseHotspotInfo):\n",
    "    listOfDicts = []\n",
    "    for cohortName, cohort in cohortsAndNames.items():\n",
    "        for tid in cohort:\n",
    "            nOncogenicMuts = None\n",
    "            nHotspotMuts = None\n",
    "            if tid in perCaseOncogenicInfo:\n",
    "                nOncogenicMuts = perCaseOncogenicInfo[tid]\n",
    "            if tid in perCaseHotspotInfo:\n",
    "                nHotspotMuts = perCaseHotspotInfo[tid]\n",
    "\n",
    "            listOfDicts.append({'Tumor_Sample_Barcode': tid, 'nOncMuts': nOncogenicMuts,\n",
    "                                'nHotspots': nHotspotMuts, 'cohort': cohortName,\n",
    "                               })\n",
    "    df = pd.DataFrame(listOfDicts)\n",
    "    return df\n",
    "    "
   ]
  },
  {
   "cell_type": "code",
   "execution_count": 18,
   "metadata": {},
   "outputs": [
    {
     "name": "stderr",
     "output_type": "stream",
     "text": [
      "/anaconda2/lib/python2.7/site-packages/ipykernel_launcher.py:1: FutureWarning: read_table is deprecated, use read_csv instead, passing sep='\\t'.\n",
      "  \"\"\"Entry point for launching an IPython kernel.\n",
      "/anaconda2/lib/python2.7/site-packages/IPython/core/interactiveshell.py:2714: DtypeWarning: Columns (4,17,18,40,41,43,44,71,108,124,125,128,129,130,131,132,133,134,135,137) have mixed types. Specify dtype option on import or set low_memory=False.\n",
      "  interactivity=interactivity, compiler=compiler, result=result)\n",
      "/Users/friedman/Desktop/hypermutationProjectFinal/scripts/utilityScripts/analysis_utils.py:179: FutureWarning: read_table is deprecated, use read_csv instead, passing sep='\\t'.\n",
      "  df = pd.read_table(path)\n"
     ]
    }
   ],
   "source": [
    "allImpactMuts = pd.read_table(filePathDict['IMPACT_BASE_MAF'])\n",
    "perCaseOncogenicInfo = get_per_case_oncogenic_mut_info(allImpactMuts)\n",
    "perCaseHotspotInfo = get_per_case_hotspot_mut_info(allImpactMuts)\n",
    "\n",
    "#we summarize the data as endometrial, colorectal, glioma and other\n",
    "hypermutantStatusDir = filePathDict['HYPERMUTATION_STATUS_IDS']\n",
    "normalEndometrial = analysis_utils.get_ids_by_hypermutant_status(hypermutantIdDir=hypermutantStatusDir, cancerType='Endometrial Cancer', hypermutantStatus = 'Normal')\n",
    "normalColorectal = analysis_utils.get_ids_by_hypermutant_status(hypermutantIdDir=hypermutantStatusDir, cancerType='Colorectal Cancer', hypermutantStatus = 'Normal')\n",
    "normalGlioma = analysis_utils.get_ids_by_hypermutant_status(hypermutantIdDir=hypermutantStatusDir, cancerType='Glioma', hypermutantStatus = 'Normal')\n",
    "hyperEndometrial = analysis_utils.get_ids_by_hypermutant_status(hypermutantIdDir=hypermutantStatusDir, cancerType='Endometrial Cancer', hypermutantStatus = 'Hypermutated')\n",
    "hyperColorectal = analysis_utils.get_ids_by_hypermutant_status(hypermutantIdDir=hypermutantStatusDir, cancerType='Colorectal Cancer', hypermutantStatus = 'Hypermutated')\n",
    "hyperGlioma = analysis_utils.get_ids_by_hypermutant_status(hypermutantIdDir=hypermutantStatusDir, cancerType='Glioma', hypermutantStatus = 'Hypermutated')\n",
    "\n",
    "#summarize all the other cases\n",
    "otherNormal = set([])\n",
    "otherHypermutated = set([])\n",
    "for f in os.listdir(hypermutantStatusDir):\n",
    "    cType = re.sub('_', ' ', f)[:-4]\n",
    "    otherNormal = otherNormal | analysis_utils.get_ids_by_hypermutant_status(hypermutantIdDir=hypermutantStatusDir, cancerType=cType, hypermutantStatus = 'Normal')\n",
    "    otherHypermutated = otherHypermutated | analysis_utils.get_ids_by_hypermutant_status(hypermutantIdDir=hypermutantStatusDir, cancerType=cType, hypermutantStatus = 'Hypermutated')\n",
    "cohortsAndNames = {'normal_Endometrial': normalEndometrial, 'normal_Colorectal': normalColorectal, 'normal_Glioma': normalGlioma,\n",
    "                  'hyper_Endometrial': hyperEndometrial, 'hyper_Colorectal': hyperColorectal, 'hyper_Glioma': hyperGlioma,\n",
    "                   'normal_Other': otherNormal, 'hyper_Other': otherHypermutated}\n",
    "\n",
    "#summarize the information\n",
    "df = summarize_putative_drivers(cohortsAndNames, perCaseOncogenicInfo, perCaseHotspotInfo)\n",
    "orderingValDict = {'normal_Colorectal': 1, 'hyper_Colorectal': 2, 'normal_Endometrial': 3, 'hyper_Endometrial': 4,\n",
    "                  'normal_Glioma': 5, 'hyper_Glioma': 6, 'normal_Other': 7, 'hyper_Other': 8}\n",
    "df['orderingVal'] = df['cohort'].apply(lambda x: orderingValDict[x])\n",
    "df['cancerType'] = df['cohort'].apply(lambda x: x.split('_')[1])"
   ]
  },
  {
   "cell_type": "code",
   "execution_count": 19,
   "metadata": {},
   "outputs": [],
   "source": [
    "writePath = os.path.join(writeDir, 'figure_1c.tsv')\n",
    "df.to_csv(writePath, index=False, sep = '\\t')"
   ]
  },
  {
   "cell_type": "markdown",
   "metadata": {},
   "source": [
    "## FIGURE 1D\n",
    "Observed vs Expected SNV mutations"
   ]
  },
  {
   "cell_type": "code",
   "execution_count": 20,
   "metadata": {},
   "outputs": [],
   "source": [
    "#summarizing the number of consequential mutations in different cases\n",
    "def get_n_consequential_mut_count(mafPath):\n",
    "    \n",
    "    allImpactMuts = pd.read_table(mafPath)\n",
    "    im3Genes = get_gene_and_cohort_list_utils.get_im3_genes()\n",
    "    tsgs = get_gene_and_cohort_list_utils.get_tsgs()\n",
    "    oncogenes = get_gene_and_cohort_list_utils.get_oncogenes()\n",
    "    allImpactMuts341 = allImpactMuts[allImpactMuts['Hugo_Symbol'].isin(im3Genes)]\n",
    "\n",
    "    nmutDict = dict(allImpactMuts341[allImpactMuts341['Variant_Type'] == 'SNP']['Tumor_Sample_Barcode'].value_counts()) #n snps\n",
    "    indelDict = dict(allImpactMuts341[allImpactMuts341['Variant_Type'].isin(['INS', 'DEL'])]['Tumor_Sample_Barcode'].value_counts()) \n",
    "    hotspotDict = dict(allImpactMuts341[allImpactMuts341['is-a-hotspot'] == 'Y']['Tumor_Sample_Barcode'].value_counts())\n",
    "    oncogenicSNPDict = dict(allImpactMuts341[(allImpactMuts341['oncogenic'].notnull()) & (allImpactMuts341['Variant_Type'].isin(['SNP']))]['Tumor_Sample_Barcode'].value_counts())\n",
    "    oncogenicINDELDict = dict(allImpactMuts341[(allImpactMuts341['oncogenic'].notnull()) & ~(allImpactMuts341['Variant_Type'].isin(['INS', 'DEL']))]['Tumor_Sample_Barcode'].value_counts())\n",
    "    stopGainDictTSG = dict(allImpactMuts341[(allImpactMuts341['Consequence'] == 'stop_gained') & (allImpactMuts341['Hugo_Symbol'].isin(tsgs))]['Tumor_Sample_Barcode'].value_counts())\n",
    "    stopGainDictOncogene = dict(allImpactMuts341[(allImpactMuts341['Consequence'] == 'stop_gained') & (allImpactMuts341['Hugo_Symbol'].isin(oncogenes))]['Tumor_Sample_Barcode'].value_counts())\n",
    "    \n",
    "    #add entries with the value 0 where necessary\n",
    "    for case in set(expectedDf['case']):\n",
    "        if case not in hotspotDict:\n",
    "            hotspotDict[case] = 0\n",
    "        if case not in oncogenicSNPDict:\n",
    "            oncogenicSNPDict[case] = 0\n",
    "        if case not in oncogenicINDELDict:\n",
    "            oncogenicINDELDict[case] = 0\n",
    "        if case not in stopGainDictTSG:\n",
    "            stopGainDictTSG[case] = 0\n",
    "        if case not in stopGainDictOncogene:\n",
    "            stopGainDictOncogene[case] = 0\n",
    "    return nmutDict, indelDict, hotspotDict, oncogenicSNPDict, oncogenicINDELDict, stopGainDictTSG, stopGainDictOncogene\n",
    "\n",
    "#a function that returns the number of indels expected in a case as conditioned on its TMB, signatures, and msi score?\n",
    "#Note this is not currently used but I can add it later\n",
    "def get_expected_tsg_indels(nSnps, mmrFrac):\n",
    "    INDEL_ONCOGENICITY = .55*.97 #55% of indels land in TSGs, 97% of indel are frame shifting\n",
    "    INDEL_TO_SNP_RATIO_MSI = .3 #ratio of indels to snps in MSI cases\n",
    "    INDEL_TO_SNP_RATIO_NON_MSI = .05 #in non MSI cases the ratio of indels to snps\n",
    "    tsgIndelsExpected = 0\n",
    "    indelsExpectedMMR = mmrFrac*(nSnps * INDEL_TO_SNP_RATIO_MSI)\n",
    "    indelsExpectedNotMMR = indelsExpected = nSnps * INDEL_TO_SNP_RATIO_NON_MSI\n",
    "    indelsExpected = indelsExpectedMMR + indelsExpectedNotMMR\n",
    "    nOncogenicIndelsExpected = indelsExpected * INDEL_ONCOGENICITY\n",
    "    return nOncogenicIndelsExpected\n",
    "\n",
    "#summarizes the expected number of mutations\n",
    "#Note that this includes the option to get an 'expected' number of indel mutations but we don't use it\n",
    "def get_expected_information():\n",
    "    listOfDicts = []\n",
    "    cntr = 0\n",
    "    \n",
    "    tsgs = get_gene_and_cohort_list_utils.get_tsgs()\n",
    "    impactMsiCases = get_gene_and_cohort_list_utils.get_msi_cases(msiInfoFilePath = filePathDict['CASE_TMB_AND_MSI_STATS'], msiScoreThresh=10)\n",
    "    domSigDict = get_gene_and_cohort_list_utils.get_pan_impact_signature_mapping(filePathDict['IMPACT_SIGNATURE_DECOMPOSITIONS'])\n",
    "    \n",
    "    nmutDict, indelDict, hotspotDict, oncogenicSNPDict, oncogenicINDELDict, stopGainDictTSG, stopGainDictOncogene = get_n_consequential_mut_count(filePathDict['IMPACT_BASE_MAF'])\n",
    "    for case in set(expectedDf['case']):\n",
    "\n",
    "        if cntr %100 == 0: print cntr\n",
    "        cntr +=1\n",
    "\n",
    "        nmutCase = nmutDict[case]\n",
    "        signature = None\n",
    "        if case in impactMsiCases:\n",
    "            signature = 'MSI'\n",
    "        elif case in domSigDict:\n",
    "            signature = domSigDict[case]\n",
    "\n",
    "        caseExpectation = expectedDf[expectedDf['case'] == case]\n",
    "        hotspotExpectation = nmutCase *sum(caseExpectation['hotspotChance'])\n",
    "        oncogenicSNPExpectation = nmutCase *sum(caseExpectation['oncogenicChance'])\n",
    "        truncatingExpectationTSG = nmutCase * sum(caseExpectation[caseExpectation['gene'].isin(tsgs)]['truncatingChance'])\n",
    "        truncatingExpectationOncogene = nmutCase * sum(caseExpectation[~caseExpectation['gene'].isin(tsgs)]['truncatingChance'])\n",
    "\n",
    "        mmrFrac = mmrSigFracDict[case] if case in mmrSigFracDict and signature == 'MSI' else 0\n",
    "        oncogenicIndelExpectation = get_expected_tsg_indels(nmutCase, mmrFrac)\n",
    "        oncogenicAllExpectation = oncogenicSNPExpectation + oncogenicIndelExpectation #todo flesh out\n",
    "\n",
    "        observedHotspots = hotspotDict[case] if case in hotspotDict else 0\n",
    "        observedOncogenicSNP = oncogenicSNPDict[case] if case in oncogenicSNPDict else 0\n",
    "        observedOncogenicINDEL = oncogenicINDELDict[case] if case in oncogenicINDELDict else 0\n",
    "        observedStopGainTSG = stopGainDictTSG[case] if case in stopGainDictTSG else 0\n",
    "        observedStopGainOncogene = stopGainDictOncogene[case] if case in stopGainDictOncogene else 0\n",
    "\n",
    "        listOfDicts.append({'obsHotspot':observedHotspots, 'obsOncogenicSNP': observedOncogenicSNP,\n",
    "                            'obsIndel': indelDict[case] if case in indelDict else 0,\n",
    "                            'obsOncogenicINDEL': observedOncogenicINDEL, 'obsOncogenic': observedOncogenicSNP + observedOncogenicINDEL,\n",
    "                            'obsStopGainTSG': observedStopGainTSG, 'obsStopGainOncogene': observedStopGainOncogene,\n",
    "                            'expectedTruncatingTSG': truncatingExpectationTSG, 'expectedTruncatingOncogene': truncatingExpectationOncogene,\n",
    "                            'expectedHotspot': hotspotExpectation, 'expectedOncogenicSNP': oncogenicSNPExpectation,\n",
    "                            'expectedOncogenicIndel': oncogenicIndelExpectation, 'expectedOncogenicAll': oncogenicAllExpectation,\n",
    "                           'nmut': nmutCase, 'Tumor_Sample_Barcode': case})\n",
    "\n",
    "    df = pd.DataFrame(listOfDicts)\n",
    "    return df \n"
   ]
  },
  {
   "cell_type": "code",
   "execution_count": 21,
   "metadata": {},
   "outputs": [
    {
     "name": "stderr",
     "output_type": "stream",
     "text": [
      "/anaconda2/lib/python2.7/site-packages/ipykernel_launcher.py:1: FutureWarning: read_table is deprecated, use read_csv instead, passing sep='\\t'.\n",
      "  \"\"\"Entry point for launching an IPython kernel.\n",
      "/anaconda2/lib/python2.7/site-packages/ipykernel_launcher.py:2: FutureWarning: read_table is deprecated, use read_csv instead, passing sep='\\t'.\n",
      "  \n",
      "/Users/friedman/Desktop/hypermutationProjectFinal/scripts/utilityScripts/get_gene_and_cohort_list_utils.py:252: FutureWarning: read_table is deprecated, use read_csv instead, passing sep='\\t'.\n",
      "  msiInfoDf = pd.read_table(msiInfoFilePath)\n",
      "/Users/friedman/Desktop/hypermutationProjectFinal/scripts/utilityScripts/get_gene_and_cohort_list_utils.py:273: FutureWarning: read_table is deprecated, use read_csv instead, passing sep='\\t'.\n",
      "  sigsDf = pd.read_table(impactSigsPath)\n",
      "/anaconda2/lib/python2.7/site-packages/ipykernel_launcher.py:4: FutureWarning: read_table is deprecated, use read_csv instead, passing sep='\\t'.\n",
      "  after removing the cwd from sys.path.\n",
      "/anaconda2/lib/python2.7/site-packages/IPython/core/interactiveshell.py:2878: DtypeWarning: Columns (4,17,18,40,41,43,44,71,108,124,125,128,129,130,131,132,133,134,135,137) have mixed types. Specify dtype option on import or set low_memory=False.\n",
      "  exec(code_obj, self.user_global_ns, self.user_ns)\n"
     ]
    },
    {
     "name": "stdout",
     "output_type": "stream",
     "text": [
      "0\n",
      "100\n",
      "200\n",
      "300\n",
      "400\n",
      "500\n",
      "600\n",
      "700\n",
      "800\n",
      "900\n",
      "1000\n",
      "1100\n",
      "1200\n",
      "1300\n",
      "1400\n",
      "1500\n"
     ]
    },
    {
     "name": "stderr",
     "output_type": "stream",
     "text": [
      "/Users/friedman/Desktop/hypermutationProjectFinal/scripts/utilityScripts/get_gene_and_cohort_list_utils.py:217: FutureWarning: read_table is deprecated, use read_csv instead, passing sep='\\t'.\n",
      "  impactCancerTypeDf = pd.read_table(impactCancerTypeInfoPath)\n"
     ]
    }
   ],
   "source": [
    "expectedDf = pd.read_table(filePathDict['EXPECTED_MUTATION_INFO_BY_GENE'])\n",
    "signatureDf = pd.read_table(filePathDict['IMPACT_SIGNATURE_DECOMPOSITIONS'])\n",
    "mmrSigFracDict = dict(zip(signatureDf['Tumor_Sample_Barcode'], signatureDf['mean_MMR']))\n",
    "df = get_expected_information()\n",
    "\n",
    "#add in cancer type \n",
    "cancerTypeDict = get_gene_and_cohort_list_utils.get_impact_cancer_type_info(filePathDict['CANCER_TYPE_INFO'])\n",
    "df['cancerType'] = df['Tumor_Sample_Barcode'].apply(lambda x: cancerTypeDict[x] if x in cancerTypeDict else None)\n",
    "dominantSignatureDict = dominantSignatureDict = get_gene_and_cohort_list_utils.get_hypermutator_signature_cohorts(impactSigsPath=filePathDict['IMPACT_SIGNATURE_DECOMPOSITIONS'])\n",
    "df['dominantSignature'] = df['Tumor_Sample_Barcode'].apply(lambda x: dominantSignatureDict[x] if x in dominantSignatureDict else None)\n",
    "df['dominantSignature'] = df['dominantSignature'].apply(lambda x: \n",
    "            'APOBEC' if x == 'mean_APOBEC'\n",
    "            else 'MMR' if x in ['mean_1', 'mean_14', 'mean_MMR']\n",
    "            else 'TMZ' if x == 'mean_11'\n",
    "            else 'POLE' if x == 'mean_10'\n",
    "            else 'UV' if x == 'mean_7'\n",
    "            else 'SMOKING' if x == 'mean_SMOKING'\n",
    "            else 'other')"
   ]
  },
  {
   "cell_type": "code",
   "execution_count": 22,
   "metadata": {},
   "outputs": [],
   "source": [
    "writePath = os.path.join(writeDir, 'figure_1d.tsv')\n",
    "df.to_csv(writePath, index=False, sep = '\\t')"
   ]
  },
  {
   "cell_type": "markdown",
   "metadata": {},
   "source": [
    "## Figure 1E\n",
    "Observed vs expected number of INDEL mutations"
   ]
  },
  {
   "cell_type": "code",
   "execution_count": 23,
   "metadata": {},
   "outputs": [],
   "source": [
    "def get_all_neutral_indel_rates(maf, neutralGenes, neutralGenePanelSize):\n",
    "    maf = maf[(maf['Hugo_Symbol'].isin(neutralGenes)) & (maf['Variant_Type'].isin(['INS', 'DEL']))]\n",
    "    counts = dict(maf['Tumor_Sample_Barcode'].value_counts())\n",
    "    d = {}\n",
    "    for key, value in counts.items():\n",
    "        d[key] = (1.0*value)/neutralGenePanelSize\n",
    "    return d\n",
    "\n",
    "#TODO fix MLL2, KMT2B etc\n",
    "def summarize_gene_type_lengths(geneLengthDict, geneTypes):\n",
    "    d = {}\n",
    "    for geneType, genes in geneTypes.items():\n",
    "        print 'summarizing', geneType\n",
    "        panelSize = sum([geneLengthDict[gene] if gene in geneLengthDict else 0 for gene in genes])\n",
    "        d[geneType] = panelSize\n",
    "    return d\n",
    "\n",
    "#TODO calculate observed and expected based on gene size\n",
    "def summarize_observed_and_expected_indels(maf, neutralRates, panelSizes, essentialGenes, tsgs, oncogenes):\n",
    "    \n",
    "    impactGenes = get_gene_and_cohort_list_utils.get_im6_genes()\n",
    "    indelMaf = maf[(maf['Variant_Type'].isin(['INS', 'DEL']))]\n",
    "    mutCounts = maf['Tumor_Sample_Barcode'].value_counts()\n",
    "    indelCounts =  indelMaf['Tumor_Sample_Barcode'].value_counts()\n",
    "    \n",
    "    tsgCounts = indelMaf[indelMaf['Hugo_Symbol'].isin(tsgs)]['Tumor_Sample_Barcode'].value_counts()\n",
    "    oncogeneCounts = indelMaf[(~indelMaf['Hugo_Symbol'].isin(tsgs)) & (indelMaf['Hugo_Symbol'].isin(oncogenes))]['Tumor_Sample_Barcode'].value_counts()\n",
    "    \n",
    "    cntr = 0\n",
    "    listOfDicts = []\n",
    "    for case in set(maf['Tumor_Sample_Barcode']):\n",
    "        cntr += 1\n",
    "        if cntr%50 == 0: print cntr,\n",
    "            \n",
    "        if case in neutralRates:\n",
    "        \n",
    "            caseMaf = indelMaf[indelMaf['Tumor_Sample_Barcode'] == case]\n",
    "            nOncogeneMutations = oncogeneCounts[case] if case in oncogeneCounts else 0\n",
    "            nTSGMutations = tsgCounts[case] if case in tsgCounts else 0\n",
    "            nIndels = indelCounts[case] if case in indelCounts else 0\n",
    "            \n",
    "            oncogeneExpected = neutralRates[case] * panelSizes['Oncogene']\n",
    "            tsgExpected = neutralRates[case] * panelSizes['TSG']\n",
    "\n",
    "            tmb = mutCounts[case]/30.0 if case in mutCounts else None\n",
    "            listOfDicts.append({'Tumor_Sample_Barcode': case, \n",
    "                               'OncogeneObs': nOncogeneMutations, 'TSGObs': nTSGMutations,\n",
    "                                'OncogeneExp': oncogeneExpected, 'TSGExp': tsgExpected,\n",
    "                               'tmb': tmb, 'nIndels': nIndels})\n",
    "        \n",
    "    return pd.DataFrame(listOfDicts)"
   ]
  },
  {
   "cell_type": "code",
   "execution_count": 24,
   "metadata": {},
   "outputs": [
    {
     "name": "stdout",
     "output_type": "stream",
     "text": [
      "loading exome hypermutant maf\n"
     ]
    },
    {
     "name": "stderr",
     "output_type": "stream",
     "text": [
      "/anaconda2/lib/python2.7/site-packages/ipykernel_launcher.py:3: FutureWarning: read_table is deprecated, use read_csv instead, passing sep='\\t'.\n",
      "  This is separate from the ipykernel package so we can avoid doing imports until\n",
      "/anaconda2/lib/python2.7/site-packages/IPython/core/interactiveshell.py:2714: DtypeWarning: Columns (0,1,2,3,4,5,6,7,9,12,17,19,20,22,25,26,27,29,30,31,32,35,36,50,51,52,54,55,56,57,58,65,66,68,69,73,74,75,82,84,85,89,90,91,92,93,94,95,96,97,101,102,104,106,110,111,112,113,117,118,120,123,124,125,128,135,136,137,138,144,147,150,151,154,155,158,160,161,190,192,200,212,213,214,215,218,219,235,236,238,239,240,242,280,283,286,287,307,308,309,310,313,315,316) have mixed types. Specify dtype option on import or set low_memory=False.\n",
      "  interactivity=interactivity, compiler=compiler, result=result)\n"
     ]
    },
    {
     "name": "stdout",
     "output_type": "stream",
     "text": [
      "summarizing gene information\n"
     ]
    },
    {
     "name": "stderr",
     "output_type": "stream",
     "text": [
      "/anaconda2/lib/python2.7/site-packages/ipykernel_launcher.py:12: FutureWarning: read_table is deprecated, use read_csv instead, passing sep='\\t'.\n",
      "  if sys.path[0] == '':\n"
     ]
    },
    {
     "name": "stdout",
     "output_type": "stream",
     "text": [
      "summarizing TSG\n",
      "summarizing Neutral\n",
      "summarizing Oncogene\n",
      "summarizing Essential\n",
      "50 100 150 200 250 300 350 400 450 500 550 600 650 700 750 800 850 900"
     ]
    },
    {
     "name": "stderr",
     "output_type": "stream",
     "text": [
      "/Users/friedman/Desktop/hypermutationProjectFinal/scripts/utilityScripts/get_gene_and_cohort_list_utils.py:155: FutureWarning: read_table is deprecated, use read_csv instead, passing sep='\\t'.\n",
      "  tcgaSignatures = pd.read_table(tcgaSigPath)\n",
      "/Users/friedman/Desktop/hypermutationProjectFinal/scripts/utilityScripts/get_gene_and_cohort_list_utils.py:156: FutureWarning: read_table is deprecated, use read_csv instead, passing sep='\\t'.\n",
      "  exomeRecaptureSignatures = pd.read_table(exomeSigPath)\n"
     ]
    },
    {
     "name": "stdout",
     "output_type": "stream",
     "text": [
      "\n"
     ]
    }
   ],
   "source": [
    "#FYI THIS CELL TAKES APROXIMATELY 5 minutes to run\n",
    "\n",
    "print 'loading exome hypermutant maf'\n",
    "allExomeHypermutantMaf = pd.read_table(filePathDict['ALL_EXOME_HYPERMUTATOR_MAF'])\n",
    "\n",
    "print 'summarizing gene information'\n",
    "#get lists of genes and other information\n",
    "neutralGenes = get_gene_and_cohort_list_utils.get_cancer_neutral_genes(depMapPath = filePathDict['DEP_MAP_DATA'])\n",
    "essentialGenes = get_gene_and_cohort_list_utils.get_essential_genes(depMapPath = filePathDict['DEP_MAP_DATA'], mode='getEssentialGenes')\n",
    "impactGenes = get_gene_and_cohort_list_utils.get_im6_genes()\n",
    "tsgs = get_gene_and_cohort_list_utils.get_tsgs()\n",
    "oncogenes = impactGenes - tsgs\n",
    "geneLengthInfo = pd.read_table(filePathDict['GENE_LENGTH_INFO'])\n",
    "geneLengthDict = dict(zip(geneLengthInfo['hgnc_symbol'], geneLengthInfo['nt.length']))\n",
    "\n",
    "#get summary information about indels \n",
    "geneTypeSizeDict = summarize_gene_type_lengths(geneLengthDict, {'Essential': essentialGenes, 'Neutral': neutralGenes, \n",
    "                                            'TSG': tsgs, 'Oncogene': oncogenes})\n",
    "neutralIndelRates = get_all_neutral_indel_rates(allExomeHypermutantMaf, neutralGenes, geneTypeSizeDict['Neutral'])\n",
    "\n",
    "#create a dataframe that summarizes observed and expected rates\n",
    "df = summarize_observed_and_expected_indels(allExomeHypermutantMaf, neutralIndelRates, geneTypeSizeDict, essentialGenes, tsgs, oncogenes)\n",
    "\n",
    "#get relevant signature information\n",
    "exomeRecaptureDomSigDict, tcgaDomSigDict = get_gene_and_cohort_list_utils.get_exome_signature_cohorts(\n",
    "    filePathDict['TCGA_SIGNATURE_DECOMPOSITIONS'], filePathDict['EXOME_RECAPTURE_SIGNATURE_DECOMPOSITIONS'])\n",
    "df['dominantSignature'] = df['Tumor_Sample_Barcode'].apply(lambda x: exomeRecaptureDomSigDict[x] if x in exomeRecaptureDomSigDict\n",
    "                                                          else tcgaDomSigDict[x[:15]] if x[:15] in tcgaDomSigDict\n",
    "                                                          else None)\n",
    "\n",
    "df['dominantSignature'] = df['dominantSignature'].apply(lambda x: \n",
    "            'APOBEC' if x == 'Signature.APOBEC'\n",
    "            else 'MMR' if x in ['Signature.1', 'Signature.14', 'Signature.MMR']\n",
    "            else 'TMZ' if x == 'Signature.11'\n",
    "            else 'POLE' if x == 'Signature.10'\n",
    "            else 'UV' if x == 'Signature.7'\n",
    "            else 'SMOKING' if x == 'Signature.SMOKING'\n",
    "            else 'other')\n"
   ]
  },
  {
   "cell_type": "code",
   "execution_count": 25,
   "metadata": {},
   "outputs": [],
   "source": [
    "writePath = os.path.join(writeDir, 'figure_1e.tsv')\n",
    "df.to_csv(writePath, index=False, sep = '\\t')"
   ]
  }
 ],
 "metadata": {
  "kernelspec": {
   "display_name": "Python 2",
   "language": "python",
   "name": "python2"
  },
  "language_info": {
   "codemirror_mode": {
    "name": "ipython",
    "version": 2
   },
   "file_extension": ".py",
   "mimetype": "text/x-python",
   "name": "python",
   "nbconvert_exporter": "python",
   "pygments_lexer": "ipython2",
   "version": "2.7.15"
  }
 },
 "nbformat": 4,
 "nbformat_minor": 2
}
