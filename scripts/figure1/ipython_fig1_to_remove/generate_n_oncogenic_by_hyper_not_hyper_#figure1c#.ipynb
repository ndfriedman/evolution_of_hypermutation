{
 "cells": [
  {
   "cell_type": "code",
   "execution_count": 1,
   "metadata": {},
   "outputs": [],
   "source": [
    "import sys\n",
    "import argparse\n",
    "import os\n",
    "import pandas as pd\n",
    "import numpy as np\n",
    "import re\n",
    "\n",
    "sys.path.append('/Users/friedman/Desktop/hypermutationProjectFinal/scripts/utilityScripts')\n",
    "import configuration_util\n",
    "import analysis_utils\n",
    "import mutationSigUtils\n",
    "import maf_analysis_utils\n",
    "\n",
    "filePathDict = configuration_util.get_all_files_path_dict()"
   ]
  },
  {
   "cell_type": "code",
   "execution_count": 2,
   "metadata": {},
   "outputs": [],
   "source": [
    "def get_per_case_oncogenic_mut_info(muts):\n",
    "    oncogenicMuts = muts[muts['oncogenic'].notnull()]\n",
    "    nMutOncDict = dict(oncogenicMuts['Tumor_Sample_Barcode'].value_counts())\n",
    "    return nMutOncDict\n",
    "\n",
    "def get_per_case_hotspot_mut_info(muts):\n",
    "    hotspotMuts = muts[muts['is-a-hotspot'] == 'Y']\n",
    "    nHotspotDict = dict(hotspotMuts['Tumor_Sample_Barcode'].value_counts())\n",
    "    return nHotspotDict\n"
   ]
  },
  {
   "cell_type": "code",
   "execution_count": 3,
   "metadata": {},
   "outputs": [
    {
     "name": "stderr",
     "output_type": "stream",
     "text": [
      "/anaconda2/lib/python2.7/site-packages/ipykernel_launcher.py:1: FutureWarning: read_table is deprecated, use read_csv instead, passing sep='\\t'.\n",
      "  \"\"\"Entry point for launching an IPython kernel.\n",
      "/anaconda2/lib/python2.7/site-packages/IPython/core/interactiveshell.py:2714: DtypeWarning: Columns (4,17,18,40,41,43,44,71,108,124,125,128,129,130,131,132,133,134,135,137) have mixed types. Specify dtype option on import or set low_memory=False.\n",
      "  interactivity=interactivity, compiler=compiler, result=result)\n"
     ]
    }
   ],
   "source": [
    "allImpactMuts = pd.read_table(filePathDict['IMPACT_BASE_MAF'])"
   ]
  },
  {
   "cell_type": "code",
   "execution_count": 4,
   "metadata": {},
   "outputs": [],
   "source": [
    "perCaseOncogenicInfo = get_per_case_oncogenic_mut_info(allImpactMuts)\n",
    "perCaseHotspotInfo = get_per_case_hotspot_mut_info(allImpactMuts)"
   ]
  },
  {
   "cell_type": "code",
   "execution_count": 5,
   "metadata": {},
   "outputs": [
    {
     "name": "stderr",
     "output_type": "stream",
     "text": [
      "/Users/friedman/Desktop/hypermutationProjectFinal/scripts/utilityScripts/analysis_utils.py:56: FutureWarning: read_table is deprecated, use read_csv instead, passing sep='\\t'.\n",
      "  df = pd.read_table(path)\n"
     ]
    }
   ],
   "source": [
    "hypermutantStatusDir = filePathDict['HYPERMUTATION_STATUS_IDS']\n",
    "normalEndometrial = analysis_utils.get_ids_by_hypermutant_status(hypermutantIdDir=hypermutantStatusDir, cancerType='Endometrial Cancer', hypermutantStatus = 'Normal')\n",
    "normalColorectal = analysis_utils.get_ids_by_hypermutant_status(hypermutantIdDir=hypermutantStatusDir, cancerType='Colorectal Cancer', hypermutantStatus = 'Normal')\n",
    "normalGlioma = analysis_utils.get_ids_by_hypermutant_status(hypermutantIdDir=hypermutantStatusDir, cancerType='Glioma', hypermutantStatus = 'Normal')\n",
    "\n",
    "hyperEndometrial = analysis_utils.get_ids_by_hypermutant_status(hypermutantIdDir=hypermutantStatusDir, cancerType='Endometrial Cancer', hypermutantStatus = 'Hypermutated')\n",
    "hyperColorectal = analysis_utils.get_ids_by_hypermutant_status(hypermutantIdDir=hypermutantStatusDir, cancerType='Colorectal Cancer', hypermutantStatus = 'Hypermutated')\n",
    "hyperGlioma = analysis_utils.get_ids_by_hypermutant_status(hypermutantIdDir=hypermutantStatusDir, cancerType='Glioma', hypermutantStatus = 'Hypermutated')\n"
   ]
  },
  {
   "cell_type": "code",
   "execution_count": 6,
   "metadata": {},
   "outputs": [],
   "source": [
    "otherNormal = set([])\n",
    "otherHypermutated = set([])\n",
    "for f in os.listdir(hypermutantStatusDir):\n",
    "    cType = re.sub('_', ' ', f)[:-4]\n",
    "    otherNormal = otherNormal | analysis_utils.get_ids_by_hypermutant_status(hypermutantIdDir=hypermutantStatusDir, cancerType=cType, hypermutantStatus = 'Normal')\n",
    "    otherHypermutated = otherHypermutated | analysis_utils.get_ids_by_hypermutant_status(hypermutantIdDir=hypermutantStatusDir, cancerType=cType, hypermutantStatus = 'Hypermutated')\n"
   ]
  },
  {
   "cell_type": "code",
   "execution_count": 7,
   "metadata": {},
   "outputs": [],
   "source": [
    "#a dict mapping cohorts to names\n",
    "cohortsAndNames = {'normal_Endometrial': normalEndometrial, 'normal_Colorectal': normalColorectal, 'normal_Glioma': normalGlioma,\n",
    "                  'hyper_Endometrial': hyperEndometrial, 'hyper_Colorectal': hyperColorectal, 'hyper_Glioma': hyperGlioma,\n",
    "                   'normal_Other': otherNormal, 'hyper_Other': otherHypermutated\n",
    "                  }\n",
    "\n",
    "listOfDicts = []\n",
    "for cohortName, cohort in cohortsAndNames.items():\n",
    "    for tid in cohort:\n",
    "        nOncogenicMuts = None\n",
    "        nHotspotMuts = None\n",
    "        if tid in perCaseOncogenicInfo:\n",
    "            nOncogenicMuts = perCaseOncogenicInfo[tid]\n",
    "        if tid in perCaseHotspotInfo:\n",
    "            nHotspotMuts = perCaseHotspotInfo[tid]\n",
    "        \n",
    "        listOfDicts.append({'Tumor_Sample_Barcode': tid, 'nOncMuts': nOncogenicMuts,\n",
    "                            'nHotspots': nHotspotMuts, 'cohort': cohortName,\n",
    "                           })\n",
    "\n",
    "df = pd.DataFrame(listOfDicts)\n",
    "            "
   ]
  },
  {
   "cell_type": "code",
   "execution_count": 8,
   "metadata": {},
   "outputs": [],
   "source": [
    "orderingValDict = {'normal_Colorectal': 1, 'hyper_Colorectal': 2, 'normal_Endometrial': 3, 'hyper_Endometrial': 4,\n",
    "                  'normal_Glioma': 5, 'hyper_Glioma': 6, 'normal_Other': 7, 'hyper_Other': 8}\n",
    "\n",
    "df['orderingVal'] = df['cohort'].apply(lambda x: orderingValDict[x])\n",
    "df['cancerType'] = df['cohort'].apply(lambda x: x.split('_')[1])"
   ]
  },
  {
   "cell_type": "code",
   "execution_count": 9,
   "metadata": {},
   "outputs": [],
   "source": [
    "writeDir = '/Users/friedman/Desktop/hypermutationProjectFinal/scripts/figure1/FIGURE1_PLOTTING_FILES/'\n",
    "df.to_csv(os.path.join(writeDir, 'figure1c_nOncMutByCohort.tsv'), index=False, sep = '\\t')"
   ]
  },
  {
   "cell_type": "code",
   "execution_count": 20,
   "metadata": {},
   "outputs": [],
   "source": [
    "#hypermutantsOnlyMaf.to_csv(pathPrefix + '/juno/work/taylorlab/friedman/myAdjustedDataFiles/data_mutations_extended_annotated_nov19_hypermutantOnly_2019.maf', index=False, sep='\\t')\n"
   ]
  }
 ],
 "metadata": {
  "kernelspec": {
   "display_name": "Python 2",
   "language": "python",
   "name": "python2"
  },
  "language_info": {
   "codemirror_mode": {
    "name": "ipython",
    "version": 2
   },
   "file_extension": ".py",
   "mimetype": "text/x-python",
   "name": "python",
   "nbconvert_exporter": "python",
   "pygments_lexer": "ipython2",
   "version": "2.7.15"
  }
 },
 "nbformat": 4,
 "nbformat_minor": 2
}
