{
 "cells": [
  {
   "cell_type": "code",
   "execution_count": 2,
   "metadata": {},
   "outputs": [],
   "source": [
    "import sys\n",
    "import argparse\n",
    "import os\n",
    "import pandas as pd\n",
    "import numpy as np\n",
    "import numpy\n",
    "\n",
    "from collections import Counter\n",
    "\n",
    "sys.path.append('/Users/friedman/Desktop/hypermutationProjectFinal/scripts/utilityScripts')\n",
    "import analysis_utils \n",
    "import mutationSigUtils \n",
    "import maf_analysis_utils\n",
    "import clonality_analysis_util\n",
    "import get_gene_and_cohort_list_utils\n",
    "import configuration_util\n",
    "\n",
    "filePathDict = configuration_util.get_all_files_path_dict()\n",
    "writeDir = '/Users/friedman/Desktop/hypermutationProjectFinal/scripts/figure1/FIGURE1_PLOTTING_FILES'"
   ]
  },
  {
   "cell_type": "code",
   "execution_count": null,
   "metadata": {},
   "outputs": [],
   "source": [
    "#add information to exome sigs:\n",
    "#nonSynonymousClassifications = [\"Frame_Shift_Del\", \"Frame_Shift_Ins\", \"In_Frame_Del\", \"In_Frame_Ins\", \"Missense_Mutation\", \"Nonsense_Mutation\", \"Splice_Site\", \"Translation_Start_Site\"]\n",
    "#exomeRecaptureMafNonsynonSNP = exomeRecaptureMaf[exomeRecaptureMaf['Variant_Classification'].isin(nonSynonymousClassifications)]\n",
    "#nsSnpCounts = dict(Counter(exomeRecaptureMafNonsynonSNP['Tumor_Sample_Barcode']))\n",
    "#exomeRecaptureSigs['nNonSynonymous'] = exomeRecaptureSigs['Sample Name'].apply(lambda x:\n",
    "#            nsSnpCounts[x] if x in nsSnpCounts else None)\n",
    "\n",
    "#exomeRecaptureSigs.to_csv(pathPrefix + '/juno/work/taylorlab/friedman/myAdjustedDataFiles/exomeRecaptureSignatures.tsv', index=False, sep='\\t')"
   ]
  },
  {
   "cell_type": "code",
   "execution_count": 2,
   "metadata": {},
   "outputs": [],
   "source": [
    "def summarize_observed_and_expected_truncating_burdens_in_hypermutated_cases(maf,\n",
    "    neutralGenes, essentialGenes, tsgs, oncogenes, geneLengthDict):\n",
    "    \n",
    "    nonSynonymousClassifications = [\"Frame_Shift_Del\", \"Frame_Shift_Ins\", \"In_Frame_Del\", \"In_Frame_Ins\", \"Missense_Mutation\", \"Nonsense_Mutation\", \"Splice_Site\", \"Translation_Start_Site\"]\n",
    "    nonSynomMaf = maf[maf['Variant_Classification'].isin(nonSynonymousClassifications)]\n",
    "\n",
    "    nmutDict = dict(nonSynomMaf['Tumor_Sample_Barcode'].value_counts())\n",
    "    truncatingConsequences = ['Nonsense_Mutation', 'Frame_Shift_Del', 'Frame_Shift_Ins']\n",
    "    truncatingMutationsMaf = maf[maf['Variant_Classification'].isin(truncatingConsequences)]\n",
    "\n",
    "    neutralGenePanelSize = sum([value for key, value in geneLengthDict.items() if key in neutralGenes])\n",
    "    tsgPanelSize = sum([value for key, value in geneLengthDict.items() if key in tsgs])\n",
    "    oncogenePanelSize = sum([value for key, value in geneLengthDict.items() if key in oncogenes])\n",
    "    essentialPanelSize = sum([value for key, value in geneLengthDict.items() if key in essentialGenes])\n",
    "    listOfDicts = []\n",
    "    \n",
    "    cntr = 0\n",
    "    for case in set(truncatingMutationsMaf['Tumor_Sample_Barcode']):\n",
    "        if cntr%25==0:print cntr,\n",
    "        cntr += 1\n",
    "        caseMaf = truncatingMutationsMaf[truncatingMutationsMaf['Tumor_Sample_Barcode'] == case]\n",
    "        nNeutralMuts = caseMaf[caseMaf['Hugo_Symbol'].isin(neutralGenes)].shape[0]\n",
    "        nTsgMuts = caseMaf[caseMaf['Hugo_Symbol'].isin(tsgs)].shape[0]\n",
    "        nOncogeneMuts = caseMaf[caseMaf['Hugo_Symbol'].isin(oncogenes)].shape[0]\n",
    "        nEssentialMuts = caseMaf[caseMaf['Hugo_Symbol'].isin(essentialGenes)].shape[0]\n",
    "        \n",
    "        neutralRatePerMb = (1.0*1e6*nNeutralMuts)/neutralGenePanelSize\n",
    "        nEssentialExpected = (1.0*essentialPanelSize/1e6)*neutralRatePerMb\n",
    "        nTsgExpected = (1.0*tsgPanelSize/1e6)*neutralRatePerMb\n",
    "        nOncogeneExpected = (1.0*oncogenePanelSize/1e6)*neutralRatePerMb\n",
    "        \n",
    "        listOfDicts.append({'nNeutral': nNeutralMuts, 'nTsg': nTsgMuts, 'nOncogene': nOncogeneMuts, 'nEssential': nEssentialMuts,\n",
    "                           'nTsgExp': nTsgExpected, 'nOncogeneExp': nOncogeneExpected, 'nEssentialExp': nEssentialExpected,\n",
    "                            'nmut': nmutDict[case], 'tmb': nmutDict[case]/30.0, 'Tumor_Sample_Barcode': case\n",
    "                           })\n",
    "        \n",
    "    df = pd.DataFrame(listOfDicts)\n",
    "    return df\n",
    "        \n",
    "        \n",
    "        "
   ]
  },
  {
   "cell_type": "code",
   "execution_count": 102,
   "metadata": {},
   "outputs": [],
   "source": [
    "def get_all_neutral_indel_rates(maf, neutralGenes, neutralGenePanelSize):\n",
    "    maf = maf[(maf['Hugo_Symbol'].isin(neutralGenes)) & (maf['Variant_Type'].isin(['INS', 'DEL']))]\n",
    "    counts = dict(maf['Tumor_Sample_Barcode'].value_counts())\n",
    "    d = {}\n",
    "    for key, value in counts.items():\n",
    "        d[key] = (1.0*value)/neutralGenePanelSize\n",
    "    return d\n",
    "\n",
    "#TODO fix MLL2, KMT2B etc\n",
    "def summarize_gene_type_lengths(geneLengthDict, geneTypes):\n",
    "    d = {}\n",
    "    for geneType, genes in geneTypes.items():\n",
    "        print 'summarizing', geneType\n",
    "        panelSize = sum([geneLengthDict[gene] if gene in geneLengthDict else 0 for gene in genes])\n",
    "        d[geneType] = panelSize\n",
    "    return d\n",
    "\n",
    "#TODO calculate observed and expected based on gene size\n",
    "def summarize_observed_and_expected_indels(maf, neutralRates, panelSizes, essentialGenes, tsgs, oncogenes):\n",
    "    \n",
    "    indelMaf = maf[(maf['Variant_Type'].isin(['INS', 'DEL']))]\n",
    "    cntr = 0\n",
    "    listOfDicts = []\n",
    "    for case in set(maf['Tumor_Sample_Barcode']):\n",
    "        cntr += 1\n",
    "        if cntr%50 == 0: print cntr,\n",
    "            \n",
    "        if case in neutralRates:\n",
    "        \n",
    "            caseMaf = indelMaf[indelMaf['Tumor_Sample_Barcode'] == case]\n",
    "            nOncogeneMutations = caseMaf[caseMaf['Hugo_Symbol'].isin(oncogenes)].shape[0]\n",
    "            nTSGMutations = caseMaf[caseMaf['Hugo_Symbol'].isin(tsgs)].shape[0]\n",
    "            nEssentialMutations = caseMaf[caseMaf['Hugo_Symbol'].isin(essentialGenes)].shape[0]\n",
    "\n",
    "            #oncogeneRate = (1.0e6*nOncogeneMutations)/panelSizes['Oncogene']\n",
    "            #tsgRate = (1.0e6*nTSGMutations)/panelSizes['TSG']\n",
    "            #essentialRate = (1.0e6*nEssentialMutations)/panelSizes['Essential']\n",
    "\n",
    "            oncogeneExpected = neutralRates[case] * panelSizes['Oncogene']\n",
    "            tsgExpected = neutralRates[case] * panelSizes['TSG']\n",
    "            essentialExpected = neutralRates[case] * panelSizes['Essential']\n",
    "\n",
    "            tmb = maf[maf['Tumor_Sample_Barcode'] == case].shape[0]/30.0\n",
    "\n",
    "            listOfDicts.append({'Tumor_Sample_Barcode': case, \n",
    "                               'OncogeneObs': nOncogeneMutations, 'TSGObs': nTSGMutations, 'EssentialObs': nEssentialMutations ,\n",
    "                                'OncogeneExp': oncogeneExpected, 'TSGExp': tsgExpected, 'EssentialExp': essentialExpected,\n",
    "                               'tmb': tmb})\n",
    "        \n",
    "    return pd.DataFrame(listOfDicts)"
   ]
  },
  {
   "cell_type": "code",
   "execution_count": 14,
   "metadata": {},
   "outputs": [
    {
     "ename": "NameError",
     "evalue": "name 'pathPrefix' is not defined",
     "output_type": "error",
     "traceback": [
      "\u001b[0;31m---------------------------------------------------------------------------\u001b[0m",
      "\u001b[0;31mNameError\u001b[0m                                 Traceback (most recent call last)",
      "\u001b[0;32m<ipython-input-14-f159e23d7f43>\u001b[0m in \u001b[0;36m<module>\u001b[0;34m()\u001b[0m\n\u001b[1;32m      2\u001b[0m \u001b[0;31m#only run to regenerate files\u001b[0m\u001b[0;34m\u001b[0m\u001b[0;34m\u001b[0m\u001b[0m\n\u001b[1;32m      3\u001b[0m \u001b[0;34m\u001b[0m\u001b[0m\n\u001b[0;32m----> 4\u001b[0;31m \u001b[0mmc3maf\u001b[0m \u001b[0;34m=\u001b[0m \u001b[0manalysis_utils\u001b[0m\u001b[0;34m.\u001b[0m\u001b[0mload_in_df_with_progress\u001b[0m\u001b[0;34m(\u001b[0m\u001b[0mpathPrefix\u001b[0m \u001b[0;34m+\u001b[0m \u001b[0;34m'/ifs/res/taylorlab/ang46/ext/mafs/mc3/mc3.v0.2.8.PUBLIC.LAML_PATCH_prepped_facets_oncokb.maf'\u001b[0m\u001b[0;34m,\u001b[0m \u001b[0mnLinesFile\u001b[0m\u001b[0;34m=\u001b[0m \u001b[0;36m2699035\u001b[0m\u001b[0;34m)\u001b[0m\u001b[0;34m\u001b[0m\u001b[0m\n\u001b[0m\u001b[1;32m      5\u001b[0m \u001b[0mexomeRecaptureMaf\u001b[0m \u001b[0;34m=\u001b[0m \u001b[0mpd\u001b[0m\u001b[0;34m.\u001b[0m\u001b[0mread_table\u001b[0m\u001b[0;34m(\u001b[0m\u001b[0mpathPrefix\u001b[0m \u001b[0;34m+\u001b[0m \u001b[0;34m'/juno/work/taylorlab/friedman/myAdjustedDataFiles/exomeRecapture.maf'\u001b[0m\u001b[0;34m)\u001b[0m\u001b[0;34m\u001b[0m\u001b[0m\n\u001b[1;32m      6\u001b[0m \u001b[0;34m\u001b[0m\u001b[0m\n",
      "\u001b[0;31mNameError\u001b[0m: name 'pathPrefix' is not defined"
     ]
    }
   ],
   "source": [
    "#CODE THAT COMBINES THE MC3 maf and exome recapture maf\n",
    "#only run to regenerate files\n",
    "\n",
    "mc3maf = analysis_utils.load_in_df_with_progress(pathPrefix + '/ifs/res/taylorlab/ang46/ext/mafs/mc3/mc3.v0.2.8.PUBLIC.LAML_PATCH_prepped_facets_oncokb.maf', nLinesFile= 2699035)\n",
    "exomeRecaptureMaf = pd.read_table(pathPrefix + '/juno/work/taylorlab/friedman/myAdjustedDataFiles/exomeRecapture.maf')\n",
    "\n",
    "mmrCasesTCGA, poleCasesTCGA = get_gene_and_cohort_list_utils.get_tcga_pole_mmr_hypermutator_ids(tcgaSigsPath = pathPrefix + '/juno/work/taylorlab/friedman/myAdjustedDataFiles/tcgaSigsCombined.txt')\n",
    "mmrCasesRECAPTURE, poleCasesRECAPTURE = get_gene_and_cohort_list_utils.get_exome_recapture_pole_mmr_hypermutator_ids(exomeRecaptureSigsPath = pathPrefix + '/juno/work/taylorlab/friedman/myAdjustedDataFiles/exomeRecaptureSignatures.tsv')\n",
    "tcgaHypermutantMaf = mc3maf[mc3maf['SAMPLE_ID'].isin(mmrCasesTCGA | poleCasesTCGA)]\n",
    "exomeRecaptureHypermutantMaf = exomeRecaptureMaf[exomeRecaptureMaf['Tumor_Sample_Barcode'].isin(mmrCasesRECAPTURE | poleCasesRECAPTURE)]\n",
    "tcgaHypermutantMaf['Tumor_Sample_Barcode'] = tcgaHypermutantMaf['SAMPLE_ID']\n",
    "allExomeHypermutantMaf = pd.concat([exomeRecaptureHypermutantMaf, tcgaHypermutantMaf])\n",
    "allExomeHypermutantMaf['cohort'] = allExomeHypermutantMaf['Tumor_Sample_Barcode'].apply(lambda x:\n",
    "    'mmr_TCGA' if x in mmrCasesTCGA else 'pole_TCGA' if x in poleCasesTCGA\n",
    "    else 'mmr_RECAPTURE' if x in mmrCasesRECAPTURE else 'pole_RECAPTURE' if x in poleCasesRECAPTURE else None)\n",
    "allExomeHypermutantMaf.to_csv(pathPrefix + '/juno/work/taylorlab/friedman/myAdjustedDataFiles/allHypermutatorsExome.maf', index=False, sep='\\t')\n"
   ]
  },
  {
   "cell_type": "code",
   "execution_count": 3,
   "metadata": {},
   "outputs": [
    {
     "name": "stderr",
     "output_type": "stream",
     "text": [
      "/anaconda2/lib/python2.7/site-packages/ipykernel_launcher.py:1: FutureWarning: read_table is deprecated, use read_csv instead, passing sep='\\t'.\n",
      "  \"\"\"Entry point for launching an IPython kernel.\n",
      "/anaconda2/lib/python2.7/site-packages/IPython/core/interactiveshell.py:2714: DtypeWarning: Columns (0,1,2,3,4,5,6,7,9,12,17,18,19,20,22,25,26,27,29,30,31,32,35,36,50,51,52,54,55,56,57,58,65,66,68,69,73,74,75,82,84,85,89,90,91,92,93,94,95,96,97,101,102,104,106,110,111,112,113,117,118,120,123,124,125,128,135,136,137,138,144,147,150,151,154,155,158,160,161,190,192,200,212,213,214,215,218,219,235,236,238,239,240,242,280,283,286,287,307,308,309,310,313,315,316) have mixed types. Specify dtype option on import or set low_memory=False.\n",
      "  interactivity=interactivity, compiler=compiler, result=result)\n"
     ]
    }
   ],
   "source": [
    "allExomeMaf = pd.read_table('/Users/friedman/Desktop/hypermutationProjectFinal/files/mafs/allExomeMaf.maf')"
   ]
  },
  {
   "cell_type": "code",
   "execution_count": 3,
   "metadata": {},
   "outputs": [
    {
     "name": "stderr",
     "output_type": "stream",
     "text": [
      "/anaconda2/lib/python2.7/site-packages/ipykernel_launcher.py:4: FutureWarning: read_table is deprecated, use read_csv instead, passing sep='\\t'.\n",
      "  after removing the cwd from sys.path.\n",
      "/anaconda2/lib/python2.7/site-packages/IPython/core/interactiveshell.py:2714: DtypeWarning: Columns (0,1,2,3,4,5,6,7,9,12,17,19,20,22,25,26,27,29,30,31,32,35,36,50,51,52,54,55,56,57,58,65,66,68,69,73,74,75,82,84,85,89,90,91,92,93,94,95,96,97,101,102,104,106,110,111,112,113,117,118,120,123,124,125,128,135,136,137,138,144,147,150,151,154,155,158,160,161,190,192,200,212,213,214,215,218,219,235,236,238,239,240,242,280,283,286,287,306,307,308,309,312,314,315) have mixed types. Specify dtype option on import or set low_memory=False.\n",
      "  interactivity=interactivity, compiler=compiler, result=result)\n"
     ]
    }
   ],
   "source": [
    "#\n",
    "###\n",
    "#takes about 30seconds to load\n",
    "allExomeHypermutantMaf = (pd.read_table(filePathDict['ALL_EXOME_HYPERMUTATOR_MAF']))\n"
   ]
  },
  {
   "cell_type": "code",
   "execution_count": 4,
   "metadata": {},
   "outputs": [],
   "source": [
    "#reload(get_gene_and_cohort_list_utils)\n",
    "neutralGenes = get_gene_and_cohort_list_utils.get_cancer_neutral_genes(depMapPath = filePathDict['DEP_MAP_DATA'])\n",
    "essentialGenes = get_gene_and_cohort_list_utils.get_essential_genes(depMapPath = filePathDict['DEP_MAP_DATA'], mode='getEssentialGenes')\n",
    "impactGenes = get_gene_and_cohort_list_utils.get_im6_genes()\n",
    "tsgs = get_gene_and_cohort_list_utils.get_tsgs()\n",
    "oncogenes = impactGenes - tsgs"
   ]
  },
  {
   "cell_type": "code",
   "execution_count": 5,
   "metadata": {},
   "outputs": [
    {
     "name": "stderr",
     "output_type": "stream",
     "text": [
      "/anaconda2/lib/python2.7/site-packages/ipykernel_launcher.py:1: FutureWarning: read_table is deprecated, use read_csv instead, passing sep='\\t'.\n",
      "  \"\"\"Entry point for launching an IPython kernel.\n"
     ]
    }
   ],
   "source": [
    "geneLengthInfo = pd.read_table(filePathDict['GENE_LENGTH_INFO'])\n",
    "geneLengthDict = dict(zip(geneLengthInfo['hgnc_symbol'], geneLengthInfo['nt.length']))\n"
   ]
  },
  {
   "cell_type": "code",
   "execution_count": 80,
   "metadata": {},
   "outputs": [],
   "source": [
    "reload(get_gene_and_cohort_list_utils)\n",
    "\n",
    "exomeRecaptureDomSigDict, tcgaDomSigDict = get_gene_and_cohort_list_utils.get_exome_signature_cohorts(\n",
    "    filePathDict['TCGA_SIGNATURE_DECOMPOSITIONS'], filePathDict['EXOME_RECAPTURE_SIGNATURE_DECOMPOSITIONS'])\n",
    "\n",
    "#df = summarize_observed_and_expected_truncating_burdens_in_hypermutated_cases(allExomeHypermutantMaf,\n",
    "#    neutralGenes, essentialGenes, tsgs, oncogenes, geneLengthDict)"
   ]
  },
  {
   "cell_type": "code",
   "execution_count": 103,
   "metadata": {},
   "outputs": [
    {
     "name": "stdout",
     "output_type": "stream",
     "text": [
      "50 100 150 200 250 300 350 400 450 500 550 600 650 700\n"
     ]
    }
   ],
   "source": [
    "#NOAH WORKING HERE NOW\n",
    "#geneTypeSizeDict = summarize_gene_type_lengths(geneLengthDict, {'Essential': essentialGenes, 'Neutral': neutralGenes, \n",
    "#                                            'TSG': tsgs, 'Oncogene': oncogenes})\n",
    "\n",
    "#~1 min\n",
    "#neutralIndelRates = get_all_neutral_indel_rates(allExomeMaf, neutralGenes, geneTypeSizeDict['Neutral'])\n",
    "\n",
    "#nmuts = dict(allExomeMaf['Tumor_Sample_Barcode'].value_counts())\n",
    "#hyperThresh = 750\n",
    "#hyperIds = [eid for eid, count in nmuts.items() if count >= hyperThresh]\n",
    "#hyperExomeMaf = allExomeMaf[allExomeMaf['Tumor_Sample_Barcode'].isin(hyperIds)]\n",
    "df = summarize_observed_and_expected_indels(hyperExomeMaf, neutralIndelRates, geneTypeSizeDict, essentialGenes, tsgs, oncogenes)\n",
    "\n",
    "df['dominantSignature'] = df['Tumor_Sample_Barcode'].apply(lambda x: exomeRecaptureDomSigDict[x] if x in exomeRecaptureDomSigDict\n",
    "                                                          else tcgaDomSigDict[x] if x in tcgaDomSigDict\n",
    "                                                          else None)\n",
    "\n",
    "df.to_csv('/Users/friedman/Desktop/WORK/dataForLocalPlotting/indelRateInfo.tsv', index=False, sep='\\t')"
   ]
  },
  {
   "cell_type": "code",
   "execution_count": 8,
   "metadata": {},
   "outputs": [
    {
     "name": "stderr",
     "output_type": "stream",
     "text": [
      "/Users/friedman/Desktop/hypermutationProjectFinal/scripts/utilityScripts/get_gene_and_cohort_list_utils.py:97: FutureWarning: read_table is deprecated, use read_csv instead, passing sep='\\t'.\n",
      "  tcgaSigs = pd.read_table(tcgaSigsPath)\n",
      "/Users/friedman/Desktop/hypermutationProjectFinal/scripts/utilityScripts/get_gene_and_cohort_list_utils.py:112: FutureWarning: read_table is deprecated, use read_csv instead, passing sep='\\t'.\n",
      "  exomeSigs = pd.read_table(exomeRecaptureSigsPath)\n"
     ]
    }
   ],
   "source": [
    "mmrCasesTCGA, poleCasesTCGA = get_gene_and_cohort_list_utils.get_tcga_pole_mmr_hypermutator_ids(\n",
    "    tcgaSigsPath = filePathDict['TCGA_SIGNATURE_DECOMPOSITIONS'])\n",
    "mmrCasesRECAPTURE, poleCasesRECAPTURE = get_gene_and_cohort_list_utils.get_exome_recapture_pole_mmr_hypermutator_ids(\n",
    "    exomeRecaptureSigsPath = filePathDict['EXOME_RECAPTURE_SIGNATURE_DECOMPOSITIONS'])\n"
   ]
  },
  {
   "cell_type": "code",
   "execution_count": 9,
   "metadata": {},
   "outputs": [],
   "source": [
    "df['signature'] = df['Tumor_Sample_Barcode'].apply(lambda x: 'POLE' if x in poleCasesTCGA | poleCasesRECAPTURE\n",
    "                                                  else 'MMR' if x in mmrCasesTCGA | mmrCasesRECAPTURE\n",
    "                                                  else None)"
   ]
  },
  {
   "cell_type": "code",
   "execution_count": 10,
   "metadata": {},
   "outputs": [],
   "source": [
    "poleLower = np.percentile(df[df['signature'] == 'POLE']['tmb'], 5, axis=0)\n",
    "poleUpper = np.percentile(df[df['signature'] == 'POLE']['tmb'], 95, axis=0)\n",
    "mmrLower = np.percentile(df[df['signature'] == 'MMR']['tmb'], 5, axis=0)\n",
    "mmrUpper = np.percentile(df[df['signature'] == 'MMR']['tmb'], 95, axis=0)\n",
    "\n",
    "df['isOutlier'] = df.apply(lambda row: \n",
    "    True if row['signature'] == 'POLE' and (row['tmb'] < poleLower or row['tmb'] > poleUpper)\n",
    "    else True if row['signature'] == 'MMR' and (row['tmb'] < mmrLower or row['tmb'] > mmrUpper)\n",
    "    else False, axis=1)\n"
   ]
  },
  {
   "cell_type": "code",
   "execution_count": 11,
   "metadata": {},
   "outputs": [],
   "source": [
    "#change for new way of plotting\n",
    "dfAdj = pd.melt(df, id_vars=['Tumor_Sample_Barcode', 'signature', 'tmb'], value_vars=['nEssential', 'nEssentialExp', \n",
    "                                                                 'nOncogene', 'nOncogeneExp',\n",
    "                                                                 'nTsg', 'nTsgExp'])"
   ]
  },
  {
   "cell_type": "code",
   "execution_count": 13,
   "metadata": {},
   "outputs": [
    {
     "data": {
      "text/plain": [
       "'/Users/friedman/Desktop/hypermutationProjectFinal/scripts/figure1/FIGURE1_PLOTTING_FILES/figure1f_truncatingObsExp.tsv'"
      ]
     },
     "execution_count": 13,
     "metadata": {},
     "output_type": "execute_result"
    }
   ],
   "source": [
    "#dfAdj.to_csv(os.path.join(writeDir, 'figure1f_truncatingObsExp.tsv'), index=False, sep='\\t')\n",
    "\n",
    "os.path.join(writeDir, 'figure1f_truncatingObsExp.tsv')"
   ]
  },
  {
   "cell_type": "code",
   "execution_count": null,
   "metadata": {},
   "outputs": [],
   "source": [
    "#\n",
    "######\n",
    "############\n",
    "###################\n",
    "############################\n",
    "####################\n",
    "#############\n",
    "######\n",
    "#\n",
    "\n",
    "#TEMP MOVE TO A NEW SCRIPT I JUST WANT TO NOT RELOAD FILE\n",
    "\n",
    "#allExomeHypermutantMaf = pd.read_table(pathPrefix + '/juno/work/taylorlab/friedman/myAdjustedDataFiles/allHypermutatorsExome.maf', index=False, sep='\\t')\n"
   ]
  },
  {
   "cell_type": "code",
   "execution_count": null,
   "metadata": {},
   "outputs": [],
   "source": [
    "#MOVE THIS IT IS FOR FIGURE 5\n",
    "def compare_mut_rate_by_dataclass(maf, genes, geneType, thresh=0.05):\n",
    "    truncatingClassifications = [\"Frame_Shift_Del\", \"Frame_Shift_Ins\", 'Nonsense_Mutation']\n",
    "    maf = maf[maf['Hugo_Symbol'].isin(genes)]\n",
    "    cntr = 0\n",
    "    cntr += 1\n",
    "    listOfDs = []\n",
    "    for case in set(maf['Tumor_Sample_Barcode']):\n",
    "        \n",
    "        if cntr % 25 == 0: print cntr,\n",
    "        caseMaf = maf[maf['Tumor_Sample_Barcode'] == case]\n",
    "        \n",
    "        \n",
    "        clonalMaf = caseMaf[caseMaf['isClonal'] == True]\n",
    "        subclonalMaf = caseMaf[caseMaf['isClonal'] == False]\n",
    "\n",
    "            #ONLY do this analysis on cases with an adequate number of clonal mutations\n",
    "        \n",
    "        if (1.0*clonalMaf.shape[0])/caseMaf.shape[0] > thresh and (1.0*subclonalMaf.shape[0])/caseMaf.shape[0] > thresh:\n",
    "\n",
    "            clonalMafTrunc = clonalMaf[clonalMaf['Variant_Classification'].isin(truncatingClassifications)]\n",
    "            subclonalMafTrunc = subclonalMaf[subclonalMaf['Variant_Classification'].isin(truncatingClassifications)]\n",
    "\n",
    "            clonalMafSynonymous = clonalMaf[(~clonalMaf['Variant_Classification'].isin(truncatingClassifications)) & (clonalMaf['oncogenic'].isnull())]\n",
    "            subclonalMafSynonymous = subclonalMaf[(~subclonalMaf['Variant_Classification'].isin(truncatingClassifications)) & (subclonalMaf['oncogenic'].isnull())]\n",
    "\n",
    "\n",
    "\n",
    "            clonalTruncating = list(clonalMafTrunc['Hugo_Symbol'])\n",
    "            doubleTruncating = [tsg for tsg, count in Counter(clonalTruncating).items() if count > 1]\n",
    "            oneHitTruncating = [tsg for tsg, count in Counter(clonalTruncating).items() if count == 1]\n",
    "            notMutated = genes - set(clonalTruncating)\n",
    "\n",
    "            nmutTruncatingBiallelic = clonalMafTrunc[(clonalMafTrunc['Hugo_Symbol'].isin(doubleTruncating))].shape[0]\n",
    "            nmutTruncatingOneHit = clonalMafTrunc[(clonalMafTrunc['Hugo_Symbol'].isin(oneHitTruncating))].shape[0]\n",
    "            nmutSynonymousBiallelic = clonalMafSynonymous[(clonalMafSynonymous['Hugo_Symbol'].isin(doubleTruncating))].shape[0]\n",
    "            nmutSynonymousOneHit = clonalMafSynonymous[(clonalMafSynonymous['Hugo_Symbol'].isin(oneHitTruncating))].shape[0]\n",
    "\n",
    "            truncatingBiallelic = None\n",
    "            truncatingOneHit = None\n",
    "            if nmutSynonymousBiallelic > 0: truncatingBiallelic = (1.0*nmutTruncatingBiallelic)/nmutSynonymousBiallelic                      \n",
    "            if nmutSynonymousOneHit > 0: truncatingOneHit = (1.0*nmutTruncatingOneHit)/nmutSynonymousOneHit                                  \n",
    "\n",
    "            #listOfDs.append({\n",
    "            #    'truncatingBiallelicSynonymous': nmutSynonymousBiallelic, 'nmutTruncatingBiallelic': nmutTruncatingBiallelic,\n",
    "            #    'truncatingOneHitSynonymous': nmutSynonymousOneHit, 'nmutTruncatingOneHit': nmutTruncatingOneHit,\n",
    "            #    'noMut': 0,\n",
    "            #    'timing': 'Earlier', 'Tumor_Sample_Barcode': case, 'timingMethod': 'clonality', 'geneType': geneType\n",
    "            #})\n",
    "\n",
    "            ############################################################\n",
    "            ############################################################\n",
    "\n",
    "            subclonalTruncating = list(subclonalMafTrunc['Hugo_Symbol'])\n",
    "\n",
    "            nmutTruncatingBiallelic = subclonalMafTrunc[(subclonalMafTrunc['Hugo_Symbol'].isin(doubleTruncating))].shape[0]\n",
    "            nmutTruncatingOneHit = subclonalMafTrunc[(subclonalMafTrunc['Hugo_Symbol'].isin(oneHitTruncating))].shape[0]\n",
    "            nmutTruncatingNoHit = subclonalMafTrunc[(subclonalMafTrunc['Hugo_Symbol'].isin(notMutated))].shape[0]\n",
    "            nmutSynonymousBiallelic = subclonalMafSynonymous[(subclonalMafSynonymous['Hugo_Symbol'].isin(doubleTruncating))].shape[0]\n",
    "            nmutSynonymousOneHit = subclonalMafSynonymous[(subclonalMafSynonymous['Hugo_Symbol'].isin(oneHitTruncating))].shape[0]\n",
    "            nmutSynonymousNoHit = subclonalMafSynonymous[(subclonalMafSynonymous['Hugo_Symbol'].isin(notMutated))].shape[0]\n",
    "\n",
    "            truncatingBiallelic = None\n",
    "            truncatingOneHit = None\n",
    "            truncatingNoHit = None\n",
    "\n",
    "            if nmutSynonymousBiallelic > 0: truncatingBiallelic = (1.0*nmutTruncatingBiallelic)/nmutSynonymousBiallelic                      \n",
    "            if nmutSynonymousOneHit > 0: truncatingOneHit = (1.0*nmutTruncatingOneHit)/nmutSynonymousOneHit                                  \n",
    "            if nmutSynonymousNoHit > 0: truncatingNoHit = (1.0*nmutTruncatingNoHit)/nmutSynonymousNoHit                                  \n",
    "\n",
    "            listOfDs.append({\n",
    "                'early_allelic_status': 'truncatingOneHit', 'val': truncatingOneHit,\n",
    "                'timing': 'Later', 'Tumor_Sample_Barcode': case, 'timingMethod': 'clonality', 'geneType': geneType\n",
    "            })\n",
    "            listOfDs.append({\n",
    "                'early_allelic_status': 'noMut', 'val': truncatingNoHit,\n",
    "                'timing': 'Later', 'Tumor_Sample_Barcode': case, 'timingMethod': 'clonality', 'geneType': geneType\n",
    "            })\n",
    "\n",
    "    return pd.DataFrame(listOfDs)\n",
    "        "
   ]
  },
  {
   "cell_type": "code",
   "execution_count": null,
   "metadata": {},
   "outputs": [],
   "source": [
    "depMapDf = pd.read_csv(pathPrefix + '/juno/work/taylorlab/friedman/myAdjustedDataFiles/achillesDepMap.csv')"
   ]
  },
  {
   "cell_type": "code",
   "execution_count": null,
   "metadata": {},
   "outputs": [],
   "source": [
    "listOfDicts = []\n",
    "for col in depMapDf.columns.values:\n",
    "    gene = col.split(' ')[0]\n",
    "    if col != 'Unnamed: 0':\n",
    "        listOfDicts.append({'Hugo_Symbol': gene, 'score': np.nanmean(depMapDf[col])})\n",
    "depMapDfZ = pd.DataFrame(listOfDicts)\n",
    "\n",
    "essentialGenes = set(depMapDfZ[depMapDfZ['score'] < -1]['Hugo_Symbol'])\n",
    "moderatelyEssentialGenes = set(depMapDfZ[(depMapDfZ['score'] >= -1) & (depMapDfZ['score'] < -.5)]['Hugo_Symbol'])\n",
    "neutralGenes = set(depMapDfZ[(depMapDfZ['score'] >= -.5)]['Hugo_Symbol'])\n",
    "impactGenes = set(['ABL1', 'ACVR1', 'AGO2', 'AKT1', 'AKT2', 'AKT3', 'ALK', 'ALOX12B', 'ANKRD11', 'APC', 'AR', 'ARAF', 'ARID1A', 'ARID1B', 'ARID2', 'ARID5B', 'ASXL1', 'ASXL2', 'ATM', 'ATR', 'ATRX', 'AURKA', 'AURKB', 'AXIN1', 'AXIN2', 'AXL', 'B2M', 'BABAM1', 'BAP1', 'BARD1', 'BBC3', 'BCL10', 'BCL2', 'BCL2L1', 'BCL2L11', 'BCL6', 'BCOR', 'BIRC3', 'BLM', 'BMPR1A', 'BRAF', 'BRCA1', 'BRCA2', 'BRD4', 'BRIP1', 'BTK', 'CALR', 'CARD11', 'CARM1', 'CASP8', 'CBFB', 'CBL', 'CCND1', 'CCND2', 'CCND3', 'CCNE1', 'CD274', 'CD276', 'CD79A', 'CD79B', 'CDC42', 'CDC73', 'CDH1', 'CDK12', 'CDK4', 'CDK6', 'CDK8', 'CDKN1A', 'CDKN1B', 'CDKN2A', 'CDKN2B', 'CDKN2C', 'CEBPA', 'CENPA', 'CHEK1', 'CHEK2', 'CIC', 'CREBBP', 'CRKL', 'CRLF2', 'CSDE1', 'CSF1R', 'CSF3R', 'CTCF', 'CTLA4', 'CTNNB1', 'CUL3', 'CXCR4', 'CYLD', 'CYSLTR2', 'DAXX', 'DCUN1D1', 'DDR2', 'DICER1', 'DIS3', 'DNAJB1', 'DNMT1', 'DNMT3A', 'DNMT3B', 'DOT1L', 'DROSHA', 'DUSP4', 'E2F3', 'EED', 'EGFL7', 'EGFR', 'EIF1AX', 'EIF4A2', 'EIF4E', 'ELF3', 'EP300', 'EPAS1', 'EPCAM', 'EPHA3', 'EPHA5', 'EPHA7', 'EPHB1', 'ERBB2', 'ERBB3', 'ERBB4', 'ERCC2', 'ERCC3', 'ERCC4', 'ERCC5', 'ERF', 'ERG', 'ERRFI1', 'ESR1', 'ETV1', 'ETV6', 'EZH1', 'EZH2', 'FAM123B', 'FAM175A', 'FAM46C', 'FAM58A', 'FANCA', 'FANCC', 'FAT1', 'FBXW7', 'FGF19', 'FGF3', 'FGF4', 'FGFR1', 'FGFR2', 'FGFR3', 'FGFR4', 'FH', 'FLCN', 'FLT1', 'FLT3', 'FLT4', 'FOXA1', 'FOXL2', 'FOXO1', 'FOXP1', 'FUBP1', 'FYN', 'GATA1', 'GATA2', 'GATA3', 'GLI1', 'GNA11', 'GNAQ', 'GNAS', 'GPS2', 'GREM1', 'GRIN2A', 'GSK3B', 'H3F3A', 'H3F3B', 'H3F3C', 'HGF', 'HIST1H1C', 'HIST1H2BD', 'HIST1H3A', 'HIST1H3B', 'HIST1H3C', 'HIST1H3D', 'HIST1H3E', 'HIST1H3F', 'HIST1H3G', 'HIST1H3H', 'HIST1H3I', 'HIST1H3J', 'HIST2H3C', 'HIST2H3D', 'HIST3H3', 'HLA-A', 'HLA-B', 'HNF1A', 'HOXB13', 'HRAS', 'ICOSLG', 'ID3', 'IDH1', 'IDH2', 'IFNGR1', 'IGF1', 'IGF1R', 'IGF2', 'IKBKE', 'IKZF1', 'IL10', 'IL7R', 'INHA', 'INHBA', 'INPP4A', 'INPP4B', 'INPPL1', 'INSR', 'IRF4', 'IRS1', 'IRS2', 'JAK1', 'JAK2', 'JAK3', 'JUN', 'KDM5A', 'KDM5C', 'KDM6A', 'KDR', 'KEAP1', 'KIT', 'KLF4', 'KMT2B', 'KMT5A', 'KNSTRN', 'KRAS', 'LATS1', 'LATS2', 'LMO1', 'LYN', 'MALT1', 'MAP2K1', 'MAP2K2', 'MAP2K4', 'MAP3K1', 'MAP3K13', 'MAP3K14', 'MAPK1', 'MAPK3', 'MAPKAP1', 'MAX', 'MCL1', 'MDC1', 'MDM2', 'MDM4', 'MED12', 'MEF2B', 'MEN1', 'MET', 'MGA', 'MITF', 'MLH1', 'KMT2A', 'KMT2B', 'KMT2C', 'MPL', 'MRE11A', 'MSH2', 'MSH3', 'MSH6', 'MSI1', 'MSI2', 'MST1', 'MST1R', 'MTOR', 'MUTYH', 'MYC', 'MYCL1', 'MYCN', 'MYD88', 'MYOD1', 'NBN', 'NCOA3', 'NCOR1', 'NEGR1', 'NF1', 'NF2', 'NFE2L2', 'NFKBIA', 'NKX2-1', 'NKX3-1', 'NOTCH1', 'NOTCH2', 'NOTCH3', 'NOTCH4', 'NPM1', 'NRAS', 'NSD1', 'NTHL1', 'NTRK1', 'NTRK2', 'NTRK3', 'NUF2', 'NUP93', 'PAK1', 'PAK7', 'PALB2', 'PARK2', 'PARP1', 'PAX5', 'PBRM1', 'PDCD1', 'PDCD1LG2', 'PDGFRA', 'PDGFRB', 'PDPK1', 'PGR', 'PHOX2B', 'PIK3C2G', 'PIK3C3', 'PIK3CA', 'PIK3CB', 'PIK3CD', 'PIK3CG', 'PIK3R1', 'PIK3R2', 'PIK3R3', 'PIM1', 'PLCG2', 'PLK2', 'PMAIP1', 'PMS1', 'PMS2', 'PNRC1', 'POLD1', 'POLE', 'PPARG', 'PPM1D', 'PPP2R1A', 'PPP4R2', 'PPP6C', 'PRDM1', 'PRDM14', 'PREX2', 'PRKAR1A', 'PRKCI', 'PRKD1', 'PTCH1', 'PTEN', 'PTP4A1', 'PTPN11', 'PTPRD', 'PTPRS', 'PTPRT', 'RAB35', 'RAC1', 'RAC2', 'RAD21', 'RAD50', 'RAD51', 'RAD51C', 'RAD51L1', 'RAD51L3', 'RAD52', 'RAD54L', 'RAF1', 'RARA', 'RASA1', 'RB1', 'RBM10', 'RECQL', 'RECQL4', 'REL', 'RET', 'RFWD2', 'RHEB', 'RHOA', 'RICTOR', 'RIT1', 'RNF43', 'ROS1', 'RPS6KA4', 'RPS6KB2', 'RPTOR', 'RRAGC', 'RRAS', 'RRAS2', 'RTEL1', 'RUNX1', 'RXRA', 'RYBP', 'SDHA', 'SDHAF2', 'SDHB', 'SDHC', 'SDHD', 'SESN1', 'SESN2', 'SESN3', 'SETD2', 'SF3B1', 'SH2B3', 'SH2D1A', 'SHOC2', 'SHQ1', 'SLX4', 'SMAD2', 'SMAD3', 'SMAD4', 'SMARCA4', 'SMARCB1', 'SMARCD1', 'SMO', 'SMYD3', 'SOCS1', 'SOS1', 'SOX17', 'SOX2', 'SOX9', 'SPEN', 'SPOP', 'SPRED1', 'SRC', 'SRSF2', 'STAG2', 'STAT3', 'STAT5A', 'STAT5B', 'STK11', 'STK19', 'STK40', 'SUFU', 'SUZ12', 'SYK', 'TAP1', 'TAP2', 'TBX3', 'TCEB1', 'TCF3', 'TCF7L2', 'TEK', 'TERT', 'TET1', 'TET2', 'TGFBR1', 'TGFBR2', 'TMEM127', 'TMPRSS2', 'TNFAIP3', 'TNFRSF14', 'TOP1', 'TP53', 'TP53BP1', 'TP63', 'TRAF2', 'TRAF7', 'TSC1', 'TSC2', 'TSHR', 'U2AF1', 'UPF1', 'VEGFA', 'VHL', 'VTCN1', 'WHSC1', 'WHSC1L1', 'WT1', 'WWTR1', 'XIAP', 'XPO1', 'XRCC2', 'YAP1', 'YES1', 'ZFHX3', 'ZRSR2'])\n",
    "neutralGenes = neutralGenes - impactGenes\n",
    "tsgs = set(['ERRFI1', 'ASXL2', 'PMAIP1', 'ACTG1', 'SUFU', 'FBXO11', 'MEN1', 'FAM58A', 'B2M', 'RB1', 'DUSP22', 'SESN1', 'GPS2', 'RAD51D', 'SMG1', 'CDC73', 'MAP3K1', 'SMARCB1', 'INPP4B', 'PARK2', 'SMAD4', 'CBFB', 'CDH1', 'PPP6C', 'SETDB1', 'SETDB2', 'NF2', 'CDKN2B', 'CDKN2C', 'CDKN2A', 'DDX3X', 'PIK3R1', 'BARD1', 'PDS5B', 'KLF4', 'SPRED1', 'VHL', 'SMAD2', 'PMS1', 'PMS2', 'SETD2', 'GATA3', 'TBL1XR1', 'MUTYH', 'SOCS1', 'FAM175A', 'ROBO1', 'ARID1B', 'ARID1A', 'TCF7L2', 'STK11', 'FOXA1', 'PTEN', 'FAT1', 'FAS', 'CYLD', 'MAX', 'SH2D1A', 'APC', 'NTHL1', 'CTCF', 'KDM5C', 'KMT2C', 'ZFHX3', 'FOXP1', 'PIGA', 'CDKN1B', 'CDKN1A', 'FUBP1', 'MSH2', 'ID3', 'TNFRSF14', 'TRAF3', 'EP400', 'BRIP1', 'ARID4A', 'ARID4B', 'XRCC2', 'DAXX', 'SDHAF2', 'ASXL1', 'AMER1', 'RASA1', 'EGR1', 'MST1', 'SOX17', 'RUNX1', 'PIK3R3', 'NCOR1', 'NF1', 'JAK1', 'PTPRD', 'CHEK2', 'CHEK1', 'SMC1A', 'TMEM127', 'STAG1', 'RAD51', 'TCF3', 'STAG2', 'ARID2', 'RAD50', 'RNF43', 'PARP1', 'BLM', 'CUX1', 'RECQL', 'RAD21', 'PTPN2', 'PTPN1', 'SLX4', 'INHA', 'PAX5', 'IRF1', 'TP53', 'HLA-A', 'IRF8', 'CBL', 'TOP1', 'SHQ1', 'PRDM1', 'NSD1', 'ATXN2', 'CREBBP', 'HDAC4', 'SESN2', 'PPP2R1A', 'EPHA7', 'ATM', 'EPHA3', 'POT1', 'SMAD3', 'MOB3B', 'TBX3', 'POLE', 'ATR', 'FANCD2', 'FH', 'BCORL1', 'SOX9', 'IKZF3', 'TSC1', 'TP63', 'MRE11A', 'SDHC', 'BTG1', 'POLD1', 'CIITA', 'SMC3', 'SAMHD1', 'RTEL1', 'ECT2L', 'PIK3R2', 'CRBN', 'FANCC', 'NBN', 'FANCA', 'HLA-B', 'RECQL4', 'DUSP4', 'ERCC2', 'FBXW7', 'TGFBR2', 'TGFBR1', 'MSH3', 'RBM15', 'TET1', 'TET3', 'SESN3', 'MGA', 'LTB', 'FOXL2', 'SH2B3', 'BCOR', 'HIST1H1D', 'ATRX', 'EP300', 'RAD51C', 'RAD51B', 'HIST1H1B', 'TNFAIP3', 'DICER1', 'ARID5B', 'LATS2', 'FOXO1', 'KEAP1', 'EZH2', 'SP140', 'NKX3-1', 'PBRM1', 'PALB2', 'CIC', 'BRCA1', 'DTX1', 'FLCN', 'SPEN', 'CD58', 'ERCC3', 'ERCC4', 'MSH6', 'BCL11B', 'BMPR1A', 'ERF', 'BRCA2', 'NOTCH2', 'EED', 'MITF', 'ELF3', 'SMARCA4', 'BBC3', 'ANKRD11', 'CEBPA', 'BCL2L11', 'AXIN2', 'AXIN1', 'CDK12', 'ESCO2', 'MLH1', 'SDHB', 'MED12', 'HNF1A', 'RYBP', 'ATP6V1B2', 'DNMT3B', 'KMT2B', 'KMT2A', 'DNMT3A', 'NFKBIA', 'TRAF5', 'KMT2D', 'SPOP', 'RBM10', 'P2RY8', 'TP53BP1', 'TSC2', 'KDM6A', 'EPCAM', 'PHOX2B', 'NPM1', 'BCL10', 'LATS1', 'HOXB13', 'ARID3A', 'PTPRT', 'PTPRS', 'INPPL1', 'NOTCH4', 'TET2', 'NOTCH1', 'CASP8', 'NOTCH3', 'GRIN2A', 'MAP2K4', 'WT1', 'BACH2', 'SDHA', 'BAP1', 'PTCH1', 'SDHD'])\n",
    "oncogenes = impactGenes - tsgs"
   ]
  },
  {
   "cell_type": "code",
   "execution_count": null,
   "metadata": {},
   "outputs": [],
   "source": [
    "clonalThresh = .8\n",
    "allExomeHypermutantMaf['isClonal'] = allExomeHypermutantMaf['ccf_Mcopies_lower'].apply(lambda x: True if x > clonalThresh else False)"
   ]
  },
  {
   "cell_type": "code",
   "execution_count": null,
   "metadata": {},
   "outputs": [],
   "source": [
    "#allExomeHypermutantMafFlat = allExomeHypermutantMaf[allExomeHypermutantMaf['Tumor_Sample_Barcode'].isin(flatGenomeHypermutated)]\n",
    "allExomeHypermutantMafFlat['t_var_freq'] = allExomeHypermutantMaf['t_alt_count']/allExomeHypermutantMaf['t_depth']\n",
    "clonalityAnnotatedFlatMaf = clonality_analysis_util.assign_clonality_information_for_hypermutated_cases(allExomeHypermutantMafFlat, flatGenomeHypermutated, set([]))\n"
   ]
  },
  {
   "cell_type": "code",
   "execution_count": null,
   "metadata": {},
   "outputs": [],
   "source": [
    "#TEMP METHOD FOR hypermutated\n",
    "flatGenomeHypermutated = set([tid for tid, count in dict(allExomeHypermutantMaf[allExomeHypermutantMaf['purity'].isnull()]['Tumor_Sample_Barcode'].value_counts()).items() if count > 3000])\n",
    "exomeMafNotFlat = allExomeHypermutantMaf[~allExomeHypermutantMaf['Tumor_Sample_Barcode'].isin(flatGenomeHypermutated)]\n",
    "\n",
    "combinedClonalityAnnotatedMaf = pd.concat([exomeMafNotFlat, clonalityAnnotatedFlatMaf])\n",
    "combinedClonalityAnnotatedMaf = combinedClonalityAnnotatedMaf[combinedClonalityAnnotatedMaf['isClonal'].notnull()]\n"
   ]
  },
  {
   "cell_type": "code",
   "execution_count": null,
   "metadata": {},
   "outputs": [],
   "source": [
    "print 'tsg'\n",
    "summaryDfTsg = compare_mut_rate_by_dataclass(combinedClonalityAnnotatedMaf, tsgs, 'tsg')\n",
    "print 'oncogene'\n",
    "summaryDfOncogene = compare_mut_rate_by_dataclass(combinedClonalityAnnotatedMaf, oncogenes, 'oncogene')\n",
    "print 'essential'\n",
    "summaryDfStrongEssential = compare_mut_rate_by_dataclass(combinedClonalityAnnotatedMaf, essentialGenes, 'strong essential')\n",
    "print 'moderate essential'\n",
    "summaryDfModerateEssential = compare_mut_rate_by_dataclass(combinedClonalityAnnotatedMaf, moderatelyEssentialGenes, 'moderate essential')\n",
    "print 'neutral'\n",
    "summaryDfNeutral = compare_mut_rate_by_dataclass(combinedClonalityAnnotatedMaf, neutralGenes, 'neutral')\n"
   ]
  },
  {
   "cell_type": "code",
   "execution_count": null,
   "metadata": {},
   "outputs": [],
   "source": [
    "combinedDf = pd.concat([summaryDfTsg, summaryDfOncogene, summaryDfStrongEssential, summaryDfModerateEssential, summaryDfNeutral])\n",
    "combinedDf['geneAndStatus'] = combinedDf['geneType'] + '_' + combinedDf['early_allelic_status']\n",
    "combinedDf.to_csv('/Users/friedman/Desktop/WORK/dataForLocalPlotting/mutRateByGeneType.tsv', index=False, sep='\\t')\n"
   ]
  }
 ],
 "metadata": {
  "kernelspec": {
   "display_name": "Python 2",
   "language": "python",
   "name": "python2"
  },
  "language_info": {
   "codemirror_mode": {
    "name": "ipython",
    "version": 2
   },
   "file_extension": ".py",
   "mimetype": "text/x-python",
   "name": "python",
   "nbconvert_exporter": "python",
   "pygments_lexer": "ipython2",
   "version": "2.7.15"
  }
 },
 "nbformat": 4,
 "nbformat_minor": 2
}
