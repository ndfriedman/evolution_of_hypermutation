{
 "cells": [
  {
   "cell_type": "code",
   "execution_count": 1,
   "metadata": {},
   "outputs": [],
   "source": [
    "import sys\n",
    "import argparse\n",
    "import os\n",
    "import pandas as pd\n",
    "import numpy as np\n",
    "import re\n",
    "import scipy.stats as stats\n",
    "from collections import Counter\n",
    "\n",
    "sys.path.append('/Users/friedman/Desktop/hypermutationProjectFinal/scripts/utilityScripts')\n",
    "import configuration_util\n",
    "import mutationSigUtils\n",
    "import maf_analysis_utils\n",
    "import analysis_utils \n",
    "import get_gene_and_cohort_list_utils\n",
    "\n",
    "filePathDict = configuration_util.get_all_files_path_dict()"
   ]
  },
  {
   "cell_type": "code",
   "execution_count": 144,
   "metadata": {},
   "outputs": [],
   "source": [
    "def get_n_consequential_mut_count(mafPath):\n",
    "    \n",
    "    allImpactMuts = pd.read_table(mafPath)\n",
    "    im3Genes = get_gene_and_cohort_list_utils.get_im3_genes()\n",
    "    allImpactMuts341 = allImpactMuts[allImpactMuts['Hugo_Symbol'].isin(im3Genes)]\n",
    "\n",
    "    nmutDict = dict(allImpactMuts341[allImpactMuts341['Variant_Type'] == 'SNP']['Tumor_Sample_Barcode'].value_counts()) #n snps\n",
    "    hotspotDict = dict(allImpactMuts341[allImpactMuts341['is-a-hotspot'] == 'Y']['Tumor_Sample_Barcode'].value_counts())\n",
    "    oncogenicSNPDict = dict(allImpactMuts341[(allImpactMuts341['oncogenic'].notnull()) & (allImpactMuts341['Variant_Type'].isin(['SNP']))]['Tumor_Sample_Barcode'].value_counts())\n",
    "    oncogenicINDELDict = dict(allImpactMuts341[(allImpactMuts341['oncogenic'].notnull()) & ~(allImpactMuts341['Variant_Type'].isin(['SNP']))]['Tumor_Sample_Barcode'].value_counts())\n",
    "    stopGainDictTSG = dict(allImpactMuts341[(allImpactMuts341['Consequence'] == 'stop_gained') & (allImpactMuts341['Hugo_Symbol'].isin(tsgs))]['Tumor_Sample_Barcode'].value_counts())\n",
    "    stopGainDictOncogene = dict(allImpactMuts341[(allImpactMuts341['Consequence'] == 'stop_gained') & (allImpactMuts341['Hugo_Symbol'].isin(oncogenes))]['Tumor_Sample_Barcode'].value_counts())\n",
    "    \n",
    "    #add entries with the value 0 where necessary\n",
    "    for case in set(expectedDf['case']):\n",
    "        if case not in hotspotDict:\n",
    "            hotspotDict[case] = 0\n",
    "        if case not in oncogenicDict:\n",
    "            oncogenicDict[case] = 0\n",
    "        if case not in stopGainDict:\n",
    "            stopGainDict[case] = 0\n",
    "    return nmutDict, hotspotDict, oncogenicSNPDict, oncogenicINDELDict, stopGainDictTSG, stopGainDictOncogene\n",
    "\n",
    "#a function that returns the number of indels expected in a case as conditioned on its TMB, signatures, and msi score?\n",
    "def get_expected_tsg_indels(nSnps, mmrFrac):\n",
    "    INDEL_ONCOGENICITY = .55*.97 #55% of indels land in TSGs, 97% of indel are frame shifting\n",
    "    INDEL_TO_SNP_RATIO_MSI = .3 #ratio of indels to snps in MSI cases\n",
    "    INDEL_TO_SNP_RATIO_NON_MSI = .05 #in non MSI cases the ratio of indels to snps\n",
    "    tsgIndelsExpected = 0\n",
    "    indelsExpectedMMR = mmrFrac*(nSnps * INDEL_TO_SNP_RATIO_MSI)\n",
    "    indelsExpectedNotMMR = indelsExpected = nSnps * INDEL_TO_SNP_RATIO_NON_MSI\n",
    "    indelsExpected = indelsExpectedMMR + indelsExpectedNotMMR\n",
    "    nOncogenicIndelsExpected = indelsExpected * INDEL_ONCOGENICITY\n",
    "    return nOncogenicIndelsExpected\n"
   ]
  },
  {
   "cell_type": "code",
   "execution_count": 4,
   "metadata": {},
   "outputs": [],
   "source": [
    "def summarize_dominant_signatures_of_cases(mutClassificationDir):\n",
    "    d = {}\n",
    "    for f in os.listdir(mutClassificationDir):\n",
    "        cancerType = re.sub('.tsv', '', f)\n",
    "        filePath = os.path.join(mutClassificationDir, f)\n",
    "        df = pd.read_table(filePath)\n",
    "        hypermutatedDf = df[df['hypermutantClassification'] == 'Hypermutated']\n",
    "        domSigDict = dict(zip(hypermutatedDf['Tumor_Sample_Barcode'], hypermutatedDf['dominantSignature']))\n",
    "        for tsb, domSig in domSigDict.items():\n",
    "            d[tsb] = domSig\n",
    "    return d"
   ]
  },
  {
   "cell_type": "code",
   "execution_count": 143,
   "metadata": {},
   "outputs": [
    {
     "data": {
      "text/plain": [
       "330"
      ]
     },
     "execution_count": 143,
     "metadata": {},
     "output_type": "execute_result"
    }
   ],
   "source": [
    "#TODO--run this code on all impact cases\n",
    "expectedDf = pd.read_table(filePathDict['EXPECTED_MUTATION_INFO_BY_GENE'])\n"
   ]
  },
  {
   "cell_type": "code",
   "execution_count": 126,
   "metadata": {},
   "outputs": [],
   "source": [
    "signatureDf = pd.read_table(filePathDict['IMPACT_SIGNATURE_DECOMPOSITIONS'])\n",
    "mmrSigFracDict = dict(zip(signatureDf['Tumor_Sample_Barcode'], signatureDf['mean_MMR']))"
   ]
  },
  {
   "cell_type": "code",
   "execution_count": 156,
   "metadata": {},
   "outputs": [],
   "source": [
    "cancerTypeDict = get_gene_and_cohort_list_utils.get_impact_cancer_type_info(filePathDict['CANCER_TYPE_INFO'])\n",
    "domSigDict = get_gene_and_cohort_list_utils.get_hypermutator_signature_cohorts(impactSigsPath = filePathDict['IMPACT_SIGNATURE_DECOMPOSITIONS'])\n",
    "msiCases = impactMsiCases = get_gene_and_cohort_list_utils.get_msi_cases(msiInfoFilePath = filePathDict['CASE_TMB_AND_MSI_STATS'], msiScoreThresh=10)"
   ]
  },
  {
   "cell_type": "code",
   "execution_count": 146,
   "metadata": {},
   "outputs": [
    {
     "name": "stderr",
     "output_type": "stream",
     "text": [
      "/anaconda2/lib/python2.7/site-packages/ipykernel_launcher.py:3: FutureWarning: read_table is deprecated, use read_csv instead, passing sep='\\t'.\n",
      "  This is separate from the ipykernel package so we can avoid doing imports until\n"
     ]
    },
    {
     "name": "stdout",
     "output_type": "stream",
     "text": [
      "0\n",
      "100\n",
      "200\n",
      "300\n",
      "400\n",
      "500\n",
      "600\n",
      "700\n",
      "800\n",
      "900\n",
      "1000\n",
      "1100\n",
      "1200\n",
      "1300\n",
      "1400\n",
      "1500\n"
     ]
    }
   ],
   "source": [
    "listOfDicts = []\n",
    "cntr = 0\n",
    "nmutDict, hotspotDict, oncogenicSNPDict, oncogenicINDELDict, stopGainDictTSG, stopGainDictOncogene = get_n_consequential_mut_count(filePathDict['IMPACT_BASE_MAF'])\n",
    "for case in set(expectedDf['case']):\n",
    "    \n",
    "    if cntr %100 == 0: print cntr\n",
    "    cntr +=1\n",
    "    \n",
    "    nmutCase = nmutDict[case]\n",
    "    signature = None\n",
    "    if case in impactMsiCases:\n",
    "        signature = 'MSI'\n",
    "    elif case in domSigDict:\n",
    "        signature = domSigDict[case]\n",
    "    \n",
    "    caseExpectation = expectedDf[expectedDf['case'] == case]\n",
    "    hotspotExpectation = nmutCase *sum(caseExpectation['hotspotChance'])\n",
    "    oncogenicSNPExpectation = nmutCase *sum(caseExpectation['oncogenicChance'])\n",
    "    truncatingExpectationTSG = nmutCase * sum(caseExpectation[caseExpectation['gene'].isin(tsgs)]['truncatingChance'])\n",
    "    truncatingExpectationOncogene = nmutCase * sum(caseExpectation[~caseExpectation['gene'].isin(tsgs)]['truncatingChance'])\n",
    "    \n",
    "    mmrFrac = mmrSigFracDict[case] if case in mmrSigFracDict and signature == 'MSI' else 0\n",
    "    oncogenicIndelExpectation = get_expected_tsg_indels(nmutCase, mmrFrac)\n",
    "    oncogenicAllExpectation = oncogenicSNPExpectation + oncogenicIndelExpectation #todo flesh out\n",
    "    \n",
    "    observedHotspots = hotspotDict[case] if case in hotspotDict else 0\n",
    "    observedOncogenicSNP = oncogenicSNPDict[case] if case in oncogenicSNPDict else 0\n",
    "    observedOncogenicINDEL = oncogenicINDELDict[case] if case in oncogenicINDELDict else 0\n",
    "    observedStopGainTSG = stopGainDictTSG[case] if case in stopGainDictTSG else 0\n",
    "    observedStopGainOncogene = stopGainDictOncogene[case] if case in stopGainDictOncogene else 0\n",
    "\n",
    "    listOfDicts.append({'obsHotspot':observedHotspots, 'obsOncogenicSNP': observedOncogenicSNP,\n",
    "                        'obsOncogenicINDEL': observedOncogenicINDEL, 'obsOncogenic': observedOncogenicSNP + observedOncogenicINDEL,\n",
    "                        'obsStopGainTSG': observedStopGainTSG, 'obsStopGainOncogene': observedStopGainOncogene,\n",
    "                        'expectedTruncatingTSG': truncatingExpectationTSG, 'expectedTruncatingOncogene': truncatingExpectationOncogene,\n",
    "                        'expectedHotspot': hotspotExpectation, 'expectedOncogenicSNP': oncogenicSNPExpectation,\n",
    "                        'expectedOncogenicIndel': oncogenicIndelExpectation, 'expectedOncogenicAll': oncogenicAllExpectation,\n",
    "                       'nmut': nmutCase, 'Tumor_Sample_Barcode': case})\n",
    "    \n",
    "df = pd.DataFrame(listOfDicts)\n",
    "    "
   ]
  },
  {
   "cell_type": "code",
   "execution_count": 161,
   "metadata": {},
   "outputs": [],
   "source": [
    "df['dominantSignature'] = df['Tumor_Sample_Barcode'].apply(lambda x: domSigDict[x] if x in domSigDict else None)\n",
    "df['cancerType'] = df['Tumor_Sample_Barcode'].apply(lambda x: cancerTypeDict[x] if x in cancerTypeDict else None)\n",
    "\n",
    "#reduce stuff to other\n",
    "domSigsDict = {'mean_1': 'MMR', 'mean_10': 'POLE', 'mean_11': 'TMZ',\n",
    "             'mean_14': 'POLE', 'mean_7': 'UV', 'mean_MMR': 'MMR',\n",
    "              'mean_SMOKING': 'SMOKING', 'mean_APOBEC': 'APOBEC'}\n",
    "df['dominantSignature'] = df['dominantSignature'].apply(lambda x: domSigsDict[x] if x in domSigsDict\n",
    "                                                      else 'Other')\n",
    "df['isMsi'] = df['Tumor_Sample_Barcode'].apply(lambda x: True if x in msiCases else False)\n"
   ]
  },
  {
   "cell_type": "code",
   "execution_count": 148,
   "metadata": {},
   "outputs": [
    {
     "name": "stderr",
     "output_type": "stream",
     "text": [
      "/anaconda2/lib/python2.7/site-packages/ipykernel_launcher.py:1: FutureWarning: read_table is deprecated, use read_csv instead, passing sep='\\t'.\n",
      "  \"\"\"Entry point for launching an IPython kernel.\n"
     ]
    }
   ],
   "source": [
    "msiScoreDf = pd.read_table('/Users/friedman/Desktop/hypermutationProjectFinal/files/infoFiles/mutations_TMB_and_MSI_stats.txt')\n",
    "msiScoreDict = dict(zip(msiScoreDf['Tumor_Sample_Barcode'], msiScoreDf['MSI_SCORE']))\n",
    "df['msiScore'] = df['Tumor_Sample_Barcode'].apply(lambda x: msiScoreDict[x] if x in msiScoreDict else None)\n",
    "df['mmrFrac'] = df['Tumor_Sample_Barcode'].apply(lambda x: mmrSigFracDict[x] if x in mmrSigFracDict else None)"
   ]
  },
  {
   "cell_type": "code",
   "execution_count": 149,
   "metadata": {},
   "outputs": [],
   "source": [
    "cancerTypesToFocusOn = set(['Non-Small Cell Lung Cancer', 'Colorectal Cancer', 'Prostate Cancer',\n",
    "                           'Glioma', 'Endometrial Cancer', 'Esophagogastric Cancer'])\n",
    "df['cancerTypeAdj'] = df['cancerType'].apply(lambda x: x if x in cancerTypesToFocusOn else 'Other')"
   ]
  },
  {
   "cell_type": "code",
   "execution_count": 162,
   "metadata": {},
   "outputs": [],
   "source": [
    "#writeDir = os.path.join(os.getcwd(), 'FIGURE1_PLOTTING_FILES')\n",
    "#df.to_csv(os.path.join(writeDir, 'figure1e_observedVsExpected.tsv'), index=False, sep='\\t')\n",
    "df.to_csv('/Users/friedman/Desktop/WORK/dataForLocalPlotting/figure1d.tsv', index=False, sep='\\t')"
   ]
  },
  {
   "cell_type": "code",
   "execution_count": null,
   "metadata": {},
   "outputs": [],
   "source": [
    "df[['obsOncogenic', 'obsOncogenicSNP']]\n",
    "\n",
    "\n",
    "#df[(df['obsOncogenic'] < df['expectedOncogenicAll']) & (df['nmut'] > 100)][['Tumor_Sample_Barcode', 'obsOncogenic', 'expectedOncogenicAll',\n",
    "#                               'expectedOncogenicIndel', 'dominantSignature', 'nmut', 'isMsi', 'msiScore', 'mmrFrac']]"
   ]
  },
  {
   "cell_type": "code",
   "execution_count": 8,
   "metadata": {},
   "outputs": [
    {
     "data": {
      "text/plain": [
       "Counter({'mmr_RECAPTURE': 132262,\n",
       "         'mmr_TCGA': 955420,\n",
       "         'pole_RECAPTURE': 3192,\n",
       "         'pole_TCGA': 213287})"
      ]
     },
     "execution_count": 8,
     "metadata": {},
     "output_type": "execute_result"
    }
   ],
   "source": [
    "#\n",
    "####\n",
    "##########\n",
    "\n",
    "#MSI indel rate modeling"
   ]
  },
  {
   "cell_type": "code",
   "execution_count": 24,
   "metadata": {},
   "outputs": [
    {
     "name": "stderr",
     "output_type": "stream",
     "text": [
      "/Users/friedman/Desktop/hypermutationProjectFinal/scripts/utilityScripts/get_gene_and_cohort_list_utils.py:172: FutureWarning: read_table is deprecated, use read_csv instead, passing sep='\\t'.\n",
      "  msiInfoDf = pd.read_table(msiInfoFilePath)\n"
     ]
    }
   ],
   "source": [
    "#get msi cases\n",
    "tcgaMsiCases = get_gene_and_cohort_list_utils.get_tcga_msi_cases(tcgaMsiScoresPath = filePathDict['TCGA_MSI_SCORES'], msiScoreThresh=10)\n",
    "impactMsiCases = get_gene_and_cohort_list_utils.get_msi_cases(msiInfoFilePath = filePathDict['CASE_TMB_AND_MSI_STATS'], msiScoreThresh=10)"
   ]
  },
  {
   "cell_type": "code",
   "execution_count": 37,
   "metadata": {},
   "outputs": [],
   "source": [
    "reload(get_gene_and_cohort_list_utils)\n",
    "idMapping1, idMapping2 = get_gene_and_cohort_list_utils.get_exome_id_mapping()\n",
    "exomeHypermutatorMaf['DMP_ID'] = exomeHypermutatorMaf['Tumor_Sample_Barcode'].apply(lambda x: idMapping1[x] if x in idMapping1 else None)\n",
    "\n",
    "msiMaf = exomeHypermutatorMaf[(exomeHypermutatorMaf['DMP_ID'].isin(impactMsiCases)) | (exomeHypermutatorMaf['Tumor_Sample_Barcode'].isin(tcgaMsiCases))]"
   ]
  },
  {
   "cell_type": "code",
   "execution_count": 48,
   "metadata": {},
   "outputs": [],
   "source": [
    "#essentialGenes = get_gene_and_cohort_list_utils.get_essential_genes(depMapPath = filePathDict['DEP_MAP_DATA'], mode='getEssentialGenes')\n",
    "oncogenes = get_gene_and_cohort_list_utils.get_oncogenes()\n",
    "tsgs = get_gene_and_cohort_list_utils.get_tsgs()\n",
    "listOfDicts = []\n",
    "for case in set(msiMaf['Tumor_Sample_Barcode']):\n",
    "    caseMaf = msiMaf[(msiMaf['Tumor_Sample_Barcode'] == case) & (~msiMaf['Hugo_Symbol'].isin(essentialGenes | tsgs | oncogenes))]\n",
    "    snpTmb = caseMaf[caseMaf['Variant_Type'] == 'SNP'].shape[0]\n",
    "    indelTmb = caseMaf[caseMaf['Variant_Type'].isin(['DEL', 'INS'])].shape[0]\n",
    "    listOfDicts.append({'Tumor_Sample_Barcode': case, 'SNP_TMB': snpTmb, 'INDEL_TMB': indelTmb})\n",
    "df = pd.DataFrame(listOfDicts)"
   ]
  },
  {
   "cell_type": "code",
   "execution_count": 49,
   "metadata": {},
   "outputs": [],
   "source": [
    "df.to_csv('/Users/friedman/Desktop/test.tsv',index=False, sep='\\t')"
   ]
  },
  {
   "cell_type": "code",
   "execution_count": 60,
   "metadata": {},
   "outputs": [],
   "source": [
    "notMsiMaf = exomeHypermutatorMaf[~((exomeHypermutatorMaf['DMP_ID'].isin(impactMsiCases)) | (exomeHypermutatorMaf['Tumor_Sample_Barcode'].isin(tcgaMsiCases)))]"
   ]
  },
  {
   "cell_type": "code",
   "execution_count": 129,
   "metadata": {},
   "outputs": [
    {
     "data": {
      "text/plain": [
       "Counter({'DEL': 13727, 'DNP': 98, 'INS': 3093, 'SNP': 56825, 'TNP': 1})"
      ]
     },
     "execution_count": 129,
     "metadata": {},
     "output_type": "execute_result"
    }
   ],
   "source": [
    "Counter(msiMaf['Variant_Type'])"
   ]
  }
 ],
 "metadata": {
  "kernelspec": {
   "display_name": "Python 2",
   "language": "python",
   "name": "python2"
  },
  "language_info": {
   "codemirror_mode": {
    "name": "ipython",
    "version": 2
   },
   "file_extension": ".py",
   "mimetype": "text/x-python",
   "name": "python",
   "nbconvert_exporter": "python",
   "pygments_lexer": "ipython2",
   "version": "2.7.15"
  }
 },
 "nbformat": 4,
 "nbformat_minor": 2
}
