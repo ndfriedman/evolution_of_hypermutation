{
 "cells": [
  {
   "cell_type": "code",
   "execution_count": 1,
   "metadata": {},
   "outputs": [],
   "source": [
    "#written by Noah Friedman (a template for scripts to be excuted in the spyder environment\n",
    "import sys\n",
    "import argparse\n",
    "import os\n",
    "import pandas as pd\n",
    "import numpy as np\n",
    "import math\n",
    "import re\n",
    "import sys\n",
    "from collections import Counter\n",
    "from statsmodels.stats.proportion import proportions_ztest\n",
    "from statsmodels.stats.multitest import fdrcorrection\n",
    "\n",
    "sys.path.append('/Users/friedman/Desktop/hypermutationProjectFinal/scripts/utilityScripts')\n",
    "import configuration_util\n",
    "filePathDict = configuration_util.get_all_files_path_dict()\n",
    "import analysis_utils \n",
    "import mutationSigUtils \n",
    "import maf_analysis_utils\n",
    "import clonality_analysis_util\n",
    "import get_gene_and_cohort_list_utils"
   ]
  },
  {
   "cell_type": "code",
   "execution_count": 2,
   "metadata": {},
   "outputs": [],
   "source": [
    "def make_comparissons(maf, mode = 'gene', mutationType='msi',\n",
    "        cancerType1 = 'Endometrial Cancer', cancerType2 = 'Colorectal Cancer'):\n",
    "    tsgs = get_gene_and_cohort_list_utils.get_tsgs()\n",
    "    oncogenes = get_gene_and_cohort_list_utils.get_oncogenes()\n",
    "    indelClassifications = ['Frame_Shift_Del', 'Frame_Shift_Ins']  #TODO actually only include MSI indels not just random indels\n",
    "    truncatingClassifications = ['']\n",
    "    \n",
    "    if mutationType == 'msi':\n",
    "        maf = maf[maf['Variant_Classification'].isin(indelClassifications)]\n",
    "        maf = maf[maf['correctedAllele'].notnull()]\n",
    "    elif mutationType == 'pole':\n",
    "        maf = maf[maf['Variant_Classification'].isin(['Nonsense_Mutation'])] \n",
    "    \n",
    "    if mode == 'gene':\n",
    "        maf['allele'] = maf['Hugo_Symbol']\n",
    "    else:\n",
    "        maf['allele'] = maf['Hugo_Symbol'] + '_' + maf['HGVSp_Short']\n",
    "    \n",
    "    c1Maf = maf[maf['cancerType'] == cancerType1]\n",
    "    c2Maf = maf[maf['cancerType'] == cancerType2]\n",
    "    \n",
    "    nC1 = 1.0*len(set(c1Maf['Tumor_Sample_Barcode']))\n",
    "    nC2 = 1.0*len(set(c2Maf['Tumor_Sample_Barcode']))\n",
    "    \n",
    "    listOfDicts = []\n",
    "    for allele in set(maf['allele']):\n",
    "        allele = str(allele)\n",
    "        aMafC1 = c1Maf[c1Maf['allele'] == allele]\n",
    "        aMafC2 = c2Maf[c2Maf['allele'] == allele]\n",
    "        \n",
    "        gene = ''\n",
    "        if mode == 'gene':\n",
    "            gene = allele\n",
    "        else:\n",
    "            gene = allele.split('_')[0]\n",
    "        \n",
    "        \n",
    "            \n",
    "        geneType = 'tsg' if gene in tsgs else 'oncogene' if gene in oncogenes else None\n",
    "        c1Count = len(set(aMafC1['Tumor_Sample_Barcode']))\n",
    "        c2Count = len(set(aMafC2['Tumor_Sample_Barcode']))\n",
    "        listOfDicts.append({'Allele': allele, 'GeneType': geneType, 'Gene': gene,\n",
    "                            'N_C1': c1Count, 'N_C2': c2Count, 'total_C1': nC1, 'total_C2': nC2,\n",
    "                            'c1_cancerType': cancerType1, 'c2_cancerType': cancerType2,\n",
    "                           'perCase_c1': c1Count/nC1, 'perCase_c2': c2Count/nC2})\n",
    "    \n",
    "    df = pd.DataFrame(listOfDicts)    \n",
    "    df['n_NotPresent_c1'] = df['N_C1'].apply(lambda x: nC1 - x)\n",
    "    df['n_NotPresent_c2'] = df['N_C2'].apply(lambda x: nC2 - x)\n",
    "    \n",
    "    #get fisher's test results\n",
    "    df['p_proportions_z_score'] = df.apply(lambda row: proportions_ztest(np.array([row['N_C1'], row['N_C2']]),\n",
    "                                                                         np.array([nC1, nC2]))[1], axis=1)\n",
    "    \n",
    "    df = df[df['p_proportions_z_score'].notnull()] #remove null z scores, otherwise the qVal wont calculate\n",
    "    fdrDict = dict(zip(df['Allele'], fdrcorrection(df['p_proportions_z_score'])[1]))\n",
    "    df['qVal'] = df['Allele'].apply(lambda x: fdrDict[x])\n",
    "    \n",
    "    wntGenes = get_gene_and_cohort_list_utils.get_pathway_genes('WNT')\n",
    "    pi3kGenes = get_gene_and_cohort_list_utils.get_pathway_genes('PI3K') | set(['INPPL1', 'JAK1']) #manually add these guys\n",
    "    df['pathway'] = df['Gene'].apply(lambda x: 'WNT' if x in wntGenes else 'PI3K' if x in pi3kGenes else 'OTHER')\n",
    "    return df\n",
    "    \n",
    "    \n",
    "#returns the name of the gene and left most position spanning the msi indel\n",
    "#uses re stuff\n",
    "def get_left_aligned_allele_name(hgvsNames):\n",
    "    \n",
    "    positions = []\n",
    "    geneName = hgvsNames[0].split('_p.')[0]\n",
    "    for entry in hgvsNames:\n",
    "        if len(entry.split('_p.')) == 2: #ignore weirdly formatted hgvs names\n",
    "            variantNotation = entry.split('_p.')[1]\n",
    "            number = variantNotation[1:]\n",
    "            refAA = variantNotation[0]\n",
    "            position = re.match('\\d*', number).group(0)\n",
    "            positions.append((position, refAA))\n",
    "    \n",
    "    if len(positions) == 0: return None #if all the hgvs names were ill formatted return None\n",
    "    \n",
    "    minEntry = sorted(positions)[0] #this is a sorted list of tuples the first thing is the position second is the reference aa\n",
    "    return geneName + '_p.' + str(minEntry[1]) + str(minEntry[0])\n",
    "\n",
    "#collapses all indels within 1 bp of each other for a start to be at the same location/name for matching\n",
    "def standardize_allele_names(msiLengthInfo, observedMuts):\n",
    "    \n",
    "    neverObservedSites = set([]) #all the names of sites from criags msi file we cant match with the real maf\n",
    "    msiSitesToNameMapping = {} #a dictionary mapping each msi site allele from craigs file to its corrected name\n",
    "    mafMsiSiteToNameMapping = {} #a dictionary mapping each msi site allele from the maf to its corrected name\n",
    "    \n",
    "    cntr = 0.0\n",
    "    for hgvs in set(msiLengthInfo['allele']):\n",
    "        \n",
    "        cntr += 1\n",
    "        #if cntr%500 == 0: print 100*(cntr/len(set(msiLengthInfo['allele']))), 'percent done'\n",
    "        \n",
    "        startPos = msiLengthInfo[msiLengthInfo['allele'] == hgvs]['Start_Position']\n",
    "        \n",
    "        \n",
    "        if startPos.shape[0] == 1:\n",
    "            #we want all names given to indels near (within 1position) of the start position of the MSI site in Craig's file\n",
    "            putativeVariantNames = list(set(observedMuts[(abs(observedMuts['Start_Position'] - int(startPos)) < 2)\n",
    "                                                    & (observedMuts['Variant_Type'].isin(set(['INS', 'DEL'])))]['allele']))\n",
    "            \n",
    "            if len(putativeVariantNames) == 0:\n",
    "                neverObservedSites.add(hgvs) #if it cant be matched in the MAF we add it to never observed sites\n",
    "                #note some of there are likely to be actually matched but missed by my method\n",
    "            else:\n",
    "                trueVariantName = get_left_aligned_allele_name(putativeVariantNames)\n",
    "                \n",
    "                #NOW WE PROPERLY create the mappings\n",
    "                for putativeVariantName in putativeVariantNames:\n",
    "                    mafMsiSiteToNameMapping[putativeVariantName] = trueVariantName\n",
    "                msiSitesToNameMapping[hgvs] = trueVariantName\n",
    "        else:\n",
    "            pass #ignore variants with multiple start position in the msi info file\n",
    "        \n",
    "    return neverObservedSites, msiSitesToNameMapping, mafMsiSiteToNameMapping"
   ]
  },
  {
   "cell_type": "code",
   "execution_count": 3,
   "metadata": {},
   "outputs": [
    {
     "name": "stderr",
     "output_type": "stream",
     "text": [
      "/anaconda2/lib/python2.7/site-packages/ipykernel_launcher.py:1: FutureWarning: read_table is deprecated, use read_csv instead, passing sep='\\t'.\n",
      "  \"\"\"Entry point for launching an IPython kernel.\n",
      "/anaconda2/lib/python2.7/site-packages/IPython/core/interactiveshell.py:2714: DtypeWarning: Columns (4,17,18,40,41,43,44,71,108,124,125,128,129,130,131,132,133,134,135,137) have mixed types. Specify dtype option on import or set low_memory=False.\n",
      "  interactivity=interactivity, compiler=compiler, result=result)\n"
     ]
    }
   ],
   "source": [
    "allImpactMutsMaf = pd.read_table(filePathDict['IMPACT_BASE_MAF'])"
   ]
  },
  {
   "cell_type": "code",
   "execution_count": 4,
   "metadata": {},
   "outputs": [
    {
     "name": "stderr",
     "output_type": "stream",
     "text": [
      "/Users/friedman/Desktop/hypermutationProjectFinal/scripts/utilityScripts/get_gene_and_cohort_list_utils.py:164: FutureWarning: read_table is deprecated, use read_csv instead, passing sep='\\t'.\n",
      "  impactCancerTypeDf = pd.read_table(impactCancerTypeInfoPath)\n",
      "/Users/friedman/Desktop/hypermutationProjectFinal/scripts/utilityScripts/get_gene_and_cohort_list_utils.py:199: FutureWarning: read_table is deprecated, use read_csv instead, passing sep='\\t'.\n",
      "  msiInfoDf = pd.read_table(msiInfoFilePath)\n"
     ]
    }
   ],
   "source": [
    "cancerTypeDict = get_gene_and_cohort_list_utils.get_impact_cancer_type_info(impactCancerTypeInfoPath=filePathDict['CANCER_TYPE_INFO'])\n",
    "allImpactMutsMaf['cancerType'] = allImpactMutsMaf['Tumor_Sample_Barcode'].apply(lambda x: cancerTypeDict[x] if x in cancerTypeDict else None)\n",
    "msiCases = get_gene_and_cohort_list_utils.get_msi_cases(msiInfoFilePath = filePathDict['CASE_TMB_AND_MSI_STATS'], msiScoreThresh=10)\n"
   ]
  },
  {
   "cell_type": "code",
   "execution_count": 5,
   "metadata": {
    "scrolled": true
   },
   "outputs": [
    {
     "name": "stderr",
     "output_type": "stream",
     "text": [
      "/anaconda2/lib/python2.7/site-packages/ipykernel_launcher.py:2: FutureWarning: read_table is deprecated, use read_csv instead, passing sep='\\t'.\n",
      "  \n",
      "/anaconda2/lib/python2.7/site-packages/IPython/core/interactiveshell.py:2714: DtypeWarning: Columns (0,76,97) have mixed types. Specify dtype option on import or set low_memory=False.\n",
      "  interactivity=interactivity, compiler=compiler, result=result)\n",
      "/anaconda2/lib/python2.7/site-packages/ipykernel_launcher.py:4: SettingWithCopyWarning: \n",
      "A value is trying to be set on a copy of a slice from a DataFrame.\n",
      "Try using .loc[row_indexer,col_indexer] = value instead\n",
      "\n",
      "See the caveats in the documentation: http://pandas.pydata.org/pandas-docs/stable/indexing.html#indexing-view-versus-copy\n",
      "  after removing the cwd from sys.path.\n",
      "/anaconda2/lib/python2.7/site-packages/ipykernel_launcher.py:9: SettingWithCopyWarning: \n",
      "A value is trying to be set on a copy of a slice from a DataFrame.\n",
      "Try using .loc[row_indexer,col_indexer] = value instead\n",
      "\n",
      "See the caveats in the documentation: http://pandas.pydata.org/pandas-docs/stable/indexing.html#indexing-view-versus-copy\n",
      "  if __name__ == '__main__':\n"
     ]
    }
   ],
   "source": [
    "#boilerplate code to properly name all MSI alleles\n",
    "msiSummary = pd.read_table(filePathDict['MICROSATELLITE_INFORMATION'])\n",
    "allMsiCasesMaf = allImpactMutsMaf[(allImpactMutsMaf['Tumor_Sample_Barcode'].isin(msiCases))]\n",
    "allMsiCasesMaf['allele'] = allMsiCasesMaf.apply(lambda row: str(row['Hugo_Symbol']) + '_' + str(row['HGVSp_Short']), axis=1)\n",
    "msiSummary['allele'] = msiSummary.apply(lambda row: str(row['Hugo_Symbol']) + '_' + str(row['HGVSp_Short']), axis=1)\n",
    "neverObservedSites, msiSitesToNameMapping, mafMsiSiteToNameMapping =  standardize_allele_names(msiSummary, allMsiCasesMaf)\n",
    "\n",
    "msiSummary['correctedAllele'] = msiSummary['allele'].apply(lambda x: mafMsiSiteToNameMapping[x] if x in mafMsiSiteToNameMapping else None)\n",
    "allMsiCasesMaf['correctedAllele'] = allMsiCasesMaf['allele'].apply(lambda x:\n",
    "                                                                 mafMsiSiteToNameMapping[x] if x in mafMsiSiteToNameMapping else None)\n"
   ]
  },
  {
   "cell_type": "code",
   "execution_count": 6,
   "metadata": {},
   "outputs": [],
   "source": [
    "msiCasesEndometrialColorectalMaf = allMsiCasesMaf[\n",
    "    (allMsiCasesMaf['cancerType'].isin(['Endometrial Cancer', 'Colorectal Cancer'])) & \n",
    "    (allMsiCasesMaf['Tumor_Sample_Barcode'].isin(msiCases))]"
   ]
  },
  {
   "cell_type": "code",
   "execution_count": 7,
   "metadata": {},
   "outputs": [],
   "source": [
    "df = make_comparissons(msiCasesEndometrialColorectalMaf)"
   ]
  },
  {
   "cell_type": "code",
   "execution_count": 12,
   "metadata": {},
   "outputs": [],
   "source": [
    "df.to_csv('/Users/friedman/Desktop/WORK/dataForLocalPlotting/craigStylePlot.tsv', index=False, sep='\\t')"
   ]
  },
  {
   "cell_type": "code",
   "execution_count": 8,
   "metadata": {},
   "outputs": [],
   "source": [
    "#Do all possible comparissons for MSI\n",
    "#SUPPLEMENTAL FIGURE\n",
    "cancerTypes = ['Endometrial Cancer', 'Colorectal Cancer', 'Esophagogastric Cancer', 'Prostate Cancer']\n",
    "listOfDfs = []\n",
    "compsDone = []\n",
    "for c1 in cancerTypes:\n",
    "    for c2 in cancerTypes:\n",
    "        comp = '/'.join(sorted((c1, c2)))\n",
    "        if c1 != c2 and comp not in compsDone:\n",
    "            cancerTypesMaf = allMsiCasesMaf[\n",
    "                allMsiCasesMaf['cancerType'].isin([c1, c2]) & (allMsiCasesMaf['Tumor_Sample_Barcode'].isin(msiCases))]\n",
    "            df = make_comparissons(cancerTypesMaf, mode='gene', cancerType1 = c1, cancerType2 = c2)\n",
    "            df['comp'] = comp            \n",
    "            compsDone.append(comp)\n",
    "            listOfDfs.append(df)\n",
    "combinedDf = pd.concat(listOfDfs)\n",
    "#"
   ]
  },
  {
   "cell_type": "code",
   "execution_count": 43,
   "metadata": {},
   "outputs": [],
   "source": [
    "combinedDf.to_csv('~/Desktop/WORK/dataForLocalPlotting/allComps.tsv', index=False, sep='\\t')"
   ]
  },
  {
   "cell_type": "code",
   "execution_count": null,
   "metadata": {},
   "outputs": [],
   "source": [
    "#\n",
    "###\n",
    "#############\n",
    "########################\n",
    "#############\n",
    "###\n",
    "#\n",
    "\n",
    "#Alternate analyses: other cancer type comparissons, POLE etc"
   ]
  },
  {
   "cell_type": "code",
   "execution_count": 9,
   "metadata": {},
   "outputs": [
    {
     "name": "stderr",
     "output_type": "stream",
     "text": [
      "/Users/friedman/Desktop/hypermutationProjectFinal/scripts/utilityScripts/get_gene_and_cohort_list_utils.py:216: FutureWarning: read_table is deprecated, use read_csv instead, passing sep='\\t'.\n",
      "  sigsDf = pd.read_table(impactSigsPath)\n"
     ]
    }
   ],
   "source": [
    "poleCases = get_gene_and_cohort_list_utils.get_impact_signature_cohort(filePathDict['IMPACT_SIGNATURE_DECOMPOSITIONS'], 'mean_10')"
   ]
  },
  {
   "cell_type": "code",
   "execution_count": 10,
   "metadata": {},
   "outputs": [],
   "source": [
    "poleEndometrialColorectalMaf = allImpactMutsMaf[\n",
    "    (allImpactMutsMaf['cancerType'].isin(['Endometrial Cancer', 'Colorectal Cancer'])) & \n",
    "    (allImpactMutsMaf['Tumor_Sample_Barcode'].isin(poleCases))]"
   ]
  },
  {
   "cell_type": "code",
   "execution_count": 17,
   "metadata": {},
   "outputs": [
    {
     "name": "stderr",
     "output_type": "stream",
     "text": [
      "/anaconda2/lib/python2.7/site-packages/ipykernel_launcher.py:14: SettingWithCopyWarning: \n",
      "A value is trying to be set on a copy of a slice from a DataFrame.\n",
      "Try using .loc[row_indexer,col_indexer] = value instead\n",
      "\n",
      "See the caveats in the documentation: http://pandas.pydata.org/pandas-docs/stable/indexing.html#indexing-view-versus-copy\n",
      "  \n"
     ]
    }
   ],
   "source": [
    "df = make_comparissons(poleEndometrialColorectalMaf, mode = 'gene', mutationType='pole')"
   ]
  },
  {
   "cell_type": "code",
   "execution_count": 24,
   "metadata": {},
   "outputs": [
    {
     "data": {
      "text/plain": [
       "18"
      ]
     },
     "execution_count": 24,
     "metadata": {},
     "output_type": "execute_result"
    }
   ],
   "source": [
    "len(set(poleEndometrialColorectalMaf[poleEndometrialColorectalMaf['cancerType'] == 'Colorectal Cancer']['Tumor_Sample_Barcode']))\n",
    "#df.to_csv('/Users/friedman/Desktop/WORK/dataForLocalPlotting/craigStylePlotPOLE.tsv', index=False, sep='\\t')"
   ]
  },
  {
   "cell_type": "code",
   "execution_count": null,
   "metadata": {},
   "outputs": [],
   "source": [
    "\n",
    "\n",
    "\n",
    "\n",
    "\n",
    "\n",
    "\n",
    "\n",
    "\n",
    "\n",
    "\n",
    "\n",
    "\n",
    "\n",
    "\n",
    "\n",
    "\n",
    "\n",
    "\n",
    "\n",
    "\n",
    "\n",
    "\n",
    "\n",
    "#\n",
    "###\n",
    "#######\n",
    "################\n",
    "#######\n",
    "###\n",
    "#LOOKING @ biallelic inactivation wrt motif of mutation"
   ]
  },
  {
   "cell_type": "code",
   "execution_count": null,
   "metadata": {},
   "outputs": [],
   "source": [
    "#\n",
    "######\n",
    "################\n",
    "####################\n",
    "#########################\n",
    "#########################\n",
    "####################\n",
    "###############\n",
    "######\n",
    "#"
   ]
  },
  {
   "cell_type": "code",
   "execution_count": 176,
   "metadata": {},
   "outputs": [],
   "source": [
    "def summarize_mutation_context_info(maf, \n",
    "            geneCancerTypeDict = {'Colorectal Cancer': [], 'Endometrial Cancer': ['PTEN', 'TP53']}):\n",
    "    listOfDicts = []\n",
    "    for cancerType, geneList in geneCancerTypeDict.items():\n",
    "        cancerTypeMaf = maf[maf['cancerType'] == cancerType]\n",
    "        for gene in geneList:\n",
    "            geneMaf = cancerTypeMaf[cancerTypeMaf['Hugo_Symbol'] == gene]\n",
    "            for case in set(geneMaf['Tumor_Sample_Barcode']):\n",
    "                caseMaf = geneMaf[geneMaf['Tumor_Sample_Barcode'] == case]\n",
    "                print case, cancerType, gene, set(caseMaf['isLoss']), '____________________'\n",
    "                for hgsv in set(caseMaf['HGVSp_Short']):\n",
    "                    print hgsv\n",
    "    return 0\n"
   ]
  },
  {
   "cell_type": "code",
   "execution_count": 153,
   "metadata": {},
   "outputs": [
    {
     "name": "stderr",
     "output_type": "stream",
     "text": [
      "/anaconda2/lib/python2.7/site-packages/IPython/core/interactiveshell.py:2714: DtypeWarning: Columns (1,2,4,6,7,8,10,11,12,13,14,21,22,23,24,25,26,37,38,39,40,41,42,44,45,54,55,58,59,60,61,62,67,68,71,74,76,77,81,82,83,84,85,86,93,95,102,103,109,110,111,112,128,130,135,136,147,148) have mixed types. Specify dtype option on import or set low_memory=False.\n",
      "  interactivity=interactivity, compiler=compiler, result=result)\n"
     ]
    }
   ],
   "source": [
    "clonalityAnnotatedMaf = pd.read_csv(filePathDict['IMPACT_MAF_WITH_ADJUSTED_CLONALITY_ANNOTATION'])"
   ]
  },
  {
   "cell_type": "code",
   "execution_count": 158,
   "metadata": {},
   "outputs": [
    {
     "name": "stderr",
     "output_type": "stream",
     "text": [
      "/anaconda2/lib/python2.7/site-packages/ipykernel_launcher.py:4: SettingWithCopyWarning: \n",
      "A value is trying to be set on a copy of a slice from a DataFrame.\n",
      "Try using .loc[row_indexer,col_indexer] = value instead\n",
      "\n",
      "See the caveats in the documentation: http://pandas.pydata.org/pandas-docs/stable/indexing.html#indexing-view-versus-copy\n",
      "  after removing the cwd from sys.path.\n"
     ]
    }
   ],
   "source": [
    "clonalityAnnotatedMaf['varUuid'] = clonalityAnnotatedMaf.apply(lambda row:\n",
    "    str(row['Tumor_Sample_Barcode']) + '_' + str(row['Hugo_Symbol']) + '_' + str(row['HGVSp_Short']), axis=1)\n",
    "msiCasesEndometrialColorectalMaf['varUuid'] = msiCasesEndometrialColorectalMaf.apply(lambda row:\n",
    "    str(row['Tumor_Sample_Barcode']) + '_' + str(row['Hugo_Symbol']) + '_' + str(row['HGVSp_Short']), axis=1)"
   ]
  },
  {
   "cell_type": "code",
   "execution_count": 160,
   "metadata": {},
   "outputs": [],
   "source": [
    "clonalityAnnotatedMaf['isLoss'] = clonalityAnnotatedMaf['lcn'].apply(lambda x: 'loss' if x == 0 else 'no-loss' if x > 0 else None)\n",
    "isLossDict = dict(zip(clonalityAnnotatedMaf['varUuid'], clonalityAnnotatedMaf['isLoss']))"
   ]
  },
  {
   "cell_type": "code",
   "execution_count": 161,
   "metadata": {},
   "outputs": [
    {
     "name": "stderr",
     "output_type": "stream",
     "text": [
      "/anaconda2/lib/python2.7/site-packages/ipykernel_launcher.py:3: SettingWithCopyWarning: \n",
      "A value is trying to be set on a copy of a slice from a DataFrame.\n",
      "Try using .loc[row_indexer,col_indexer] = value instead\n",
      "\n",
      "See the caveats in the documentation: http://pandas.pydata.org/pandas-docs/stable/indexing.html#indexing-view-versus-copy\n",
      "  This is separate from the ipykernel package so we can avoid doing imports until\n"
     ]
    }
   ],
   "source": [
    "msiCasesEndometrialColorectalMaf['mutationType'] = msiCasesEndometrialColorectalMaf.apply(lambda row:\n",
    "    'MSI' if str(row['correctedAllele']) != 'None' else 'other_indel' if row['Variant_Classification'] in indelClassifications else 'other', axis=1)\n",
    "msiCasesEndometrialColorectalMaf['isLoss'] = msiCasesEndometrialColorectalMaf['varUuid'].apply(lambda x: isLossDict[x] if x in isLossDict else None)\n",
    "\n"
   ]
  },
  {
   "cell_type": "code",
   "execution_count": null,
   "metadata": {},
   "outputs": [],
   "source": [
    "summarize_mutation_context_info(msiCasesEndometrialColorectalMaf)"
   ]
  },
  {
   "cell_type": "code",
   "execution_count": 161,
   "metadata": {},
   "outputs": [],
   "source": [
    "#\n",
    "##\n",
    "######\n",
    "################\n",
    "######\n",
    "##\n",
    "#\n",
    "\n",
    "#TODO get a better ratio values \n",
    "\n",
    "def summarize_oncogene_abundance_of_msi_indels(maf, msiSummary, mafMsiSiteToNameMapping):\n",
    "    msiSummary['repeat_times_corrected'] = msiSummary['repeat_times'].apply(lambda x: x if x < 9 else None)\n",
    "    msiSummary['basePairClass'] = msiSummary['Tumor_Seq_Allele2'].apply(lambda x:\n",
    "                                                                   'AT' if x in ['A', 'T']\n",
    "                                                                   else 'CG' if x in ['C', 'G']\n",
    "                                                                   else 'Other')\n",
    "    \n",
    "    oncogenes = get_gene_and_cohort_list_utils.get_oncogenes()\n",
    "    msiSummary = msiSummary[(msiSummary['mutationType'].notnull()) & (msiSummary['repeat_times_corrected'].notnull())]\n",
    "    msiSummary['mutationType'] = msiSummary.apply(lambda row: str(row['basePairClass']) + '_' + str(row['repeat_times_corrected']), axis=1)\n",
    "    \n",
    "    print msiSummary\n",
    "    \n",
    "    #alleleTypeDict = dict(zip(msiSummary.drop_duplicates(subset='correctedAllele')['correctedAllele'], msiSummary['mutationType']))\n",
    "    maf['alleleType'] = maf['correctedAllele'].apply(lambda x: alleleTypeDict[x] if x in alleleTypeDict else None)\n",
    "    \n",
    "    summaryCounts = Counter(msiSummary[msiSummary['Hugo_Symbol'].isin(oncogenes)]['mutationType'])\n",
    "    counts = Counter(maf[(maf['alleleType'].notnull()) & (maf['Hugo_Symbol'].isin(oncogenes))]['alleleType'])\n",
    "    \n",
    "    #print alleleTypeDict\n",
    "    \n",
    "    print '________'\n",
    "    print Counter(maf[(maf['alleleType'] == 'CG_6.0') & (maf['Hugo_Symbol'].isin(oncogenes))]['allele']).most_common(15)\n",
    "    \n",
    "    print maf[maf['Hugo_Symbol'] == 'BRAF'][['HGVSp_Short', 'alleleType']]\n",
    "    \n",
    "    for motif, count in counts.items():\n",
    "        print motif, (1.0*count)/summaryCounts[motif]\n",
    "    \n",
    "    return maf, Counter(maf[(maf['alleleType'].notnull())]['alleleType'])\n",
    "\n",
    "def summarize_msi_allele_freqs(maf, abundanceCounts):\n",
    "    maf = maf[(maf['correctedAllele'].notnull()) & (maf['correctedAllele'].notnull())]\n",
    "    listOfDicts = []\n",
    "    for gene in set(maf['Hugo_Symbol']):\n",
    "        geneMaf = maf[maf['Hugo_Symbol'] == gene]\n",
    "        twoMostCommonVars = Counter(geneMaf['correctedAllele']).most_common(2)\n",
    "        \n",
    "        if len(twoMostCommonVars) > 1:\n",
    "            mostCommonAllele = twoMostCommonVars[0][0]\n",
    "            secondMostCommonAllele = twoMostCommonVars[1][0]\n",
    "\n",
    "            mostCommonMaf = geneMaf[geneMaf['correctedAllele'] == mostCommonAllele]\n",
    "            secondMostCommonMaf = geneMaf[geneMaf['correctedAllele'] == secondMostCommonAllele]\n",
    "            mostCommonMotif = mostCommonMaf['alleleType'].iloc[0]\n",
    "            secondMostCommonMotif = secondMostCommonMaf['alleleType'].iloc[0]\n",
    "\n",
    "            if str(mostCommonMotif) != 'None' and str(secondMostCommonMotif) != 'None':\n",
    "                listOfDicts.append({\n",
    "                    'mostCommonMotif': mostCommonMotif, 'secondMostCommonMotif': secondMostCommonMotif,\n",
    "                    'ratio': abundanceCounts[mostCommonMotif]/abundanceCounts[secondMostCommonMotif],\n",
    "                    'frac': (1.0*mostCommonMaf.shape[0])/geneMaf.shape[0], 'mostCommonN': mostCommonMaf.shape[0]\n",
    "                })\n",
    "    return pd.DataFrame(listOfDicts)\n",
    "\n",
    "#summarize double \n",
    "#msiSummary[msiSummary['Hugo_Symbol'] == 'RNF43'][['Tumor_Seq_Allele2', 'repeat_times', 'HGVSp_Short']]"
   ]
  }
 ],
 "metadata": {
  "kernelspec": {
   "display_name": "Python 2",
   "language": "python",
   "name": "python2"
  },
  "language_info": {
   "codemirror_mode": {
    "name": "ipython",
    "version": 2
   },
   "file_extension": ".py",
   "mimetype": "text/x-python",
   "name": "python",
   "nbconvert_exporter": "python",
   "pygments_lexer": "ipython2",
   "version": "2.7.15"
  }
 },
 "nbformat": 4,
 "nbformat_minor": 2
}
