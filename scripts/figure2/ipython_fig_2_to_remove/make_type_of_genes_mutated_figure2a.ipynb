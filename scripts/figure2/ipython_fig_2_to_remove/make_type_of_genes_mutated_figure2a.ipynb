{
 "cells": [
  {
   "cell_type": "code",
   "execution_count": 1,
   "metadata": {},
   "outputs": [],
   "source": [
    "import sys\n",
    "import argparse\n",
    "import os\n",
    "import pandas as pd\n",
    "import numpy as np\n",
    "import numpy\n",
    "import re\n",
    "from collections import Counter\n",
    "\n",
    "sys.path.append('/Users/friedman/Desktop/hypermutationProjectFinal/scripts/utilityScripts')\n",
    "import analysis_utils \n",
    "import mutationSigUtils \n",
    "import maf_analysis_utils\n",
    "import clonality_analysis_util\n",
    "import get_gene_and_cohort_list_utils\n",
    "import configuration_util\n",
    "filePathDict = configuration_util.get_all_files_path_dict()"
   ]
  },
  {
   "cell_type": "code",
   "execution_count": 30,
   "metadata": {},
   "outputs": [],
   "source": [
    "\"\"\"def summarize_dominant_signatures_of_cases(mutClassificationDir = '/Users/friedman/Desktop/hypermutationStatusIds/'):\n",
    "    d = {}\n",
    "    for f in os.listdir(mutClassificationDir):\n",
    "        cancerType = re.sub('.tsv', '', f)\n",
    "        filePath = os.path.join(mutClassificationDir, f)\n",
    "        df = pd.read_table(filePath)\n",
    "        hypermutatedDf = df[df['hypermutantClassification'] == 'Hypermutated']\n",
    "        domSigDict = dict(zip(hypermutatedDf['Tumor_Sample_Barcode'], hypermutatedDf['dominantSignature']))\n",
    "        for tsb, domSig in domSigDict.items():\n",
    "            d[tsb] = domSig\n",
    "    return d\n",
    "    \"\"\"\n",
    "\n",
    "#makes a dataframe of counts of oncogenic mutations\n",
    "def make_counts_df(maf, dominantSignatureDict):\n",
    "    \n",
    "    def summarize_counts_for_mutation_type(oMaf, mutationType):\n",
    "        \n",
    "        oncogenes = get_gene_and_cohort_list_utils.get_oncogenes()\n",
    "        tsgs = get_gene_and_cohort_list_utils.get_tsgs()\n",
    "        truncatingConsequences = set(['Frame_Shift_Del', 'Frame_Shift_Ins', 'Nonsense_Mutation'])\n",
    "        \n",
    "        sMaf = None\n",
    "        counts = None\n",
    "        if mutationType == 'tsgTrunc':\n",
    "            sMaf = oncogenicMaf[oncogenicMaf['Hugo_Symbol'].isin(tsgs) &\n",
    "                (oncogenicMaf['Variant_Classification'].isin(truncatingConsequences))]\n",
    "        if mutationType == 'oncogene':\n",
    "            sMaf = oncogenicMaf[oncogenicMaf['Hugo_Symbol'].isin(oncogenes)]\n",
    "        if mutationType == 'tsgMissense':\n",
    "            sMaf = oncogenicMaf[oncogenicMaf['Hugo_Symbol'].isin(tsgs) &\n",
    "                                (~oncogenicMaf['Variant_Classification'].isin(truncatingConsequences))]\n",
    "            \n",
    "        counts = Counter(sMaf['Tumor_Sample_Barcode'])\n",
    "        counts = [(case, count) for case, count in counts.items()] + [(case, 0) for\n",
    "            case in set(allIds) - set(sMaf['Tumor_Sample_Barcode'])] \n",
    "        return dict(counts)\n",
    "\n",
    "    \n",
    "    cancerTypeDict = dict(zip(maf['Tumor_Sample_Barcode'], maf['cancerType']))\n",
    "    allIds = set(maf['Tumor_Sample_Barcode'])\n",
    "    oncogenicMaf = maf[maf['oncogenic'].notnull()]\n",
    "    \n",
    "    tsgTruncatingCounts = summarize_counts_for_mutation_type(oncogenicMaf, 'tsgTrunc')\n",
    "    oncogenicCounts = summarize_counts_for_mutation_type(oncogenicMaf, 'oncogene')\n",
    "    tsgMissenseCounts = summarize_counts_for_mutation_type(oncogenicMaf, 'tsgMissense')\n",
    "    listOfDicts = []\n",
    "    for case in allIds:\n",
    "        listOfDicts.append({'Tumor_Sample_Barcode': case, 'TsgTruncating': tsgTruncatingCounts[case],\n",
    "                            'Oncogene': oncogenicCounts[case], 'TsgMissense': tsgMissenseCounts[case],\n",
    "                            'cancerType': cancerTypeDict[case], \n",
    "                            'dominantSignature': dominantSignatureDict[case] if case in dominantSignatureDict else None\n",
    "                           })\n",
    "    return pd.DataFrame(listOfDicts)\n",
    "\n",
    "def sample_normal_maf(normalCounts, hyperCounts, N=25):\n",
    "    \n",
    "    hyperCancerTypeCounter = Counter(hyperCounts['cancerType'])\n",
    "    normalCancerTypeCounter = Counter(normalCounts['cancerType'])\n",
    "    normalCounts['hypermutatedCount'] = normalCounts['cancerType'].apply(lambda x:\n",
    "            1.0*hyperCancerTypeCounter[x]/normalCancerTypeCounter[x]\n",
    "        if x in hyperCancerTypeCounter else 0)\n",
    "    sampledCounts = normalCounts.sample(frac=N, weights='hypermutatedCount', replace=True)\n",
    "    return sampledCounts\n",
    "    "
   ]
  },
  {
   "cell_type": "code",
   "execution_count": 2,
   "metadata": {},
   "outputs": [],
   "source": [
    "filePathDict = configuration_util.get_all_files_path_dict()\n",
    "writeDir = '/Users/friedman/Desktop/hypermutationProjectFinal/scripts/figure1/FIGURE1_PLOTTING_FILES'"
   ]
  },
  {
   "cell_type": "code",
   "execution_count": 12,
   "metadata": {},
   "outputs": [
    {
     "name": "stderr",
     "output_type": "stream",
     "text": [
      "/anaconda2/lib/python2.7/site-packages/ipykernel_launcher.py:1: FutureWarning: read_table is deprecated, use read_csv instead, passing sep='\\t'.\n",
      "  \"\"\"Entry point for launching an IPython kernel.\n",
      "/Users/friedman/Desktop/hypermutationProjectFinal/scripts/utilityScripts/get_gene_and_cohort_list_utils.py:163: FutureWarning: read_table is deprecated, use read_csv instead, passing sep='\\t'.\n",
      "  impactCancerTypeDf = pd.read_table(impactCancerTypeInfoPath)\n"
     ]
    }
   ],
   "source": [
    "allImpactMutsMaf = pd.read_table(filePathDict['IMPACT_BASE_MAF'])\n",
    "dominantSignatureDict = get_gene_and_cohort_list_utils.get_pan_impact_signature_mapping(\n",
    "    filePathDict['IMPACT_SIGNATURE_DECOMPOSITIONS'])\n",
    "allHypermutantIds = get_gene_and_cohort_list_utils.get_all_hypermutant_ids(hypermutantIdDir=filePathDict['HYPERMUTATION_STATUS_IDS'])\n",
    "allNormalIds = get_gene_and_cohort_list_utils.get_all_normal_ids(hypermutantIdDir=filePathDict['HYPERMUTATION_STATUS_IDS'])\n",
    "cancerTypeDict = get_gene_and_cohort_list_utils.get_impact_cancer_type_info(impactCancerTypeInfoPath = filePathDict['CANCER_TYPE_INFO'])\n"
   ]
  },
  {
   "cell_type": "code",
   "execution_count": 13,
   "metadata": {},
   "outputs": [],
   "source": [
    "allImpactMutsMaf['cancerType'] = allImpactMutsMaf['Tumor_Sample_Barcode'].apply(lambda x: cancerTypeDict[x] if x in cancerTypeDict else None)\n",
    "hypermutatedMaf = allImpactMutsMaf[allImpactMutsMaf['Tumor_Sample_Barcode'].isin(allHypermutantIds)]\n",
    "nonHypermutatedMaf = allImpactMutsMaf[allImpactMutsMaf['Tumor_Sample_Barcode'].isin(allNormalIds)]"
   ]
  },
  {
   "cell_type": "code",
   "execution_count": 31,
   "metadata": {},
   "outputs": [],
   "source": [
    "dfCountsNormal = make_counts_df(nonHypermutatedMaf, dominantSignatureDict)\n",
    "dfCountsHypermutated = make_counts_df(hypermutatedMaf, dominantSignatureDict)"
   ]
  },
  {
   "cell_type": "code",
   "execution_count": 15,
   "metadata": {},
   "outputs": [],
   "source": [
    "dfCountsNormalSampled = sample_normal_maf(dfCountsNormal, dfCountsHypermutated)"
   ]
  },
  {
   "cell_type": "code",
   "execution_count": 16,
   "metadata": {},
   "outputs": [
    {
     "name": "stderr",
     "output_type": "stream",
     "text": [
      "/anaconda2/lib/python2.7/site-packages/ipykernel_launcher.py:3: FutureWarning: Sorting because non-concatenation axis is not aligned. A future version\n",
      "of pandas will change to not sort by default.\n",
      "\n",
      "To accept the future behavior, pass 'sort=False'.\n",
      "\n",
      "To retain the current behavior and silence the warning, pass 'sort=True'.\n",
      "\n",
      "  This is separate from the ipykernel package so we can avoid doing imports until\n"
     ]
    }
   ],
   "source": [
    "dfCountsHypermutated['burdenType'] = 'hypermutated'\n",
    "dfCountsNormalSampled['burdenType'] = 'normal'\n",
    "dfCombined = pd.concat([dfCountsHypermutated, dfCountsNormalSampled])"
   ]
  },
  {
   "cell_type": "code",
   "execution_count": 17,
   "metadata": {},
   "outputs": [],
   "source": [
    "meltedDf = pd.melt(dfCombined, id_vars=['Tumor_Sample_Barcode', 'burdenType'], value_vars=['Oncogene', 'TsgMissense', 'TsgTruncating'])\n"
   ]
  },
  {
   "cell_type": "code",
   "execution_count": 18,
   "metadata": {},
   "outputs": [],
   "source": [
    "#ggplot sturggles for some reason so I just create a summary df\n",
    "listOfDicts = []\n",
    "for variable in set(meltedDf['variable']):\n",
    "    hypermutatedData = meltedDf[meltedDf['burdenType'] == 'hypermutated']\n",
    "    nonHypermutatedData = meltedDf[meltedDf['burdenType'] != 'hypermutated']\n",
    "    listOfDicts.append({\n",
    "        'frac': sum(hypermutatedData[hypermutatedData['variable'] == variable]['value'])/1.0*sum(hypermutatedData['value']),\n",
    "        'burdenType': 'hypermutated', 'mutType': variable\n",
    "    })\n",
    "    listOfDicts.append({\n",
    "        'frac': sum(nonHypermutatedData[nonHypermutatedData['variable'] == variable]['value'])/1.0*sum(nonHypermutatedData['value']),\n",
    "        'burdenType': 'non-hypermutated', 'mutType': variable\n",
    "    })\n",
    "summaryDf = pd.DataFrame(listOfDicts)"
   ]
  },
  {
   "cell_type": "code",
   "execution_count": 28,
   "metadata": {},
   "outputs": [],
   "source": [
    "summaryDf.to_csv('/Users/friedman/Desktop/WORK/dataForLocalPlotting/figure2aGeneTypes.tsv', index=False, sep='\\t')"
   ]
  },
  {
   "cell_type": "code",
   "execution_count": 118,
   "metadata": {},
   "outputs": [],
   "source": [
    "#\n",
    "##\n",
    "####\n",
    "#########\n",
    "def attribute_mutations_to_signatures(maf, mutAttributionDf):\n",
    "    dictOfDicts = {}\n",
    "    for case in set(mutAttributionDf['Sample Name']):\n",
    "        dictOfDicts[case] = dict(mutAttributionDf[mutAttributionDf['Sample Name'] == case].iloc[0])\n",
    "    possibleQuadNucs = [firstLetter + change + lastLetter for firstLetter in ['A', 'C', 'T', 'G']\n",
    "    for change in ['CA', 'CG', 'CT', 'TA', 'TG', 'TC'] for lastLetter in ['A', 'C', 'T', 'G']]\n",
    "\n",
    "    print 'attributing mutations'\n",
    "    maf['mutAttribution'] = maf.apply(lambda row: dictOfDicts[row['Tumor_Sample_Barcode']][row['quadNuc']]\n",
    "     if row['quadNuc'] in possibleQuadNucs and row['Tumor_Sample_Barcode'] in dictOfDicts else None, axis=1)\n",
    "    return maf\n",
    "\n",
    "\n",
    "#SUMMARIZE INFO ABOUT MUTATION ATTRIBUTION"
   ]
  },
  {
   "cell_type": "code",
   "execution_count": 134,
   "metadata": {},
   "outputs": [
    {
     "name": "stderr",
     "output_type": "stream",
     "text": [
      "/anaconda2/lib/python2.7/site-packages/ipykernel_launcher.py:9: SettingWithCopyWarning: \n",
      "A value is trying to be set on a copy of a slice from a DataFrame.\n",
      "Try using .loc[row_indexer,col_indexer] = value instead\n",
      "\n",
      "See the caveats in the documentation: http://pandas.pydata.org/pandas-docs/stable/indexing.html#indexing-view-versus-copy\n",
      "  if __name__ == '__main__':\n"
     ]
    }
   ],
   "source": [
    "oncogenes = get_gene_and_cohort_list_utils.get_oncogenes()\n",
    "tsgs = get_gene_and_cohort_list_utils.get_tsgs()\n",
    "truncatingConsequences = set(['Frame_Shift_Del', 'Frame_Shift_Ins', 'Nonsense_Mutation'])  \n",
    "    \n",
    "oncogenicMutAttributionMaf = mutAttributionMaf[mutAttributionMaf['oncogenic'].notnull()]\n",
    "oncogenicMutAttributionMaf['geneType'] = oncogenicMutAttributionMaf.apply(lambda row:\n",
    "        'oncogene' if row['Hugo_Symbol'] in oncogenes\n",
    "        else 'tsgTruncating' if row['Variant_Classification'] in truncatingConsequences\n",
    "        else 'tsgMissense', axis=1)\n",
    "\n",
    "finalDf = oncogenicMutAttributionMaf[['geneType', 'hypermutationInduced']]\n",
    "finalDf.to_csv('/Users/friedman/Desktop/WORK/dataForLocalPlotting/mutAttributionData.tsv', index=False, sep='\\t')"
   ]
  },
  {
   "cell_type": "markdown",
   "metadata": {},
   "source": [
    "## Supplemental Figure: signature specific mutation type breakdown for hypermutated tumors"
   ]
  },
  {
   "cell_type": "code",
   "execution_count": 5,
   "metadata": {},
   "outputs": [
    {
     "name": "stderr",
     "output_type": "stream",
     "text": [
      "/Users/friedman/Desktop/hypermutationProjectFinal/scripts/utilityScripts/get_gene_and_cohort_list_utils.py:170: FutureWarning: read_table is deprecated, use read_csv instead, passing sep='\\t'.\n",
      "  df = pd.read_table(path)\n",
      "/Users/friedman/Desktop/hypermutationProjectFinal/scripts/utilityScripts/get_gene_and_cohort_list_utils.py:150: FutureWarning: read_table is deprecated, use read_csv instead, passing sep='\\t'.\n",
      "  impactSigs = pd.read_table(impactSigsPath)\n"
     ]
    }
   ],
   "source": [
    "hypermutantIds = get_gene_and_cohort_list_utils.get_all_hypermutant_ids(filePathDict['HYPERMUTATION_STATUS_IDS'])\n",
    "signaturesInfo = get_gene_and_cohort_list_utils.get_hypermutator_signature_cohorts(\n",
    "    impactSigsPath=filePathDict['IMPACT_SIGNATURE_DECOMPOSITIONS'])\n"
   ]
  },
  {
   "cell_type": "code",
   "execution_count": 45,
   "metadata": {},
   "outputs": [],
   "source": [
    "meltedDf2 = pd.melt(dfCountsHypermutated, id_vars=['dominantSignature'], value_vars=['Oncogene', 'TsgMissense', 'TsgTruncating'])"
   ]
  },
  {
   "cell_type": "code",
   "execution_count": 59,
   "metadata": {},
   "outputs": [],
   "source": [
    "#todo write this more efficiently\n",
    "meltedDf2['dominantSignatureAdj'] = meltedDf2['dominantSignature'].apply(lambda x:\n",
    "    '_MMR' if x == 'mean_1' or x == 'mean_MMR'\n",
    "    else '_SMOKING' if x == 'mean_SMOKING'\n",
    "    else '_APOBEC' if x == 'APOBEC'\n",
    "    else '_POLE' if x == 'mean_10'\n",
    "    else '_TMZ' if x == 'mean_11'\n",
    "    else '_UV' if x == 'mean_7'\n",
    "    else 'other')\n",
    "\n",
    "meltedDf2['frac'] = meltedDf2.apply(lambda row:\n",
    "    1.0*row['value']/sum(meltedDf2[meltedDf2['dominantSignatureAdj'] == row['dominantSignatureAdj']]['value']), axis=1)\n"
   ]
  },
  {
   "cell_type": "code",
   "execution_count": 60,
   "metadata": {},
   "outputs": [],
   "source": [
    "meltedDf2.to_csv('/Users/friedman/Desktop/WORK/dataForLocalPlotting/fig2aSupplement.tsv', index=False, sep='\\t')"
   ]
  },
  {
   "cell_type": "code",
   "execution_count": null,
   "metadata": {},
   "outputs": [],
   "source": []
  }
 ],
 "metadata": {
  "kernelspec": {
   "display_name": "Python 2",
   "language": "python",
   "name": "python2"
  },
  "language_info": {
   "codemirror_mode": {
    "name": "ipython",
    "version": 2
   },
   "file_extension": ".py",
   "mimetype": "text/x-python",
   "name": "python",
   "nbconvert_exporter": "python",
   "pygments_lexer": "ipython2",
   "version": "2.7.15"
  }
 },
 "nbformat": 4,
 "nbformat_minor": 2
}
