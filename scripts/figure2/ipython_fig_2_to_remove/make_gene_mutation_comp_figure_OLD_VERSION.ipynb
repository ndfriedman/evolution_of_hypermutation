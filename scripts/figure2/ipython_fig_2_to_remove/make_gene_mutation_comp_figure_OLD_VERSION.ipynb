{
 "cells": [
  {
   "cell_type": "code",
   "execution_count": 1,
   "metadata": {},
   "outputs": [],
   "source": [
    "import pandas as pd\n",
    "from collections import Counter\n",
    "import numpy as np\n",
    "from sklearn.datasets import load_iris\n",
    "from sklearn.linear_model import LogisticRegression\n",
    "from sklearn.model_selection import train_test_split\n",
    "from sklearn import svm\n",
    "import itertools\n",
    "import sys\n",
    "\n",
    "sys.path.append('/Users/friedman/Desktop/hypermutationProjectFinal/scripts/utilityScripts')\n",
    "import analysis_utils\n",
    "import mutationSigUtils\n",
    "import maf_analysis_utils\n",
    "import get_gene_and_cohort_list_utils\n",
    "import configuration_util\n",
    "\n",
    "filePathDict = configuration_util.get_all_files_path_dict()"
   ]
  },
  {
   "cell_type": "code",
   "execution_count": 2,
   "metadata": {},
   "outputs": [],
   "source": [
    "def create_gene_mutation_matrix(maf):\n",
    "    impact341Genes = get_gene_and_cohort_list_utils.get_im3_genes()\n",
    "    set(['ABL1', 'AKT1', 'AKT2', 'AKT3', 'ALK', 'ALOX12B', 'APC', 'AR', 'ARAF', 'ARID1A', 'ARID1B', 'ARID2', 'ARID5B', 'ASXL1', 'ASXL2', 'ATM', 'ATR', 'ATRX', 'AURKA', 'AURKB', 'AXIN1', 'AXIN2', 'AXL', 'B2M', 'BAP1', 'BARD1', 'BBC3', 'BCL2', 'BCL2L1', 'BCL2L11', 'BCL6', 'BCOR', 'BLM', 'BMPR1A', 'BRAF', 'BRCA1', 'BRCA2', 'BRD4', 'BRIP1', 'BTK', 'CARD11', 'CASP8', 'CBFB', 'CBL', 'CCND1', 'CCND2', 'CCND3', 'CCNE1', 'CD274', 'CD276', 'CD79B', 'CDC73', 'CDH1', 'CDK12', 'CDK4', 'CDK6', 'CDK8', 'CDKN1A', 'CDKN1B', 'CDKN2A', 'CDKN2B', 'CDKN2C', 'CHEK1', 'CHEK2', 'CIC', 'CREBBP', 'CRKL', 'CRLF2', 'CSF1R', 'CTCF', 'CTLA4', 'CTNNB1', 'CUL3', 'DAXX', 'DCUN1D1', 'DDR2', 'DICER1', 'DIS3', 'DNMT1', 'DNMT3A', 'DNMT3B', 'DOT1L', 'E2F3', 'EED', 'EGFL7', 'EGFR', 'EIF1AX', 'EP300', 'EPCAM', 'EPHA3', 'EPHA5', 'EPHB1', 'ERBB2', 'ERBB3', 'ERBB4', 'ERCC2', 'ERCC3', 'ERCC4', 'ERCC5', 'ERG', 'ESR1', 'ETV1', 'ETV6', 'EZH2', 'FAM123B', 'FAM175A', 'FAM46C', 'FANCA', 'FANCC', 'FAT1', 'FBXW7', 'FGF19', 'FGF3', 'FGF4', 'FGFR1', 'FGFR2', 'FGFR3', 'FGFR4', 'FH', 'FLCN', 'FLT1', 'FLT3', 'FLT4', 'FOXA1', 'FOXL2', 'FOXP1', 'FUBP1', 'GATA1', 'GATA2', 'GATA3', 'GNA11', 'GNAQ', 'GNAS', 'GREM1', 'GRIN2A', 'GSK3B', 'H3F3C', 'HGF', 'HIST1H1C', 'HIST1H2BD', 'HIST1H3B', 'HNF1A', 'HRAS', 'ICOSLG', 'IDH1', 'IDH2', 'IFNGR1', 'IGF1', 'IGF1R', 'IGF2', 'IKBKE', 'IKZF1', 'IL10', 'IL7R', 'INPP4A', 'INPP4B', 'INSR', 'IRF4', 'IRS1', 'IRS2', 'JAK1', 'JAK2', 'JAK3', 'JUN', 'KDM5A', 'KDM5C', 'KDM6A', 'KDR', 'KEAP1', 'KIT', 'KLF4', 'KRAS', 'LATS1', 'LATS2', 'LMO1', 'MAP2K1', 'MAP2K2', 'MAP2K4', 'MAP3K1', 'MAP3K13', 'MAPK1', 'MAX', 'MCL1', 'MDC1', 'MDM2', 'MDM4', 'MED12', 'MEF2B', 'MEN1', 'MET', 'MITF', 'MLH1', 'KMT2A', 'KMT2C', 'KMT2D', 'MPL', 'MRE11A', 'MSH2', 'MSH6', 'MTOR', 'MUTYH', 'MYC', 'MYCL1', 'MYCN', 'MYD88', 'MYOD1', 'NBN', 'NCOR1', 'NF1', 'NF2', 'NFE2L2', 'NKX2-1', 'NKX3-1', 'NOTCH1', 'NOTCH2', 'NOTCH3', 'NOTCH4', 'NPM1', 'NRAS', 'NSD1', 'NTRK1', 'NTRK2', 'NTRK3', 'PAK1', 'PAK7', 'PALB2', 'PARK2', 'PARP1', 'PAX5', 'PBRM1', 'PDCD1', 'PDGFRA', 'PDGFRB', 'PDPK1', 'PHOX2B', 'PIK3C2G', 'PIK3C3', 'PIK3CA', 'PIK3CB', 'PIK3CD', 'PIK3CG', 'PIK3R1', 'PIK3R2', 'PIK3R3', 'PIM1', 'PLK2', 'PMAIP1', 'PMS1', 'PMS2', 'PNRC1', 'POLE', 'PPP2R1A', 'PRDM1', 'PRKAR1A', 'PTCH1', 'PTEN', 'PTPN11', 'PTPRD', 'PTPRS', 'PTPRT', 'RAC1', 'RAD50', 'RAD51', 'RAD51B', 'RAD51C', 'RAD51D', 'RAD52', 'RAD54L', 'RAF1', 'RARA', 'RASA1', 'RB1', 'RBM10', 'RECQL4', 'REL', 'RET', 'RFWD2', 'RHOA', 'RICTOR', 'RIT1', 'RNF43', 'ROS1', 'RPS6KA4', 'RPS6KB2', 'RPTOR', 'RUNX1', 'RYBP', 'SDHA', 'SDHAF2', 'SDHB', 'SDHC', 'SDHD', 'SETD2', 'SF3B1', 'SH2D1A', 'SHQ1', 'SMAD2', 'SMAD3', 'SMAD4', 'SMARCA4', 'SMARCB1', 'SMARCD1', 'SMO', 'SOCS1', 'SOX17', 'SOX2', 'SOX9', 'SPEN', 'SPOP', 'SRC', 'STAG2', 'STK11', 'STK40', 'SUFU', 'SUZ12', 'SYK', 'TBX3', 'TERT', 'TET1', 'TET2', 'TGFBR1', 'TGFBR2', 'TMEM127', 'TMPRSS2', 'TNFAIP3', 'TNFRSF14', 'TOP1', 'TP53', 'TP63', 'TRAF7', 'TSC1', 'TSC2', 'TSHR', 'U2AF1', 'VHL', 'VTCN1', 'WT1', 'XIAP', 'XPO1', 'YAP1', 'YES1'])\n",
    "    listOfDicts = []\n",
    "    for case in set(maf['Tumor_Sample_Barcode']):\n",
    "        caseMaf = maf[maf['Tumor_Sample_Barcode'] == case]\n",
    "        caseGenes = set(caseMaf['Hugo_Symbol'])\n",
    "        cancerType = caseMaf['cancer_type'].iloc[0]\n",
    "        \n",
    "        geneMutDict = dict([(gene, 1) if gene in caseGenes else (gene, 0) for gene in impact341Genes])\n",
    "        geneMutDict['cancerType'] = cancerType\n",
    "        geneMutDict['Tumor_Sample_Barcode'] = case\n",
    "        listOfDicts.append(geneMutDict)\n",
    "    return pd.DataFrame(listOfDicts)"
   ]
  },
  {
   "cell_type": "code",
   "execution_count": 3,
   "metadata": {},
   "outputs": [],
   "source": [
    "def run_n_fold_cross_validation(X, y, n = 100, testSize=1.0/3, mode='SVM'):\n",
    "    scores = []\n",
    "    for i in range(n):\n",
    "        X_train, X_test, y_train, y_test = train_test_split(\n",
    "        X, y, test_size=testSize)\n",
    "        \n",
    "        score = None\n",
    "        if mode == 'SVM':\n",
    "            clf = svm.SVC(kernel='linear', C=1).fit(X_train, y_train)\n",
    "            score = clf.score(X_test, y_test)\n",
    "        elif mode == 'logisticRegression':\n",
    "            clf = LogisticRegression().fit(X_train, y_train)\n",
    "            score = clf.score(X_test, y_test)\n",
    "        else: print 'error improper mode', mode\n",
    "        scores.append(score)\n",
    "    return scores\n",
    "        "
   ]
  },
  {
   "cell_type": "code",
   "execution_count": 399,
   "metadata": {},
   "outputs": [],
   "source": [
    "def fit_and_score_logistic_regression(X, y):\n",
    "    clf = LogisticRegression().fit(X, y)\n",
    "    return [clf.score(X, y)]"
   ]
  },
  {
   "cell_type": "code",
   "execution_count": 4,
   "metadata": {},
   "outputs": [],
   "source": [
    "def analyze_performance_by_removing_genes(maf, nGenesToRemove=50, nFold=100, mode='SVM'):\n",
    "    \n",
    "    #returns X and y for classification from mutMatrix\n",
    "    def get_vals_and_labels(mutMatrix):\n",
    "        X = mutMatrix[[c for c in mutMatrix.columns.values if c not in set(['Tumor_Sample_Barcode', 'cancerType'])]].values\n",
    "        y = mutMatrix['cancerType'].values\n",
    "        return X, y\n",
    "    \n",
    "    def get_ordered_gene_removal_list(maf):\n",
    "        l = []\n",
    "        for cancerType in set(maf['cancer_type']):\n",
    "            cTypeMaf = maf[maf['cancer_type'] == cancerType]\n",
    "            nCases = len(set(cTypeMaf['Tumor_Sample_Barcode']))\n",
    "            valueCountsDict = dict(cTypeMaf['Hugo_Symbol'].value_counts())\n",
    "            for key,value in valueCountsDict.items():\n",
    "                l.append((key, (1.0*value)/nCases))\n",
    "        sortedL = sorted(l, key=lambda x: x[1], reverse=True)\n",
    "        \n",
    "        alreadySeen = []\n",
    "        ordering = []\n",
    "        for gene, val in sortedL:\n",
    "            if gene not in alreadySeen:\n",
    "                ordering.append(gene)\n",
    "                alreadySeen.append(gene)\n",
    "        return ordering\n",
    "            \n",
    "            \n",
    "    print Counter(maf.drop_duplicates(subset=['Tumor_Sample_Barcode'])['cancer_type'])\n",
    "    genesToRemove = get_ordered_gene_removal_list(maf)[:nGenesToRemove]\n",
    "    matrix = create_gene_mutation_matrix(maf)\n",
    "    \n",
    "    i = 0\n",
    "    listOfDicts = []\n",
    "    X,y = get_vals_and_labels(matrix)\n",
    "    \n",
    "    scores = []\n",
    "    scores = run_n_fold_cross_validation(X, y, n = nFold, mode=mode)\n",
    "    listOfDicts.append({'step': i, 'score': np.nanmean(scores), 'removed': 'Begining'})\n",
    "    \n",
    "    for gene in genesToRemove:\n",
    "        if i%10==0:print i,\n",
    "        i += 1\n",
    "        matrix = matrix.drop([gene], axis=1)\n",
    "        X,y= get_vals_and_labels(matrix)\n",
    "        \n",
    "        scores = run_n_fold_cross_validation(X, y, n = nFold, mode=mode)\n",
    "        listOfDicts.append({'step': i, 'score': np.nanmean(scores), 'removed': gene})\n",
    "        \n",
    "    return pd.DataFrame(listOfDicts)\n",
    "\n"
   ]
  },
  {
   "cell_type": "code",
   "execution_count": 16,
   "metadata": {},
   "outputs": [
    {
     "name": "stderr",
     "output_type": "stream",
     "text": [
      "/anaconda2/lib/python2.7/site-packages/ipykernel_launcher.py:1: FutureWarning: read_table is deprecated, use read_csv instead, passing sep='\\t'.\n",
      "  \"\"\"Entry point for launching an IPython kernel.\n"
     ]
    }
   ],
   "source": [
    "allImpactMutsMaf = pd.read_table(filePathDict['IMPACT_BASE_MAF'])\n",
    "unfilteredMaf = pd.read_csv(filePathDict['IMPACT_BASE_MAF_WITH_SYNONYMOUS'])"
   ]
  },
  {
   "cell_type": "code",
   "execution_count": 9,
   "metadata": {},
   "outputs": [],
   "source": [
    "cancerTypes = ['Endometrial Cancer', 'Colorectal Cancer', 'Bladder Cancer', 'Prostate Cancer', 'Esophagogastric Cancer']\n",
    "ids= []\n",
    "for ct in cancerTypes:\n",
    "    ids = ids + list(get_gene_and_cohort_list_utils.get_ids_by_hypermutant_status(hypermutantIdDir=filePathDict['HYPERMUTATION_STATUS_IDS'],\n",
    "                                                                                  cancerType=ct, hypermutantStatus = 'Hypermutated'))\n",
    "\n",
    "mmrIds = get_gene_and_cohort_list_utils.get_msi_cases(msiInfoFilePath = filePathDict['CASE_TMB_AND_MSI_STATS'], msiScoreThresh=10)\n",
    "caseIds = set(mmrIds) & set(ids)\n"
   ]
  },
  {
   "cell_type": "code",
   "execution_count": null,
   "metadata": {
    "scrolled": false
   },
   "outputs": [],
   "source": [
    "hypermutantFiltered = allImpactMutsMaf[allImpactMutsMaf['Tumor_Sample_Barcode'].isin(caseIds)]\n",
    "silentMutsDf = unfilteredMaf[unfilteredMaf['Variant_Classification'] == 'Silent']\n",
    "hypermutantSilent = silentMutsDf[silentMutsDf['Tumor_Sample_Barcode'].isin(caseIds)]\n",
    "\n",
    "cancerTypeDict = get_gene_and_cohort_list_utils.get_impact_cancer_type_info(impactCancerTypeInfoPath = filePathDict['CANCER_TYPE_INFO'])\n",
    "hypermutantFiltered['cancer_type'] = hypermutantFiltered['Tumor_Sample_Barcode'].apply(lambda x: cancerTypeDict[x] if x in cTypeDict else None)\n",
    "hypermutantSilent['cancer_type'] = hypermutantSilent['Tumor_Sample_Barcode'].apply(lambda x: cancerTypeDict[x] if x in cTypeDict else None)\n"
   ]
  },
  {
   "cell_type": "code",
   "execution_count": 377,
   "metadata": {},
   "outputs": [],
   "source": [
    "hypermutantSilent = hypermutantSilent[hypermutantSilent['cancer_type'].isin(cancerTypes)]\n",
    "hypermutantFiltered = hypermutantFiltered[hypermutantFiltered['cancer_type'].isin(cancerTypes)]\n",
    "\n",
    "#ALERT I switched MLL genes to not MLL genes\n",
    "impact341Genes = get_gene_and_cohort_list_utils.get_im3_genes()\n",
    "hypermutantSilent = hypermutantSilent[hypermutantSilent['Hugo_Symbol'].isin(impact341Genes)]\n",
    "hypermutantFiltered = hypermutantFiltered[hypermutantFiltered['Hugo_Symbol'].isin(impact341Genes)]"
   ]
  },
  {
   "cell_type": "code",
   "execution_count": 407,
   "metadata": {},
   "outputs": [
    {
     "name": "stdout",
     "output_type": "stream",
     "text": [
      "analyzing the  0 th out of  1 : ['Colorectal Cancer', 'Endometrial Cancer', 'Esophagogastric Cancer', 'Prostate Cancer']\n",
      "Counter({'Colorectal Cancer': 231, 'Endometrial Cancer': 181, 'Prostate Cancer': 47, 'Esophagogastric Cancer': 32})\n",
      "0 10 20 30 40 50 60 70 80 90 100 110 120 130 140 150 160 170 180 190 ********************\n",
      "\n",
      "Counter({'Colorectal Cancer': 231, 'Endometrial Cancer': 181, 'Prostate Cancer': 47, 'Esophagogastric Cancer': 32})\n",
      "0 10 20 30 40 50 60 70 80 90 100 110 120 130 140 150 160 170 180 190 ********************\n",
      "\n",
      "Counter({'Colorectal Cancer': 229, 'Endometrial Cancer': 178, 'Prostate Cancer': 47, 'Esophagogastric Cancer': 32})\n",
      "0 10 20 30 40 50 60 70 80 90 100 110 120 130 140 150 160 170 180 190 _________________________________\n",
      "\n"
     ]
    }
   ],
   "source": [
    "#change m to equal 'logisticRegression if desired'\n",
    "m = 'logisticRegression'\n",
    "\n",
    "#BIG code block to run everything \n",
    "notOncogenicMafOnly = hypermutantFiltered[hypermutantFiltered['oncogenic'].isnull()]\n",
    "oncogenicMafOnly = hypermutantFiltered[hypermutantFiltered['oncogenic'].notnull()]\n",
    "\n",
    "#iterate over all pairwise comparissons and all types at once\n",
    "allCancerTypes = ['Colorectal Cancer', 'Endometrial Cancer', 'Esophagogastric Cancer', 'Prostate Cancer']\n",
    "#combos = list(itertools.combinations(allCancerTypes, 2))\n",
    "#combos.append(allCancerTypes)\n",
    "\n",
    "nRemove = 200\n",
    "combos = [allCancerTypes]\n",
    "listOfDfs = []\n",
    "\n",
    "cntr = 0\n",
    "for cts in combos:\n",
    "    print 'analyzing the ', cntr, 'th out of ', len(combos), ':', cts\n",
    "    ctSet = set(cts)\n",
    "    focusMafOnc = oncogenicMafOnly[oncogenicMafOnly['cancer_type'].isin(ctSet)]\n",
    "    focusMafNotOnc = notOncogenicMafOnly[notOncogenicMafOnly['cancer_type'].isin(ctSet)]\n",
    "    focusMafSilent = hypermutantSilent[hypermutantSilent['cancer_type'].isin(ctSet)]\n",
    "    \n",
    "    dfOnc = analyze_performance_by_removing_genes(focusMafOnc, mode=m, nGenesToRemove=nRemove, nFold=50)\n",
    "    dfOnc['cType'] = '|'.join(cts)\n",
    "    dfOnc['mutType'] = 'onc'\n",
    "    listOfDfs.append(dfOnc)\n",
    "    \n",
    "    print '********************\\n'\n",
    "    \n",
    "    dfNotOnc = analyze_performance_by_removing_genes(focusMafNotOnc, mode=m, nGenesToRemove=nRemove, nFold=50)\n",
    "    dfNotOnc['cType'] = '|'.join(cts)\n",
    "    dfNotOnc['mutType'] = 'not-onc'\n",
    "    listOfDfs.append(dfNotOnc)\n",
    "    \n",
    "    print '********************\\n'\n",
    "    \n",
    "    dfSilent = analyze_performance_by_removing_genes(focusMafSilent, mode=m, nGenesToRemove=nRemove, nFold=50)\n",
    "    dfSilent['cType'] = '|'.join(cts)\n",
    "    dfSilent['mutType'] = 'silent'\n",
    "    listOfDfs.append(dfSilent)\n",
    "    \n",
    "    print '_________________________________\\n'\n",
    "    cntr += 1\n",
    "    \n",
    "df = pd.concat(listOfDfs)\n",
    "    "
   ]
  },
  {
   "cell_type": "code",
   "execution_count": 408,
   "metadata": {},
   "outputs": [],
   "source": [
    "df['mutAndComp'] = df['mutType'] + '_' + df['cType']\n",
    "df['mutType'] = df['mutType'].apply(lambda x: 'Oncogenic' if x == 'onc' else 'VUS' if x == 'not-onc' else x)"
   ]
  },
  {
   "cell_type": "code",
   "execution_count": 409,
   "metadata": {},
   "outputs": [],
   "source": [
    "df.to_csv('/Users/friedman/Desktop/WORK/dataForLocalPlotting/geneDifferencesAnalysis_lr.tsv', index=False, sep='\\t')"
   ]
  }
 ],
 "metadata": {
  "kernelspec": {
   "display_name": "Python 2",
   "language": "python",
   "name": "python2"
  },
  "language_info": {
   "codemirror_mode": {
    "name": "ipython",
    "version": 2
   },
   "file_extension": ".py",
   "mimetype": "text/x-python",
   "name": "python",
   "nbconvert_exporter": "python",
   "pygments_lexer": "ipython2",
   "version": "2.7.15"
  }
 },
 "nbformat": 4,
 "nbformat_minor": 2
}
