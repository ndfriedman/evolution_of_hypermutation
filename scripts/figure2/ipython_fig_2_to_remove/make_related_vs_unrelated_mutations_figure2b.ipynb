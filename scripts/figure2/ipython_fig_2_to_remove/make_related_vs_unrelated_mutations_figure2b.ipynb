{
 "cells": [
  {
   "cell_type": "code",
   "execution_count": 1,
   "metadata": {},
   "outputs": [],
   "source": [
    "import sys\n",
    "import argparse\n",
    "import os\n",
    "import pandas as pd\n",
    "import numpy as np\n",
    "import re\n",
    "import math\n",
    "from collections import Counter\n",
    "\n",
    "sys.path.append('/Users/friedman/Desktop/hypermutationProjectFinal/scripts/utilityScripts')\n",
    "import configuration_util\n",
    "\n",
    "filePathDict = configuration_util.get_all_files_path_dict()\n",
    "import analysis_utils\n",
    "import get_gene_and_cohort_list_utils"
   ]
  },
  {
   "cell_type": "markdown",
   "metadata": {},
   "source": [
    "## FIGURE 2B: RELATED VS UNRELATED"
   ]
  },
  {
   "cell_type": "code",
   "execution_count": 14,
   "metadata": {},
   "outputs": [
    {
     "name": "stderr",
     "output_type": "stream",
     "text": [
      "/anaconda2/lib/python2.7/site-packages/ipykernel_launcher.py:45: FutureWarning: read_table is deprecated, use read_csv instead, passing sep='\\t'.\n",
      "/anaconda2/lib/python2.7/site-packages/ipykernel_launcher.py:4: SettingWithCopyWarning: \n",
      "A value is trying to be set on a copy of a slice from a DataFrame.\n",
      "Try using .loc[row_indexer,col_indexer] = value instead\n",
      "\n",
      "See the caveats in the documentation: http://pandas.pydata.org/pandas-docs/stable/indexing.html#indexing-view-versus-copy\n",
      "  after removing the cwd from sys.path.\n",
      "/Users/friedman/Desktop/hypermutationProjectFinal/scripts/utilityScripts/get_gene_and_cohort_list_utils.py:210: FutureWarning: read_table is deprecated, use read_csv instead, passing sep='\\t'.\n",
      "  df = pd.read_table(tmbFilePath)\n"
     ]
    }
   ],
   "source": [
    "#\n",
    "####\n",
    "############\n",
    "\n",
    "#summarize d driver/d vus by gene type\n",
    "\n",
    "def summarize_related_unrelated_driver_frac(maf, relatedGenesD, tmbDict):\n",
    "    listOfDicts = []\n",
    "    cntr = 0\n",
    "    tsgs = get_gene_and_cohort_list_utils.get_tsgs()\n",
    "    #maf = maf[maf['Hugo_Symbol'].isin(tsgs)]\n",
    "    for case in set(maf['Tumor_Sample_Barcode']):\n",
    "        #cntr += 1\n",
    "        #if cntr %100 == 0: print cntr\n",
    "        \n",
    "        caseMaf = maf[maf['Tumor_Sample_Barcode'] == case]\n",
    "        cancerType = caseMaf['cancerType'].iloc[0]\n",
    "        tmb = tmbDict[case] if case in tmbDict else None #todo get the real TMB\n",
    "        relatedGenes = relatedGenesD[cancerType]\n",
    "        hypermutationStatus = caseMaf['hypermutationStatus'].iloc[0]\n",
    "        \n",
    "        caseMafRelated = caseMaf[caseMaf['Hugo_Symbol'].isin(relatedGenes)]\n",
    "        caseMafUnrelated = caseMaf[~caseMaf['Hugo_Symbol'].isin(relatedGenes)]\n",
    "        relatedDrivers = caseMafRelated[caseMafRelated['oncogenic'].notnull()]\n",
    "        unrelatedDrivers = caseMafUnrelated[caseMafUnrelated['oncogenic'].notnull()]\n",
    "        \n",
    "        nRelatedDrivers = 1.0*relatedDrivers.shape[0]\n",
    "        nUnrelatedDrivers = 1.0*unrelatedDrivers.shape[0]\n",
    "        nTotalRelated = 1.0*caseMafRelated.shape[0]\n",
    "        nTotalUnrelated = 1.0*caseMafUnrelated.shape[0]\n",
    "        \n",
    "        ratioRelated = None if nTotalRelated == 0 else nRelatedDrivers/(nTotalRelated)\n",
    "        ratioUnrelated = None if nTotalUnrelated == 0 else nUnrelatedDrivers/(nTotalUnrelated)\n",
    "        \n",
    "        listOfDicts.append({'Tumor_Sample_Barcode': case, 'cancerType': cancerType,\n",
    "                            'TMB': tmb, 'hypermutationStatus': hypermutationStatus,\n",
    "                            'fracDriverRelated': ratioRelated, 'fracDriverUnrelated': ratioUnrelated})\n",
    "        \n",
    "        #if cntr > 5000:\n",
    "        #    break\n",
    "        \n",
    "    df = pd.DataFrame(listOfDicts)\n",
    "    return df\n"
   ]
  },
  {
   "cell_type": "code",
   "execution_count": 15,
   "metadata": {},
   "outputs": [
    {
     "name": "stderr",
     "output_type": "stream",
     "text": [
      "/anaconda2/lib/python2.7/site-packages/ipykernel_launcher.py:1: FutureWarning: read_table is deprecated, use read_csv instead, passing sep='\\t'.\n",
      "  \"\"\"Entry point for launching an IPython kernel.\n",
      "/anaconda2/lib/python2.7/site-packages/ipykernel_launcher.py:4: SettingWithCopyWarning: \n",
      "A value is trying to be set on a copy of a slice from a DataFrame.\n",
      "Try using .loc[row_indexer,col_indexer] = value instead\n",
      "\n",
      "See the caveats in the documentation: http://pandas.pydata.org/pandas-docs/stable/indexing.html#indexing-view-versus-copy\n",
      "  after removing the cwd from sys.path.\n"
     ]
    }
   ],
   "source": [
    "allImpactMutsMaf = pd.read_table(filePathDict['IMPACT_BASE_MAF'])\n",
    "cancerTypeDict = dict(get_gene_and_cohort_list_utils.get_impact_cancer_type_info(impactCancerTypeInfoPath = filePathDict['CANCER_TYPE_INFO']))\n",
    "allImpactMutsMaf['cancerType'] = allImpactMutsMaf['Tumor_Sample_Barcode'].apply(lambda x: cancerTypeDict[x] if x in cancerTypeDict else None)\n",
    "hypermutantIds = get_gene_and_cohort_list_utils.get_all_hypermutant_ids(hypermutantIdDir=filePathDict['HYPERMUTATION_STATUS_IDS'])\n",
    "normalIds = get_gene_and_cohort_list_utils.get_all_normal_ids(hypermutantIdDir=filePathDict['HYPERMUTATION_STATUS_IDS'])\n",
    "allImpactMutsMaf['hypermutationStatus'] = allImpactMutsMaf['Tumor_Sample_Barcode'].apply(lambda x:\n",
    "    'hypermutated' if x in hypermutantIds else 'normal' if x in normalIds else 'Intermediate')\n",
    "\n",
    "hypermutationMaf = allImpactMutsMaf[allImpactMutsMaf['hypermutationStatus'] == 'hypermutated']\n",
    "relatedGenesDict = get_related_genes_by_cancer_type(allImpactMutsMaf, thresh = 1.0/30.0)\n",
    "tmbDict = get_gene_and_cohort_list_utils.get_all_tmb_info(tmbFilePath = filePathDict['CASE_TMB_AND_MSI_STATS'])\n",
    "df = summarize_related_unrelated_driver_frac(hypermutationMaf, relatedGenesDict, tmbDict)\n",
    "\n",
    "df.to_csv('~/Desktop/WORK/dataForLocalPlotting/relatedUnrelated.tsv', index=False, sep='\\t')\n"
   ]
  },
  {
   "cell_type": "markdown",
   "metadata": {},
   "source": [
    "## OTHER ANALYSES"
   ]
  },
  {
   "cell_type": "code",
   "execution_count": 2,
   "metadata": {},
   "outputs": [],
   "source": [
    "def get_n_consequential_mut_count():\n",
    "    \n",
    "    allImpactMuts = pd.read_table(pathPrefix + '/juno/work/taylorlab/friedman/myAdjustedDataFiles/data_mutations_extended_annotated_sigContext_nov19_2019.maf')\n",
    "    im3Genes = set(['ABL1', 'AKT1', 'AKT2', 'AKT3', 'ALK', 'ALOX12B', 'APC', 'AR', 'ARAF', 'ARID1A', 'ARID1B', 'ARID2', 'ARID5B', 'ASXL1', 'ASXL2', 'ATM', 'ATR', 'ATRX', 'AURKA', 'AURKB', 'AXIN1', 'AXIN2', 'AXL', 'B2M', 'BAP1', 'BARD1', 'BBC3', 'BCL2', 'BCL2L1', 'BCL2L11', 'BCL6', 'BCOR', 'BLM', 'BMPR1A', 'BRAF', 'BRCA1', 'BRCA2', 'BRD4', 'BRIP1', 'BTK', 'CARD11', 'CASP8', 'CBFB', 'CBL', 'CCND1', 'CCND2', 'CCND3', 'CCNE1', 'CD274', 'CD276', 'CD79B', 'CDC73', 'CDH1', 'CDK12', 'CDK4', 'CDK6', 'CDK8', 'CDKN1A', 'CDKN1B', 'CDKN2A', 'CDKN2B', 'CDKN2C', 'CHEK1', 'CHEK2', 'CIC', 'CREBBP', 'CRKL', 'CRLF2', 'CSF1R', 'CTCF', 'CTLA4', 'CTNNB1', 'CUL3', 'DAXX', 'DCUN1D1', 'DDR2', 'DICER1', 'DIS3', 'DNMT1', 'DNMT3A', 'DNMT3B', 'DOT1L', 'E2F3', 'EED', 'EGFL7', 'EGFR', 'EIF1AX', 'EP300', 'EPCAM', 'EPHA3', 'EPHA5', 'EPHB1', 'ERBB2', 'ERBB3', 'ERBB4', 'ERCC2', 'ERCC3', 'ERCC4', 'ERCC5', 'ERG', 'ESR1', 'ETV1', 'ETV6', 'EZH2', 'FAM123B', 'FAM175A', 'FAM46C', 'FANCA', 'FANCC', 'FAT1', 'FBXW7', 'FGF19', 'FGF3', 'FGF4', 'FGFR1', 'FGFR2', 'FGFR3', 'FGFR4', 'FH', 'FLCN', 'FLT1', 'FLT3', 'FLT4', 'FOXA1', 'FOXL2', 'FOXP1', 'FUBP1', 'GATA1', 'GATA2', 'GATA3', 'GNA11', 'GNAQ', 'GNAS', 'GREM1', 'GRIN2A', 'GSK3B', 'H3F3C', 'HGF', 'HIST1H1C', 'HIST1H2BD', 'HIST1H3B', 'HNF1A', 'HRAS', 'ICOSLG', 'IDH1', 'IDH2', 'IFNGR1', 'IGF1', 'IGF1R', 'IGF2', 'IKBKE', 'IKZF1', 'IL10', 'IL7R', 'INPP4A', 'INPP4B', 'INSR', 'IRF4', 'IRS1', 'IRS2', 'JAK1', 'JAK2', 'JAK3', 'JUN', 'KDM5A', 'KDM5C', 'KDM6A', 'KDR', 'KEAP1', 'KIT', 'KLF4', 'KRAS', 'LATS1', 'LATS2', 'LMO1', 'MAP2K1', 'MAP2K2', 'MAP2K4', 'MAP3K1', 'MAP3K13', 'MAPK1', 'MAX', 'MCL1', 'MDC1', 'MDM2', 'MDM4', 'MED12', 'MEF2B', 'MEN1', 'MET', 'MITF', 'MLH1', 'MLL', 'MLL2', 'MLL3', 'MPL', 'MRE11A', 'MSH2', 'MSH6', 'MTOR', 'MUTYH', 'MYC', 'MYCL1', 'MYCN', 'MYD88', 'MYOD1', 'NBN', 'NCOR1', 'NF1', 'NF2', 'NFE2L2', 'NKX2-1', 'NKX3-1', 'NOTCH1', 'NOTCH2', 'NOTCH3', 'NOTCH4', 'NPM1', 'NRAS', 'NSD1', 'NTRK1', 'NTRK2', 'NTRK3', 'PAK1', 'PAK7', 'PALB2', 'PARK2', 'PARP1', 'PAX5', 'PBRM1', 'PDCD1', 'PDGFRA', 'PDGFRB', 'PDPK1', 'PHOX2B', 'PIK3C2G', 'PIK3C3', 'PIK3CA', 'PIK3CB', 'PIK3CD', 'PIK3CG', 'PIK3R1', 'PIK3R2', 'PIK3R3', 'PIM1', 'PLK2', 'PMAIP1', 'PMS1', 'PMS2', 'PNRC1', 'POLE', 'PPP2R1A', 'PRDM1', 'PRKAR1A', 'PTCH1', 'PTEN', 'PTPN11', 'PTPRD', 'PTPRS', 'PTPRT', 'RAC1', 'RAD50', 'RAD51', 'RAD51B', 'RAD51C', 'RAD51D', 'RAD52', 'RAD54L', 'RAF1', 'RARA', 'RASA1', 'RB1', 'RBM10', 'RECQL4', 'REL', 'RET', 'RFWD2', 'RHOA', 'RICTOR', 'RIT1', 'RNF43', 'ROS1', 'RPS6KA4', 'RPS6KB2', 'RPTOR', 'RUNX1', 'RYBP', 'SDHA', 'SDHAF2', 'SDHB', 'SDHC', 'SDHD', 'SETD2', 'SF3B1', 'SH2D1A', 'SHQ1', 'SMAD2', 'SMAD3', 'SMAD4', 'SMARCA4', 'SMARCB1', 'SMARCD1', 'SMO', 'SOCS1', 'SOX17', 'SOX2', 'SOX9', 'SPEN', 'SPOP', 'SRC', 'STAG2', 'STK11', 'STK40', 'SUFU', 'SUZ12', 'SYK', 'TBX3', 'TERT', 'TET1', 'TET2', 'TGFBR1', 'TGFBR2', 'TMEM127', 'TMPRSS2', 'TNFAIP3', 'TNFRSF14', 'TOP1', 'TP53', 'TP63', 'TRAF7', 'TSC1', 'TSC2', 'TSHR', 'U2AF1', 'VHL', 'VTCN1', 'WT1', 'XIAP', 'XPO1', 'YAP1', 'YES1'])\n",
    "    allImpactMuts341 = allImpactMuts[allImpactMuts['Hugo_Symbol'].isin(im3Genes)]\n",
    "\n",
    "    nmutDict = dict(allImpactMuts341['Tumor_Sample_Barcode'].value_counts())\n",
    "    hotspotDict = dict(allImpactMuts341[allImpactMuts341['is-a-hotspot'] == 'Y']['Tumor_Sample_Barcode'].value_counts())\n",
    "    oncogenicDict = dict(allImpactMuts341[allImpactMuts341['oncogenic'].notnull()]['Tumor_Sample_Barcode'].value_counts())\n",
    "    stopGainDict = dict(allImpactMuts341[allImpactMuts341['Consequence'] == 'stop_gained']['Tumor_Sample_Barcode'].value_counts())\n",
    "\n",
    "    #add entries with the value 0 where necessary\n",
    "    for case in set(expectedDf['case']):\n",
    "        if case not in hotspotDict:\n",
    "            hotspotDict[case] = 0\n",
    "        if case not in oncogenicDict:\n",
    "            oncogenicDict[case] = 0\n",
    "        if case not in stopGainDict:\n",
    "            stopGainDict[case] = 0\n",
    "    return hotspotDict, oncogenicDict, stopGainDict"
   ]
  },
  {
   "cell_type": "code",
   "execution_count": 3,
   "metadata": {},
   "outputs": [],
   "source": [
    "def enumerate_related_and_weakly_related_genes(df, mode='dnds', cancerTypes = ['Endometrial Cancer', 'Colorectal Cancer']):\n",
    "    \n",
    "    if mode == 'dnds':\n",
    "        dictOfDicts = {}\n",
    "        for cancerType in cancerTypes:\n",
    "            cancerTypeDf = df[df['cancerType'] == cancerType]\n",
    "            normal = set(cancerTypeDf[cancerTypeDf['qglobal_cv.Normal'] <= .01]['gene_name'])\n",
    "            normalAndHyperStrong = normal | set(cancerTypeDf[cancerTypeDf['qglobal_cv.Hypermutated'] <= .01]['gene_name'])\n",
    "            normalAndHyperStrongAndWeak = normalAndHyperStrong | set(cancerTypeDf[cancerTypeDf['qglobal_cv.Hypermutated'] <= .1]['gene_name'])\n",
    "            dictOfDicts[cancerType] = {'normal': normal, 'normalAndHyperStrong': normalAndHyperStrong, 'normalAndHyperStrongAndWeak': normalAndHyperStrongAndWeak}\n",
    "        \n",
    "        return dictOfDicts\n",
    "        \n",
    "    elif mode == 'counts':\n",
    "        relatedThresh = .1\n",
    "        unrelatedThresh = .01\n",
    "    \n",
    "    else:\n",
    "        print 'error invalid mode specified'\n"
   ]
  },
  {
   "cell_type": "code",
   "execution_count": 4,
   "metadata": {},
   "outputs": [],
   "source": [
    "def get_median_expected_rate(expectedDf, mode='oncogenic'):\n",
    "    cntr = 0\n",
    "    rates = []\n",
    "    col = None\n",
    "    if mode == 'oncogenic':\n",
    "        col = 'oncogenicChance'\n",
    "    for case in set(expectedDf['case']):\n",
    "        cntr += 1\n",
    "        if cntr%25==0:print cntr,\n",
    "        caseExpectation = expectedDf[expectedDf['case'] == case]\n",
    "        rates.append(sum(caseExpectation[col]))\n",
    "    return np.nanmedian(rates)"
   ]
  },
  {
   "cell_type": "code",
   "execution_count": 5,
   "metadata": {},
   "outputs": [],
   "source": [
    "def summarize_obs_vs_expected_divergence_explained_by_gene_classes(expectedDf, mutsDf, geneDicts,\n",
    "                                                                    mode='oncogenic'):\n",
    "    listOfDicts = []\n",
    "    cntr = 0\n",
    "    \n",
    "    im3Genes = set(['ABL1', 'AKT1', 'AKT2', 'AKT3', 'ALK', 'ALOX12B', 'APC', 'AR', 'ARAF', 'ARID1A', 'ARID1B', 'ARID2', 'ARID5B', 'ASXL1', 'ASXL2', 'ATM', 'ATR', 'ATRX', 'AURKA', 'AURKB', 'AXIN1', 'AXIN2', 'AXL', 'B2M', 'BAP1', 'BARD1', 'BBC3', 'BCL2', 'BCL2L1', 'BCL2L11', 'BCL6', 'BCOR', 'BLM', 'BMPR1A', 'BRAF', 'BRCA1', 'BRCA2', 'BRD4', 'BRIP1', 'BTK', 'CARD11', 'CASP8', 'CBFB', 'CBL', 'CCND1', 'CCND2', 'CCND3', 'CCNE1', 'CD274', 'CD276', 'CD79B', 'CDC73', 'CDH1', 'CDK12', 'CDK4', 'CDK6', 'CDK8', 'CDKN1A', 'CDKN1B', 'CDKN2A', 'CDKN2B', 'CDKN2C', 'CHEK1', 'CHEK2', 'CIC', 'CREBBP', 'CRKL', 'CRLF2', 'CSF1R', 'CTCF', 'CTLA4', 'CTNNB1', 'CUL3', 'DAXX', 'DCUN1D1', 'DDR2', 'DICER1', 'DIS3', 'DNMT1', 'DNMT3A', 'DNMT3B', 'DOT1L', 'E2F3', 'EED', 'EGFL7', 'EGFR', 'EIF1AX', 'EP300', 'EPCAM', 'EPHA3', 'EPHA5', 'EPHB1', 'ERBB2', 'ERBB3', 'ERBB4', 'ERCC2', 'ERCC3', 'ERCC4', 'ERCC5', 'ERG', 'ESR1', 'ETV1', 'ETV6', 'EZH2', 'FAM123B', 'FAM175A', 'FAM46C', 'FANCA', 'FANCC', 'FAT1', 'FBXW7', 'FGF19', 'FGF3', 'FGF4', 'FGFR1', 'FGFR2', 'FGFR3', 'FGFR4', 'FH', 'FLCN', 'FLT1', 'FLT3', 'FLT4', 'FOXA1', 'FOXL2', 'FOXP1', 'FUBP1', 'GATA1', 'GATA2', 'GATA3', 'GNA11', 'GNAQ', 'GNAS', 'GREM1', 'GRIN2A', 'GSK3B', 'H3F3C', 'HGF', 'HIST1H1C', 'HIST1H2BD', 'HIST1H3B', 'HNF1A', 'HRAS', 'ICOSLG', 'IDH1', 'IDH2', 'IFNGR1', 'IGF1', 'IGF1R', 'IGF2', 'IKBKE', 'IKZF1', 'IL10', 'IL7R', 'INPP4A', 'INPP4B', 'INSR', 'IRF4', 'IRS1', 'IRS2', 'JAK1', 'JAK2', 'JAK3', 'JUN', 'KDM5A', 'KDM5C', 'KDM6A', 'KDR', 'KEAP1', 'KIT', 'KLF4', 'KRAS', 'LATS1', 'LATS2', 'LMO1', 'MAP2K1', 'MAP2K2', 'MAP2K4', 'MAP3K1', 'MAP3K13', 'MAPK1', 'MAX', 'MCL1', 'MDC1', 'MDM2', 'MDM4', 'MED12', 'MEF2B', 'MEN1', 'MET', 'MITF', 'MLH1', 'MLL', 'MLL2', 'MLL3', 'MPL', 'MRE11A', 'MSH2', 'MSH6', 'MTOR', 'MUTYH', 'MYC', 'MYCL1', 'MYCN', 'MYD88', 'MYOD1', 'NBN', 'NCOR1', 'NF1', 'NF2', 'NFE2L2', 'NKX2-1', 'NKX3-1', 'NOTCH1', 'NOTCH2', 'NOTCH3', 'NOTCH4', 'NPM1', 'NRAS', 'NSD1', 'NTRK1', 'NTRK2', 'NTRK3', 'PAK1', 'PAK7', 'PALB2', 'PARK2', 'PARP1', 'PAX5', 'PBRM1', 'PDCD1', 'PDGFRA', 'PDGFRB', 'PDPK1', 'PHOX2B', 'PIK3C2G', 'PIK3C3', 'PIK3CA', 'PIK3CB', 'PIK3CD', 'PIK3CG', 'PIK3R1', 'PIK3R2', 'PIK3R3', 'PIM1', 'PLK2', 'PMAIP1', 'PMS1', 'PMS2', 'PNRC1', 'POLE', 'PPP2R1A', 'PRDM1', 'PRKAR1A', 'PTCH1', 'PTEN', 'PTPN11', 'PTPRD', 'PTPRS', 'PTPRT', 'RAC1', 'RAD50', 'RAD51', 'RAD51B', 'RAD51C', 'RAD51D', 'RAD52', 'RAD54L', 'RAF1', 'RARA', 'RASA1', 'RB1', 'RBM10', 'RECQL4', 'REL', 'RET', 'RFWD2', 'RHOA', 'RICTOR', 'RIT1', 'RNF43', 'ROS1', 'RPS6KA4', 'RPS6KB2', 'RPTOR', 'RUNX1', 'RYBP', 'SDHA', 'SDHAF2', 'SDHB', 'SDHC', 'SDHD', 'SETD2', 'SF3B1', 'SH2D1A', 'SHQ1', 'SMAD2', 'SMAD3', 'SMAD4', 'SMARCA4', 'SMARCB1', 'SMARCD1', 'SMO', 'SOCS1', 'SOX17', 'SOX2', 'SOX9', 'SPEN', 'SPOP', 'SRC', 'STAG2', 'STK11', 'STK40', 'SUFU', 'SUZ12', 'SYK', 'TBX3', 'TERT', 'TET1', 'TET2', 'TGFBR1', 'TGFBR2', 'TMEM127', 'TMPRSS2', 'TNFAIP3', 'TNFRSF14', 'TOP1', 'TP53', 'TP63', 'TRAF7', 'TSC1', 'TSC2', 'TSHR', 'U2AF1', 'VHL', 'VTCN1', 'WT1', 'XIAP', 'XPO1', 'YAP1', 'YES1'])\n",
    "    mutsDf = mutsDf[mutsDf['Hugo_Symbol'].isin(im3Genes)]\n",
    "    mutsDf = mutsDf[mutsDf['Variant_Type'] == 'SNP']\n",
    "    nmutDict = dict(mutsDf['Tumor_Sample_Barcode'].value_counts())\n",
    "    \n",
    "    medianExp = None\n",
    "    if mode == 'oncogenic':\n",
    "        mutsDf = mutsDf[mutsDf['oncogenic'].notnull()]\n",
    "        #medianExp = get_median_expected_rate(expectedDf)\n",
    "        medianExp = 0.05 #about what it was \n",
    "    \n",
    "    for case in set(mutsDf['Tumor_Sample_Barcode']):\n",
    "    \n",
    "        if cntr %100 == 0: print cntr,\n",
    "        cntr +=1\n",
    "\n",
    "        caseDf = mutsDf[mutsDf['Tumor_Sample_Barcode'] == case]\n",
    "        if caseDf.shape[0] > 0:\n",
    "    \n",
    "            caseExpectation = expectedDf[expectedDf['case'] == case]\n",
    "            #NOTE we need to cancer cancer type to be underscore separated\n",
    "            cancerType = caseDf['cancerType'].iloc[0].split(' ')[0] + '_' + caseDf['cancerType'].iloc[0].split(' ')[1]\n",
    "            nmutObs = caseDf.shape[0]\n",
    "            \n",
    "            #this can be added if needed\n",
    "            #.drop_duplicates(subset=['Hugo_Symbol'])\n",
    "            nmutNormal = caseDf[caseDf['Hugo_Symbol'].isin(geneDicts[cancerType]['normal'])].shape[0]\n",
    "            nmutNormalAndHyperStrong = caseDf[caseDf['Hugo_Symbol'].isin(geneDicts[cancerType]['normalAndHyperStrong'])].shape[0]\n",
    "            nmutNormalAndHyperAll = caseDf[caseDf['Hugo_Symbol'].isin(geneDicts[cancerType]['normalAndHyperStrongAndWeak'])].shape[0]\n",
    "\n",
    "            nmutCase = nmutDict[case]\n",
    "            \n",
    "            oncogenicExpectation = nmutCase * medianExp\n",
    "            if case in set(expectedDf['case']):\n",
    "                hotspotExpectation = nmutCase *sum(caseExpectation['hotspotChance'])\n",
    "                oncogenicExpectation = nmutCase *sum(caseExpectation['oncogenicChance'])\n",
    "            expected = 0\n",
    "            if mode == 'oncogenic':\n",
    "                expected = oncogenicExpectation\n",
    "\n",
    "            listOfDicts.append({'nmut': nmutCase, 'Tumor_Sample_Barcode': case, 'cancerType': cancerType,\n",
    "                               'dif': nmutObs - expected, 'observed': nmutObs, 'expected': expected,\n",
    "                                'nmutNormal': nmutNormal, 'nmutNormalAndHyperStrong': nmutNormalAndHyperStrong,\n",
    "                               'nmutNormalAndHyperAll': nmutNormalAndHyperAll})\n",
    "\n",
    "    df = pd.DataFrame(listOfDicts)\n",
    "    return df\n",
    "    "
   ]
  },
  {
   "cell_type": "code",
   "execution_count": 5,
   "metadata": {},
   "outputs": [
    {
     "name": "stderr",
     "output_type": "stream",
     "text": [
      "/anaconda2/lib/python2.7/site-packages/ipykernel_launcher.py:1: FutureWarning: read_table is deprecated, use read_csv instead, passing sep='\\t'.\n",
      "  \"\"\"Entry point for launching an IPython kernel.\n"
     ]
    }
   ],
   "source": [
    "expectedDf = pd.read_table(filePathDict['EXPECTED_MUTATION_INFO_BY_GENE'])\n"
   ]
  },
  {
   "cell_type": "code",
   "execution_count": 4,
   "metadata": {},
   "outputs": [
    {
     "name": "stderr",
     "output_type": "stream",
     "text": [
      "/anaconda2/lib/python2.7/site-packages/IPython/core/interactiveshell.py:2818: DtypeWarning: Columns (4,17,18,40,41,43,44,71,72,108,124,125,128,129,130,131,132,133,134,135,137,140,141) have mixed types. Specify dtype option on import or set low_memory=False.\n",
      "  if self.run_code(code, result):\n"
     ]
    }
   ],
   "source": [
    "hotspotDict, oncogenicDict, stopGainDict = get_n_consequential_mut_count()"
   ]
  },
  {
   "cell_type": "code",
   "execution_count": 6,
   "metadata": {},
   "outputs": [],
   "source": [
    "dndsDf = pd.read_table(pathPrefix + '/juno/work/taylorlab/friedman/myAdjustedDataFiles/dndsHypermutants.tsv')"
   ]
  },
  {
   "cell_type": "code",
   "execution_count": 5,
   "metadata": {},
   "outputs": [
    {
     "ename": "NameError",
     "evalue": "name 'pathPrefix' is not defined",
     "output_type": "error",
     "traceback": [
      "\u001b[0;31m---------------------------------------------------------------------------\u001b[0m",
      "\u001b[0;31mNameError\u001b[0m                                 Traceback (most recent call last)",
      "\u001b[0;32m<ipython-input-5-5c7646d6e153>\u001b[0m in \u001b[0;36m<module>\u001b[0;34m()\u001b[0m\n\u001b[0;32m----> 1\u001b[0;31m \u001b[0mallImpactMuts\u001b[0m \u001b[0;34m=\u001b[0m \u001b[0mpd\u001b[0m\u001b[0;34m.\u001b[0m\u001b[0mread_table\u001b[0m\u001b[0;34m(\u001b[0m\u001b[0mpathPrefix\u001b[0m \u001b[0;34m+\u001b[0m \u001b[0;34m'/juno/work/taylorlab/friedman/myAdjustedDataFiles/data_mutations_extended_annotated_sigContext_nov19_2019.maf'\u001b[0m\u001b[0;34m)\u001b[0m\u001b[0;34m\u001b[0m\u001b[0m\n\u001b[0m",
      "\u001b[0;31mNameError\u001b[0m: name 'pathPrefix' is not defined"
     ]
    }
   ],
   "source": [
    "allImpactMuts = pd.read_table(pathPrefix + '/juno/work/taylorlab/friedman/myAdjustedDataFiles/data_mutations_extended_annotated_sigContext_nov19_2019.maf')\n"
   ]
  },
  {
   "cell_type": "code",
   "execution_count": 34,
   "metadata": {},
   "outputs": [],
   "source": [
    "cancerTypeDict = get_gene_and_cohort_list_utils.get_impact_cancer_type_info(impactCancerTypeInfoPath = pathPrefix + '/juno/work/taylorlab/friedman/myAdjustedDataFiles/cancerTypeInfo_asOfNov192019.txt')\n",
    "allImpactMuts['cancerType'] = allImpactMuts['Tumor_Sample_Barcode'].apply(lambda x: cancerTypeDict[x] if x in cancerTypeDict else None)\n"
   ]
  },
  {
   "cell_type": "code",
   "execution_count": 58,
   "metadata": {},
   "outputs": [],
   "source": [
    "#cTypes = ['Endometrial_Cancer', 'Colorectal_Cancer', 'Prostate_Cancer', 'Esophagogastric_Cancer', 'Bladder_Cancer']\n",
    "cTypes = ['Endometrial_Cancer', 'Colorectal_Cancer']\n",
    "dictOfDicts = enumerate_related_and_weakly_related_genes(dndsDf, mode='dnds', cancerTypes=cTypes)\n",
    "cTypesIMForm = [i.split('_')[0] + ' ' + i.split('_')[1] for i in cTypes]"
   ]
  },
  {
   "cell_type": "code",
   "execution_count": null,
   "metadata": {},
   "outputs": [],
   "source": [
    "dfDiv = summarize_obs_vs_expected_divergence_explained_by_gene_classes(expectedDf, allImpactMuts[allImpactMuts['cancerType'].isin(cTypesIMForm)],\n",
    "                                                        dictOfDicts, mode='oncogenic')"
   ]
  },
  {
   "cell_type": "code",
   "execution_count": 101,
   "metadata": {},
   "outputs": [],
   "source": [
    "dfDiv.to_csv('/Users/friedman/Desktop/WORK/dataForLocalPlotting/observedVsExpectedByType.tsv', index=False, sep='\\t')\n"
   ]
  },
  {
   "cell_type": "code",
   "execution_count": 102,
   "metadata": {},
   "outputs": [
    {
     "name": "stdout",
     "output_type": "stream",
     "text": [
      "25 50 75 100 125 150 175 200 225 250 275 300 325 350 375 400 425 450 475 500 525 550 575 600 625 650 675 700 725 750 775 800 825 850 875 900 925 950 975 1000 1025 1050 1075 1100 1125 1150 1175 1200 1225 1250 1275 1300 1325 1350 1375 1400 1425 1450 1475 1500 1525 1550"
     ]
    },
    {
     "data": {
      "text/plain": [
       "0.05644723732825163"
      ]
     },
     "execution_count": 102,
     "metadata": {},
     "output_type": "execute_result"
    },
    {
     "name": "stdout",
     "output_type": "stream",
     "text": [
      "\n"
     ]
    }
   ],
   "source": [
    "get_median_expected_rate(expectedDf, mode='oncogenic')"
   ]
  },
  {
   "cell_type": "code",
   "execution_count": 3,
   "metadata": {},
   "outputs": [],
   "source": [
    "#\n",
    "###\n",
    "######\n",
    "#############\n",
    "#####\n",
    "###\n",
    "#"
   ]
  },
  {
   "cell_type": "code",
   "execution_count": 58,
   "metadata": {},
   "outputs": [],
   "source": [
    "def summarize_relative_mutation_prevalence_hyper_vs_nonhyper(oncMutsDf, cancerTypes, dndsDict):\n",
    "    listOfDicts = []\n",
    "    for cancerType in cancerTypes:\n",
    "        hypermutantMaf = oncMutsDf[(oncMutsDf['hypermutantStatus'] == 'Hypermutated') &\n",
    "                                   (oncMutsDf['cancerType'] == cancerType)]\n",
    "        normalMaf = oncMutsDf[(oncMutsDf['hypermutantStatus'] == 'Normal') &\n",
    "                             (oncMutsDf['cancerType'] == cancerType)]\n",
    "        dndsKey = '_'.join(cancerType.split(' '))\n",
    "        ctDNDS = dndsDict[dndsKey]\n",
    "        \n",
    "        nHyperCases = 1.0*len(set(hypermutantMaf['Tumor_Sample_Barcode'])) \n",
    "        nNormalCases = 1.0*len(set(normalMaf['Tumor_Sample_Barcode']))\n",
    "        \n",
    "        for gene in set(normalMaf['Hugo_Symbol']):\n",
    "            geneMafHyper = hypermutantMaf[hypermutantMaf['Hugo_Symbol'] == gene]\n",
    "            geneMafNormal = normalMaf[normalMaf['Hugo_Symbol'] == gene]\n",
    "            \n",
    "            percentHyper = geneMafHyper.drop_duplicates(subset=['Tumor_Sample_Barcode']).shape[0]/nHyperCases\n",
    "            percentNormal = geneMafNormal.drop_duplicates(subset=['Tumor_Sample_Barcode']).shape[0]/nNormalCases\n",
    "            \n",
    "            if gene in ctDNDS:\n",
    "                listOfDicts.append({'Gene': gene, 'ratio': percentHyper/percentNormal,\n",
    "                                   'cancerType': cancerType, 'dndsScore': ctDNDS[gene],\n",
    "                                   'percentHyper': percentHyper})\n",
    "    return pd.DataFrame(listOfDicts)\n",
    "    "
   ]
  },
  {
   "cell_type": "code",
   "execution_count": 13,
   "metadata": {},
   "outputs": [],
   "source": [
    "def convert_dnds_data_to_dict(dndsDf, cancerTypes):\n",
    "    d = {}\n",
    "    for cancerType in cancerTypes:\n",
    "        cancerTypeDnds = dndsDf[dndsDf['cancerType'] == cancerType]\n",
    "        localD = dict(zip(cancerTypeDnds['gene_name'], cancerTypeDnds['qglobal_cv.Normal']))\n",
    "        d[cancerType] = localD\n",
    "    return d\n",
    "        \n",
    "    "
   ]
  },
  {
   "cell_type": "code",
   "execution_count": 8,
   "metadata": {},
   "outputs": [
    {
     "name": "stderr",
     "output_type": "stream",
     "text": [
      "/anaconda2/lib/python2.7/site-packages/ipykernel_launcher.py:1: FutureWarning: read_table is deprecated, use read_csv instead, passing sep='\\t'.\n",
      "  \"\"\"Entry point for launching an IPython kernel.\n",
      "/anaconda2/lib/python2.7/site-packages/ipykernel_launcher.py:2: FutureWarning: read_table is deprecated, use read_csv instead, passing sep='\\t'.\n",
      "  \n",
      "/anaconda2/lib/python2.7/site-packages/IPython/core/interactiveshell.py:2714: DtypeWarning: Columns (4,17,18,40,41,43,44,71,72,108,124,125,128,129,130,131,132,133,134,135,137,140,141) have mixed types. Specify dtype option on import or set low_memory=False.\n",
      "  interactivity=interactivity, compiler=compiler, result=result)\n"
     ]
    }
   ],
   "source": [
    "dfDNDSHyper = pd.read_table('~/Desktop/offlineFilesForVirus/dndsHypermutants.tsv')\n",
    "allImpactMutsMaf = pd.read_table('/Users/friedman/Desktop/offlineFilesForVirus/data_mutations_extended_annotated_sigContext_nov19_2019.maf')"
   ]
  },
  {
   "cell_type": "code",
   "execution_count": null,
   "metadata": {
    "scrolled": true
   },
   "outputs": [],
   "source": [
    "allHypermutantIds = get_gene_and_cohort_list_utils.get_all_hypermutant_ids(hypermutantIdDir=pathPrefix + '/juno/work/taylorlab/friedman/hypermutationAnalysisProj/projectDataAndConfigFiles/hypermutationStatusIds')\n"
   ]
  },
  {
   "cell_type": "code",
   "execution_count": null,
   "metadata": {},
   "outputs": [],
   "source": [
    "reload(get_gene_and_cohort_list_utils)\n",
    "allNormalIds = get_gene_and_cohort_list_utils.get_all_normal_ids(hypermutantIdDir=pathPrefix + '/juno/work/taylorlab/friedman/hypermutationAnalysisProj/projectDataAndConfigFiles/hypermutationStatusIds')\n"
   ]
  },
  {
   "cell_type": "code",
   "execution_count": 7,
   "metadata": {},
   "outputs": [],
   "source": [
    "cancerTypeDict = get_gene_and_cohort_list_utils.get_impact_cancer_type_info(impactCancerTypeInfoPath = pathPrefix + '/juno/work/taylorlab/friedman/myAdjustedDataFiles/cancerTypeInfo_asOfNov192019.txt')\n",
    "allImpactMutsMaf['cancerType'] = allImpactMutsMaf['Tumor_Sample_Barcode'].apply(lambda x: cancerTypeDict[x] if x in cancerTypeDict else None)\n"
   ]
  },
  {
   "cell_type": "code",
   "execution_count": 63,
   "metadata": {},
   "outputs": [],
   "source": [
    "dndsDictForm = convert_dnds_data_to_dict(dfDNDSHyper, ['Endometrial_Cancer', 'Colorectal_Cancer', 'Bladder_Cancer', 'Prostate_Cancer', 'Esophagogastric_Cancer', 'Glioma'])"
   ]
  },
  {
   "cell_type": "markdown",
   "metadata": {},
   "source": [
    "## GENE TYPE and n muts explained"
   ]
  },
  {
   "cell_type": "code",
   "execution_count": 6,
   "metadata": {},
   "outputs": [],
   "source": [
    "def create_prevalence_curves(maf, cancerTypes):\n",
    "    \n",
    "    def get_ordering(oMaf):\n",
    "        ordering = [i[0] for i in\n",
    "                              Counter(oMaf['Hugo_Symbol']).most_common(\n",
    "            len(set(oMaf['Hugo_Symbol'])))]\n",
    "        return ordering\n",
    "    \n",
    "    def generate_prevalence_curve_data(maf, orderedGenes, geneType, cancerType, mutBurdenType):\n",
    "        listOfDicts = []\n",
    "        cntr = 0\n",
    "        runningSum = 0.0\n",
    "        nTotalOncogenic = maf.shape[0]\n",
    "        mutCounter = Counter(maf['Hugo_Symbol'])\n",
    "        for gene in orderedGenes:\n",
    "            nMuts = mutCounter[gene]\n",
    "            listOfDicts.append({\n",
    "                'Hugo_Symbol': gene, 'n': cntr,'frac': runningSum/nTotalOncogenic,\n",
    "                'geneType': geneType, 'cancerType': cancerType, 'mutBurdenType': mutBurdenType,\n",
    "                'cohort': geneType + '_' + mutBurdenType\n",
    "            })\n",
    "            cntr += 1\n",
    "            runningSum += nMuts\n",
    "        df = pd.DataFrame(listOfDicts)\n",
    "        return df\n",
    "    \n",
    "    tsgs = get_gene_and_cohort_list_utils.get_tsgs()\n",
    "    oncogenes = get_gene_and_cohort_list_utils.get_oncogenes()\n",
    "    \n",
    "    maf = maf[maf['oncogenic'].notnull()] #only look at oncogenic mutations\n",
    "    listOfDfs = []\n",
    "    for cancerType in cancerTypes:\n",
    "        hypermutatedIds = get_gene_and_cohort_list_utils.get_ids_by_hypermutant_status(\n",
    "            hypermutantIdDir=filePathDict['HYPERMUTATION_STATUS_IDS'], cancerType=cancerType, hypermutantStatus = 'Hypermutated')\n",
    "        nonHypermutatedIds = get_gene_and_cohort_list_utils.get_ids_by_hypermutant_status(\n",
    "            hypermutantIdDir=filePathDict['HYPERMUTATION_STATUS_IDS'], cancerType=cancerType, hypermutantStatus = 'Normal')\n",
    "        \n",
    "        hypermutantMaf = maf[maf['Tumor_Sample_Barcode'].isin(hypermutatedIds)]\n",
    "        normalMaf = maf[maf['Tumor_Sample_Barcode'].isin(nonHypermutatedIds)]\n",
    "        \n",
    "        #divide into oncogenes and tumor suppressors\n",
    "        hyperOncogenes = hypermutantMaf[hypermutantMaf['Hugo_Symbol'].isin(oncogenes)]\n",
    "        hyperTsgs = hypermutantMaf[hypermutantMaf['Hugo_Symbol'].isin(tsgs)]\n",
    "        normalOncogenes = normalMaf[normalMaf['Hugo_Symbol'].isin(oncogenes)]\n",
    "        normalTsgs = normalMaf[normalMaf['Hugo_Symbol'].isin(tsgs)]\n",
    "        \n",
    "        listOfDfs.append(generate_prevalence_curve_data(normalOncogenes, get_ordering(normalOncogenes), 'oncogene', cancerType, 'non-Hypermutated'))\n",
    "        listOfDfs.append(generate_prevalence_curve_data(normalTsgs, get_ordering(normalTsgs), 'tsg', cancerType, 'non-Hypermutated'))\n",
    "        listOfDfs.append(generate_prevalence_curve_data(hyperOncogenes, get_ordering(hyperOncogenes), 'oncogene', cancerType, 'Hypermutated'))\n",
    "        listOfDfs.append(generate_prevalence_curve_data(hyperTsgs, get_ordering(hyperTsgs), 'tsg', cancerType, 'Hypermutated'))\n",
    "      \n",
    "    return pd.concat(listOfDfs)\n",
    "    \n",
    "    "
   ]
  },
  {
   "cell_type": "code",
   "execution_count": 8,
   "metadata": {},
   "outputs": [
    {
     "name": "stderr",
     "output_type": "stream",
     "text": [
      "/anaconda2/lib/python2.7/site-packages/ipykernel_launcher.py:1: FutureWarning: read_table is deprecated, use read_csv instead, passing sep='\\t'.\n",
      "  \"\"\"Entry point for launching an IPython kernel.\n",
      "/anaconda2/lib/python2.7/site-packages/IPython/core/interactiveshell.py:2714: DtypeWarning: Columns (4,17,18,40,41,43,44,71,108,124,125,128,129,130,131,132,133,134,135,137) have mixed types. Specify dtype option on import or set low_memory=False.\n",
      "  interactivity=interactivity, compiler=compiler, result=result)\n"
     ]
    }
   ],
   "source": [
    "allImpactMutsMaf = pd.read_table(filePathDict['IMPACT_BASE_MAF'])\n",
    "cancerTypeDict = get_gene_and_cohort_list_utils.get_impact_cancer_type_info(\n",
    "    impactCancerTypeInfoPath = filePathDict['CANCER_TYPE_INFO'])\n",
    "allImpactMutsMaf['cancerType'] = allImpactMutsMaf['Tumor_Sample_Barcode'].apply(lambda x:\n",
    "    cancerTypeDict[x] if x in cancerTypeDict else None)"
   ]
  },
  {
   "cell_type": "code",
   "execution_count": 9,
   "metadata": {},
   "outputs": [
    {
     "name": "stderr",
     "output_type": "stream",
     "text": [
      "/Users/friedman/Desktop/hypermutationProjectFinal/scripts/utilityScripts/get_gene_and_cohort_list_utils.py:173: FutureWarning: read_table is deprecated, use read_csv instead, passing sep='\\t'.\n",
      "  df = pd.read_table(path)\n"
     ]
    }
   ],
   "source": [
    "cancerTypesToAnalyze = ['Colorectal Cancer', 'Endometrial Cancer',\n",
    "    'Bladder Cancer', 'Glioma', 'Prostate Cancer', 'Esophagogastric Cancer']\n",
    "df = create_prevalence_curves(allImpactMutsMaf, cancerTypesToAnalyze)"
   ]
  },
  {
   "cell_type": "code",
   "execution_count": 10,
   "metadata": {},
   "outputs": [],
   "source": [
    "df.to_csv('/Users/friedman/Desktop/WORK/dataForLocalPlotting/plotGeneFractions.tsv', index=False, sep='\\t')"
   ]
  },
  {
   "cell_type": "markdown",
   "metadata": {},
   "source": [
    "## Supplementary figure: percent drivers related/unrelated depending on relatedness threshold"
   ]
  },
  {
   "cell_type": "code",
   "execution_count": 13,
   "metadata": {},
   "outputs": [],
   "source": [
    "def enumerate_related_genes(maf, thresh):\n",
    "    nCases = len(set(maf['Tumor_Sample_Barcode']))\n",
    "    oncMaf = maf[maf['oncogenic'].notnull()]\n",
    "    oncMaf['caseGene'] = oncMaf['Tumor_Sample_Barcode'] + '_' + oncMaf['Hugo_Symbol']\n",
    "    geneCounter = Counter(oncMaf.drop_duplicates(subset=['caseGene'])['Hugo_Symbol'])\n",
    "    \n",
    "    return [gene for gene, count in geneCounter.items() if (1.0*count)/nCases > thresh]\n",
    "    \n",
    "def summarize_related_gene_fracs(maf, cancerTypes):\n",
    "    thresholds = [0.1, 0.05, .02, .01]\n",
    "    listOfDicts = []\n",
    "    for ct in cancerTypes:\n",
    "        for thresh in thresholds:\n",
    "            ctMaf = maf[maf['cancerType'] == ct]\n",
    "            normalMaf = ctMaf[ctMaf['hypermutationStatus'] == 'normal']\n",
    "            hypermutantMaf = ctMaf[ctMaf['hypermutationStatus'] == 'hypermutated']\n",
    "            normalMafOnc = normalMaf[normalMaf['oncogenic'].notnull()]\n",
    "            hypermutantMafOnc = hypermutantMaf[hypermutantMaf['oncogenic'].notnull()]\n",
    "            nOncNormal = 1.0*normalMafOnc.shape[0]\n",
    "            nOncHyper = 1.0*hypermutantMafOnc.shape[0]\n",
    "            \n",
    "            relatedGenes = enumerate_related_genes(normalMaf, thresh)\n",
    "            nRelatedNormal = normalMafOnc[normalMafOnc['Hugo_Symbol'].isin(relatedGenes)].shape[0]\n",
    "            nRelatedHyper = hypermutantMafOnc[hypermutantMafOnc['Hugo_Symbol'].isin(relatedGenes)].shape[0]\n",
    "            \n",
    "            listOfDicts.append({'cancerType': ct, 'hypermutantStats': 'normal', \n",
    "                                'cohort': str(thresh) + '_' +  ct + '_normal', 'cohortThresh': str(thresh) + '_normal',\n",
    "                                'fracRelated': nRelatedNormal/nOncNormal, 'thresh': thresh})\n",
    "            listOfDicts.append({'cancerType': ct, 'hypermutantStats': 'hypermutated', \n",
    "                                'cohort': str(thresh) + '_' + ct + '_hypermutated', 'cohortThresh': str(thresh) + '_hypermutated',\n",
    "                                'fracRelated': nRelatedHyper/nOncHyper, 'thresh': thresh})\n",
    "            \n",
    "    df = pd.DataFrame(listOfDicts)\n",
    "    return df\n",
    "    \n",
    "#returns a dictionary of related/unrelated genes\n",
    "def get_related_genes_by_cancer_type(maf, thresh = 1.0/30.0):\n",
    "    cancerTypes = set(maf['cancerType'])\n",
    "    d = {}\n",
    "    for ct in cancerTypes:\n",
    "        ctMaf = maf[maf['cancerType'] == ct]\n",
    "        normalMaf = ctMaf[ctMaf['hypermutationStatus'] == 'normal']\n",
    "        relatedGenes = enumerate_related_genes(normalMaf, thresh)\n",
    "        d[ct] = relatedGenes\n",
    "    return d\n"
   ]
  },
  {
   "cell_type": "code",
   "execution_count": 9,
   "metadata": {},
   "outputs": [
    {
     "name": "stderr",
     "output_type": "stream",
     "text": [
      "/Users/friedman/Desktop/hypermutationProjectFinal/scripts/utilityScripts/get_gene_and_cohort_list_utils.py:146: FutureWarning: read_table is deprecated, use read_csv instead, passing sep='\\t'.\n",
      "  df = pd.read_table(path)\n"
     ]
    }
   ],
   "source": [
    "#allImpactMutsMaf = pd.read_table(filePathDict['IMPACT_BASE_MAF'])\n",
    "cancerTypeDict = dict(get_gene_and_cohort_list_utils.get_impact_cancer_type_info(impactCancerTypeInfoPath = filePathDict['CANCER_TYPE_INFO']))\n",
    "allImpactMutsMaf['cancerType'] = allImpactMutsMaf['Tumor_Sample_Barcode'].apply(lambda x: cancerTypeDict[x] if x in cancerTypeDict else None)\n",
    "hypermutantIds = get_gene_and_cohort_list_utils.get_all_hypermutant_ids(hypermutantIdDir=filePathDict['HYPERMUTATION_STATUS_IDS'])\n",
    "normalIds = get_gene_and_cohort_list_utils.get_all_normal_ids(hypermutantIdDir=filePathDict['HYPERMUTATION_STATUS_IDS'])\n",
    "allImpactMutsMaf['hypermutationStatus'] = allImpactMutsMaf['Tumor_Sample_Barcode'].apply(lambda x:\n",
    "    'hypermutated' if x in hypermutantIds else 'normal' if x in normalIds else 'Intermediate')\n",
    "\n"
   ]
  },
  {
   "cell_type": "code",
   "execution_count": 115,
   "metadata": {},
   "outputs": [
    {
     "name": "stderr",
     "output_type": "stream",
     "text": [
      "/anaconda2/lib/python2.7/site-packages/ipykernel_launcher.py:4: SettingWithCopyWarning: \n",
      "A value is trying to be set on a copy of a slice from a DataFrame.\n",
      "Try using .loc[row_indexer,col_indexer] = value instead\n",
      "\n",
      "See the caveats in the documentation: http://pandas.pydata.org/pandas-docs/stable/indexing.html#indexing-view-versus-copy\n",
      "  after removing the cwd from sys.path.\n"
     ]
    }
   ],
   "source": [
    "df = summarize_related_gene_fracs(allImpactMutsMaf,\n",
    "        ['Endometrial Cancer', 'Colorectal Cancer', 'Glioma', 'Prostate Cancer',\n",
    "         'Esophagogastric Cancer', 'Bladder Cancer'])\n",
    "#allImpactMutsMaf.columns.values"
   ]
  },
  {
   "cell_type": "code",
   "execution_count": 116,
   "metadata": {},
   "outputs": [],
   "source": [
    "df.to_csv('/Users/friedman/Desktop/WORK/dataForLocalPlotting/relatedGeneFracs.tsv', index=False, sep='\\t')"
   ]
  },
  {
   "cell_type": "code",
   "execution_count": 44,
   "metadata": {},
   "outputs": [],
   "source": [
    "df['cancerTypeAdj'] = df['cancerType'].apply(lambda x: x if x in\n",
    "        ['Glioma'] else 'Other')"
   ]
  },
  {
   "cell_type": "code",
   "execution_count": 45,
   "metadata": {},
   "outputs": [],
   "source": [
    "df.to_csv('~/Desktop/WORK/dataForLocalPlotting/relatedUnrelated.tsv', index=False, sep='\\t')"
   ]
  },
  {
   "cell_type": "markdown",
   "metadata": {},
   "source": [
    "## Supplementary figure: percent drivers in TSGs by TMB"
   ]
  },
  {
   "cell_type": "code",
   "execution_count": 117,
   "metadata": {},
   "outputs": [
    {
     "name": "stderr",
     "output_type": "stream",
     "text": [
      "/Users/friedman/Desktop/hypermutationProjectFinal/scripts/utilityScripts/get_gene_and_cohort_list_utils.py:169: FutureWarning: read_table is deprecated, use read_csv instead, passing sep='\\t'.\n",
      "  df = pd.read_table(tmbFilePath)\n"
     ]
    }
   ],
   "source": [
    "tsgs = get_gene_and_cohort_list_utils.get_tsgs()\n",
    "oncogenes = get_gene_and_cohort_list_utils.get_oncogenes()\n",
    "tmbDict = get_gene_and_cohort_list_utils.get_all_tmb_info(tmbFilePath = filePathDict['CASE_TMB_AND_MSI_STATS'])"
   ]
  },
  {
   "cell_type": "code",
   "execution_count": 127,
   "metadata": {},
   "outputs": [],
   "source": [
    "tmzIds = get_gene_and_cohort_list_utils.get_impact_signature_cohort(filePathDict['IMPACT_SIGNATURE_DECOMPOSITIONS'], 'mean_11')\n",
    "mmrIds = get_gene_and_cohort_list_utils.get_impact_signature_cohort(filePathDict['IMPACT_SIGNATURE_DECOMPOSITIONS'], 'mean_MMR')\n",
    "poleIds = get_gene_and_cohort_list_utils.get_impact_signature_cohort(filePathDict['IMPACT_SIGNATURE_DECOMPOSITIONS'], 'mean_10')\n"
   ]
  },
  {
   "cell_type": "code",
   "execution_count": 128,
   "metadata": {},
   "outputs": [
    {
     "name": "stdout",
     "output_type": "stream",
     "text": [
      "0 500 1000 1500 2000 2500 3000 3500 4000 4500 5000 5500 6000 6500 7000 7500 8000 8500 9000 9500 10000 10500 11000 11500 12000 12500 13000 13500 14000 14500 15000 15500 16000 16500 17000 17500 18000 18500 19000 19500 20000 20500 21000 21500 22000 22500 23000 23500 24000 24500 25000 25500 26000 26500 27000 27500 28000 28500 29000 29500 30000 30500 31000 31500 32000 32500 33000 33500 34000 34500 35000 35500\n"
     ]
    }
   ],
   "source": [
    "oncMaf = allImpactMutsMaf[allImpactMutsMaf['oncogenic'].notnull()]\n",
    "listOfDicts = []\n",
    "cntr = 0\n",
    "\n",
    "nOncCntr = Counter(oncMaf['Tumor_Sample_Barcode'])\n",
    "tsgMaf = oncMaf[oncMaf['Hugo_Symbol'].isin(tsgs)]\n",
    "nTsgCntr = Counter(tsgMaf['Tumor_Sample_Barcode'])\n",
    "for case, nDriver in nOncCntr.items():\n",
    "    if cntr%500==0:print cntr,\n",
    "    nTsgDriver = 0.0\n",
    "    if case in nTsgCntr: nTsgDriver = 1.0*nTsgCntr[case]\n",
    "        \n",
    "    signatureCohort = 'other'\n",
    "    if case in tmzIds: signatureCohort = 'TMZ'\n",
    "    elif case in mmrIds: signatureCohort = 'MMR'\n",
    "    elif case in poleIds: signatureCohort = 'POLE'\n",
    "    listOfDicts.append({'Tumor_Sample_Barcode': case, 'fracTsg': nTsgDriver/nDriver, 'tmb': tmbDict[case],\n",
    "                       'nDriver': nDriver, 'nTsgDriver': nTsgDriver, 'signatureCohort': signatureCohort})\n",
    "    cntr += 1\n",
    "df = pd.DataFrame(listOfDicts)"
   ]
  },
  {
   "cell_type": "code",
   "execution_count": 129,
   "metadata": {},
   "outputs": [],
   "source": [
    "df.to_csv('/Users/friedman/Desktop/WORK/dataForLocalPlotting/tsgGeneFracs.tsv', index=False, sep='\\t')"
   ]
  },
  {
   "cell_type": "markdown",
   "metadata": {},
   "source": [
    "### Understanding possible driver mutations"
   ]
  },
  {
   "cell_type": "code",
   "execution_count": 3,
   "metadata": {},
   "outputs": [
    {
     "name": "stderr",
     "output_type": "stream",
     "text": [
      "/anaconda2/lib/python2.7/site-packages/ipykernel_launcher.py:1: FutureWarning: read_table is deprecated, use read_csv instead, passing sep='\\t'.\n",
      "  \"\"\"Entry point for launching an IPython kernel.\n"
     ]
    }
   ],
   "source": [
    "expectedDf = pd.read_table(filePathDict['EXPECTED_MUTATION_INFO_BY_GENE'])"
   ]
  },
  {
   "cell_type": "code",
   "execution_count": 18,
   "metadata": {},
   "outputs": [
    {
     "name": "stdout",
     "output_type": "stream",
     "text": [
      "79.89552231\n",
      "11.7206735652\n"
     ]
    }
   ],
   "source": [
    "tsgs = get_gene_and_cohort_list_utils.get_tsgs()\n",
    "oncogenes = get_gene_and_cohort_list_utils.get_oncogenes()\n",
    "print sum(expectedDf[expectedDf['gene'].isin(tsgs)]['oncogenicChance'])\n",
    "print sum(expectedDf[expectedDf['gene'].isin(oncogenes)]['oncogenicChance'])\n"
   ]
  },
  {
   "cell_type": "code",
   "execution_count": 21,
   "metadata": {},
   "outputs": [
    {
     "name": "stdout",
     "output_type": "stream",
     "text": [
      "mean_MMR 0.594180571963\n",
      "mean_10 0.613140760188\n",
      "mean_11 0.559559648132\n",
      "mean_SMOKING 0.588946915015\n",
      "mean_7 0.568592567065\n",
      "mean_APOBEC 0.626794478839\n"
     ]
    }
   ],
   "source": [
    "signaturesOfInterest = ['mean_MMR', 'mean_10', 'mean_11', 'mean_SMOKING', 'mean_7', 'mean_APOBEC']\n",
    "for sig in signaturesOfInterest:\n",
    "    sigCases = get_gene_and_cohort_list_utils.get_impact_signature_cohort(\n",
    "        filePathDict['IMPACT_SIGNATURE_DECOMPOSITIONS'], sig)\n",
    "    expectedDfSig = expectedDf[expectedDf['case'].isin(sigCases)]\n",
    "    \n",
    "    #tsgOncogeneicSum = 1.0*sum(expectedDfSig[expectedDfSig['gene'].isin(tsgs)]['oncogenicChance'])\n",
    "    #oncogeneOncogenicSum = 1.0*sum(expectedDfSig[expectedDfSig['gene'].isin(oncogenes)]['oncogenicChance'])\n",
    "    #tsgFrac = tsgOncogeneicSum/(tsgOncogeneicSum + oncogeneOncogenicSum)\n",
    "    \n",
    "    tsgOncogeneicSum = 1.0*sum(expectedDfSig[expectedDfSig['gene'].isin(tsgs)]['truncatingChance'])\n",
    "    oncogeneOncogenicSum = 1.0*sum(expectedDfSig[expectedDfSig['gene'].isin(oncogenes)]['truncatingChance'])\n",
    "    tsgFrac = tsgOncogeneicSum/(tsgOncogeneicSum + oncogeneOncogenicSum)\n",
    "    \n",
    "    print sig, tsgFrac\n",
    "    \n",
    "    \n",
    "    "
   ]
  }
 ],
 "metadata": {
  "kernelspec": {
   "display_name": "Python 2",
   "language": "python",
   "name": "python2"
  },
  "language_info": {
   "codemirror_mode": {
    "name": "ipython",
    "version": 2
   },
   "file_extension": ".py",
   "mimetype": "text/x-python",
   "name": "python",
   "nbconvert_exporter": "python",
   "pygments_lexer": "ipython2",
   "version": "2.7.15"
  }
 },
 "nbformat": 4,
 "nbformat_minor": 2
}
