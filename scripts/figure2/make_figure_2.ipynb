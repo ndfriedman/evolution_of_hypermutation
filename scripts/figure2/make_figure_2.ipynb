{
 "cells": [
  {
   "cell_type": "code",
   "execution_count": 25,
   "metadata": {},
   "outputs": [],
   "source": [
    "import sys\n",
    "import argparse\n",
    "import os\n",
    "import pandas as pd\n",
    "import numpy as np\n",
    "import numpy\n",
    "import re\n",
    "import math\n",
    "from collections import Counter\n",
    "from statsmodels.stats.proportion import proportions_ztest\n",
    "from statsmodels.stats.multitest import fdrcorrection\n",
    "\n",
    "notebookPath = 'scripts/figure2'\n",
    "projectDir = re.sub(notebookPath, '', os.getcwd())\n",
    "sys.path.append(os.path.join(notebookPath, 'scripts/utilityScripts'))\n",
    "\n",
    "import analysis_utils \n",
    "import mutationSigUtils \n",
    "import maf_analysis_utils\n",
    "import clonality_analysis_util\n",
    "import get_gene_and_cohort_list_utils\n",
    "import configuration_util\n",
    "\n",
    "filePathDict = configuration_util.get_all_files_path_dict()"
   ]
  },
  {
   "cell_type": "code",
   "execution_count": 43,
   "metadata": {},
   "outputs": [],
   "source": [
    "#Set where to write the files\n",
    "writeDir = os.path.join(projectDir, 'scripts/figure2/FIGURE2_PLOTTING_FILES/plotDataFiles/')"
   ]
  },
  {
   "cell_type": "markdown",
   "metadata": {},
   "source": [
    "## Figure 2A"
   ]
  },
  {
   "cell_type": "code",
   "execution_count": 5,
   "metadata": {},
   "outputs": [],
   "source": [
    "#makes a dataframe of counts of oncogenic mutations\n",
    "def make_counts_df(maf, dominantSignatureDict):\n",
    "    \n",
    "    def summarize_counts_for_mutation_type(oMaf, mutationType):\n",
    "        \n",
    "        oncogenes = get_gene_and_cohort_list_utils.get_oncogenes()\n",
    "        tsgs = get_gene_and_cohort_list_utils.get_tsgs()\n",
    "        truncatingConsequences = set(['Frame_Shift_Del', 'Frame_Shift_Ins', 'Nonsense_Mutation'])\n",
    "        \n",
    "        sMaf = None\n",
    "        counts = None\n",
    "        if mutationType == 'tsgTrunc':\n",
    "            sMaf = oncogenicMaf[oncogenicMaf['Hugo_Symbol'].isin(tsgs) &\n",
    "                (oncogenicMaf['Variant_Classification'].isin(truncatingConsequences))]\n",
    "        if mutationType == 'oncogene':\n",
    "            sMaf = oncogenicMaf[oncogenicMaf['Hugo_Symbol'].isin(oncogenes)]\n",
    "        if mutationType == 'tsgMissense':\n",
    "            sMaf = oncogenicMaf[oncogenicMaf['Hugo_Symbol'].isin(tsgs) &\n",
    "                                (~oncogenicMaf['Variant_Classification'].isin(truncatingConsequences))]\n",
    "            \n",
    "        counts = Counter(sMaf['Tumor_Sample_Barcode'])\n",
    "        counts = [(case, count) for case, count in counts.items()] + [(case, 0) for\n",
    "            case in set(allIds) - set(sMaf['Tumor_Sample_Barcode'])] \n",
    "        return dict(counts)\n",
    "\n",
    "    \n",
    "    cancerTypeDict = dict(zip(maf['Tumor_Sample_Barcode'], maf['cancerType']))\n",
    "    allIds = set(maf['Tumor_Sample_Barcode'])\n",
    "    oncogenicMaf = maf[maf['oncogenic'].notnull()]\n",
    "    \n",
    "    tsgTruncatingCounts = summarize_counts_for_mutation_type(oncogenicMaf, 'tsgTrunc')\n",
    "    oncogenicCounts = summarize_counts_for_mutation_type(oncogenicMaf, 'oncogene')\n",
    "    tsgMissenseCounts = summarize_counts_for_mutation_type(oncogenicMaf, 'tsgMissense')\n",
    "    listOfDicts = []\n",
    "    for case in allIds:\n",
    "        listOfDicts.append({'Tumor_Sample_Barcode': case, 'TsgTruncating': tsgTruncatingCounts[case],\n",
    "                            'Oncogene': oncogenicCounts[case], 'TsgMissense': tsgMissenseCounts[case],\n",
    "                            'cancerType': cancerTypeDict[case], \n",
    "                            'dominantSignature': dominantSignatureDict[case] if case in dominantSignatureDict else None\n",
    "                           })\n",
    "    return pd.DataFrame(listOfDicts)\n",
    "\n",
    "def sample_normal_maf(normalCounts, hyperCounts, N=25):\n",
    "    \n",
    "    hyperCancerTypeCounter = Counter(hyperCounts['cancerType'])\n",
    "    normalCancerTypeCounter = Counter(normalCounts['cancerType'])\n",
    "    normalCounts['hypermutatedCount'] = normalCounts['cancerType'].apply(lambda x:\n",
    "            1.0*hyperCancerTypeCounter[x]/normalCancerTypeCounter[x]\n",
    "        if x in hyperCancerTypeCounter else 0)\n",
    "    sampledCounts = normalCounts.sample(frac=N, weights='hypermutatedCount', replace=True)\n",
    "    return sampledCounts\n",
    "   \n",
    "def create_summary_df(df):\n",
    "    listOfDicts = []\n",
    "    for variable in set(df['variable']):\n",
    "        hypermutatedData = df[df['burdenType'] == 'hypermutated']\n",
    "        nonHypermutatedData = df[df['burdenType'] != 'hypermutated']\n",
    "        listOfDicts.append({\n",
    "            'frac': sum(hypermutatedData[hypermutatedData['variable'] == variable]['value'])/1.0*sum(hypermutatedData['value']),\n",
    "            'burdenType': 'hypermutated', 'mutType': variable\n",
    "        })\n",
    "        listOfDicts.append({\n",
    "            'frac': sum(nonHypermutatedData[nonHypermutatedData['variable'] == variable]['value'])/1.0*sum(nonHypermutatedData['value']),\n",
    "            'burdenType': 'non-hypermutated', 'mutType': variable\n",
    "        })\n",
    "    summaryDf = pd.DataFrame(listOfDicts)\n",
    "    return summaryDf\n"
   ]
  },
  {
   "cell_type": "code",
   "execution_count": null,
   "metadata": {},
   "outputs": [],
   "source": [
    "allImpactMutsMaf = pd.read_table(filePathDict['IMPACT_BASE_MAF'])\n",
    "dominantSignatureDict = get_gene_and_cohort_list_utils.get_pan_impact_signature_mapping(\n",
    "    filePathDict['IMPACT_SIGNATURE_DECOMPOSITIONS'])\n",
    "allHypermutantIds = get_gene_and_cohort_list_utils.get_all_hypermutant_ids(hypermutantIdDir=filePathDict['HYPERMUTATION_STATUS_IDS'])\n",
    "allNormalIds = get_gene_and_cohort_list_utils.get_all_normal_ids(hypermutantIdDir=filePathDict['HYPERMUTATION_STATUS_IDS'])\n",
    "cancerTypeDict = get_gene_and_cohort_list_utils.get_impact_cancer_type_info(impactCancerTypeInfoPath = filePathDict['CANCER_TYPE_INFO'])\n",
    "\n",
    "allImpactMutsMaf['cancerType'] = allImpactMutsMaf['Tumor_Sample_Barcode'].apply(lambda x: cancerTypeDict[x] if x in cancerTypeDict else None)\n",
    "hypermutatedMaf = allImpactMutsMaf[allImpactMutsMaf['Tumor_Sample_Barcode'].isin(allHypermutantIds)]\n",
    "nonHypermutatedMaf = allImpactMutsMaf[allImpactMutsMaf['Tumor_Sample_Barcode'].isin(allNormalIds)]\n",
    "\n",
    "#Use sampling to get dataframes that match the cancer type distributions\n",
    "dfCountsNormal = make_counts_df(nonHypermutatedMaf, dominantSignatureDict)\n",
    "dfCountsHypermutated = make_counts_df(hypermutatedMaf, dominantSignatureDict)\n",
    "dfCountsNormalSampled = sample_normal_maf(dfCountsNormal, dfCountsHypermutated)\n",
    "\n",
    "dfCountsHypermutated['burdenType'] = 'hypermutated'\n",
    "dfCountsNormalSampled['burdenType'] = 'normal'\n",
    "dfCombined = pd.concat([dfCountsHypermutated, dfCountsNormalSampled])\n",
    "\n",
    "meltedDf = pd.melt(dfCombined, id_vars=['Tumor_Sample_Barcode', 'burdenType'], value_vars=['Oncogene', 'TsgMissense', 'TsgTruncating'])\n",
    "summaryDf = create_summary_df(meltedDf)"
   ]
  },
  {
   "cell_type": "code",
   "execution_count": 7,
   "metadata": {},
   "outputs": [],
   "source": [
    "writePath = os.path.join(writeDir, 'figure_2a.tsv')\n",
    "summaryDf.to_csv(writePath, index=False, sep='\\t')"
   ]
  },
  {
   "cell_type": "markdown",
   "metadata": {},
   "source": [
    "## Figure 2B"
   ]
  },
  {
   "cell_type": "code",
   "execution_count": 11,
   "metadata": {},
   "outputs": [],
   "source": [
    "def summarize_related_unrelated_driver_frac(maf, relatedGenesD, tmbDict):\n",
    "    listOfDicts = []\n",
    "    cntr = 0\n",
    "    tsgs = get_gene_and_cohort_list_utils.get_tsgs()\n",
    "    for case in set(maf['Tumor_Sample_Barcode']):\n",
    "        \n",
    "        caseMaf = maf[maf['Tumor_Sample_Barcode'] == case]\n",
    "        cancerType = caseMaf['cancerType'].iloc[0]\n",
    "        tmb = tmbDict[case] if case in tmbDict else None #todo get the real TMB\n",
    "        relatedGenes = relatedGenesD[cancerType]\n",
    "        hypermutationStatus = caseMaf['hypermutationStatus'].iloc[0]\n",
    "        \n",
    "        caseMafRelated = caseMaf[caseMaf['Hugo_Symbol'].isin(relatedGenes)]\n",
    "        caseMafUnrelated = caseMaf[~caseMaf['Hugo_Symbol'].isin(relatedGenes)]\n",
    "        relatedDrivers = caseMafRelated[caseMafRelated['oncogenic'].notnull()]\n",
    "        unrelatedDrivers = caseMafUnrelated[caseMafUnrelated['oncogenic'].notnull()]\n",
    "        \n",
    "        nRelatedDrivers = 1.0*relatedDrivers.shape[0]\n",
    "        nUnrelatedDrivers = 1.0*unrelatedDrivers.shape[0]\n",
    "        nTotalRelated = 1.0*caseMafRelated.shape[0]\n",
    "        nTotalUnrelated = 1.0*caseMafUnrelated.shape[0]\n",
    "        \n",
    "        ratioRelated = None if nTotalRelated == 0 else nRelatedDrivers/(nTotalRelated)\n",
    "        ratioUnrelated = None if nTotalUnrelated == 0 else nUnrelatedDrivers/(nTotalUnrelated)\n",
    "        \n",
    "        listOfDicts.append({'Tumor_Sample_Barcode': case, 'cancerType': cancerType,\n",
    "                            'TMB': tmb, 'hypermutationStatus': hypermutationStatus,\n",
    "                            'fracDriverRelated': ratioRelated, 'fracDriverUnrelated': ratioUnrelated})\n",
    "    df = pd.DataFrame(listOfDicts)\n",
    "    return df"
   ]
  },
  {
   "cell_type": "code",
   "execution_count": 12,
   "metadata": {},
   "outputs": [],
   "source": [
    "hypermutationMaf = allImpactMutsMaf[allImpactMutsMaf['hypermutationStatus'] == 'hypermutated']\n",
    "relatedGenesDict = get_gene_and_cohort_list_utils.get_related_genes_by_cancer_type(thresh = 1.0/30.0, impactMafPath = filePathDict['IMPACT_BASE_MAF'])\n",
    "tmbDict = get_gene_and_cohort_list_utils.get_all_tmb_info(tmbFilePath = filePathDict['CASE_TMB_AND_MSI_STATS'])\n",
    "df = summarize_related_unrelated_driver_frac(hypermutationMaf, relatedGenesDict, tmbDict)\n"
   ]
  },
  {
   "cell_type": "code",
   "execution_count": 13,
   "metadata": {},
   "outputs": [],
   "source": [
    "writePath = os.path.join(writeDir, 'figure_2b.tsv')\n",
    "df.to_csv(writePath, index=False, sep='\\t')"
   ]
  },
  {
   "cell_type": "markdown",
   "metadata": {},
   "source": [
    "## Figure 2C"
   ]
  },
  {
   "cell_type": "code",
   "execution_count": 16,
   "metadata": {},
   "outputs": [],
   "source": [
    "allImpactMutsMaf = pd.read_table(filePathDict['IMPACT_BASE_MAF'])\n",
    "cancerTypeDict = get_gene_and_cohort_list_utils.get_impact_cancer_type_info(impactCancerTypeInfoPath=filePathDict['CANCER_TYPE_INFO'])\n",
    "allImpactMutsMaf['cancerType'] = allImpactMutsMaf['Tumor_Sample_Barcode'].apply(lambda x: cancerTypeDict[x] if x in cancerTypeDict else None)\n",
    "msiCases = get_gene_and_cohort_list_utils.get_msi_cases(msiInfoFilePath = filePathDict['CASE_TMB_AND_MSI_STATS'], msiScoreThresh=10)\n",
    "\n",
    "#We have to match MSI alleles (sometimes they have different names etc)\n",
    "#the value correctedAllele is the proper allele for us to work with\n",
    "msiSummary = pd.read_table(filePathDict['MICROSATELLITE_INFORMATION'])\n",
    "allMsiCasesMaf = allImpactMutsMaf[(allImpactMutsMaf['Tumor_Sample_Barcode'].isin(msiCases))]\n",
    "allMsiCasesMaf['allele'] = allMsiCasesMaf.apply(lambda row: str(row['Hugo_Symbol']) + '_' + str(row['HGVSp_Short']), axis=1)\n",
    "msiSummary['allele'] = msiSummary.apply(lambda row: str(row['Hugo_Symbol']) + '_' + str(row['HGVSp_Short']), axis=1)\n",
    "neverObservedSites, msiSitesToNameMapping, mafMsiSiteToNameMapping =  analysis_utils.standardize_allele_names(msiSummary, allMsiCasesMaf)\n",
    "msiSummary['correctedAllele'] = msiSummary['allele'].apply(lambda x: mafMsiSiteToNameMapping[x] if x in mafMsiSiteToNameMapping else None)\n",
    "allMsiCasesMaf['correctedAllele'] = allMsiCasesMaf['allele'].apply(lambda x:\n",
    "                                                                 mafMsiSiteToNameMapping[x] if x in mafMsiSiteToNameMapping else None)\n",
    "\n",
    "#Figure 2C is specifically about MSI endometrial vs MSI colorectal\n",
    "msiCasesEndometrialColorectalMaf = allMsiCasesMaf[\n",
    "    (allMsiCasesMaf['cancerType'].isin(['Endometrial Cancer', 'Colorectal Cancer'])) & \n",
    "    (allMsiCasesMaf['Tumor_Sample_Barcode'].isin(msiCases))]\n",
    "df = analysis_utils.make_comparissons(msiCasesEndometrialColorectalMaf)"
   ]
  },
  {
   "cell_type": "code",
   "execution_count": 17,
   "metadata": {},
   "outputs": [],
   "source": [
    "writePath = os.path.join(writeDir, 'figure_2c.tsv')\n",
    "df.to_csv(writePath, index=False, sep='\\t')"
   ]
  },
  {
   "cell_type": "markdown",
   "metadata": {},
   "source": [
    "## Figure 2D"
   ]
  },
  {
   "cell_type": "code",
   "execution_count": null,
   "metadata": {},
   "outputs": [],
   "source": [
    "#load in phasing data, focus on hypermutated cases\n",
    "phasingData = pd.read_table(filePathDict['PHASING_DATA'])\n",
    "allHypermutantIds = get_gene_and_cohort_list_utils.get_all_hypermutant_ids(\n",
    "    hypermutantIdDir=filePathDict['HYPERMUTATION_STATUS_IDS'])\n",
    "phasingHyper = phasingData[phasingData['Tumor_Sample_Barcode'].isin(allHypermutantIds)]\n",
    "\n",
    "#Whitelist cases: cases with purity = NA with flat genomes (rather than bad facets fits)\n",
    "#The phasing algorithm marks these cases as trans or separate cells, but because we know hte purity =NA comes from a flat genome we can mark them as trans\n",
    "#this is important because many of our hypermutated cases fit this description\n",
    "whitelistFlatGenomeCases = clonality_analysis_util.get_facets_whitelist()\n",
    "phasingHyper['adjPhase'] = phasingHyper.apply(lambda row: \n",
    "    'trans' if row['phase'] == 'trans or separate cells' and row['Tumor_Sample_Barcode'] in whitelistFlatGenomeCases\n",
    "    else row['phase'], axis=1)\n",
    "\n",
    "dictionaryOfRelatedGenes = get_gene_and_cohort_list_utils.get_related_genes_by_cancer_type()\n",
    "\n",
    "#Prepare data for plotting\n",
    "plotThresh = 5\n",
    "genesToHighlight = [key for key, value in dict(phasingHyper[(phasingHyper['oncogenic.1'].notnull()) & (phasingHyper['oncogenic.2'].notnull()) & (phasingHyper['adjPhase'].isin(['cis', 'trans']))][\n",
    "    'Hugo_Symbol'].value_counts()).items() if value > plotThresh]\n",
    "\n",
    "phasingHyper['label'] = phasingHyper.apply(lambda row: \n",
    "                                           '1 or 2 silent' if (row['Variant_Classification.1'] == 'Silent') | (row['Variant_Classification.2'] == 'Silent')\n",
    "                                           else '1 or 2 VUS'\n",
    "                                               if (not isinstance(row['oncogenic.1'], str)) | (not isinstance(row['oncogenic.2'], str))\n",
    "                                           else row['Hugo_Symbol'] if row['Hugo_Symbol'] in genesToHighlight\n",
    "                                           \n",
    "                                           else 'related_tsg' if row['Role'] == 'TSG' and row['CANCER_TYPE'] in dictionaryOfRelatedGenes and row['Hugo_Symbol'] in dictionaryOfRelatedGenes[row['CANCER_TYPE']]\n",
    "                                           else 'related_oncogene' if row['Role'] != 'TSG' and row['CANCER_TYPE'] in dictionaryOfRelatedGenes and row['Hugo_Symbol'] in dictionaryOfRelatedGenes[row['CANCER_TYPE']]\n",
    "                                           \n",
    "                                           else 'other_tsg' if row['Role'] == 'TSG'\n",
    "                                           else 'other_oncogene' if row['Role'] == 'Oncogene'\n",
    "                                           else 'other', axis=1)\n",
    "\n",
    "phasingHyper['isTrans'] = phasingHyper['adjPhase'].apply(lambda x: 1 if x == 'trans' else 0 if x == 'cis' else None)\n",
    "phasingHyperWrite = phasingHyper[phasingHyper['isTrans'].notnull()]"
   ]
  },
  {
   "cell_type": "code",
   "execution_count": 45,
   "metadata": {},
   "outputs": [],
   "source": [
    "writePath = os.path.join(writeDir, 'figure_2d.tsv')\n",
    "phasingHyper.to_csv(writePath, index=False, sep='\\t')"
   ]
  },
  {
   "cell_type": "markdown",
   "metadata": {},
   "source": [
    "## Figure 2E"
   ]
  },
  {
   "cell_type": "code",
   "execution_count": 46,
   "metadata": {},
   "outputs": [],
   "source": [
    "def summarize_double_hit_occurence_data(maf, lossAnnotatedMaf):\n",
    "    tsgs = get_gene_and_cohort_list_utils.get_tsgs()\n",
    "    driverMaf = maf[maf['isOncogenic'] == True]\n",
    "    doubleHitValidMaf = driverMaf[(driverMaf['isDoubleHit'] == True) & (driverMaf['doubleHitValidates'] != 'other_SNPs_unbalanced')]\n",
    "    counts = dict(doubleHitValidMaf['allele'].value_counts())\n",
    "    listOfDicts = []\n",
    "    for allele in set(doubleHitValidMaf['allele']):\n",
    "        gene = allele.split('_')[0]\n",
    "        doubleHitCount = counts[allele]\n",
    "        geneMaf = driverMaf[driverMaf['Hugo_Symbol'] == gene]\n",
    "        geneAlleleMaf = geneMaf[geneMaf['allele'] == allele]\n",
    "        \n",
    "        #note this does not include biallelic loss via 2x mutation\n",
    "        nCasesBiallelicLoss = len(set(lossAnnotatedMaf[(lossAnnotatedMaf['lossType'] != False) & (lossAnnotatedMaf['Hugo_Symbol'] == gene)]['Tumor_Sample_Barcode']))\n",
    "        \n",
    "        geneType = 'TSG' if gene in tsgs else 'Oncogene'\n",
    "        listOfDicts.append({\n",
    "            'gene': gene, 'allele': allele, 'nGene': geneMaf.shape[0], 'nAllele': geneAlleleMaf.shape[0],\n",
    "            'geneType': geneType, 'nDoubleHit': doubleHitCount, 'nBiallelicLoss': doubleHitCount + nCasesBiallelicLoss\n",
    "        })\n",
    "    return pd.DataFrame(listOfDicts)\n",
    "        \n",
    "        "
   ]
  },
  {
   "cell_type": "code",
   "execution_count": 48,
   "metadata": {},
   "outputs": [
    {
     "name": "stderr",
     "output_type": "stream",
     "text": [
      "/anaconda2/lib/python2.7/site-packages/ipykernel_launcher.py:35: SettingWithCopyWarning: \n",
      "A value is trying to be set on a copy of a slice from a DataFrame.\n",
      "Try using .loc[row_indexer,col_indexer] = value instead\n",
      "\n",
      "See the caveats in the documentation: http://pandas.pydata.org/pandas-docs/stable/indexing.html#indexing-view-versus-copy\n",
      "/anaconda2/lib/python2.7/site-packages/ipykernel_launcher.py:36: SettingWithCopyWarning: \n",
      "A value is trying to be set on a copy of a slice from a DataFrame.\n",
      "Try using .loc[row_indexer,col_indexer] = value instead\n",
      "\n",
      "See the caveats in the documentation: http://pandas.pydata.org/pandas-docs/stable/indexing.html#indexing-view-versus-copy\n"
     ]
    }
   ],
   "source": [
    "#TAKES APPROXIMATELY 5 minutes\n",
    "#Load the maf with clonality annotation as its crucial to have clonality info and the normal maf\n",
    "allImpactMutsMaf = pd.read_table(filePathDict['IMPACT_BASE_MAF'])\n",
    "allImpactMutsMaf['varUuid'] = allImpactMutsMaf.apply(lambda row:\n",
    "    row['Tumor_Sample_Barcode'] + '_' + str(row['Start_Position']) + '_' + str(row['Tumor_Seq_Allele2']), axis=1)\n",
    "oncogenicMutIds = set(allImpactMutsMaf[allImpactMutsMaf['oncogenic'].notnull()]['varUuid'])\n",
    "mafWithClonalityAnnotation = pd.read_csv(filePathDict['IMPACT_MAF_WITH_ADJUSTED_CLONALITY_ANNOTATION'])\n",
    "mafWithClonalityAnnotation['varUuid'] = mafWithClonalityAnnotation.apply(lambda row:\n",
    "    row['Tumor_Sample_Barcode'] + '_' + str(row['Start_Position']) + '_' + str(row['Tumor_Seq_Allele2']), axis=1)\n",
    "mafWithClonalityAnnotation['isOncogenic'] = mafWithClonalityAnnotation['varUuid'].apply(lambda x: True if x in oncogenicMutIds else False)\n",
    "\n",
    "#mark caases with whether they have flat genomes and their median vaf\n",
    "flatGenomeCases = clonality_analysis_util.get_facets_whitelist()\n",
    "hypermutantCases = get_gene_and_cohort_list_utils.get_all_hypermutant_ids()\n",
    "hypermutantMaf = mafWithClonalityAnnotation[mafWithClonalityAnnotation['Tumor_Sample_Barcode'].isin(hypermutantCases)]\n",
    "hypermutantMaf['flatGenome'] = hypermutantMaf['Tumor_Sample_Barcode'].apply(lambda x: True if x in flatGenomeCases else False)\n",
    "hypermutantMaf = maf_analysis_utils.mark_cases_with_median_clonal_vaf_of_case(hypermutantMaf)\n",
    "\n",
    "#annotate double hit mutations\n",
    "hypermutantMaf['isDoubleHit'] = hypermutantMaf.apply(lambda row:\n",
    "    clonality_analysis_util.is_mut_double_hit(row, row['flatGenome'], \n",
    " doubleFactor=2), axis=1)\n",
    "hypermutantMaf = clonality_analysis_util.annotate_double_hit_mutations(hypermutantMaf)\n",
    "\n",
    "#focus specifically on double hit drivers\n",
    "driverMaf = hypermutantMaf[hypermutantMaf['isOncogenic'] == True]\n",
    "driverMaf['geneCase'] = driverMaf.apply(lambda row: row['Hugo_Symbol'] + '_' + row['Tumor_Sample_Barcode'], axis=1)\n",
    "occurenceDict = dict(driverMaf['geneCase'].value_counts())                                                                                     \n",
    "driverMaf['isMultiplet'] = driverMaf['geneCase'].apply(lambda x: True if occurenceDict[x] > 1 else False)\n",
    "driverMaf['isLOH'] = driverMaf['lcn'].apply(lambda x: True if x == 0 else False)\n",
    "driverMaf['lossType'] = driverMaf.apply(lambda row: 'LOH' if row['isLOH'] == True\n",
    "    else 'composite_mutation' if row['isMultiplet'] == True else False, axis=1)\n",
    "\n",
    "hypermutantMaf['allele'] = hypermutantMaf.apply(lambda row: str(row['Hugo_Symbol']) + '_' + str(row['HGVSp_Short']), axis=1)\n",
    "driverMaf['allele'] = driverMaf.apply(lambda row: str(row['Hugo_Symbol']) + '_' + str(row['HGVSp_Short']), axis=1)\n",
    "\n",
    "#get a dataframe for plotting that summarizes double hit information\n",
    "df = summarize_double_hit_occurence_data(hypermutantMaf, driverMaf)\n"
   ]
  },
  {
   "cell_type": "code",
   "execution_count": 49,
   "metadata": {},
   "outputs": [],
   "source": [
    "writePath = os.path.join(writeDir, 'figure_2e.tsv')\n",
    "df.to_csv(writePath, index=False, sep='\\t')"
   ]
  }
 ],
 "metadata": {
  "kernelspec": {
   "display_name": "Python 2",
   "language": "python",
   "name": "python2"
  },
  "language_info": {
   "codemirror_mode": {
    "name": "ipython",
    "version": 2
   },
   "file_extension": ".py",
   "mimetype": "text/x-python",
   "name": "python",
   "nbconvert_exporter": "python",
   "pygments_lexer": "ipython2",
   "version": "2.7.15"
  }
 },
 "nbformat": 4,
 "nbformat_minor": 2
}
