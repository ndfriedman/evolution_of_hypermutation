{
 "cells": [
  {
   "cell_type": "code",
   "execution_count": 1,
   "metadata": {},
   "outputs": [],
   "source": [
    "import sys\n",
    "import argparse\n",
    "import os\n",
    "import pandas as pd\n",
    "import numpy as np\n",
    "import numpy\n",
    "import re\n",
    "import math\n",
    "import scipy.stats\n",
    "from collections import Counter\n",
    "from statsmodels.stats.proportion import proportions_ztest\n",
    "from statsmodels.stats.multitest import fdrcorrection\n",
    "\n",
    "notebookPath = 'scripts/figure2'\n",
    "projectDir = re.sub(notebookPath, '', os.getcwd())\n",
    "sys.path.append(os.path.join(projectDir, 'scripts/utilityScripts'))\n",
    "\n",
    "import analysis_utils \n",
    "import mutationSigUtils \n",
    "import maf_analysis_utils\n",
    "import clonality_analysis_util\n",
    "import get_gene_and_cohort_list_utils\n",
    "import configuration_util\n",
    "\n",
    "filePathDict = configuration_util.get_all_files_path_dict()"
   ]
  },
  {
   "cell_type": "code",
   "execution_count": 2,
   "metadata": {},
   "outputs": [],
   "source": [
    "#Set where to write the files\n",
    "writeDir = os.path.join(projectDir, 'scripts/figure2/FIGURE2_PLOTTING_FILES/plotDataFiles/')"
   ]
  },
  {
   "cell_type": "markdown",
   "metadata": {},
   "source": [
    "## Figure 2A\n",
    "Type of driver mutations found in hypermutated tumors"
   ]
  },
  {
   "cell_type": "code",
   "execution_count": 3,
   "metadata": {},
   "outputs": [],
   "source": [
    "#makes a dataframe of counts of oncogenic mutations\n",
    "def make_counts_df(maf, dominantSignatureDict):\n",
    "    \n",
    "    def summarize_counts_for_mutation_type(oMaf, mutationType):\n",
    "        \n",
    "        oncogenes = get_gene_and_cohort_list_utils.get_oncogenes()\n",
    "        tsgs = get_gene_and_cohort_list_utils.get_tsgs()\n",
    "        truncatingConsequences = set(['Frame_Shift_Del', 'Frame_Shift_Ins', 'Nonsense_Mutation'])\n",
    "        \n",
    "        sMaf = None\n",
    "        counts = None\n",
    "        if mutationType == 'tsgTrunc':\n",
    "            sMaf = oncogenicMaf[oncogenicMaf['Hugo_Symbol'].isin(tsgs) &\n",
    "                (oncogenicMaf['Variant_Classification'].isin(truncatingConsequences))]\n",
    "        if mutationType == 'oncogene':\n",
    "            sMaf = oncogenicMaf[oncogenicMaf['Hugo_Symbol'].isin(oncogenes)]\n",
    "        if mutationType == 'tsgMissense':\n",
    "            sMaf = oncogenicMaf[oncogenicMaf['Hugo_Symbol'].isin(tsgs) &\n",
    "                                (~oncogenicMaf['Variant_Classification'].isin(truncatingConsequences))]\n",
    "            \n",
    "        counts = Counter(sMaf['Tumor_Sample_Barcode'])\n",
    "        counts = [(case, count) for case, count in counts.items()] + [(case, 0) for\n",
    "            case in set(allIds) - set(sMaf['Tumor_Sample_Barcode'])] \n",
    "        return dict(counts)\n",
    "\n",
    "    \n",
    "    cancerTypeDict = dict(zip(maf['Tumor_Sample_Barcode'], maf['cancerType']))\n",
    "    allIds = set(maf['Tumor_Sample_Barcode'])\n",
    "    oncogenicMaf = maf[maf['oncogenic'].notnull()]\n",
    "    \n",
    "    tsgTruncatingCounts = summarize_counts_for_mutation_type(oncogenicMaf, 'tsgTrunc')\n",
    "    oncogenicCounts = summarize_counts_for_mutation_type(oncogenicMaf, 'oncogene')\n",
    "    tsgMissenseCounts = summarize_counts_for_mutation_type(oncogenicMaf, 'tsgMissense')\n",
    "    listOfDicts = []\n",
    "    for case in allIds:\n",
    "        listOfDicts.append({'Tumor_Sample_Barcode': case, 'TsgTruncating': tsgTruncatingCounts[case],\n",
    "                            'Oncogene': oncogenicCounts[case], 'TsgMissense': tsgMissenseCounts[case],\n",
    "                            'cancerType': cancerTypeDict[case], \n",
    "                            'dominantSignature': dominantSignatureDict[case] if case in dominantSignatureDict else None\n",
    "                           })\n",
    "    return pd.DataFrame(listOfDicts)\n",
    "\n",
    "def sample_normal_maf(normalCounts, hyperCounts, N=25):\n",
    "    \n",
    "    hyperCancerTypeCounter = Counter(hyperCounts['cancerType'])\n",
    "    normalCancerTypeCounter = Counter(normalCounts['cancerType'])\n",
    "    normalCounts['hypermutatedCount'] = normalCounts['cancerType'].apply(lambda x:\n",
    "            1.0*hyperCancerTypeCounter[x]/normalCancerTypeCounter[x]\n",
    "        if x in hyperCancerTypeCounter else 0)\n",
    "    sampledCounts = normalCounts.sample(frac=N, weights='hypermutatedCount', replace=True)\n",
    "    return sampledCounts\n",
    "   \n",
    "def create_summary_df(df):\n",
    "    listOfDicts = []\n",
    "    for variable in set(df['variable']):\n",
    "        hypermutatedData = df[df['burdenType'] == 'hypermutated']\n",
    "        nonHypermutatedData = df[df['burdenType'] != 'hypermutated']\n",
    "        listOfDicts.append({\n",
    "            'frac': sum(hypermutatedData[hypermutatedData['variable'] == variable]['value'])/1.0*sum(hypermutatedData['value']),\n",
    "            'burdenType': 'hypermutated', 'mutType': variable\n",
    "        })\n",
    "        listOfDicts.append({\n",
    "            'frac': sum(nonHypermutatedData[nonHypermutatedData['variable'] == variable]['value'])/1.0*sum(nonHypermutatedData['value']),\n",
    "            'burdenType': 'non-hypermutated', 'mutType': variable\n",
    "        })\n",
    "    summaryDf = pd.DataFrame(listOfDicts)\n",
    "    return summaryDf\n"
   ]
  },
  {
   "cell_type": "code",
   "execution_count": 4,
   "metadata": {},
   "outputs": [
    {
     "name": "stderr",
     "output_type": "stream",
     "text": [
      "/anaconda2/lib/python2.7/site-packages/ipykernel_launcher.py:1: FutureWarning: read_table is deprecated, use read_csv instead, passing sep='\\t'.\n",
      "  \"\"\"Entry point for launching an IPython kernel.\n",
      "/anaconda2/lib/python2.7/site-packages/IPython/core/interactiveshell.py:2714: DtypeWarning: Columns (4,17,18,40,41,43,44,71,108,124,125,128,129,130,131,132,133,134,135,137) have mixed types. Specify dtype option on import or set low_memory=False.\n",
      "  interactivity=interactivity, compiler=compiler, result=result)\n",
      "/Users/friedman/Desktop/hypermutationProjectFinal/scripts/utilityScripts/get_gene_and_cohort_list_utils.py:273: FutureWarning: read_table is deprecated, use read_csv instead, passing sep='\\t'.\n",
      "  sigsDf = pd.read_table(impactSigsPath)\n",
      "/Users/friedman/Desktop/hypermutationProjectFinal/scripts/utilityScripts/get_gene_and_cohort_list_utils.py:226: FutureWarning: read_table is deprecated, use read_csv instead, passing sep='\\t'.\n",
      "  df = pd.read_table(path)\n",
      "/Users/friedman/Desktop/hypermutationProjectFinal/scripts/utilityScripts/get_gene_and_cohort_list_utils.py:217: FutureWarning: read_table is deprecated, use read_csv instead, passing sep='\\t'.\n",
      "  impactCancerTypeDf = pd.read_table(impactCancerTypeInfoPath)\n",
      "/anaconda2/lib/python2.7/site-packages/ipykernel_launcher.py:19: FutureWarning: Sorting because non-concatenation axis is not aligned. A future version\n",
      "of pandas will change to not sort by default.\n",
      "\n",
      "To accept the future behavior, pass 'sort=False'.\n",
      "\n",
      "To retain the current behavior and silence the warning, pass 'sort=True'.\n",
      "\n"
     ]
    }
   ],
   "source": [
    "allImpactMutsMaf = pd.read_table(filePathDict['IMPACT_BASE_MAF'])\n",
    "dominantSignatureDict = get_gene_and_cohort_list_utils.get_pan_impact_signature_mapping(\n",
    "    filePathDict['IMPACT_SIGNATURE_DECOMPOSITIONS'])\n",
    "allHypermutantIds = get_gene_and_cohort_list_utils.get_all_hypermutant_ids(hypermutantIdDir=filePathDict['HYPERMUTATION_STATUS_IDS'])\n",
    "allNormalIds = get_gene_and_cohort_list_utils.get_all_normal_ids(hypermutantIdDir=filePathDict['HYPERMUTATION_STATUS_IDS'])\n",
    "cancerTypeDict = get_gene_and_cohort_list_utils.get_impact_cancer_type_info(impactCancerTypeInfoPath = filePathDict['CANCER_TYPE_INFO'])\n",
    "\n",
    "allImpactMutsMaf['cancerType'] = allImpactMutsMaf['Tumor_Sample_Barcode'].apply(lambda x: cancerTypeDict[x] if x in cancerTypeDict else None)\n",
    "hypermutatedMaf = allImpactMutsMaf[allImpactMutsMaf['Tumor_Sample_Barcode'].isin(allHypermutantIds)]\n",
    "nonHypermutatedMaf = allImpactMutsMaf[allImpactMutsMaf['Tumor_Sample_Barcode'].isin(allNormalIds)]\n",
    "\n",
    "#Use sampling to get dataframes that match the cancer type distributions\n",
    "dfCountsNormal = make_counts_df(nonHypermutatedMaf, dominantSignatureDict)\n",
    "dfCountsHypermutated = make_counts_df(hypermutatedMaf, dominantSignatureDict)\n",
    "dfCountsNormalSampled = sample_normal_maf(dfCountsNormal, dfCountsHypermutated)\n",
    "\n",
    "dfCountsHypermutated['burdenType'] = 'hypermutated'\n",
    "dfCountsNormalSampled['burdenType'] = 'normal'\n",
    "dfCombined = pd.concat([dfCountsHypermutated, dfCountsNormalSampled])\n",
    "\n",
    "meltedDf = pd.melt(dfCombined, id_vars=['Tumor_Sample_Barcode', 'burdenType'], value_vars=['Oncogene', 'TsgMissense', 'TsgTruncating'])\n",
    "summaryDf = create_summary_df(meltedDf)"
   ]
  },
  {
   "cell_type": "code",
   "execution_count": 11,
   "metadata": {},
   "outputs": [
    {
     "name": "stdout",
     "output_type": "stream",
     "text": [
      "\n"
     ]
    }
   ],
   "source": [
    "writePath = os.path.join(writeDir, 'figure_2a.tsv')\n",
    "summaryDf.to_csv(writePath, index=False, sep='\\t')"
   ]
  },
  {
   "cell_type": "markdown",
   "metadata": {},
   "source": [
    "## Figure 2B\n",
    "Driver mutations in related vs unrelated genes"
   ]
  },
  {
   "cell_type": "code",
   "execution_count": 7,
   "metadata": {},
   "outputs": [],
   "source": [
    "def summarize_related_unrelated_driver_frac(maf, relatedGenesD, tmbDict, relatedGeneSizeDict):\n",
    "    listOfDicts = []\n",
    "    cntr = 0\n",
    "    tsgs = get_gene_and_cohort_list_utils.get_tsgs()\n",
    "    for case in set(maf['Tumor_Sample_Barcode']):\n",
    "        \n",
    "        caseMaf = maf[maf['Tumor_Sample_Barcode'] == case]\n",
    "        cancerType = caseMaf['cancerType'].iloc[0]\n",
    "        \n",
    "        if cancerType in relatedGeneSizeDict:\n",
    "        \n",
    "            relatedGeneSize = relatedGeneSizeDict[cancerType]\n",
    "            tmb = tmbDict[case] if case in tmbDict else None #todo get the real TMB\n",
    "            relatedGenes = relatedGenesD[cancerType]\n",
    "\n",
    "            caseMafRelated = caseMaf[caseMaf['Hugo_Symbol'].isin(relatedGenes)]\n",
    "            caseMafUnrelated = caseMaf[~caseMaf['Hugo_Symbol'].isin(relatedGenes)]\n",
    "            relatedDrivers = caseMafRelated[caseMafRelated['oncogenic'].notnull()]\n",
    "            unrelatedDrivers = caseMafUnrelated[caseMafUnrelated['oncogenic'].notnull()]\n",
    "\n",
    "            nRelatedDrivers = 1.0*relatedDrivers.shape[0]\n",
    "            nUnrelatedDrivers = 1.0*unrelatedDrivers.shape[0]\n",
    "            nTotalRelated = 1.0*caseMafRelated.shape[0]\n",
    "            nTotalUnrelated = 1.0*caseMafUnrelated.shape[0]\n",
    "\n",
    "            listOfDicts.append({'Tumor_Sample_Barcode': case, 'cancerType': cancerType,\n",
    "                                'TMB': tmb, 'nTotalRelated': nTotalRelated, 'nRelatedDriver': nRelatedDrivers,\n",
    "                                'nTotalUnrelated': nTotalUnrelated, 'nUnrelatedDrivers': nUnrelatedDrivers, \n",
    "                                'relatedGeneSize': relatedGeneSize\n",
    "                               })\n",
    "    df = pd.DataFrame(listOfDicts)\n",
    "    return df\n",
    "\n",
    "def summarize_gene_type_lengths(geneLengthDict, geneTypes):\n",
    "    d = {}\n",
    "    for geneType, genes in geneTypes.items():\n",
    "        print 'summarizing', geneType\n",
    "        panelSize = sum([geneLengthDict[gene] if gene in geneLengthDict else 0 for gene in genes])\n",
    "        d[geneType] = panelSize\n",
    "    return d"
   ]
  },
  {
   "cell_type": "code",
   "execution_count": 8,
   "metadata": {},
   "outputs": [
    {
     "name": "stderr",
     "output_type": "stream",
     "text": [
      "/anaconda2/lib/python2.7/site-packages/ipykernel_launcher.py:3: FutureWarning: read_table is deprecated, use read_csv instead, passing sep='\\t'.\n",
      "  This is separate from the ipykernel package so we can avoid doing imports until\n",
      "/anaconda2/lib/python2.7/site-packages/ipykernel_launcher.py:7: SettingWithCopyWarning: \n",
      "A value is trying to be set on a copy of a slice from a DataFrame.\n",
      "Try using .loc[row_indexer,col_indexer] = value instead\n",
      "\n",
      "See the caveats in the documentation: http://pandas.pydata.org/pandas-docs/stable/indexing.html#indexing-view-versus-copy\n",
      "  import sys\n",
      "/Users/friedman/Desktop/hypermutationProjectFinal/scripts/utilityScripts/get_gene_and_cohort_list_utils.py:320: FutureWarning: read_table is deprecated, use read_csv instead, passing sep='\\t'.\n",
      "  allImpactMutsMaf = pd.read_table(impactMafPath) #todo get this in a better way\n",
      "/anaconda2/lib/python2.7/site-packages/IPython/core/interactiveshell.py:2818: DtypeWarning: Columns (4,17,18,40,41,43,44,71,108,124,125,128,129,130,131,132,133,134,135,137) have mixed types. Specify dtype option on import or set low_memory=False.\n",
      "  if self.run_code(code, result):\n",
      "/Users/friedman/Desktop/hypermutationProjectFinal/scripts/utilityScripts/get_gene_and_cohort_list_utils.py:314: SettingWithCopyWarning: \n",
      "A value is trying to be set on a copy of a slice from a DataFrame.\n",
      "Try using .loc[row_indexer,col_indexer] = value instead\n",
      "\n",
      "See the caveats in the documentation: http://pandas.pydata.org/pandas-docs/stable/indexing.html#indexing-view-versus-copy\n",
      "  oncMaf['caseGene'] = oncMaf['Tumor_Sample_Barcode'] + '_' + oncMaf['Hugo_Symbol']\n",
      "/anaconda2/lib/python2.7/site-packages/ipykernel_launcher.py:11: FutureWarning: read_table is deprecated, use read_csv instead, passing sep='\\t'.\n",
      "  # This is added back by InteractiveShellApp.init_path()\n"
     ]
    },
    {
     "name": "stdout",
     "output_type": "stream",
     "text": [
      "summarizing Rhabdoid Cancer\n",
      "summarizing Prostate Cancer\n",
      "summarizing Melanoma\n",
      "summarizing Colorectal Cancer\n",
      "summarizing Head and Neck Cancer\n",
      "summarizing Ovarian Cancer\n",
      "summarizing Blood Cancer, NOS\n",
      "summarizing Hepatobiliary Cancer\n",
      "summarizing Penile Cancer\n",
      "summarizing Small Cell Lung Cancer\n",
      "summarizing Gestational Trophoblastic Disease\n",
      "summarizing Renal Cell Carcinoma\n",
      "summarizing Soft Tissue Sarcoma\n",
      "summarizing Mature T and NK Neoplasms\n",
      "summarizing Salivary Gland Cancer\n",
      "summarizing Cancer of Unknown Primary\n",
      "summarizing Angiomatoid Fibrous Histiocytoma\n",
      "summarizing Pancreatic Cancer\n",
      "summarizing Embryonal Tumor\n",
      "summarizing Pheochromocytoma\n",
      "summarizing Thyroid Cancer\n",
      "summarizing Parathyroid Cancer\n",
      "summarizing Breast Sarcoma\n",
      "summarizing Mesothelioma\n",
      "summarizing Nerve Sheath Tumor\n",
      "summarizing Hodgkin Lymphoma\n",
      "summarizing Uterine Sarcoma\n",
      "summarizing Esophagogastric Cancer\n",
      "summarizing Appendiceal Cancer\n",
      "summarizing Soft Tissue Cancer\n",
      "summarizing Primary CNS Melanocytic Tumors\n",
      "summarizing Anal Cancer\n",
      "summarizing Peritoneal Cancer, NOS\n",
      "summarizing Breast Cancer\n",
      "summarizing Cervical Cancer\n",
      "summarizing Thymic Tumor\n",
      "summarizing Undifferentiated Embryonal Sarcoma of the Liver\n",
      "summarizing Leukemia\n",
      "summarizing Non-Hodgkin Lymphoma\n",
      "summarizing Choroid Plexus Tumor\n",
      "summarizing Gastrointestinal Neuroendocrine Tumor\n",
      "summarizing Renal Neuroendocrine Tumor\n",
      "summarizing Adrenocortical Adenoma\n",
      "summarizing Sellar Tumor\n",
      "summarizing Miscellaneous Brain Tumor\n",
      "summarizing Retinoblastoma\n",
      "summarizing Germ Cell Tumor\n",
      "summarizing T-Lymphoblastic Leukemia/Lymphoma\n",
      "summarizing Wilms Tumor\n",
      "summarizing Bone Cancer\n",
      "summarizing Vaginal Cancer\n",
      "summarizing Myelodysplastic Syndromes\n",
      "summarizing Skin Cancer, Non-Melanoma\n",
      "summarizing Pineal Tumor\n",
      "summarizing Glioma\n",
      "summarizing B-Lymphoblastic Leukemia/Lymphoma\n",
      "summarizing Bladder Cancer\n",
      "summarizing Gastrointestinal Neuroendocrine Tumors of the Esophagus/Stomach\n",
      "summarizing Peripheral Nervous System\n",
      "summarizing Sex Cord Stromal Tumor\n",
      "summarizing Small Bowel Cancer\n",
      "summarizing CNS Cancer\n",
      "summarizing Endometrial Cancer\n",
      "summarizing Non-Small Cell Lung Cancer\n",
      "summarizing Adrenocortical Carcinoma\n",
      "summarizing Ampullary Cancer\n",
      "summarizing Mature B-Cell Neoplasms\n",
      "summarizing Adenocarcinoma In Situ\n",
      "summarizing Histiocytosis\n",
      "summarizing Miscellaneous Neuroepithelial Tumor\n",
      "summarizing Gastrointestinal Stromal Tumor\n",
      "summarizing Tubular Adenoma of the Colon\n"
     ]
    },
    {
     "name": "stderr",
     "output_type": "stream",
     "text": [
      "/Users/friedman/Desktop/hypermutationProjectFinal/scripts/utilityScripts/get_gene_and_cohort_list_utils.py:263: FutureWarning: read_table is deprecated, use read_csv instead, passing sep='\\t'.\n",
      "  df = pd.read_table(tmbFilePath)\n"
     ]
    }
   ],
   "source": [
    "#add related gene size information\n",
    "\n",
    "allImpactMutsMaf = pd.read_table(filePathDict['IMPACT_BASE_MAF'])\n",
    "allHypermutantIds = get_gene_and_cohort_list_utils.get_all_hypermutant_ids(hypermutantIdDir=filePathDict['HYPERMUTATION_STATUS_IDS'])\n",
    "hypermutationMaf = allImpactMutsMaf[allImpactMutsMaf['Tumor_Sample_Barcode'].isin(allHypermutantIds)]\n",
    "cancerTypeDict = get_gene_and_cohort_list_utils.get_impact_cancer_type_info(impactCancerTypeInfoPath = filePathDict['CANCER_TYPE_INFO'])\n",
    "hypermutationMaf['cancerType'] = hypermutationMaf['Tumor_Sample_Barcode'].apply(lambda x: cancerTypeDict[x] if x in cancerTypeDict else None)\n",
    "\n",
    "relatedGenesDict = get_gene_and_cohort_list_utils.get_related_genes_by_cancer_type(thresh = 1.0/30.0, impactMafPath = filePathDict['IMPACT_BASE_MAF'])\n",
    "\n",
    "geneLengthInfo = pd.read_table(filePathDict['GENE_LENGTH_INFO'])\n",
    "geneLengthDict = dict(zip(geneLengthInfo['hgnc_symbol'], geneLengthInfo['nt.length']))\n",
    "\n",
    "#get summary information about indels \n",
    "geneTypeSizeDict = summarize_gene_type_lengths(geneLengthDict, relatedGenesDict)\n",
    "\n",
    "tmbDict = get_gene_and_cohort_list_utils.get_all_tmb_info(tmbFilePath = filePathDict['CASE_TMB_AND_MSI_STATS'])\n",
    "df = summarize_related_unrelated_driver_frac(hypermutationMaf, relatedGenesDict, tmbDict, geneTypeSizeDict)\n"
   ]
  },
  {
   "cell_type": "code",
   "execution_count": 12,
   "metadata": {},
   "outputs": [],
   "source": [
    "writePath = os.path.join(writeDir, 'figure_2b.tsv')\n",
    "df.to_csv(writePath, index=False, sep='\\t')"
   ]
  },
  {
   "cell_type": "code",
   "execution_count": 14,
   "metadata": {},
   "outputs": [
    {
     "name": "stdout",
     "output_type": "stream",
     "text": [
      " test fraction of drivers related and unrelated Ks_2sampResult(statistic=0.8989021043000915, pvalue=0.0)\n"
     ]
    }
   ],
   "source": [
    "print 'test fraction of drivers related and unrelated', scipy.stats.ks_2samp(\n",
    "    np.array(df['nRelatedDriver']/df['nTotalRelated'])\n",
    "    ,np.array(df['nUnrelatedDrivers']/df['nTotalUnrelated']))"
   ]
  },
  {
   "cell_type": "markdown",
   "metadata": {},
   "source": [
    "## Figure 2C\n",
    "Summarize the rate of mutation in MSI tumors in genes in distinct pathways"
   ]
  },
  {
   "cell_type": "code",
   "execution_count": 15,
   "metadata": {},
   "outputs": [],
   "source": [
    "def summarize_mutations_by_pathway(hyperMaf, normalMaf, pathwayDf, pathways = [], cancerTypes = []):\n",
    "    listOfDicts = []\n",
    "    tsgs = get_gene_and_cohort_list_utils.get_tsgs()\n",
    "    impactGenes = get_gene_and_cohort_list_utils.get_im6_genes()\n",
    "    truncatingConsequences = set(['Frame_Shift_Del', 'Frame_Shift_Ins', 'Nonsense_Mutation'])\n",
    "    \n",
    "    for cancerType in cancerTypes:\n",
    "        cancerTypeHyper = hyperMaf[hyperMaf['cancerType'] == cancerType]\n",
    "        cancerTypeNormal = normalMaf[normalMaf['cancerType'] == cancerType]\n",
    "        nHyper = len(set(cancerTypeHyper['Tumor_Sample_Barcode']))\n",
    "        nNormal = len(set(cancerTypeNormal['Tumor_Sample_Barcode']))\n",
    "        for pathway in pathways:\n",
    "            pathwayGenes = set(pathwayDf[pathwayDf['Pathway'] == pathway]['Gene'])\n",
    "        \n",
    "            for gene in pathwayGenes & impactGenes: #only include impact genes\n",
    "                typePathwayHyper = cancerTypeHyper[cancerTypeHyper['Hugo_Symbol'] == gene] \n",
    "                typePathwayNormal = cancerTypeNormal[cancerTypeNormal['Hugo_Symbol'] == gene] \n",
    "\n",
    "                listOfDicts.append({'mutBurden': 'normal', 'pathway': pathway, 'nTotal': nNormal,\n",
    "                                    'cancerType': cancerType, 'gene': gene,\n",
    "                                    'nTruncTsg': len(set(typePathwayNormal[(typePathwayNormal['Variant_Classification'].isin(truncatingConsequences))]['Tumor_Sample_Barcode'])) if gene in tsgs else None, \n",
    "                                    'nVus': len(set(typePathwayNormal[(~typePathwayNormal['Variant_Classification'].isin(truncatingConsequences)) & (typePathwayNormal['oncogenic'].isnull())]['Tumor_Sample_Barcode'])), \n",
    "                                    'nTruncOncogene': len(set(typePathwayNormal[(typePathwayNormal['Variant_Classification'].isin(truncatingConsequences))]['Tumor_Sample_Barcode'])) if gene not in tsgs else None\n",
    "                                   })\n",
    "\n",
    "                listOfDicts.append({'mutBurden': 'hyper', 'pathway': pathway, 'nTotal': nHyper,\n",
    "                                    'cancerType': cancerType,  'gene': gene,\n",
    "                                    'nTruncTsg': len(set(typePathwayHyper[(typePathwayHyper['Variant_Classification'].isin(truncatingConsequences))]['Tumor_Sample_Barcode'])) if gene in tsgs else None, \n",
    "                                    'nVus': len(set(typePathwayHyper[(~typePathwayHyper['Variant_Classification'].isin(truncatingConsequences)) & (typePathwayHyper['oncogenic'].isnull())]['Tumor_Sample_Barcode'])), \n",
    "                                    'nTruncOncogene': len(set(typePathwayHyper[(typePathwayHyper['Variant_Classification'].isin(truncatingConsequences))]['Tumor_Sample_Barcode'])) if gene not in tsgs else None\n",
    "                                   })\n",
    "            \n",
    "            \n",
    "    df= pd.DataFrame(listOfDicts)\n",
    "    df['mutBurdenPathway'] = df['mutBurden'] + '_' + df['pathway']\n",
    "    return df"
   ]
  },
  {
   "cell_type": "code",
   "execution_count": 16,
   "metadata": {},
   "outputs": [
    {
     "name": "stderr",
     "output_type": "stream",
     "text": [
      "/anaconda2/lib/python2.7/site-packages/ipykernel_launcher.py:5: FutureWarning: read_table is deprecated, use read_csv instead, passing sep='\\t'.\n",
      "  \"\"\"\n",
      "/Users/friedman/Desktop/hypermutationProjectFinal/scripts/utilityScripts/get_gene_and_cohort_list_utils.py:252: FutureWarning: read_table is deprecated, use read_csv instead, passing sep='\\t'.\n",
      "  msiInfoDf = pd.read_table(msiInfoFilePath)\n"
     ]
    }
   ],
   "source": [
    "pathwayData = pd.read_csv(filePathDict['CANCER_PATHWAY_DATA'])\n",
    "#add INPPL1 and JAK1 to PI3K signaling class\n",
    "pathwayData = pd.concat([pathwayData, pd.DataFrame([{'Gene': 'INPPL1', 'Pathway': 'PI3K'}, {'Gene': 'JAK1', 'Pathway': 'PI3K'}])])\n",
    "\n",
    "allImpactMutsMaf = pd.read_table(filePathDict['IMPACT_BASE_MAF'])\n",
    "\n",
    "cancerTypeDict = get_gene_and_cohort_list_utils.get_impact_cancer_type_info(impactCancerTypeInfoPath=filePathDict['CANCER_TYPE_INFO'])\n",
    "allImpactMutsMaf['cancerType'] = allImpactMutsMaf['Tumor_Sample_Barcode'].apply(lambda x: cancerTypeDict[x] if x in cancerTypeDict else None)\n",
    "msiCases = get_gene_and_cohort_list_utils.get_msi_cases(msiInfoFilePath = filePathDict['CASE_TMB_AND_MSI_STATS'], msiScoreThresh=10)\n",
    "allMsiCasesMaf = allImpactMutsMaf[(allImpactMutsMaf['Tumor_Sample_Barcode'].isin(msiCases))]\n",
    "\n",
    "allNormalIds = get_gene_and_cohort_list_utils.get_all_normal_ids(hypermutantIdDir=filePathDict['HYPERMUTATION_STATUS_IDS'])\n",
    "normalMaf = allImpactMutsMaf[allImpactMutsMaf['Tumor_Sample_Barcode'].isin(allNormalIds)]\n",
    "\n",
    "\n",
    "pathwayData = pd.concat([pathwayData, pd.DataFrame([{'Gene': 'INPPL1', 'Pathway': 'PI3K'}, {'Gene': 'JAK1', 'Pathway': 'PI3K'}])])\n",
    "df = summarize_mutations_by_pathway(allMsiCasesMaf, normalMaf, pathwayData, pathways = ['WNT', 'PI3K'],\n",
    "                                cancerTypes = ['Colorectal Cancer', 'Endometrial Cancer'])\n"
   ]
  },
  {
   "cell_type": "code",
   "execution_count": 17,
   "metadata": {},
   "outputs": [],
   "source": [
    "writePath = os.path.join(writeDir, 'figure_2c.tsv')\n",
    "df.to_csv(writePath, index=False, sep='\\t')"
   ]
  },
  {
   "cell_type": "markdown",
   "metadata": {},
   "source": [
    "## Figure 2D\n",
    "Summarizing composite mutation"
   ]
  },
  {
   "cell_type": "code",
   "execution_count": 18,
   "metadata": {},
   "outputs": [
    {
     "name": "stderr",
     "output_type": "stream",
     "text": [
      "/anaconda2/lib/python2.7/site-packages/ipykernel_launcher.py:1: FutureWarning: read_table is deprecated, use read_csv instead, passing sep='\\t'.\n",
      "  \"\"\"Entry point for launching an IPython kernel.\n",
      "/anaconda2/lib/python2.7/site-packages/IPython/core/interactiveshell.py:2714: DtypeWarning: Columns (4,17,18,43,44,71,72,125,128,129,130,131,132,133,134,137,140,141,142) have mixed types. Specify dtype option on import or set low_memory=False.\n",
      "  interactivity=interactivity, compiler=compiler, result=result)\n"
     ]
    }
   ],
   "source": [
    "mafWithMutationAttribution = pd.read_table(filePathDict['MAF_WITH_MUTATION_ATTRIBUTION'])\n",
    "mafWithMutationAttribution = mafWithMutationAttribution[mafWithMutationAttribution['oncogenic'].notnull()]\n",
    "tsgs = get_gene_and_cohort_list_utils.get_tsgs()\n",
    "cancerTypeDict = get_gene_and_cohort_list_utils.get_impact_cancer_type_info(impactCancerTypeInfoPath = filePathDict['CANCER_TYPE_INFO'])\n",
    "mafWithMutationAttribution['cancerType'] = mafWithMutationAttribution['Tumor_Sample_Barcode'].apply(lambda x: cancerTypeDict[x] if x in cancerTypeDict else None)\n",
    "relatedGenesDict = get_gene_and_cohort_list_utils.get_related_genes_by_cancer_type(thresh = 1.0/30.0, impactMafPath = filePathDict['IMPACT_BASE_MAF'])\n",
    "\n",
    "dominantSignatureDict = get_gene_and_cohort_list_utils.get_pan_impact_signature_mapping(\n",
    "    filePathDict['IMPACT_SIGNATURE_DECOMPOSITIONS'])\n",
    "mafWithMutationAttribution['dominantSignature'] = mafWithMutationAttribution['Tumor_Sample_Barcode'].apply(lambda x:\n",
    "                            dominantSignatureDict[x] if x in dominantSignatureDict else None)\n",
    "mafWithMutationAttribution['related'] = mafWithMutationAttribution.apply(lambda row:\n",
    "                'related' if row['cancerType'] in relatedGenesDict and row['Hugo_Symbol'] in relatedGenesDict[row['cancerType']]\n",
    "                           else 'not-related', axis=1)\n",
    "truncatingConsequences = set(['Frame_Shift_Del', 'Frame_Shift_Ins', 'Nonsense_Mutation'])\n",
    "mafWithMutationAttribution['geneType'] = mafWithMutationAttribution.apply(lambda row:\n",
    "    'tsg_truncating' if row['Hugo_Symbol'] in tsgs and row['Variant_Classification'] in truncatingConsequences\n",
    "    else 'tsg_missense' if row['Hugo_Symbol'] in tsgs\n",
    "    else 'oncogene', axis=1)\n",
    "\n",
    "mafWithMutationAttribution['hypermutationInduced'] = mafWithMutationAttribution['hypermutationInduced'].apply(lambda x:\n",
    "    'Almost certain' if x == 'hyperInduced'\n",
    "    else 'Possible' if x == 'unclear'\n",
    "    else 'Unlikely' if x == 'notHyperAttributable'\n",
    "           else None)\n",
    "\n",
    "\n",
    "mafWithMutationAttribution['geneCase'] = mafWithMutationAttribution.apply(lambda row: row['Tumor_Sample_Barcode'] + '_' + row['Hugo_Symbol'], axis=1)\n",
    "mutCounts = mafWithMutationAttribution['geneCase'].value_counts()\n",
    "mafWithMutationAttribution['isComposite'] = mafWithMutationAttribution['geneCase'].apply(lambda x:\n",
    "            1 if x in mutCounts and mutCounts[x] > 1 else 0)\n",
    "mafWithMutationAttribution['dominantSignatureAdj'] = mafWithMutationAttribution['dominantSignature'].apply(lambda x:\n",
    "    '_MMR' if x == 'mean_1' or x == 'mean_MMR'\n",
    "    else '_SMOKING' if x == 'mean_SMOKING'\n",
    "    else '_APOBEC' if x == 'mean_APOBEC'\n",
    "    else '_POLE' if x == 'mean_10'\n",
    "    else '_TMZ' if x == 'mean_11'\n",
    "    else '_UV' if x == 'mean_7'\n",
    "    else 'other')\n"
   ]
  },
  {
   "cell_type": "code",
   "execution_count": 19,
   "metadata": {},
   "outputs": [],
   "source": [
    "writeMaf = mafWithMutationAttribution[['Hugo_Symbol', 'hypermutationInduced', 'isComposite', 'geneType', 'related', 'dominantSignatureAdj']]\n",
    "writePath = os.path.join(writeDir, 'figure_2d.tsv')\n",
    "writeMaf.to_csv(writePath, index=False, sep='\\t')"
   ]
  },
  {
   "cell_type": "markdown",
   "metadata": {},
   "source": [
    "## Figure 2E\n",
    "Phasing mutations in hypermutated tumors"
   ]
  },
  {
   "cell_type": "code",
   "execution_count": 20,
   "metadata": {},
   "outputs": [
    {
     "name": "stderr",
     "output_type": "stream",
     "text": [
      "/anaconda2/lib/python2.7/site-packages/ipykernel_launcher.py:2: FutureWarning: read_table is deprecated, use read_csv instead, passing sep='\\t'.\n",
      "  \n",
      "/anaconda2/lib/python2.7/site-packages/IPython/core/interactiveshell.py:2714: DtypeWarning: Columns (5,45,92,93,112,113) have mixed types. Specify dtype option on import or set low_memory=False.\n",
      "  interactivity=interactivity, compiler=compiler, result=result)\n",
      "/anaconda2/lib/python2.7/site-packages/ipykernel_launcher.py:13: SettingWithCopyWarning: \n",
      "A value is trying to be set on a copy of a slice from a DataFrame.\n",
      "Try using .loc[row_indexer,col_indexer] = value instead\n",
      "\n",
      "See the caveats in the documentation: http://pandas.pydata.org/pandas-docs/stable/indexing.html#indexing-view-versus-copy\n",
      "  del sys.path[0]\n",
      "/anaconda2/lib/python2.7/site-packages/ipykernel_launcher.py:33: SettingWithCopyWarning: \n",
      "A value is trying to be set on a copy of a slice from a DataFrame.\n",
      "Try using .loc[row_indexer,col_indexer] = value instead\n",
      "\n",
      "See the caveats in the documentation: http://pandas.pydata.org/pandas-docs/stable/indexing.html#indexing-view-versus-copy\n",
      "/anaconda2/lib/python2.7/site-packages/ipykernel_launcher.py:35: SettingWithCopyWarning: \n",
      "A value is trying to be set on a copy of a slice from a DataFrame.\n",
      "Try using .loc[row_indexer,col_indexer] = value instead\n",
      "\n",
      "See the caveats in the documentation: http://pandas.pydata.org/pandas-docs/stable/indexing.html#indexing-view-versus-copy\n"
     ]
    }
   ],
   "source": [
    "#load in phasing data, focus on hypermutated cases\n",
    "phasingData = pd.read_table(filePathDict['PHASING_DATA'])\n",
    "allHypermutantIds = get_gene_and_cohort_list_utils.get_all_hypermutant_ids(\n",
    "    hypermutantIdDir=filePathDict['HYPERMUTATION_STATUS_IDS'])\n",
    "phasingHyper = phasingData[phasingData['Tumor_Sample_Barcode'].isin(allHypermutantIds)]\n",
    "\n",
    "#Whitelist cases: cases with purity = NA with flat genomes (rather than bad facets fits)\n",
    "#The phasing algorithm marks these cases as trans or separate cells, but because we know hte purity =NA comes from a flat genome we can mark them as trans\n",
    "#this is important because many of our hypermutated cases fit this description\n",
    "whitelistFlatGenomeCases = clonality_analysis_util.get_facets_whitelist()\n",
    "phasingHyper['adjPhase'] = phasingHyper.apply(lambda row: \n",
    "    'trans' if row['phase'] == 'trans or separate cells' and row['Tumor_Sample_Barcode'] in whitelistFlatGenomeCases\n",
    "    else row['phase'], axis=1)\n",
    "\n",
    "dictionaryOfRelatedGenes = get_gene_and_cohort_list_utils.get_related_genes_by_cancer_type()\n",
    "\n",
    "#Prepare data for plotting\n",
    "plotThresh = 5\n",
    "genesToHighlight = [key for key, value in dict(phasingHyper[(phasingHyper['oncogenic.1'].notnull()) & (phasingHyper['oncogenic.2'].notnull()) & (phasingHyper['adjPhase'].isin(['cis', 'trans']))][\n",
    "    'Hugo_Symbol'].value_counts()).items() if value > plotThresh]\n",
    "\n",
    "phasingHyper['label'] = phasingHyper.apply(lambda row: \n",
    "                                           '1 or 2 silent' if (row['Variant_Classification.1'] == 'Silent') | (row['Variant_Classification.2'] == 'Silent')\n",
    "                                           else '1 or 2 VUS'\n",
    "                                               if (not isinstance(row['oncogenic.1'], str)) | (not isinstance(row['oncogenic.2'], str))\n",
    "                                           else row['Hugo_Symbol'] if row['Hugo_Symbol'] in genesToHighlight\n",
    "                                           \n",
    "                                           else 'related_tsg' if row['Role'] == 'TSG' and row['CANCER_TYPE'] in dictionaryOfRelatedGenes and row['Hugo_Symbol'] in dictionaryOfRelatedGenes[row['CANCER_TYPE']]\n",
    "                                           else 'related_oncogene' if row['Role'] != 'TSG' and row['CANCER_TYPE'] in dictionaryOfRelatedGenes and row['Hugo_Symbol'] in dictionaryOfRelatedGenes[row['CANCER_TYPE']]\n",
    "                                           \n",
    "                                           else 'other_tsg' if row['Role'] == 'TSG'\n",
    "                                           else 'other_oncogene' if row['Role'] == 'Oncogene'\n",
    "                                           else 'other', axis=1)\n",
    "\n",
    "phasingHyper['isTrans'] = phasingHyper['adjPhase'].apply(lambda x: 1 if x == 'trans' else 0 if x == 'cis' else None)\n",
    "phasingHyperWrite = phasingHyper[phasingHyper['isTrans'].notnull()]"
   ]
  },
  {
   "cell_type": "code",
   "execution_count": 21,
   "metadata": {},
   "outputs": [],
   "source": [
    "writePath = os.path.join(writeDir, 'figure_2e.tsv')\n",
    "phasingHyper.to_csv(writePath, index=False, sep='\\t')"
   ]
  },
  {
   "cell_type": "code",
   "execution_count": 20,
   "metadata": {},
   "outputs": [
    {
     "name": "stdout",
     "output_type": "stream",
     "text": [
      "Fishers exact test: (9.457219251336898, 2.1550482224061378e-13)\n"
     ]
    }
   ],
   "source": [
    "#significance test to show tsgs are significantly more likely to be mutated in trans\n",
    "tsgPhasing = phasingHyper[phasingHyper['label'].isin(['APC', 'ARID1A', 'B2M', 'PTEN', \n",
    "                                                      'TP53', 'other_tsg', 'related_tsg'])]\n",
    "oncogenePhasing = phasingHyper[phasingHyper['label'].isin(['PIK3CA', 'TERT', 'other_oncogene', 'related_oncogene'])]\n",
    "nTsgTrans = tsgPhasing[tsgPhasing['adjPhase'] == 'trans'].shape[0]\n",
    "nTsgCis = tsgPhasing[tsgPhasing['adjPhase'] == 'cis'].shape[0]\n",
    "nOncogeneTrans = oncogenePhasing[oncogenePhasing['adjPhase'] == 'trans'].shape[0]\n",
    "nOncogeneCis = oncogenePhasing[oncogenePhasing['adjPhase'] == 'cis'].shape[0]\n",
    "\n",
    "print 'Fishers exact test:', scipy.stats.fisher_exact([[nTsgTrans, nTsgCis], [nOncogeneTrans, nOncogeneCis]])"
   ]
  }
 ],
 "metadata": {
  "kernelspec": {
   "display_name": "Python 2",
   "language": "python",
   "name": "python2"
  },
  "language_info": {
   "codemirror_mode": {
    "name": "ipython",
    "version": 2
   },
   "file_extension": ".py",
   "mimetype": "text/x-python",
   "name": "python",
   "nbconvert_exporter": "python",
   "pygments_lexer": "ipython2",
   "version": "2.7.15"
  }
 },
 "nbformat": 4,
 "nbformat_minor": 2
}
