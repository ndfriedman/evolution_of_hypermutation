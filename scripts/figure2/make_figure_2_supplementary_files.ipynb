{
 "cells": [
  {
   "cell_type": "code",
   "execution_count": 1,
   "metadata": {},
   "outputs": [],
   "source": [
    "import sys\n",
    "import argparse\n",
    "import os\n",
    "import pandas as pd\n",
    "import numpy as np\n",
    "import math\n",
    "import re\n",
    "import sys\n",
    "import scipy\n",
    "from collections import Counter\n",
    "from statsmodels.stats.proportion import proportions_ztest\n",
    "from statsmodels.stats.multitest import fdrcorrection\n",
    "\n",
    "notebookPath = 'scripts/figure2'\n",
    "projectDir = re.sub(notebookPath, '', os.getcwd())\n",
    "sys.path.append(os.path.join(projectDir, 'scripts/utilityScripts'))\n",
    "\n",
    "sys.path.append('/Users/friedman/Desktop/hypermutationProjectFinal/scripts/utilityScripts')\n",
    "import configuration_util\n",
    "import analysis_utils \n",
    "import mutationSigUtils \n",
    "import maf_analysis_utils\n",
    "import clonality_analysis_util\n",
    "import get_gene_and_cohort_list_utils\n",
    "import attribute_mutations_to_signatures\n",
    "\n",
    "filePathDict = configuration_util.get_all_files_path_dict()"
   ]
  },
  {
   "cell_type": "code",
   "execution_count": 2,
   "metadata": {},
   "outputs": [],
   "source": [
    "#Set where to write the files\n",
    "writeDir = os.path.join(projectDir, 'scripts/figure2/FIGURE2_PLOTTING_FILES/plotDataFiles/')"
   ]
  },
  {
   "cell_type": "markdown",
   "metadata": {},
   "source": [
    "## Figure 2S(a)\n",
    "Driver mutation types in hypermutated tumors by signature"
   ]
  },
  {
   "cell_type": "code",
   "execution_count": 3,
   "metadata": {},
   "outputs": [],
   "source": [
    "def make_counts_df(maf, dominantSignatureDict):\n",
    "    \n",
    "    def summarize_counts_for_mutation_type(oMaf, mutationType):\n",
    "        \n",
    "        oncogenes = get_gene_and_cohort_list_utils.get_oncogenes()\n",
    "        tsgs = get_gene_and_cohort_list_utils.get_tsgs()\n",
    "        truncatingConsequences = set(['Frame_Shift_Del', 'Frame_Shift_Ins', 'Nonsense_Mutation'])\n",
    "        \n",
    "        sMaf = None\n",
    "        counts = None\n",
    "        if mutationType == 'tsgTrunc':\n",
    "            sMaf = oncogenicMaf[oncogenicMaf['Hugo_Symbol'].isin(tsgs) &\n",
    "                (oncogenicMaf['Variant_Classification'].isin(truncatingConsequences))]\n",
    "        if mutationType == 'oncogene':\n",
    "            sMaf = oncogenicMaf[oncogenicMaf['Hugo_Symbol'].isin(oncogenes)]\n",
    "        if mutationType == 'tsgMissense':\n",
    "            sMaf = oncogenicMaf[oncogenicMaf['Hugo_Symbol'].isin(tsgs) &\n",
    "                                (~oncogenicMaf['Variant_Classification'].isin(truncatingConsequences))]\n",
    "            \n",
    "        counts = Counter(sMaf['Tumor_Sample_Barcode'])\n",
    "        counts = [(case, count) for case, count in counts.items()] + [(case, 0) for\n",
    "            case in set(allIds) - set(sMaf['Tumor_Sample_Barcode'])] \n",
    "        return dict(counts)\n",
    "\n",
    "    \n",
    "    cancerTypeDict = dict(zip(maf['Tumor_Sample_Barcode'], maf['cancerType']))\n",
    "    allIds = set(maf['Tumor_Sample_Barcode'])\n",
    "    oncogenicMaf = maf[maf['oncogenic'].notnull()]\n",
    "    \n",
    "    tsgTruncatingCounts = summarize_counts_for_mutation_type(oncogenicMaf, 'tsgTrunc')\n",
    "    oncogenicCounts = summarize_counts_for_mutation_type(oncogenicMaf, 'oncogene')\n",
    "    tsgMissenseCounts = summarize_counts_for_mutation_type(oncogenicMaf, 'tsgMissense')\n",
    "    listOfDicts = []\n",
    "    for case in allIds:\n",
    "        listOfDicts.append({'Tumor_Sample_Barcode': case, 'TsgTruncating': tsgTruncatingCounts[case],\n",
    "                            'Oncogene': oncogenicCounts[case], 'TsgMissense': tsgMissenseCounts[case],\n",
    "                            'cancerType': cancerTypeDict[case], \n",
    "                            'dominantSignature': dominantSignatureDict[case] if case in dominantSignatureDict else None\n",
    "                           })\n",
    "    return pd.DataFrame(listOfDicts)"
   ]
  },
  {
   "cell_type": "code",
   "execution_count": 4,
   "metadata": {},
   "outputs": [
    {
     "name": "stderr",
     "output_type": "stream",
     "text": [
      "/anaconda2/lib/python2.7/site-packages/ipykernel_launcher.py:2: FutureWarning: read_table is deprecated, use read_csv instead, passing sep='\\t'.\n",
      "  \n",
      "/anaconda2/lib/python2.7/site-packages/IPython/core/interactiveshell.py:2714: DtypeWarning: Columns (4,17,18,40,41,43,44,71,108,124,125,128,129,130,131,132,133,134,135,137) have mixed types. Specify dtype option on import or set low_memory=False.\n",
      "  interactivity=interactivity, compiler=compiler, result=result)\n",
      "/Users/friedman/Desktop/hypermutationProjectFinal/scripts/utilityScripts/get_gene_and_cohort_list_utils.py:217: FutureWarning: read_table is deprecated, use read_csv instead, passing sep='\\t'.\n",
      "  impactCancerTypeDf = pd.read_table(impactCancerTypeInfoPath)\n",
      "/Users/friedman/Desktop/hypermutationProjectFinal/scripts/utilityScripts/get_gene_and_cohort_list_utils.py:226: FutureWarning: read_table is deprecated, use read_csv instead, passing sep='\\t'.\n",
      "  df = pd.read_table(path)\n",
      "/Users/friedman/Desktop/hypermutationProjectFinal/scripts/utilityScripts/get_gene_and_cohort_list_utils.py:273: FutureWarning: read_table is deprecated, use read_csv instead, passing sep='\\t'.\n",
      "  sigsDf = pd.read_table(impactSigsPath)\n"
     ]
    }
   ],
   "source": [
    "#set up a maf of hypermutated cancers with cancer type annotation\n",
    "allImpactMutsMaf = pd.read_table(filePathDict['IMPACT_BASE_MAF'])\n",
    "cancerTypeDict = get_gene_and_cohort_list_utils.get_impact_cancer_type_info(impactCancerTypeInfoPath = filePathDict['CANCER_TYPE_INFO'])\n",
    "allHypermutantIds = get_gene_and_cohort_list_utils.get_all_hypermutant_ids(hypermutantIdDir=filePathDict['HYPERMUTATION_STATUS_IDS'])\n",
    "dominantSignatureDict = get_gene_and_cohort_list_utils.get_pan_impact_signature_mapping(\n",
    "    filePathDict['IMPACT_SIGNATURE_DECOMPOSITIONS'])\n",
    "allImpactMutsMaf['cancerType'] = allImpactMutsMaf['Tumor_Sample_Barcode'].apply(lambda x: cancerTypeDict[x] if x in cancerTypeDict else None)\n",
    "hypermutatedMaf = allImpactMutsMaf[allImpactMutsMaf['Tumor_Sample_Barcode'].isin(allHypermutantIds)]\n",
    "\n",
    "#get counts of mutations\n",
    "dfCountsHypermutated = make_counts_df(hypermutatedMaf, dominantSignatureDict)\n",
    "meltedDf2 = pd.melt(dfCountsHypermutated, id_vars=['dominantSignature'], value_vars=['Oncogene', 'TsgMissense', 'TsgTruncating'])\n",
    "meltedDf2['dominantSignatureAdj'] = meltedDf2['dominantSignature'].apply(lambda x:\n",
    "    '_MMR' if x == 'mean_1' or x == 'mean_MMR'\n",
    "    else '_SMOKING' if x == 'mean_SMOKING'\n",
    "    else '_APOBEC' if x == 'mean_APOBEC'\n",
    "    else '_POLE' if x == 'mean_10'\n",
    "    else '_TMZ' if x == 'mean_11'\n",
    "    else '_UV' if x == 'mean_7'\n",
    "    else 'other')\n",
    "\n",
    "meltedDf2['frac'] = meltedDf2.apply(lambda row:\n",
    "    1.0*row['value']/sum(meltedDf2[meltedDf2['dominantSignatureAdj'] == row['dominantSignatureAdj']]['value']), axis=1)\n"
   ]
  },
  {
   "cell_type": "code",
   "execution_count": 5,
   "metadata": {},
   "outputs": [],
   "source": [
    "writePath = os.path.join(writeDir, 'figureS2_a.tsv')\n",
    "meltedDf2.to_csv(writePath, index=False, sep='\\t')"
   ]
  },
  {
   "cell_type": "markdown",
   "metadata": {},
   "source": [
    "## Figure 2S(b)\n",
    "Mutation attribution for hypermutated tumors"
   ]
  },
  {
   "cell_type": "code",
   "execution_count": 6,
   "metadata": {},
   "outputs": [
    {
     "name": "stderr",
     "output_type": "stream",
     "text": [
      "/anaconda2/lib/python2.7/site-packages/ipykernel_launcher.py:1: FutureWarning: read_table is deprecated, use read_csv instead, passing sep='\\t'.\n",
      "  \"\"\"Entry point for launching an IPython kernel.\n",
      "/anaconda2/lib/python2.7/site-packages/IPython/core/interactiveshell.py:2714: DtypeWarning: Columns (4,17,18,43,44,71,72,125,128,129,130,131,132,133,134,137,140,141,142) have mixed types. Specify dtype option on import or set low_memory=False.\n",
      "  interactivity=interactivity, compiler=compiler, result=result)\n"
     ]
    }
   ],
   "source": [
    "mafWithMutationAttribution = pd.read_table(filePathDict['MAF_WITH_MUTATION_ATTRIBUTION'])\n",
    "tsgs = get_gene_and_cohort_list_utils.get_tsgs()\n",
    "oncogenicConsequences = ['Likely Oncogenic', 'Oncogenic', 'Predicted Oncogenic']\n",
    "mafWithMutationAttribution['geneType'] = mafWithMutationAttribution.apply(lambda row:\n",
    "        'TSG_truncating' if row['Hugo_Symbol'] in tsgs and row['Variant_Classification'] in ['Nonsense_Mutation', 'Frame_Shift_Del', 'Frame_Shift_Ins'] and row['oncogenic'] in oncogenicConsequences \n",
    "        else 'TSG_missense' if row['Hugo_Symbol'] in tsgs and row['oncogenic'] in oncogenicConsequences\n",
    "        else 'Oncogene' if row['oncogenic'] in oncogenicConsequences\n",
    "        else 'VUS', axis=1\n",
    ")\n",
    "mafWithMutationAttribution['hypermutationInduced'] = mafWithMutationAttribution['hypermutationInduced'].apply(lambda x:\n",
    "    'Almost certain' if x == 'hyperInduced'\n",
    "    else 'Possible' if x == 'unclear'\n",
    "    else 'Unlikely' if x == 'notHyperAttributable'\n",
    "            else None)"
   ]
  },
  {
   "cell_type": "code",
   "execution_count": 7,
   "metadata": {},
   "outputs": [],
   "source": [
    "writeMaf = mafWithMutationAttribution[['geneType', 'hypermutationInduced', 'Hugo_Symbol', 'HGVSp_Short']]\n",
    "writePath = os.path.join(writeDir, 'figureS2_b.tsv')\n",
    "writeMaf.to_csv(writePath, index=False, sep='\\t')"
   ]
  },
  {
   "cell_type": "code",
   "execution_count": 8,
   "metadata": {},
   "outputs": [
    {
     "name": "stdout",
     "output_type": "stream",
     "text": [
      "78.3807312826\n"
     ]
    }
   ],
   "source": [
    "#Percent truncating mutations due to signatures\n",
    "tsgTruncMaf = mafWithMutationAttribution[(mafWithMutationAttribution['geneType'] == 'TSG_truncating')]\n",
    "print (tsgTruncMaf[tsgTruncMaf['hypermutationInduced'] != 'Unlikely'].shape[0]*100.)/tsgTruncMaf.shape[0]"
   ]
  },
  {
   "cell_type": "markdown",
   "metadata": {},
   "source": [
    "## Figure 2S(c)\n",
    "Summary of all possible drivers in IMPACT"
   ]
  },
  {
   "cell_type": "code",
   "execution_count": 9,
   "metadata": {},
   "outputs": [],
   "source": [
    "def summarize_all_possible_drivers(allPossibleMutations):\n",
    "    genes = set(allPossibleMutations['Hugo_Symbol'])\n",
    "    tsgs = get_gene_and_cohort_list_utils.get_tsgs()\n",
    "    total = 0\n",
    "    tsgTrunc = 0\n",
    "    tsgOncogenic = 0\n",
    "    oncogene = 0\n",
    "    for gene in genes:\n",
    "        geneGroup = dict(allPossibleMutations[allPossibleMutations['Hugo_Symbol'] == gene].iloc[0])\n",
    "        if gene in tsgs:\n",
    "            tsgTrunc += np.nansum([value for key, value in geneGroup.items() if 'truncating' in key])\n",
    "            tsgOncogenic += np.nansum([value for key, value in geneGroup.items() if 'oncogenic' in key])\n",
    "            total += np.nansum([value for key, value in geneGroup.items() if 'nonSilent' in key])\n",
    "        else:\n",
    "            total += np.nansum([value for key, value in geneGroup.items() if 'nonSilent' in key])\n",
    "            oncogene += np.nansum([value for key, value in geneGroup.items() if 'oncogenic' in key])\n",
    "    vus = total - oncogene - tsgOncogenic\n",
    "    tsgMissense = tsgOncogenic - tsgTrunc\n",
    "    df = pd.DataFrame([{'mutationType':'VUS', 'number': vus}, \n",
    "                        {'mutationType':'TSG_MISSENSE', 'number': tsgMissense},\n",
    "                       {'mutationType': 'TSG_TRUNCATING', 'number': tsgTrunc},\n",
    "                      {'mutationType':'ONCOGENE', 'number':oncogene}])\n",
    "    return df\n",
    "        "
   ]
  },
  {
   "cell_type": "code",
   "execution_count": 10,
   "metadata": {},
   "outputs": [
    {
     "name": "stderr",
     "output_type": "stream",
     "text": [
      "/anaconda2/lib/python2.7/site-packages/ipykernel_launcher.py:1: FutureWarning: read_table is deprecated, use read_csv instead, passing sep='\\t'.\n",
      "  \"\"\"Entry point for launching an IPython kernel.\n"
     ]
    }
   ],
   "source": [
    "dfAllPossibleMutations = pd.read_table(filePathDict['ALL_POSSIBLE_MUTATION_SUMMARY'])\n",
    "df = summarize_all_possible_drivers(dfAllPossibleMutations)\n"
   ]
  },
  {
   "cell_type": "code",
   "execution_count": 11,
   "metadata": {},
   "outputs": [],
   "source": [
    "writePath = os.path.join(writeDir, 'figureS2_c.tsv')\n",
    "df.to_csv(writePath, index=False, sep='\\t')"
   ]
  },
  {
   "cell_type": "markdown",
   "metadata": {},
   "source": [
    "## Figure 2S(d)\n",
    "Fraction drivers in related genes"
   ]
  },
  {
   "cell_type": "code",
   "execution_count": 12,
   "metadata": {},
   "outputs": [],
   "source": [
    "def summarize_obs_vs_expected_by_gene_type(maf, relatedGenesDict, expectedDf, cancerTypeDict):\n",
    "    impact341Genes = get_gene_and_cohort_list_utils.get_im3_genes()\n",
    "    expectedDf = expectedDf[expectedDf['gene'].isin(impact341Genes)]\n",
    "    maf = maf[maf['Hugo_Symbol'].isin(impact341Genes)]\n",
    "    oncSnpMaf = maf[(maf['oncogenic'].notnull()) & (maf['Variant_Type'] == 'SNP')]\n",
    "    mutCounts = dict(maf['Tumor_Sample_Barcode'].value_counts())\n",
    "    listOfDicts = []\n",
    "    cntr = 0\n",
    "    for case, cancerType in cancerTypeDict.items():\n",
    "        if case in set(maf['Tumor_Sample_Barcode']) and case in set(expectedDf['case']):\n",
    "        \n",
    "            if cntr%50 == 0: print cntr,\n",
    "            caseMaf = oncSnpMaf[oncSnpMaf['Tumor_Sample_Barcode'] == case]\n",
    "            caseExpectation = expectedDf[expectedDf['case'] == case]\n",
    "            relatedGenes = relatedGenesDict[cancerType]\n",
    "\n",
    "            relatedGenesMaf = caseMaf[caseMaf['Hugo_Symbol'].isin(relatedGenes)]\n",
    "            notRelatedGenesMaf = caseMaf[~caseMaf['Hugo_Symbol'].isin(relatedGenes)]\n",
    "            relatedGenesExpected = caseExpectation[caseExpectation['gene'].isin(relatedGenes)]\n",
    "            notRelatedGenesExpected = caseExpectation[~caseExpectation['gene'].isin(relatedGenes)]\n",
    "\n",
    "            listOfDicts.append({'cancerType': cancerType, 'Tumor_Sample_Barcode': case,\n",
    "                                'nmut_IM341': mutCounts[case],\n",
    "                'nRelatedObserved': relatedGenesMaf.shape[0],\n",
    "                'nUnrelatedObserved': notRelatedGenesMaf.shape[0],\n",
    "                'nRelatedExpected': mutCounts[case]*sum(relatedGenesExpected['oncogenicChance']),\n",
    "                'nUnrelatedExpected': mutCounts[case]*sum(notRelatedGenesExpected['oncogenicChance'])\n",
    "            })\n",
    "\n",
    "            cntr += 1\n",
    "        \n",
    "    df = pd.DataFrame(listOfDicts)\n",
    "    return df"
   ]
  },
  {
   "cell_type": "code",
   "execution_count": 48,
   "metadata": {},
   "outputs": [
    {
     "name": "stderr",
     "output_type": "stream",
     "text": [
      "/anaconda2/lib/python2.7/site-packages/ipykernel_launcher.py:2: FutureWarning: read_table is deprecated, use read_csv instead, passing sep='\\t'.\n",
      "  \n",
      "/anaconda2/lib/python2.7/site-packages/ipykernel_launcher.py:16: FutureWarning: read_table is deprecated, use read_csv instead, passing sep='\\t'.\n",
      "  app.launch_new_instance()\n"
     ]
    },
    {
     "name": "stdout",
     "output_type": "stream",
     "text": [
      "0 50 100 150 200 250 300 350 400 450 500 550 600 650 700 750 800 850 900 950 1000 1050 1100 1150 1200 1250 1300 1350 1400 1450\n"
     ]
    }
   ],
   "source": [
    "#Takes ~5 minutes to run\n",
    "allImpactMutsMaf = pd.read_table(filePathDict['IMPACT_BASE_MAF'])\n",
    "relatedGenesDict = get_gene_and_cohort_list_utils.get_related_genes_by_cancer_type()\n",
    "dominantSignatureDict = get_gene_and_cohort_list_utils.get_pan_impact_signature_mapping(\n",
    "    filePathDict['IMPACT_SIGNATURE_DECOMPOSITIONS'])\n",
    "\n",
    "#Load in data as needed\n",
    "cancerTypeDict = dict(get_gene_and_cohort_list_utils.get_impact_cancer_type_info(impactCancerTypeInfoPath = filePathDict['CANCER_TYPE_INFO']))\n",
    "allImpactMutsMaf['cancerType'] = allImpactMutsMaf['Tumor_Sample_Barcode'].apply(lambda x: cancerTypeDict[x] if x in cancerTypeDict else None)\n",
    "hypermutantIds = get_gene_and_cohort_list_utils.get_all_hypermutant_ids(hypermutantIdDir=filePathDict['HYPERMUTATION_STATUS_IDS'])\n",
    "normalIds = get_gene_and_cohort_list_utils.get_all_normal_ids(hypermutantIdDir=filePathDict['HYPERMUTATION_STATUS_IDS'])\n",
    "allImpactMutsMaf['hypermutationStatus'] = allImpactMutsMaf['Tumor_Sample_Barcode'].apply(lambda x:\n",
    "    'hypermutated' if x in hypermutantIds else 'normal' if x in normalIds else 'Intermediate')\n",
    "hypermutantMaf = allImpactMutsMaf[allImpactMutsMaf['hypermutationStatus'] == 'hypermutated']\n",
    "\n",
    "expectedDf = pd.read_table(filePathDict['EXPECTED_MUTATION_INFO_BY_GENE'])\n",
    "df = summarize_obs_vs_expected_by_gene_type(hypermutantMaf, relatedGenesDict, expectedDf, cancerTypeDict)\n",
    "df['dominantSignature'] = df['Tumor_Sample_Barcode'].apply(lambda x: dominantSignatureDict[x] if x in dominantSignatureDict else None)\n",
    "\n",
    "df['dominantSignature'] = df['dominantSignature'].apply(lambda x: \n",
    "            'APOBEC' if x == 'mean_APOBEC'\n",
    "            else 'MMR' if x == 'mean_MMR'\n",
    "            else 'TMZ' if x == 'mean_11'\n",
    "            else 'POLE' if x == 'mean_10'\n",
    "            else 'other')"
   ]
  },
  {
   "cell_type": "code",
   "execution_count": 13,
   "metadata": {},
   "outputs": [],
   "source": [
    "writePath = os.path.join(writeDir, 'figureS2_d.tsv')\n",
    "df.to_csv(writePath, index=False, sep='\\t')"
   ]
  },
  {
   "cell_type": "markdown",
   "metadata": {},
   "source": [
    "## Figure 2S(e)\n",
    "DNDS scores by related vs unrelated genes"
   ]
  },
  {
   "cell_type": "code",
   "execution_count": 14,
   "metadata": {},
   "outputs": [
    {
     "name": "stderr",
     "output_type": "stream",
     "text": [
      "/anaconda2/lib/python2.7/site-packages/ipykernel_launcher.py:1: FutureWarning: read_table is deprecated, use read_csv instead, passing sep='\\t'.\n",
      "  \"\"\"Entry point for launching an IPython kernel.\n",
      "/anaconda2/lib/python2.7/site-packages/ipykernel_launcher.py:4: FutureWarning: read_table is deprecated, use read_csv instead, passing sep='\\t'.\n",
      "  after removing the cwd from sys.path.\n",
      "/anaconda2/lib/python2.7/site-packages/ipykernel_launcher.py:5: FutureWarning: read_table is deprecated, use read_csv instead, passing sep='\\t'.\n",
      "  \"\"\"\n",
      "/Users/friedman/Desktop/hypermutationProjectFinal/scripts/utilityScripts/get_gene_and_cohort_list_utils.py:320: FutureWarning: read_table is deprecated, use read_csv instead, passing sep='\\t'.\n",
      "  allImpactMutsMaf = pd.read_table(impactMafPath) #todo get this in a better way\n",
      "/anaconda2/lib/python2.7/site-packages/IPython/core/interactiveshell.py:2818: DtypeWarning: Columns (4,17,18,40,41,43,44,71,108,124,125,128,129,130,131,132,133,134,135,137) have mixed types. Specify dtype option on import or set low_memory=False.\n",
      "  if self.run_code(code, result):\n",
      "/Users/friedman/Desktop/hypermutationProjectFinal/scripts/utilityScripts/get_gene_and_cohort_list_utils.py:314: SettingWithCopyWarning: \n",
      "A value is trying to be set on a copy of a slice from a DataFrame.\n",
      "Try using .loc[row_indexer,col_indexer] = value instead\n",
      "\n",
      "See the caveats in the documentation: http://pandas.pydata.org/pandas-docs/stable/indexing.html#indexing-view-versus-copy\n",
      "  oncMaf['caseGene'] = oncMaf['Tumor_Sample_Barcode'] + '_' + oncMaf['Hugo_Symbol']\n"
     ]
    }
   ],
   "source": [
    "df = pd.read_table('/Users/friedman/Desktop/hypermutationProjectFinal/tables/table5.tsv')\n",
    "\n",
    "#LOAD data from 'table' that contains dnds scores\n",
    "df = pd.read_table(filePathDict['TABLE_5'])\n",
    "allImpactMutsMaf = pd.read_table(filePathDict['IMPACT_BASE_MAF'])\n",
    "relatedGenesDict = get_gene_and_cohort_list_utils.get_related_genes_by_cancer_type()\n",
    "df['related'] = df.apply(lambda row:\n",
    "                'related' if row['CANCER_TYPE'] in relatedGenesDict and row['GENE'] in relatedGenesDict[row['CANCER_TYPE']]\n",
    "                           else 'not-related', axis=1)\n",
    "df['dndsIsSignificantHyper'] = df['DNDS_HYPER_SCORE'].apply(lambda x: 1 if x <.05 else 0)\n",
    "df['cancerTypeGene'] = df.apply(lambda row: row['CANCER_TYPE'] + '_' + row['related'], axis=1)"
   ]
  },
  {
   "cell_type": "code",
   "execution_count": 15,
   "metadata": {},
   "outputs": [],
   "source": [
    "writePath = os.path.join(writeDir, 'figureS2_e.tsv')\n",
    "df.to_csv(writePath, index=False, sep='\\t')"
   ]
  },
  {
   "cell_type": "markdown",
   "metadata": {},
   "source": [
    "## Figure 2S(f)\n",
    "Comparing the enrichment of mutations in hypermutated tumors of various aetiologies"
   ]
  },
  {
   "cell_type": "code",
   "execution_count": 16,
   "metadata": {},
   "outputs": [],
   "source": [
    "#samples a normal maf to have mutations drawn from similar distribution as hypermutated cases\n",
    "def sample_normal_maf(normalMaf, hyperMaf, N=25):\n",
    "    \n",
    "    hyperCancerTypeCounter = Counter(hyperMaf['cancerType'])\n",
    "    normalCancerTypeCounter = Counter(normalMaf['cancerType'])\n",
    "    \n",
    "    normalMaf['weight'] = normalMaf['cancerType'].apply(lambda x: \n",
    "        (1.0*normalMaf.shape[0]*hyperCancerTypeCounter[x])/(hyperMaf.shape[0]*normalCancerTypeCounter[x]))\n",
    "    sampledCounts = normalMaf.sample(frac=N, weights='weight', replace=True)\n",
    "    return sampledCounts\n",
    "\n",
    "def summarize_mutational_prevalence(hyperMaf, normalMafSampled):\n",
    "    \n",
    "    nCasesHyper = len(set(hyperMaf['Tumor_Sample_Barcode']))\n",
    "    nCasesNormal = len(set(normalMaf['Tumor_Sample_Barcode']))\n",
    "    \n",
    "    oncoMafNormal = normalMafSampled[normalMafSampled['oncogenic'].notnull()]\n",
    "    oncoMafHyper = hyperMaf[hyperMaf['oncogenic'].notnull()]\n",
    "    \n",
    "    listOfDicts = []\n",
    "    \n",
    "    cntr = 0\n",
    "    for gene in set(oncoMafNormal['Hugo_Symbol']) | set(oncoMafHyper['Hugo_Symbol']):\n",
    "        \n",
    "        geneMafNormal = oncoMafNormal[oncoMafNormal['Hugo_Symbol'] == gene]\n",
    "        geneMafHyper = oncoMafHyper[oncoMafHyper['Hugo_Symbol'] == gene]\n",
    "        normalCount = len(set(geneMafNormal['Tumor_Sample_Barcode']))\n",
    "        hyperCount = len(set(geneMafHyper['Tumor_Sample_Barcode']))\n",
    "        \n",
    "        listOfDicts.append({'gene': gene,\n",
    "            'countNormal': normalCount,\n",
    "            'countHyper': hyperCount\n",
    "        })\n",
    "        \n",
    "        cntr += 1\n",
    "        if cntr%50 == 0: print cntr\n",
    "        \n",
    "    df = pd.DataFrame(listOfDicts)\n",
    "    df['fracNormal'] = df['countNormal'].apply(lambda x: (1.0*x)/nCasesNormal)\n",
    "    df['fracHyper'] = df['countHyper'].apply(lambda x:  (1.0*x)/nCasesHyper)\n",
    "    \n",
    "    return df"
   ]
  },
  {
   "cell_type": "code",
   "execution_count": 17,
   "metadata": {},
   "outputs": [
    {
     "name": "stderr",
     "output_type": "stream",
     "text": [
      "/anaconda2/lib/python2.7/site-packages/ipykernel_launcher.py:1: FutureWarning: read_table is deprecated, use read_csv instead, passing sep='\\t'.\n",
      "  \"\"\"Entry point for launching an IPython kernel.\n",
      "/Users/friedman/Desktop/hypermutationProjectFinal/scripts/utilityScripts/get_gene_and_cohort_list_utils.py:252: FutureWarning: read_table is deprecated, use read_csv instead, passing sep='\\t'.\n",
      "  msiInfoDf = pd.read_table(msiInfoFilePath)\n",
      "/Users/friedman/Desktop/hypermutationProjectFinal/scripts/utilityScripts/get_gene_and_cohort_list_utils.py:269: FutureWarning: read_table is deprecated, use read_csv instead, passing sep='\\t'.\n",
      "  sigsDf = pd.read_table(impactSigsPath)\n"
     ]
    },
    {
     "name": "stdout",
     "output_type": "stream",
     "text": [
      "sampling POLE\n"
     ]
    },
    {
     "name": "stderr",
     "output_type": "stream",
     "text": [
      "/anaconda2/lib/python2.7/site-packages/ipykernel_launcher.py:7: SettingWithCopyWarning: \n",
      "A value is trying to be set on a copy of a slice from a DataFrame.\n",
      "Try using .loc[row_indexer,col_indexer] = value instead\n",
      "\n",
      "See the caveats in the documentation: http://pandas.pydata.org/pandas-docs/stable/indexing.html#indexing-view-versus-copy\n",
      "  import sys\n"
     ]
    },
    {
     "name": "stdout",
     "output_type": "stream",
     "text": [
      "summarizing\n",
      "50\n",
      "100\n",
      "150\n",
      "200\n",
      "250\n",
      "300\n",
      "sampling APOBEC\n",
      "summarizing\n",
      "50\n",
      "100\n",
      "150\n",
      "200\n",
      "250\n",
      "300\n",
      "350\n",
      "sampling MSI\n",
      "summarizing\n",
      "50\n",
      "100\n",
      "150\n",
      "200\n",
      "250\n",
      "300\n",
      "350\n"
     ]
    }
   ],
   "source": [
    "allImpactMutsMaf = pd.read_table(filePathDict['IMPACT_BASE_MAF'])\n",
    "cancerTypeDict = get_gene_and_cohort_list_utils.get_impact_cancer_type_info(impactCancerTypeInfoPath=filePathDict['CANCER_TYPE_INFO'])\n",
    "allImpactMutsMaf['cancerType'] = allImpactMutsMaf['Tumor_Sample_Barcode'].apply(lambda x: cancerTypeDict[x] if x in cancerTypeDict else None)\n",
    "msiCases = get_gene_and_cohort_list_utils.get_msi_cases(msiInfoFilePath = filePathDict['CASE_TMB_AND_MSI_STATS'], msiScoreThresh=10)\n",
    "apobecCases = get_gene_and_cohort_list_utils.get_impact_signature_cohort(filePathDict['IMPACT_SIGNATURE_DECOMPOSITIONS'], 'mean_APOBEC')\n",
    "poleCases = get_gene_and_cohort_list_utils.get_impact_signature_cohort(filePathDict['IMPACT_SIGNATURE_DECOMPOSITIONS'], 'mean_10')\n",
    "hypermutatedIds = get_gene_and_cohort_list_utils.get_all_hypermutant_ids(hypermutantIdDir=filePathDict['HYPERMUTATION_STATUS_IDS'])\n",
    "normalIds = get_gene_and_cohort_list_utils.get_all_normal_ids(hypermutantIdDir=filePathDict['HYPERMUTATION_STATUS_IDS'])\n",
    "normalMaf = allImpactMutsMaf[allImpactMutsMaf['Tumor_Sample_Barcode'].isin(normalIds)]\n",
    "\n",
    "#summarize the data for different signature cohorts\n",
    "#note more signature cohorts could be added here\n",
    "listOfDfs = []\n",
    "caseMapping = {'POLE': poleCases, 'APOBEC': apobecCases, 'MSI': msiCases}\n",
    "for sigType, cases in caseMapping.items():\n",
    "    print 'sampling', sigType\n",
    "    hypermutatedMaf = allImpactMutsMaf[(allImpactMutsMaf['Tumor_Sample_Barcode'].isin(cases))]\n",
    "    samples = sample_normal_maf(normalMaf, hypermutatedMaf, N=15)\n",
    "    print 'summarizing'\n",
    "    df = summarize_mutational_prevalence(hypermutatedMaf, samples)\n",
    "    df['signature'] = sigType\n",
    "    listOfDfs.append(df)\n",
    "\n",
    "\n",
    "combinedDf = pd.concat(listOfDfs)\n",
    "combinedDf['ratio'] = combinedDf['fracHyper']/combinedDf['fracNormal']\n",
    "combinedDf['ddrGene'] = combinedDf['gene'].apply(lambda x: True if x in ['POLE', 'MLH1', 'MSH2', 'MSH6', 'PMS2'] else False)\n"
   ]
  },
  {
   "cell_type": "code",
   "execution_count": 18,
   "metadata": {},
   "outputs": [],
   "source": [
    "writePath = os.path.join(writeDir, 'figureS2_f.tsv')\n",
    "combinedDf.to_csv(writePath, index=False, sep='\\t')"
   ]
  },
  {
   "cell_type": "markdown",
   "metadata": {},
   "source": [
    "## Figure 2S(g)\n",
    "POLE mutational hotspots compared to mutations of equal mutability"
   ]
  },
  {
   "cell_type": "code",
   "execution_count": 21,
   "metadata": {},
   "outputs": [
    {
     "name": "stderr",
     "output_type": "stream",
     "text": [
      "/anaconda2/lib/python2.7/site-packages/ipykernel_launcher.py:2: FutureWarning: read_table is deprecated, use read_csv instead, passing sep='\\t'.\n",
      "  \n",
      "/anaconda2/lib/python2.7/site-packages/ipykernel_launcher.py:27: SettingWithCopyWarning: \n",
      "A value is trying to be set on a copy of a slice from a DataFrame.\n",
      "Try using .loc[row_indexer,col_indexer] = value instead\n",
      "\n",
      "See the caveats in the documentation: http://pandas.pydata.org/pandas-docs/stable/indexing.html#indexing-view-versus-copy\n"
     ]
    }
   ],
   "source": [
    "#specfically look at pentanucleotide context in POLE cases and its relation to mutationa susceptibility\n",
    "poleMafWithPentaContext = pd.read_table(filePathDict['PENTANUCLEOTIDE_CONTEXT_ANNOTATED_MAF'])\n",
    "poleMafWithPentaContext['pentaChange'] = poleMafWithPentaContext.apply(lambda row: \n",
    "                                    mutationSigUtils.create_strand_specific_pentanucleotide_change(row['Ref_Tri.1'], row['Reference_Allele'], row['Tumor_Seq_Allele2'], row['Variant_Type']), axis=1)\n",
    "poleMafWithPentaContext['allele'] = poleMafWithPentaContext.apply(lambda row: str(row['Hugo_Symbol']) + '_' + str(row['HGVSp_Short']), axis=1)\n",
    "tsgs = get_gene_and_cohort_list_utils.get_tsgs()\n",
    "\n",
    "poleMafWithPentaContext['mutationType'] = poleMafWithPentaContext.apply(lambda row:\n",
    "                'tsg_driver' if row['Hugo_Symbol'] in tsgs and row['oncogenic'] in ['Oncogenic', 'Likely Oncogenic', 'Predicted Oncogenic']\n",
    "                else 'oncogene_driver' if row['oncogenic'] in ['Oncogenic', 'Likely Oncogenic', 'Predicted Oncogenic', 'Inconclusive']\n",
    "                else 'VUS', axis=1)\n",
    "poleMafWithPentaContext['uniqueMutationType'] = poleMafWithPentaContext.apply(lambda row: str(row['allele']) + ';' + str(row['mutationType']), axis=1)\n",
    "\n",
    "meanDict = {}\n",
    "stdDict = {}\n",
    "for penta, count in Counter(poleMafWithPentaContext['pentaChange']).most_common(10):\n",
    "    pentaMaf = poleMafWithPentaContext[poleMafWithPentaContext['pentaChange'] == penta]\n",
    "    counts = [count for value, count in Counter(pentaMaf['allele']).items()]\n",
    "    mean = np.mean(counts)\n",
    "    std = np.std(counts)\n",
    "    meanDict[penta] = mean\n",
    "    stdDict[penta] = std\n",
    "\n",
    "poleMafWithPentaContext['std'] = poleMafWithPentaContext['pentaChange'].apply(lambda x: stdDict[x] if x in stdDict else None)\n",
    "poleMafWithPentaContext['mean'] = poleMafWithPentaContext['pentaChange'].apply(lambda x: meanDict[x] if x in meanDict else None)\n",
    "writeMaf = poleMafWithPentaContext[poleMafWithPentaContext['mean'].notnull()]    \n",
    "writeMaf['count'] = 1\n",
    "#writeMaf['driverType'] = df['oncogenic'].apply(lambda x: 'oncogenic' if x in ['Likely Oncogenic', 'Oncogenic', 'Predicted Oncogenic'] else 'not_driver')\n",
    "\n",
    "df = writeMaf.groupby(['pentaChange', 'std', 'mean', 'allele', 'Hugo_Symbol', 'uniqueMutationType'])['count'].sum().reset_index()\n",
    "df['deviation'] = df.apply(lambda row: (row['count'] - row['mean'])/row['std'], axis=1)\n",
    "\n",
    "df['geneType'] = df['Hugo_Symbol'].apply(lambda x: 'TSG' if x in tsgs else 'Oncogene')\n",
    "df['mutationType'] = df['uniqueMutationType'].apply(lambda x: x.split(';')[1])\n"
   ]
  },
  {
   "cell_type": "code",
   "execution_count": 20,
   "metadata": {},
   "outputs": [],
   "source": [
    "writePath = os.path.join(writeDir, 'figureS2_g.tsv')\n",
    "df.to_csv(writePath, index=False, sep='\\t')"
   ]
  },
  {
   "cell_type": "markdown",
   "metadata": {},
   "source": [
    "## Figure 2S(h)\n",
    "Hypermutated tumors disproportionately mutate common hotspots"
   ]
  },
  {
   "cell_type": "code",
   "execution_count": 25,
   "metadata": {},
   "outputs": [],
   "source": [
    "def assign_hotspot_freq_dict(df):\n",
    "    d = {}\n",
    "    for index, row in df.iterrows():\n",
    "        refAminoAcid = row['ref']\n",
    "        gene = row['Hugo_Symbol']\n",
    "        position = row['Amino_Acid_Position']\n",
    "        for entry in row['Var_AA'].split('|'):\n",
    "            fullAltName = ''\n",
    "            altAminoAcid, count = entry.split(':')\n",
    "            fullAltName = gene + ':' + refAminoAcid + position + altAminoAcid\n",
    "            d[fullAltName] = float(count)/47000\n",
    "    return d\n",
    "\n",
    "#returns a dictionary mapping a hotspot to its pancan rank order \n",
    "def rank_hotspots(hotspotIncidenceD):\n",
    "    d = {}\n",
    "    sortedHotspots = sorted(zip(hotspotIncidenceD.keys(), hotspotIncidenceD.values()), key= lambda x: x[1], reverse=True)\n",
    "    i = 0\n",
    "    for allele, freq in sortedHotspots:\n",
    "        d[allele] = i\n",
    "        i += 1\n",
    "    return d\n",
    "\n",
    "#given a df and hotspots, for the 3 hypermutator cancer types assigns hotspots percentiles\n",
    "def assign_percentiles_to_df(df):\n",
    "    for ct in ['Endometrial_Cancer', 'Colorectal_Cancer', 'Glioma']:\n",
    "        ctRelated = df[df[ct + '_RelatedHotspot'] == True]\n",
    "        ctNotRelated = df[df[ct + '_RelatedHotspot'] == False]\n",
    "        percentilesRelated = dict(zip(ctRelated['hotspot'], ctRelated['freq'].rank(pct=True)))\n",
    "        percentilesNotRelated = dict(zip(ctNotRelated['hotspot'], ctNotRelated['freq'].rank(pct=True)))\n",
    "        df[ct + '_related_percentile'] = df.apply(lambda row:\n",
    "                                               None if row[ct + '_RelatedHotspot'] == False\n",
    "                                               else percentilesRelated[row['hotspot']], axis=1)\n",
    "        df[ct + '_not_related_percentile'] = df.apply(lambda row:\n",
    "                                               None if row[ct + '_RelatedHotspot'] == True\n",
    "                                               else percentilesNotRelated[row['hotspot']], axis=1)\n",
    "    return df \n",
    "\n",
    "def assign_hotspot_mutation_utilization_curves(hotspotMafDf, hotspotRankingD, cancerTypeName):\n",
    "    \n",
    "    def normalize_hotspot_rankings(df):\n",
    "        l = [] #create a list of tuples of percentiles and hotspots\n",
    "        n = 0\n",
    "        df = df.drop_duplicates(subset=['hotspotName'])\n",
    "        sortedHotspotRanks = sorted(zip(df['hotspotName'], df['hotspotRank']), key= lambda x: x[1])\n",
    "        nHotspotsUnderConsideration = len(sortedHotspotRanks)\n",
    "        cntr = 0\n",
    "        for name, rank in sortedHotspotRanks:\n",
    "            l.append((name, 1.0*cntr/nHotspotsUnderConsideration))\n",
    "            cntr += 1\n",
    "        return l\n",
    "    \n",
    "    relatedHotspotMaf = hotspotMafDf[hotspotMafDf['isCtypeCancerGene'] == True]\n",
    "    unrelatedHotspotMaf = hotspotMafDf[hotspotMafDf['isCtypeCancerGene'] == False]\n",
    "    \n",
    "    relatedHotspotMaf['hotspotRank'] = relatedHotspotMaf['hotspotName'].apply(lambda x: hotspotRankingD[x] if x in hotspotRankingD else None)\n",
    "    unrelatedHotspotMaf['hotspotRank'] = unrelatedHotspotMaf['hotspotName'].apply(lambda x: hotspotRankingD[x] if x in hotspotRankingD else None)\n",
    "    #FILTER out hotspots that we do not have a ranking for\n",
    "    relatedHotspotMaf = relatedHotspotMaf[relatedHotspotMaf['hotspotRank'].notnull()]\n",
    "    unrelatedHotspotMaf = unrelatedHotspotMaf[unrelatedHotspotMaf['hotspotRank'].notnull()]\n",
    "    \n",
    "    nRelatedHotspots = relatedHotspotMaf.shape[0]\n",
    "    nUnrelatedHotspots = unrelatedHotspotMaf.shape[0]\n",
    "    \n",
    "    relatedHotspotRankings = normalize_hotspot_rankings(relatedHotspotMaf)\n",
    "    unrelatedHotspotRankings = normalize_hotspot_rankings(unrelatedHotspotMaf)\n",
    "    \n",
    "    listOfDicts = [{'hotspot':'NA_origin_for_path_Related', 'class': 'related', 'val':0, 'percentile': 0},\n",
    "                  {'hotspot':'NA_origin_for_path_Unrelated', 'class': 'unrelated', 'val':0, 'percentile': 0}] #what we return\n",
    "    runningSum = 0\n",
    "    for hotspot, percentile in relatedHotspotRankings:\n",
    "        frac = 1.0*relatedHotspotMaf[relatedHotspotMaf['hotspotName'] == hotspot].shape[0]/nRelatedHotspots\n",
    "        runningSum += frac\n",
    "        listOfDicts.append({\n",
    "         'hotspot': hotspot,\n",
    "         'class': 'related',\n",
    "         'val': runningSum,\n",
    "         'percentile': percentile\n",
    "        })\n",
    "        \n",
    "    runningSum = 0\n",
    "    for hotspot, percentile in unrelatedHotspotRankings:\n",
    "        nTimesHotspotOccurs = unrelatedHotspotMaf[unrelatedHotspotMaf['hotspotName'] == hotspot].shape[0]\n",
    "        frac = 1.0*nTimesHotspotOccurs/nUnrelatedHotspots\n",
    "        runningSum += frac\n",
    "        listOfDicts.append({\n",
    "         'hotspot': hotspot,\n",
    "         'class': 'unrelated',\n",
    "        'val': runningSum,\n",
    "        'percentile': percentile\n",
    "        })\n",
    "      \n",
    "    df = pd.DataFrame(listOfDicts)\n",
    "    df['cancerType'] = cancerTypeName\n",
    "    return df\n",
    "\n",
    "def prepare_cancer_type_maf_for_analysis(maf, cType, relatedGenesDict):\n",
    "    cancerTypeHypermutatorHotspots = maf[maf['is-a-hotspot'] == 'Y']\n",
    "    cancerTypeHypermutatorHotspots['hotspotName'] = cancerTypeHypermutatorHotspots.apply(lambda row:\n",
    "                                                                                     str(row['Hugo_Symbol']) + ':' + str(row['HGVSp_Short']).strip('p.'), axis=1)\n",
    "    cancerTypeHypermutatorHotspots['isCtypeCancerGene'] = cancerTypeHypermutatorHotspots['Hugo_Symbol'].apply(lambda x: True if x in relatedGenesDict[cType] else False)\n",
    "    return cancerTypeHypermutatorHotspots"
   ]
  },
  {
   "cell_type": "code",
   "execution_count": 23,
   "metadata": {},
   "outputs": [
    {
     "name": "stderr",
     "output_type": "stream",
     "text": [
      "/anaconda2/lib/python2.7/site-packages/ipykernel_launcher.py:3: FutureWarning: read_table is deprecated, use read_csv instead, passing sep='\\t'.\n",
      "  This is separate from the ipykernel package so we can avoid doing imports until\n",
      "/anaconda2/lib/python2.7/site-packages/ipykernel_launcher.py:9: FutureWarning: read_table is deprecated, use read_csv instead, passing sep='\\t'.\n",
      "  if __name__ == '__main__':\n",
      "/anaconda2/lib/python2.7/site-packages/ipykernel_launcher.py:100: SettingWithCopyWarning: \n",
      "A value is trying to be set on a copy of a slice from a DataFrame.\n",
      "Try using .loc[row_indexer,col_indexer] = value instead\n",
      "\n",
      "See the caveats in the documentation: http://pandas.pydata.org/pandas-docs/stable/indexing.html#indexing-view-versus-copy\n",
      "/anaconda2/lib/python2.7/site-packages/ipykernel_launcher.py:101: SettingWithCopyWarning: \n",
      "A value is trying to be set on a copy of a slice from a DataFrame.\n",
      "Try using .loc[row_indexer,col_indexer] = value instead\n",
      "\n",
      "See the caveats in the documentation: http://pandas.pydata.org/pandas-docs/stable/indexing.html#indexing-view-versus-copy\n",
      "/anaconda2/lib/python2.7/site-packages/ipykernel_launcher.py:56: SettingWithCopyWarning: \n",
      "A value is trying to be set on a copy of a slice from a DataFrame.\n",
      "Try using .loc[row_indexer,col_indexer] = value instead\n",
      "\n",
      "See the caveats in the documentation: http://pandas.pydata.org/pandas-docs/stable/indexing.html#indexing-view-versus-copy\n",
      "/anaconda2/lib/python2.7/site-packages/ipykernel_launcher.py:57: SettingWithCopyWarning: \n",
      "A value is trying to be set on a copy of a slice from a DataFrame.\n",
      "Try using .loc[row_indexer,col_indexer] = value instead\n",
      "\n",
      "See the caveats in the documentation: http://pandas.pydata.org/pandas-docs/stable/indexing.html#indexing-view-versus-copy\n"
     ]
    }
   ],
   "source": [
    "relatedGenesDict = get_gene_and_cohort_list_utils.get_related_genes_by_cancer_type()\n",
    "\n",
    "allImpactMutsMaf = pd.read_table(filePathDict['IMPACT_BASE_MAF'])\n",
    "cancerTypeDict = get_gene_and_cohort_list_utils.get_impact_cancer_type_info(impactCancerTypeInfoPath = filePathDict['CANCER_TYPE_INFO'])\n",
    "allHypermutantIds = get_gene_and_cohort_list_utils.get_all_hypermutant_ids(hypermutantIdDir=filePathDict['HYPERMUTATION_STATUS_IDS'])\n",
    "allImpactMutsMaf['cancerType'] = allImpactMutsMaf['Tumor_Sample_Barcode'].apply(lambda x: cancerTypeDict[x] if x in cancerTypeDict else None)\n",
    "hypermutatedMaf = allImpactMutsMaf[allImpactMutsMaf['Tumor_Sample_Barcode'].isin(allHypermutantIds)]\n",
    "\n",
    "hotspotsDf = pd.read_table(filePathDict['HOTSPOT_DATA'])\n",
    "hotspotIncidenceD = assign_hotspot_freq_dict(hotspotsDf)\n",
    "hotspotRankingD = rank_hotspots(hotspotIncidenceD)\n",
    "\n",
    "endometrialHypermutatorHotspots = prepare_cancer_type_maf_for_analysis(hypermutatedMaf, 'Endometrial Cancer', relatedGenesDict)\n",
    "colorectalHypermutatorHotspots = prepare_cancer_type_maf_for_analysis(hypermutatedMaf, 'Colorectal Cancer', relatedGenesDict)\n",
    "gliomaHypermutatorHotspots = prepare_cancer_type_maf_for_analysis(hypermutatedMaf, 'Glioma', relatedGenesDict)\n",
    "\n",
    "\n",
    "dfColo = assign_hotspot_mutation_utilization_curves(colorectalHypermutatorHotspots, hotspotRankingD, 'Colorectal_Cancer')\n",
    "dfEndo = assign_hotspot_mutation_utilization_curves(endometrialHypermutatorHotspots, hotspotRankingD, 'Endometrial_Cancer')\n",
    "dfGlio = assign_hotspot_mutation_utilization_curves(gliomaHypermutatorHotspots, hotspotRankingD, 'Glioma')\n",
    "\n",
    "df = pd.concat([dfColo, dfEndo, dfGlio])\n",
    "\n"
   ]
  },
  {
   "cell_type": "code",
   "execution_count": 24,
   "metadata": {},
   "outputs": [],
   "source": [
    "writePath = os.path.join(writeDir, 'figureS2_h.tsv')\n",
    "df.to_csv(writePath, index=False, sep='\\t')"
   ]
  },
  {
   "cell_type": "code",
   "execution_count": 29,
   "metadata": {},
   "outputs": [
    {
     "name": "stdout",
     "output_type": "stream",
     "text": [
      "endometrial Ks_2sampResult(statistic=0.12602338464555346, pvalue=0.0002191371595835052)\n",
      "colorectal Ks_2sampResult(statistic=0.14175255268649345, pvalue=3.0240663648390716e-05)\n",
      "glioma Ks_2sampResult(statistic=0.048874294037975, pvalue=0.5260843067270379)\n"
     ]
    }
   ],
   "source": [
    "#P values: 2 sample Kolmogorov-Smirnov statistic \n",
    "print 'endometrial', scipy.stats.ks_2samp(\n",
    "    np.array(df[(df['cancerType'] == 'Endometrial_Cancer') & (df['class'] == 'related')]['val'])\n",
    "    ,np.array(df[(df['cancerType'] == 'Endometrial_Cancer') & (df['class'] == 'unrelated')]['val']))\n",
    "print 'colorectal', scipy.stats.ks_2samp(\n",
    "    np.array(df[(df['cancerType'] == 'Colorectal_Cancer') & (df['class'] == 'related')]['val'])\n",
    "    ,np.array(df[(df['cancerType'] == 'Colorectal_Cancer') & (df['class'] == 'unrelated')]['val']))\n",
    "print 'glioma', scipy.stats.ks_2samp(\n",
    "    np.array(df[(df['cancerType'] == 'Glioma') & (df['class'] == 'related')]['val'])\n",
    "    ,np.array(df[(df['cancerType'] == 'Glioma') & (df['class'] == 'unrelated')]['val']))\n"
   ]
  },
  {
   "cell_type": "markdown",
   "metadata": {},
   "source": [
    "## Figure 2S(i)\n",
    "Rate of gene mutation compared between distinct cancer types of identical aetiologies"
   ]
  },
  {
   "cell_type": "code",
   "execution_count": 26,
   "metadata": {},
   "outputs": [],
   "source": [
    "def compare_mutation_prevalences_across_multiple_cancer_types(\n",
    "        allMsiCasesMaf,\n",
    "        cancerTypes = ['Endometrial Cancer', 'Colorectal Cancer', 'Esophagogastric Cancer', 'Prostate Cancer']):\n",
    "    \n",
    "    listOfDfs = []\n",
    "    compsDone = []\n",
    "    for c1 in cancerTypes:\n",
    "        for c2 in cancerTypes:\n",
    "            comp = '/'.join(sorted((c1, c2)))\n",
    "            if c1 != c2 and comp not in compsDone:\n",
    "                cancerTypesMaf = allMsiCasesMaf[\n",
    "                    allMsiCasesMaf['cancerType'].isin([c1, c2]) & (allMsiCasesMaf['Tumor_Sample_Barcode'].isin(msiCases))]\n",
    "                df = analysis_utils.make_comparissons(cancerTypesMaf, mode='gene', cancerType1 = c1, cancerType2 = c2)\n",
    "                df['comp'] = comp            \n",
    "                compsDone.append(comp)\n",
    "                listOfDfs.append(df)\n",
    "    combinedDf = pd.concat(listOfDfs)\n",
    "    return combinedDf"
   ]
  },
  {
   "cell_type": "code",
   "execution_count": 29,
   "metadata": {},
   "outputs": [
    {
     "name": "stderr",
     "output_type": "stream",
     "text": [
      "/anaconda2/lib/python2.7/site-packages/ipykernel_launcher.py:1: FutureWarning: read_table is deprecated, use read_csv instead, passing sep='\\t'.\n",
      "  \"\"\"Entry point for launching an IPython kernel.\n",
      "/anaconda2/lib/python2.7/site-packages/ipykernel_launcher.py:8: FutureWarning: read_table is deprecated, use read_csv instead, passing sep='\\t'.\n",
      "  \n",
      "/anaconda2/lib/python2.7/site-packages/ipykernel_launcher.py:10: SettingWithCopyWarning: \n",
      "A value is trying to be set on a copy of a slice from a DataFrame.\n",
      "Try using .loc[row_indexer,col_indexer] = value instead\n",
      "\n",
      "See the caveats in the documentation: http://pandas.pydata.org/pandas-docs/stable/indexing.html#indexing-view-versus-copy\n",
      "  # Remove the CWD from sys.path while we load stuff.\n",
      "/anaconda2/lib/python2.7/site-packages/ipykernel_launcher.py:14: SettingWithCopyWarning: \n",
      "A value is trying to be set on a copy of a slice from a DataFrame.\n",
      "Try using .loc[row_indexer,col_indexer] = value instead\n",
      "\n",
      "See the caveats in the documentation: http://pandas.pydata.org/pandas-docs/stable/indexing.html#indexing-view-versus-copy\n",
      "  \n",
      "/Users/friedman/Desktop/hypermutationProjectFinal/scripts/utilityScripts/analysis_utils.py:40: SettingWithCopyWarning: \n",
      "A value is trying to be set on a copy of a slice from a DataFrame.\n",
      "Try using .loc[row_indexer,col_indexer] = value instead\n",
      "\n",
      "See the caveats in the documentation: http://pandas.pydata.org/pandas-docs/stable/indexing.html#indexing-view-versus-copy\n",
      "  \n",
      "/anaconda2/lib/python2.7/site-packages/ipykernel_launcher.py:39: FutureWarning: Sorting because non-concatenation axis is not aligned. A future version\n",
      "of pandas will change to not sort by default.\n",
      "\n",
      "To accept the future behavior, pass 'sort=False'.\n",
      "\n",
      "To retain the current behavior and silence the warning, pass 'sort=True'.\n",
      "\n"
     ]
    }
   ],
   "source": [
    "allImpactMutsMaf = pd.read_table(filePathDict['IMPACT_BASE_MAF'])\n",
    "cancerTypeDict = get_gene_and_cohort_list_utils.get_impact_cancer_type_info(impactCancerTypeInfoPath=filePathDict['CANCER_TYPE_INFO'])\n",
    "allImpactMutsMaf['cancerType'] = allImpactMutsMaf['Tumor_Sample_Barcode'].apply(lambda x: cancerTypeDict[x] if x in cancerTypeDict else None)\n",
    "msiCases = get_gene_and_cohort_list_utils.get_msi_cases(msiInfoFilePath = filePathDict['CASE_TMB_AND_MSI_STATS'], msiScoreThresh=10)\n",
    "\n",
    "#We have to match MSI alleles (sometimes they have different names etc)\n",
    "#the value correctedAllele is the proper allele for us to work with\n",
    "msiSummary = pd.read_table(filePathDict['MICROSATELLITE_INFORMATION'])\n",
    "allMsiCasesMaf = allImpactMutsMaf[(allImpactMutsMaf['Tumor_Sample_Barcode'].isin(msiCases))]\n",
    "allMsiCasesMaf['allele'] = allMsiCasesMaf.apply(lambda row: str(row['Hugo_Symbol']) + '_' + str(row['HGVSp_Short']), axis=1)\n",
    "msiSummary['allele'] = msiSummary.apply(lambda row: str(row['Hugo_Symbol']) + '_' + str(row['HGVSp_Short']), axis=1)\n",
    "neverObservedSites, msiSitesToNameMapping, mafMsiSiteToNameMapping =  analysis_utils.standardize_allele_names(msiSummary, allMsiCasesMaf)\n",
    "msiSummary['correctedAllele'] = msiSummary['allele'].apply(lambda x: mafMsiSiteToNameMapping[x] if x in mafMsiSiteToNameMapping else None)\n",
    "allMsiCasesMaf['correctedAllele'] = allMsiCasesMaf['allele'].apply(lambda x:\n",
    "                                                                 mafMsiSiteToNameMapping[x] if x in mafMsiSiteToNameMapping else None)\n",
    "\n",
    "msiDf = compare_mutation_prevalences_across_multiple_cancer_types(allMsiCasesMaf)\n",
    "msiDf['signature'] = 'MSI'\n",
    "\n",
    "#Also do it for pole\n",
    "poleCases = get_gene_and_cohort_list_utils.get_impact_signature_cohort(filePathDict['IMPACT_SIGNATURE_DECOMPOSITIONS'], 'mean_10')\n",
    "poleEndometrialColorectalMaf = allImpactMutsMaf[\n",
    "    (allImpactMutsMaf['cancerType'].isin(['Endometrial Cancer', 'Colorectal Cancer'])) & \n",
    "    (allImpactMutsMaf['Tumor_Sample_Barcode'].isin(poleCases))]\n",
    "poleDf = analysis_utils.make_comparissons(poleEndometrialColorectalMaf, mode = 'gene', mutationType='pole')\n",
    "poleDf['signature'] = 'POLE'\n",
    "poleDf['comp'] = '/'.join(sorted(('Endometrial Cancer', 'Colorectal Cancer')))\n",
    "\n",
    "#and for apobec\n",
    "apobecCases = get_gene_and_cohort_list_utils.get_impact_signature_cohort(filePathDict['IMPACT_SIGNATURE_DECOMPOSITIONS'], 'mean_APOBEC')\n",
    "apobecBreastBladderMaf = allImpactMutsMaf[\n",
    "    (allImpactMutsMaf['cancerType'].isin(['Breast Cancer', 'Bladder Cancer'])) & \n",
    "    (allImpactMutsMaf['Tumor_Sample_Barcode'].isin(apobecCases))]\n",
    "apobecDf = analysis_utils.make_comparissons(apobecBreastBladderMaf, mode = 'gene', mutationType='apobec',\n",
    "                                            cancerType1='Bladder Cancer', cancerType2='Breast Cancer')\n",
    "apobecDf['signature'] = 'APOBEC'\n",
    "apobecDf['comp'] = '/'.join(sorted(('Breast Cancer', 'Bladder Cancer')))\n",
    "\n",
    "combinedDf = pd.concat([msiDf, apobecDf, poleDf])\n",
    "\n",
    "combinedDf['cohort'] = combinedDf['signature']+ '_' + combinedDf['comp']\n"
   ]
  },
  {
   "cell_type": "code",
   "execution_count": 31,
   "metadata": {},
   "outputs": [],
   "source": [
    "writePath = os.path.join(writeDir, 'figureS2_i.tsv')\n",
    "combinedDf.to_csv(writePath, index=False, sep='\\t')"
   ]
  },
  {
   "cell_type": "markdown",
   "metadata": {},
   "source": [
    "## Figure 2S(j)\n",
    "Manner of inactivation in hypermutated tumors"
   ]
  },
  {
   "cell_type": "code",
   "execution_count": 32,
   "metadata": {},
   "outputs": [],
   "source": [
    "def summarize_inactivation_method(maf, hyperIds, normalIds, cancerTypes = ['']):\n",
    "    listOfDicts = []\n",
    "    for cancerType in cancerTypes:\n",
    "        cancerTypeMaf = maf[maf['cancerType'] == cancerType]\n",
    "        hyperMaf = cancerTypeMaf[cancerTypeMaf['Tumor_Sample_Barcode'].isin(hyperIds)]\n",
    "        normalMaf = cancerTypeMaf[cancerTypeMaf['Tumor_Sample_Barcode'].isin(normalIds)]\n",
    "    \n",
    "        listOfDicts.append({'nLOH': len(set(normalMaf[normalMaf['lossType'] == 'LOH']['geneCase'])),\n",
    "                            'nComposite': len(set(normalMaf[normalMaf['lossType'] == 'composite_mutation']['geneCase'])),\n",
    "                            'type': 'Normal',\n",
    "                            'cancerType': cancerType\n",
    "                           })\n",
    "        listOfDicts.append({'nLOH': len(set(hyperMaf[hyperMaf['lossType'] == 'LOH']['geneCase'])),\n",
    "                            'nComposite': len(set(hyperMaf[hyperMaf['lossType'] == 'composite_mutation']['geneCase'])),\n",
    "                            'type': 'Hyper',\n",
    "                            'cancerType': cancerType\n",
    "                           })\n",
    "        \n",
    "        \n",
    "    df = pd.DataFrame(listOfDicts)\n",
    "    df['total'] = df['nLOH'] + df['nComposite']\n",
    "        \n",
    "    return df"
   ]
  },
  {
   "cell_type": "code",
   "execution_count": 33,
   "metadata": {},
   "outputs": [
    {
     "name": "stderr",
     "output_type": "stream",
     "text": [
      "/anaconda2/lib/python2.7/site-packages/ipykernel_launcher.py:2: FutureWarning: read_table is deprecated, use read_csv instead, passing sep='\\t'.\n",
      "  \n",
      "/anaconda2/lib/python2.7/site-packages/IPython/core/interactiveshell.py:2714: DtypeWarning: Columns (1,2,4,6,7,8,10,11,12,13,14,21,22,23,24,25,26,37,38,39,40,41,42,44,45,54,55,58,59,60,61,62,67,68,71,74,76,77,81,82,83,84,85,86,93,95,102,103,109,110,111,112,128,130,135,136,147,148) have mixed types. Specify dtype option on import or set low_memory=False.\n",
      "  interactivity=interactivity, compiler=compiler, result=result)\n",
      "/anaconda2/lib/python2.7/site-packages/ipykernel_launcher.py:13: SettingWithCopyWarning: \n",
      "A value is trying to be set on a copy of a slice from a DataFrame.\n",
      "Try using .loc[row_indexer,col_indexer] = value instead\n",
      "\n",
      "See the caveats in the documentation: http://pandas.pydata.org/pandas-docs/stable/indexing.html#indexing-view-versus-copy\n",
      "  del sys.path[0]\n",
      "/anaconda2/lib/python2.7/site-packages/ipykernel_launcher.py:15: SettingWithCopyWarning: \n",
      "A value is trying to be set on a copy of a slice from a DataFrame.\n",
      "Try using .loc[row_indexer,col_indexer] = value instead\n",
      "\n",
      "See the caveats in the documentation: http://pandas.pydata.org/pandas-docs/stable/indexing.html#indexing-view-versus-copy\n",
      "  from ipykernel import kernelapp as app\n",
      "/anaconda2/lib/python2.7/site-packages/ipykernel_launcher.py:16: SettingWithCopyWarning: \n",
      "A value is trying to be set on a copy of a slice from a DataFrame.\n",
      "Try using .loc[row_indexer,col_indexer] = value instead\n",
      "\n",
      "See the caveats in the documentation: http://pandas.pydata.org/pandas-docs/stable/indexing.html#indexing-view-versus-copy\n",
      "  app.launch_new_instance()\n",
      "/anaconda2/lib/python2.7/site-packages/ipykernel_launcher.py:18: SettingWithCopyWarning: \n",
      "A value is trying to be set on a copy of a slice from a DataFrame.\n",
      "Try using .loc[row_indexer,col_indexer] = value instead\n",
      "\n",
      "See the caveats in the documentation: http://pandas.pydata.org/pandas-docs/stable/indexing.html#indexing-view-versus-copy\n",
      "/anaconda2/lib/python2.7/site-packages/ipykernel_launcher.py:20: SettingWithCopyWarning: \n",
      "A value is trying to be set on a copy of a slice from a DataFrame.\n",
      "Try using .loc[row_indexer,col_indexer] = value instead\n",
      "\n",
      "See the caveats in the documentation: http://pandas.pydata.org/pandas-docs/stable/indexing.html#indexing-view-versus-copy\n"
     ]
    }
   ],
   "source": [
    "#Takes ~2 minutes\n",
    "allImpactMutsMaf = pd.read_table(filePathDict['IMPACT_BASE_MAF'])\n",
    "allImpactMutsMaf['varUuid'] = allImpactMutsMaf.apply(lambda row:\n",
    "    row['Tumor_Sample_Barcode'] + '_' + str(row['Start_Position']) + '_' + str(row['Tumor_Seq_Allele2']), axis=1)\n",
    "oncogenicMutIds = set(allImpactMutsMaf[allImpactMutsMaf['oncogenic'].notnull()]['varUuid'])\n",
    "mafWithClonalityAnnotation = pd.read_csv(filePathDict['IMPACT_MAF_WITH_ADJUSTED_CLONALITY_ANNOTATION'])\n",
    "mafWithClonalityAnnotation['varUuid'] = mafWithClonalityAnnotation.apply(lambda row:\n",
    "    row['Tumor_Sample_Barcode'] + '_' + str(row['Start_Position']) + '_' + str(row['Tumor_Seq_Allele2']), axis=1)\n",
    "\n",
    "tsgs = get_gene_and_cohort_list_utils.get_tsgs()\n",
    "tsgOncogenicMaf = mafWithClonalityAnnotation[(mafWithClonalityAnnotation['varUuid'].isin(oncogenicMutIds)) &\n",
    "                                             (mafWithClonalityAnnotation['Hugo_Symbol'].isin(tsgs))]\n",
    "tsgOncogenicMaf['geneCase'] = tsgOncogenicMaf.apply(lambda row: row['Hugo_Symbol'] + '_' + row['Tumor_Sample_Barcode'], axis=1)\n",
    "occurenceDict = dict(tsgOncogenicMaf['geneCase'].value_counts())                                                                                     \n",
    "tsgOncogenicMaf['isMultiplet'] = tsgOncogenicMaf['geneCase'].apply(lambda x: True if occurenceDict[x] > 1 else False)\n",
    "tsgOncogenicMaf['isLOH'] = tsgOncogenicMaf['lcn'].apply(lambda x: True if x == 0 else False)\n",
    "tsgOncogenicMaf['lossType'] = tsgOncogenicMaf.apply(lambda row: 'LOH' if row['isLOH'] == True\n",
    "    else 'composite_mutation' if row['isMultiplet'] == True else False, axis=1)\n",
    "cancerTypeDict = get_gene_and_cohort_list_utils.get_impact_cancer_type_info()\n",
    "tsgOncogenicMaf['cancerType'] = tsgOncogenicMaf['Tumor_Sample_Barcode'].apply(lambda x:\n",
    "    cancerTypeDict[x] if x in cancerTypeDict else None)\n",
    "\n",
    "normalIds = get_gene_and_cohort_list_utils.get_all_normal_ids(hypermutantIdDir=filePathDict['HYPERMUTATION_STATUS_IDS'])\n",
    "hypermutantIds = get_gene_and_cohort_list_utils.get_all_hypermutant_ids(hypermutantIdDir=filePathDict['HYPERMUTATION_STATUS_IDS'])\n",
    "df = summarize_inactivation_method(tsgOncogenicMaf, hypermutantIds, normalIds, cancerTypes =\n",
    "    ['Endometrial Cancer', 'Colorectal Cancer', 'Melanoma',\n",
    "     'Prostate Cancer', 'Glioma', 'Bladder Cancer', 'Non-Small Cell Lung Cancer'])"
   ]
  },
  {
   "cell_type": "code",
   "execution_count": 34,
   "metadata": {},
   "outputs": [],
   "source": [
    "writePath = os.path.join(writeDir, 'figureS2_j.tsv')\n",
    "df.to_csv(writePath, index=False, sep='\\t')"
   ]
  },
  {
   "cell_type": "markdown",
   "metadata": {},
   "source": [
    "## Figure 2S(k)\n",
    "Permutation test to identify genes enriched for composite mutation"
   ]
  },
  {
   "cell_type": "code",
   "execution_count": 35,
   "metadata": {},
   "outputs": [],
   "source": [
    "def convert_df_to_np_array(df):\n",
    "    dfReduced = df[['Tumor_Sample_Barcode', 'shuffleColumn']]\n",
    "    #npArr = dfReduced.to_numpy()\n",
    "    npArr = dfReduced.values\n",
    "    return npArr\n",
    "\n",
    "def shuffle_arr(arr):\n",
    "    nameCol = arr[:,0]\n",
    "    valueCol = arr[:,1]\n",
    "    np.random.shuffle(nameCol)\n",
    "    return np.column_stack((nameCol, valueCol))\n",
    "\n",
    "def summarize_shuffle_results(shuffledArr, genes):\n",
    "    zippedList = zip(shuffledArr[:,0], shuffledArr[:,1])\n",
    "\n",
    "    df = pd.DataFrame([])\n",
    "    df['Tumor_Sample_Barcode'] = shuffledArr[:,0]\n",
    "    df['Hugo_Symbol'] = shuffledArr[:,1]\n",
    "    df['geneCase'] = df.apply(lambda row: row['Tumor_Sample_Barcode'] + '_' + row['Hugo_Symbol'], axis=1)\n",
    "    \n",
    "    l = [geneCase.split('_')[1] for geneCase, count in df['geneCase'].value_counts().items() if count > 1]\n",
    "    \n",
    "    return Counter(l)\n",
    "\n",
    "def do_n_iterations_of_shuffling(maf, n, genes, mode='geneDist'):\n",
    "    npArr = convert_df_to_np_array(maf)\n",
    "    listOfDicts = []\n",
    "    for i in range(n):\n",
    "        if i%100 == 0: print 'on iteration ', i,\n",
    "        shuffledArr = shuffle_arr(npArr)\n",
    "        shuffleResults = summarize_shuffle_results(shuffledArr, genes)\n",
    "        shuffleResults['iter'] = i\n",
    "        listOfDicts.append(shuffleResults)\n",
    "        i += 1\n",
    "    return pd.DataFrame(listOfDicts)\n",
    "\n",
    "def do_permutation_test_across_cancer_types(maf, cancerTypes = [], n =10):\n",
    "    listOfDfs = []\n",
    "    for cancerType in cancerTypes:\n",
    "        cTypeMaf = maf[maf['cancerType'] == cancerType]\n",
    "        observedMultipletDict = dict(cTypeMaf[cTypeMaf['isMultiplet'] == True].drop_duplicates(subset=['caseGene'])['Hugo_Symbol'].value_counts())\n",
    "        permTestSummary = do_n_iterations_of_shuffling(cTypeMaf, n, genes = set(cTypeMaf['Hugo_Symbol']), mode='geneDist')\n",
    "        df = summarize_permutation_test_results(permTestSummary, observedMultipletDict, n)\n",
    "        df['cancerType'] = cancerType\n",
    "        listOfDfs.append(df)\n",
    "    cDf = pd.concat(listOfDfs)\n",
    "    return cDf\n",
    "\n",
    "def summarize_significant_genes_by_cancer_type(results, cancerTypes = []):\n",
    "    tsgs = set(['ERRFI1', 'ASXL2', 'PMAIP1', 'ACTG1', 'SUFU', 'FBXO11', 'MEN1', 'FAM58A', 'B2M', 'RB1', 'DUSP22', 'SESN1', 'GPS2', 'RAD51D', 'SMG1', 'CDC73', 'MAP3K1', 'SMARCB1', 'INPP4B', 'PARK2', 'SMAD4', 'CBFB', 'CDH1', 'PPP6C', 'SETDB1', 'SETDB2', 'NF2', 'CDKN2B', 'CDKN2C', 'CDKN2A', 'DDX3X', 'PIK3R1', 'BARD1', 'PDS5B', 'KLF4', 'SPRED1', 'VHL', 'SMAD2', 'PMS1', 'PMS2', 'SETD2', 'GATA3', 'TBL1XR1', 'MUTYH', 'SOCS1', 'FAM175A', 'ROBO1', 'ARID1B', 'ARID1A', 'TCF7L2', 'STK11', 'FOXA1', 'PTEN', 'FAT1', 'FAS', 'CYLD', 'MAX', 'SH2D1A', 'APC', 'NTHL1', 'CTCF', 'KDM5C', 'KMT2C', 'ZFHX3', 'FOXP1', 'PIGA', 'CDKN1B', 'CDKN1A', 'FUBP1', 'MSH2', 'ID3', 'TNFRSF14', 'TRAF3', 'EP400', 'BRIP1', 'ARID4A', 'ARID4B', 'XRCC2', 'DAXX', 'SDHAF2', 'ASXL1', 'AMER1', 'RASA1', 'EGR1', 'MST1', 'SOX17', 'RUNX1', 'PIK3R3', 'NCOR1', 'NF1', 'JAK1', 'PTPRD', 'CHEK2', 'CHEK1', 'SMC1A', 'TMEM127', 'STAG1', 'RAD51', 'TCF3', 'STAG2', 'ARID2', 'RAD50', 'RNF43', 'PARP1', 'BLM', 'CUX1', 'RECQL', 'RAD21', 'PTPN2', 'PTPN1', 'SLX4', 'INHA', 'PAX5', 'IRF1', 'TP53', 'HLA-A', 'IRF8', 'CBL', 'TOP1', 'SHQ1', 'PRDM1', 'NSD1', 'ATXN2', 'CREBBP', 'HDAC4', 'SESN2', 'PPP2R1A', 'EPHA7', 'ATM', 'EPHA3', 'POT1', 'SMAD3', 'MOB3B', 'TBX3', 'POLE', 'ATR', 'FANCD2', 'FH', 'BCORL1', 'SOX9', 'IKZF3', 'TSC1', 'TP63', 'MRE11A', 'SDHC', 'BTG1', 'POLD1', 'CIITA', 'SMC3', 'SAMHD1', 'RTEL1', 'ECT2L', 'PIK3R2', 'CRBN', 'FANCC', 'NBN', 'FANCA', 'HLA-B', 'RECQL4', 'DUSP4', 'ERCC2', 'FBXW7', 'TGFBR2', 'TGFBR1', 'MSH3', 'RBM15', 'TET1', 'TET3', 'SESN3', 'MGA', 'LTB', 'FOXL2', 'SH2B3', 'BCOR', 'HIST1H1D', 'ATRX', 'EP300', 'RAD51C', 'RAD51B', 'HIST1H1B', 'TNFAIP3', 'DICER1', 'ARID5B', 'LATS2', 'FOXO1', 'KEAP1', 'EZH2', 'SP140', 'NKX3-1', 'PBRM1', 'PALB2', 'CIC', 'BRCA1', 'DTX1', 'FLCN', 'SPEN', 'CD58', 'ERCC3', 'ERCC4', 'MSH6', 'BCL11B', 'BMPR1A', 'ERF', 'BRCA2', 'NOTCH2', 'EED', 'MITF', 'ELF3', 'SMARCA4', 'BBC3', 'ANKRD11', 'CEBPA', 'BCL2L11', 'AXIN2', 'AXIN1', 'CDK12', 'ESCO2', 'MLH1', 'SDHB', 'MED12', 'HNF1A', 'RYBP', 'ATP6V1B2', 'DNMT3B', 'KMT2B', 'KMT2A', 'DNMT3A', 'NFKBIA', 'TRAF5', 'KMT2D', 'SPOP', 'RBM10', 'P2RY8', 'TP53BP1', 'TSC2', 'KDM6A', 'EPCAM', 'PHOX2B', 'NPM1', 'BCL10', 'LATS1', 'HOXB13', 'ARID3A', 'PTPRT', 'PTPRS', 'INPPL1', 'NOTCH4', 'TET2', 'NOTCH1', 'CASP8', 'NOTCH3', 'GRIN2A', 'MAP2K4', 'WT1', 'BACH2', 'SDHA', 'BAP1', 'PTCH1', 'SDHD'])\n",
    "    listOfDicts = []\n",
    "    for cancerType in cancerTypes:\n",
    "        print 'analyzing', cancerType\n",
    "        cTypeResults = results[results['cancerType'] == cancerType]\n",
    "        signifResults = cTypeResults[cTypeResults['pVal'] < .05]\n",
    "        for gene in set(signifResults['gene']):\n",
    "            geneResults = signifResults[signifResults['gene'] == gene]\n",
    "            t = 'TSG'\n",
    "            if gene not in tsgs:\n",
    "                t = 'Oncogene'\n",
    "            \n",
    "            listOfDicts.append({'gene': gene, 'geneType': t, 'cancerType': cancerType})\n",
    "    return pd.DataFrame(listOfDicts)\n",
    "\n",
    "def summarize_permutation_test_results(permTestTable, observedMultipletDict, n):\n",
    "    permTestTable = permTestTable.fillna(0)\n",
    "    listOfDicts = []\n",
    "    cntr = 0\n",
    "    \n",
    "    impactGenes = get_gene_and_cohort_list_utils.get_im6_genes()\n",
    "    for gene in set(permTestTable.columns.values) - set(['iter']):\n",
    "        nCases = 0\n",
    "        if gene in observedMultipletDict:\n",
    "            nCases = observedMultipletDict[gene]\n",
    "        nCasesPermAbove = permTestTable[permTestTable[gene] >= nCases].shape[0]\n",
    "        pVal = (1.0*nCasesPermAbove)/n\n",
    "        listOfDicts.append({'nObs': nCases, 'permAbove': nCasesPermAbove, 'pVal': pVal, 'gene': gene})\n",
    "\n",
    "    return pd.DataFrame(listOfDicts)"
   ]
  },
  {
   "cell_type": "code",
   "execution_count": 36,
   "metadata": {
    "scrolled": true
   },
   "outputs": [
    {
     "name": "stderr",
     "output_type": "stream",
     "text": [
      "/anaconda2/lib/python2.7/site-packages/ipykernel_launcher.py:4: FutureWarning: read_table is deprecated, use read_csv instead, passing sep='\\t'.\n",
      "  after removing the cwd from sys.path.\n",
      "/anaconda2/lib/python2.7/site-packages/ipykernel_launcher.py:11: SettingWithCopyWarning: \n",
      "A value is trying to be set on a copy of a slice from a DataFrame.\n",
      "Try using .loc[row_indexer,col_indexer] = value instead\n",
      "\n",
      "See the caveats in the documentation: http://pandas.pydata.org/pandas-docs/stable/indexing.html#indexing-view-versus-copy\n",
      "  # This is added back by InteractiveShellApp.init_path()\n",
      "/anaconda2/lib/python2.7/site-packages/ipykernel_launcher.py:13: SettingWithCopyWarning: \n",
      "A value is trying to be set on a copy of a slice from a DataFrame.\n",
      "Try using .loc[row_indexer,col_indexer] = value instead\n",
      "\n",
      "See the caveats in the documentation: http://pandas.pydata.org/pandas-docs/stable/indexing.html#indexing-view-versus-copy\n",
      "  del sys.path[0]\n",
      "/anaconda2/lib/python2.7/site-packages/ipykernel_launcher.py:14: SettingWithCopyWarning: \n",
      "A value is trying to be set on a copy of a slice from a DataFrame.\n",
      "Try using .loc[row_indexer,col_indexer] = value instead\n",
      "\n",
      "See the caveats in the documentation: http://pandas.pydata.org/pandas-docs/stable/indexing.html#indexing-view-versus-copy\n",
      "  \n",
      "/anaconda2/lib/python2.7/site-packages/ipykernel_launcher.py:17: SettingWithCopyWarning: \n",
      "A value is trying to be set on a copy of a slice from a DataFrame.\n",
      "Try using .loc[row_indexer,col_indexer] = value instead\n",
      "\n",
      "See the caveats in the documentation: http://pandas.pydata.org/pandas-docs/stable/indexing.html#indexing-view-versus-copy\n"
     ]
    },
    {
     "name": "stdout",
     "output_type": "stream",
     "text": [
      "on iteration  0 on iteration  100 on iteration  200 on iteration  300 on iteration  400 on iteration  0 on iteration  100 on iteration  200 on iteration  300 on iteration  400 on iteration  0 on iteration  100 on iteration  200 on iteration  300 on iteration  400 on iteration  0 on iteration  100 on iteration  200 on iteration  300 on iteration  400 on iteration  0 on iteration  100 on iteration  200 on iteration  300 on iteration  400 on iteration  0 on iteration  100 on iteration  200 on iteration  300 on iteration  400 on iteration  0 on iteration  100 on iteration  200 on iteration  300 on iteration  400 on iteration  0 on iteration  100 on iteration  200 on iteration  300 on iteration  400 on iteration  0 on iteration  100 on iteration  200 on iteration  300 on iteration  400 analyzing Endometrial Cancer\n",
      "analyzing Colorectal Cancer\n",
      "analyzing Prostate Cancer\n",
      "analyzing Melanoma\n",
      "analyzing Bladder Cancer\n",
      "analyzing Esophagogastric Cancer\n",
      "analyzing Glioma\n",
      "analyzing Non-Small Cell Lung Cancer\n",
      "analyzing Small Bowel Cancer\n"
     ]
    }
   ],
   "source": [
    "#note there may exist a difficult to reproduce error where with enough shuffling iterations we cause an error\n",
    "#this cell takes a long time\n",
    "nIter = 500 \n",
    "#Load in data and summarize it\n",
    "allImpactMutsMaf = pd.read_table(filePathDict['IMPACT_BASE_MAF'])\n",
    "cancerTypeDict = get_gene_and_cohort_list_utils.get_impact_cancer_type_info(impactCancerTypeInfoPath=filePathDict['CANCER_TYPE_INFO'])\n",
    "allImpactMutsMaf['cancerType'] = allImpactMutsMaf['Tumor_Sample_Barcode'].apply(lambda x: cancerTypeDict[x] if x in cancerTypeDict else None)\n",
    "\n",
    "#mark information so we can do the permutation test\n",
    "allHypermutantMutMaf = allImpactMutsMaf[allImpactMutsMaf['Tumor_Sample_Barcode'].isin(hypermutantIds)]\n",
    "oncmutsMaf = allHypermutantMutMaf[allHypermutantMutMaf['oncogenic'].notnull()]\n",
    "oncmutsMaf['caseGene'] = oncmutsMaf['Tumor_Sample_Barcode'] + '_' + oncmutsMaf['Hugo_Symbol']\n",
    "mutCountsDict = dict(oncmutsMaf['caseGene'].value_counts())\n",
    "oncmutsMaf['mutationCount'] = oncmutsMaf.apply(lambda row: mutCountsDict[row['caseGene']], axis=1)\n",
    "oncmutsMaf['isMultiplet'] = oncmutsMaf['mutationCount'].apply(lambda x: True if x > 1 else False)\n",
    "\n",
    "#do permutation test\n",
    "oncmutsMaf['shuffleColumn'] = oncmutsMaf['Hugo_Symbol']\n",
    "cTypes =  ['Endometrial Cancer', 'Colorectal Cancer', 'Prostate Cancer', 'Melanoma',\n",
    "                                       'Bladder Cancer', 'Esophagogastric Cancer', 'Glioma', 'Non-Small Cell Lung Cancer', 'Small Bowel Cancer'] \n",
    "\n",
    "df = do_permutation_test_across_cancer_types(oncmutsMaf, cancerTypes = cTypes, n = nIter) \n",
    "\n",
    "#summarize the data\n",
    "sumDf = summarize_significant_genes_by_cancer_type(df, cancerTypes = cTypes)\n",
    "counts = Counter(sumDf['gene'])\n",
    "sumDf['geneCount'] = sumDf['gene'].apply(lambda x: counts[x])\n",
    "\n",
    "tsgs = get_gene_and_cohort_list_utils.get_tsgs()\n",
    "df['geneType'] = df['gene'].apply(lambda x: 'tsg' if x in tsgs else 'oncogene')\n",
    "\n",
    "df['geneCancerType'] = df.apply(lambda row: str(row['gene']) + '_' +\n",
    "        str(row['cancerType']), axis=1)"
   ]
  },
  {
   "cell_type": "code",
   "execution_count": 37,
   "metadata": {},
   "outputs": [],
   "source": [
    "writePath = os.path.join(writeDir, 'figureS2_k.tsv')\n",
    "df.to_csv(writePath, index=False, sep='\\t')"
   ]
  },
  {
   "cell_type": "markdown",
   "metadata": {},
   "source": [
    "## Figure S2_l\n",
    "Double hit mutations violating the infinite sites hypothesis "
   ]
  },
  {
   "cell_type": "code",
   "execution_count": 38,
   "metadata": {},
   "outputs": [],
   "source": [
    "#TODO move this to the supplement\n",
    "def summarize_double_hit_occurence_data(maf, lossAnnotatedMaf):\n",
    "    tsgs = get_gene_and_cohort_list_utils.get_tsgs()\n",
    "    driverMaf = maf[maf['isOncogenic'] == True]\n",
    "    doubleHitValidMaf = driverMaf[(driverMaf['isDoubleHit'] == True) & (driverMaf['doubleHitValidates'] != 'other_SNPs_unbalanced')]\n",
    "    counts = dict(doubleHitValidMaf['allele'].value_counts())\n",
    "    listOfDicts = []\n",
    "    for allele in set(doubleHitValidMaf['allele']):\n",
    "        gene = allele.split('_')[0]\n",
    "        doubleHitCount = counts[allele]\n",
    "        geneMaf = driverMaf[driverMaf['Hugo_Symbol'] == gene]\n",
    "        geneAlleleMaf = geneMaf[geneMaf['allele'] == allele]\n",
    "        \n",
    "        #note this does not include biallelic loss via 2x mutation\n",
    "        nCasesBiallelicLoss = len(set(lossAnnotatedMaf[(lossAnnotatedMaf['lossType'] != False) & (lossAnnotatedMaf['Hugo_Symbol'] == gene)]['Tumor_Sample_Barcode']))\n",
    "        \n",
    "        geneType = 'TSG' if gene in tsgs else 'Oncogene'\n",
    "        listOfDicts.append({\n",
    "            'gene': gene, 'allele': allele, 'nGene': geneMaf.shape[0], 'nAllele': geneAlleleMaf.shape[0],\n",
    "            'geneType': geneType, 'nDoubleHit': doubleHitCount, 'nBiallelicLoss': doubleHitCount + nCasesBiallelicLoss\n",
    "        })\n",
    "    return pd.DataFrame(listOfDicts)"
   ]
  },
  {
   "cell_type": "code",
   "execution_count": 39,
   "metadata": {},
   "outputs": [
    {
     "name": "stderr",
     "output_type": "stream",
     "text": [
      "/anaconda2/lib/python2.7/site-packages/ipykernel_launcher.py:3: FutureWarning: read_table is deprecated, use read_csv instead, passing sep='\\t'.\n",
      "  This is separate from the ipykernel package so we can avoid doing imports until\n",
      "/anaconda2/lib/python2.7/site-packages/ipykernel_launcher.py:16: SettingWithCopyWarning: \n",
      "A value is trying to be set on a copy of a slice from a DataFrame.\n",
      "Try using .loc[row_indexer,col_indexer] = value instead\n",
      "\n",
      "See the caveats in the documentation: http://pandas.pydata.org/pandas-docs/stable/indexing.html#indexing-view-versus-copy\n",
      "  app.launch_new_instance()\n"
     ]
    },
    {
     "name": "stdout",
     "output_type": "stream",
     "text": [
      "0\n"
     ]
    },
    {
     "name": "stderr",
     "output_type": "stream",
     "text": [
      "/Users/friedman/Desktop/hypermutationProjectFinal/scripts/utilityScripts/maf_analysis_utils.py:97: SettingWithCopyWarning: \n",
      "A value is trying to be set on a copy of a slice from a DataFrame.\n",
      "Try using .loc[row_indexer,col_indexer] = value instead\n",
      "\n",
      "See the caveats in the documentation: http://pandas.pydata.org/pandas-docs/stable/indexing.html#indexing-view-versus-copy\n",
      "  caseMaf['clonal'] = caseMaf['ccf_Mcopies'].apply(lambda x: 1 if x > clonalThresh else 0)\n",
      "/anaconda2/lib/python2.7/site-packages/numpy/lib/nanfunctions.py:1019: RuntimeWarning: Mean of empty slice\n",
      "  return np.nanmean(a, axis, out=out, keepdims=keepdims)\n"
     ]
    },
    {
     "name": "stdout",
     "output_type": "stream",
     "text": [
      "100\n",
      "200\n",
      "300\n",
      "400\n",
      "500\n",
      "600\n",
      "700\n",
      "800\n",
      "900\n",
      "1000\n",
      "1100\n",
      "1200\n",
      "1300\n"
     ]
    },
    {
     "name": "stderr",
     "output_type": "stream",
     "text": [
      "/Users/friedman/Desktop/hypermutationProjectFinal/scripts/utilityScripts/maf_analysis_utils.py:101: SettingWithCopyWarning: \n",
      "A value is trying to be set on a copy of a slice from a DataFrame.\n",
      "Try using .loc[row_indexer,col_indexer] = value instead\n",
      "\n",
      "See the caveats in the documentation: http://pandas.pydata.org/pandas-docs/stable/indexing.html#indexing-view-versus-copy\n",
      "  maf['medianClonalVaf'] = maf['Tumor_Sample_Barcode'].apply(lambda x: vafMapping[x])\n",
      "/anaconda2/lib/python2.7/site-packages/ipykernel_launcher.py:22: SettingWithCopyWarning: \n",
      "A value is trying to be set on a copy of a slice from a DataFrame.\n",
      "Try using .loc[row_indexer,col_indexer] = value instead\n",
      "\n",
      "See the caveats in the documentation: http://pandas.pydata.org/pandas-docs/stable/indexing.html#indexing-view-versus-copy\n",
      "/Users/friedman/Desktop/hypermutationProjectFinal/scripts/utilityScripts/clonality_analysis_util.py:79: SettingWithCopyWarning: \n",
      "A value is trying to be set on a copy of a slice from a DataFrame.\n",
      "Try using .loc[row_indexer,col_indexer] = value instead\n",
      "\n",
      "See the caveats in the documentation: http://pandas.pydata.org/pandas-docs/stable/indexing.html#indexing-view-versus-copy\n",
      "  maf['geneCase'] = maf.apply(lambda row: str(row['Hugo_Symbol']) + '_' + str(row['Tumor_Sample_Barcode']), axis=1)\n",
      "/Users/friedman/Desktop/hypermutationProjectFinal/scripts/utilityScripts/clonality_analysis_util.py:81: SettingWithCopyWarning: \n",
      "A value is trying to be set on a copy of a slice from a DataFrame.\n",
      "Try using .loc[row_indexer,col_indexer] = value instead\n",
      "\n",
      "See the caveats in the documentation: http://pandas.pydata.org/pandas-docs/stable/indexing.html#indexing-view-versus-copy\n",
      "  maf['otherMutsInGeneExist'] = maf['geneCase'].apply(lambda x: True if x in geneCaseDict and geneCaseDict[x] > 1 else False)\n",
      "/Users/friedman/Desktop/hypermutationProjectFinal/scripts/utilityScripts/clonality_analysis_util.py:82: SettingWithCopyWarning: \n",
      "A value is trying to be set on a copy of a slice from a DataFrame.\n",
      "Try using .loc[row_indexer,col_indexer] = value instead\n",
      "\n",
      "See the caveats in the documentation: http://pandas.pydata.org/pandas-docs/stable/indexing.html#indexing-view-versus-copy\n",
      "  maf['doubleHitValidates'] = maf.apply(lambda row: validate_double_hit(row), axis=1)\n",
      "/anaconda2/lib/python2.7/site-packages/ipykernel_launcher.py:27: SettingWithCopyWarning: \n",
      "A value is trying to be set on a copy of a slice from a DataFrame.\n",
      "Try using .loc[row_indexer,col_indexer] = value instead\n",
      "\n",
      "See the caveats in the documentation: http://pandas.pydata.org/pandas-docs/stable/indexing.html#indexing-view-versus-copy\n",
      "/anaconda2/lib/python2.7/site-packages/ipykernel_launcher.py:29: SettingWithCopyWarning: \n",
      "A value is trying to be set on a copy of a slice from a DataFrame.\n",
      "Try using .loc[row_indexer,col_indexer] = value instead\n",
      "\n",
      "See the caveats in the documentation: http://pandas.pydata.org/pandas-docs/stable/indexing.html#indexing-view-versus-copy\n",
      "/anaconda2/lib/python2.7/site-packages/ipykernel_launcher.py:30: SettingWithCopyWarning: \n",
      "A value is trying to be set on a copy of a slice from a DataFrame.\n",
      "Try using .loc[row_indexer,col_indexer] = value instead\n",
      "\n",
      "See the caveats in the documentation: http://pandas.pydata.org/pandas-docs/stable/indexing.html#indexing-view-versus-copy\n",
      "/anaconda2/lib/python2.7/site-packages/ipykernel_launcher.py:32: SettingWithCopyWarning: \n",
      "A value is trying to be set on a copy of a slice from a DataFrame.\n",
      "Try using .loc[row_indexer,col_indexer] = value instead\n",
      "\n",
      "See the caveats in the documentation: http://pandas.pydata.org/pandas-docs/stable/indexing.html#indexing-view-versus-copy\n",
      "/anaconda2/lib/python2.7/site-packages/ipykernel_launcher.py:34: SettingWithCopyWarning: \n",
      "A value is trying to be set on a copy of a slice from a DataFrame.\n",
      "Try using .loc[row_indexer,col_indexer] = value instead\n",
      "\n",
      "See the caveats in the documentation: http://pandas.pydata.org/pandas-docs/stable/indexing.html#indexing-view-versus-copy\n",
      "/anaconda2/lib/python2.7/site-packages/ipykernel_launcher.py:35: SettingWithCopyWarning: \n",
      "A value is trying to be set on a copy of a slice from a DataFrame.\n",
      "Try using .loc[row_indexer,col_indexer] = value instead\n",
      "\n",
      "See the caveats in the documentation: http://pandas.pydata.org/pandas-docs/stable/indexing.html#indexing-view-versus-copy\n"
     ]
    }
   ],
   "source": [
    "#TAKES APPROXIMATELY 10 minutes\n",
    "#Load the maf with clonality annotation as its crucial to have clonality info and the normal maf\n",
    "allImpactMutsMaf = pd.read_table(filePathDict['IMPACT_BASE_MAF'])\n",
    "allImpactMutsMaf['varUuid'] = allImpactMutsMaf.apply(lambda row:\n",
    "    row['Tumor_Sample_Barcode'] + '_' + str(row['Start_Position']) + '_' + str(row['Tumor_Seq_Allele2']), axis=1)\n",
    "oncogenicMutIds = set(allImpactMutsMaf[allImpactMutsMaf['oncogenic'].notnull()]['varUuid'])\n",
    "mafWithClonalityAnnotation = pd.read_csv(filePathDict['IMPACT_MAF_WITH_ADJUSTED_CLONALITY_ANNOTATION'])\n",
    "mafWithClonalityAnnotation['varUuid'] = mafWithClonalityAnnotation.apply(lambda row:\n",
    "    row['Tumor_Sample_Barcode'] + '_' + str(row['Start_Position']) + '_' + str(row['Tumor_Seq_Allele2']), axis=1)\n",
    "mafWithClonalityAnnotation['isOncogenic'] = mafWithClonalityAnnotation['varUuid'].apply(lambda x: True if x in oncogenicMutIds else False)\n",
    "\n",
    "#mark caases with whether they have flat genomes and their median vaf\n",
    "flatGenomeCases = clonality_analysis_util.get_facets_whitelist()\n",
    "hypermutantCases = get_gene_and_cohort_list_utils.get_all_hypermutant_ids()\n",
    "hypermutantMaf = mafWithClonalityAnnotation[mafWithClonalityAnnotation['Tumor_Sample_Barcode'].isin(hypermutantCases)]\n",
    "hypermutantMaf['flatGenome'] = hypermutantMaf['Tumor_Sample_Barcode'].apply(lambda x: True if x in flatGenomeCases else False)\n",
    "hypermutantMaf = maf_analysis_utils.mark_cases_with_median_clonal_vaf_of_case(hypermutantMaf)\n",
    "\n",
    "#annotate double hit mutations\n",
    "hypermutantMaf['isDoubleHit'] = hypermutantMaf.apply(lambda row:\n",
    "    clonality_analysis_util.is_mut_double_hit(row, row['flatGenome'], \n",
    " doubleFactor=2), axis=1)\n",
    "hypermutantMaf = clonality_analysis_util.annotate_double_hit_mutations(hypermutantMaf)\n",
    "\n",
    "#focus specifically on double hit drivers\n",
    "driverMaf = hypermutantMaf[hypermutantMaf['isOncogenic'] == True]\n",
    "driverMaf['geneCase'] = driverMaf.apply(lambda row: row['Hugo_Symbol'] + '_' + row['Tumor_Sample_Barcode'], axis=1)\n",
    "occurenceDict = dict(driverMaf['geneCase'].value_counts())                                                                                     \n",
    "driverMaf['isMultiplet'] = driverMaf['geneCase'].apply(lambda x: True if occurenceDict[x] > 1 else False)\n",
    "driverMaf['isLOH'] = driverMaf['lcn'].apply(lambda x: True if x == 0 else False)\n",
    "driverMaf['lossType'] = driverMaf.apply(lambda row: 'LOH' if row['isLOH'] == True\n",
    "    else 'composite_mutation' if row['isMultiplet'] == True else False, axis=1)\n",
    "\n",
    "hypermutantMaf['allele'] = hypermutantMaf.apply(lambda row: str(row['Hugo_Symbol']) + '_' + str(row['HGVSp_Short']), axis=1)\n",
    "driverMaf['allele'] = driverMaf.apply(lambda row: str(row['Hugo_Symbol']) + '_' + str(row['HGVSp_Short']), axis=1)\n",
    "\n",
    "#get a dataframe for plotting that summarizes double hit information\n",
    "df = summarize_double_hit_occurence_data(hypermutantMaf, driverMaf)"
   ]
  },
  {
   "cell_type": "code",
   "execution_count": 41,
   "metadata": {},
   "outputs": [],
   "source": [
    "writePath = os.path.join(writeDir, 'figureS2_l.tsv')\n",
    "df.to_csv(writePath, index=False, sep='\\t')"
   ]
  }
 ],
 "metadata": {
  "kernelspec": {
   "display_name": "Python 2",
   "language": "python",
   "name": "python2"
  },
  "language_info": {
   "codemirror_mode": {
    "name": "ipython",
    "version": 2
   },
   "file_extension": ".py",
   "mimetype": "text/x-python",
   "name": "python",
   "nbconvert_exporter": "python",
   "pygments_lexer": "ipython2",
   "version": "2.7.15"
  }
 },
 "nbformat": 4,
 "nbformat_minor": 2
}
