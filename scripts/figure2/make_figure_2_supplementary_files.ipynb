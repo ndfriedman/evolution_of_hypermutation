{
 "cells": [
  {
   "cell_type": "code",
   "execution_count": 3,
   "metadata": {},
   "outputs": [],
   "source": [
    "import sys\n",
    "import argparse\n",
    "import os\n",
    "import pandas as pd\n",
    "import numpy as np\n",
    "import math\n",
    "import re\n",
    "import sys\n",
    "from collections import Counter\n",
    "\n",
    "from statsmodels.stats.proportion import proportions_ztest\n",
    "from statsmodels.stats.multitest import fdrcorrection\n",
    "\n",
    "sys.path.append('/Users/friedman/Desktop/hypermutationProjectFinal/scripts/utilityScripts')\n",
    "import configuration_util\n",
    "filePathDict = configuration_util.get_all_files_path_dict()\n",
    "import analysis_utils \n",
    "import mutationSigUtils \n",
    "import maf_analysis_utils\n",
    "import clonality_analysis_util\n",
    "import get_gene_and_cohort_list_utils\n"
   ]
  },
  {
   "cell_type": "code",
   "execution_count": null,
   "metadata": {},
   "outputs": [],
   "source": [
    "#Set where to write the files\n",
    "writeDir = '/Users/friedman/Desktop/hypermutationProjectFinal/scripts/figure2/FIGURE2_PLOTTING_FILES/'"
   ]
  },
  {
   "cell_type": "markdown",
   "metadata": {},
   "source": [
    "## Figure 2S(i)"
   ]
  },
  {
   "cell_type": "code",
   "execution_count": null,
   "metadata": {},
   "outputs": [],
   "source": [
    "#Todo--just need to load the figure 2a dataframe"
   ]
  },
  {
   "cell_type": "markdown",
   "metadata": {},
   "source": [
    "## Figure 2S(ii)"
   ]
  },
  {
   "cell_type": "code",
   "execution_count": null,
   "metadata": {},
   "outputs": [],
   "source": [
    "def summarize_obs_vs_expected_by_gene_type(maf, relatedGenesDict, expectedDf, cancerTypeDict):\n",
    "    impact341Genes = get_gene_and_cohort_list_utils.get_im3_genes()\n",
    "    expectedDf = expectedDf[expectedDf['gene'].isin(impact341Genes)]\n",
    "    maf = maf[maf['Hugo_Symbol'].isin(impact341Genes)]\n",
    "    oncSnpMaf = maf[(maf['oncogenic'].notnull()) & (maf['Variant_Type'] == 'SNP')]\n",
    "    mutCounts = dict(maf['Tumor_Sample_Barcode'].value_counts())\n",
    "    listOfDicts = []\n",
    "    cntr = 0\n",
    "    for case, cancerType in cancerTypeDict.items():\n",
    "        if case in set(maf['Tumor_Sample_Barcode']) and case in set(expectedDf['case']):\n",
    "        \n",
    "            if cntr%50 == 0: print cntr,\n",
    "            caseMaf = oncSnpMaf[oncSnpMaf['Tumor_Sample_Barcode'] == case]\n",
    "            caseExpectation = expectedDf[expectedDf['case'] == case]\n",
    "            relatedGenes = relatedGenesDict[cancerType]\n",
    "\n",
    "            relatedGenesMaf = caseMaf[caseMaf['Hugo_Symbol'].isin(relatedGenes)]\n",
    "            notRelatedGenesMaf = caseMaf[~caseMaf['Hugo_Symbol'].isin(relatedGenes)]\n",
    "            relatedGenesExpected = caseExpectation[caseExpectation['gene'].isin(relatedGenes)]\n",
    "            notRelatedGenesExpected = caseExpectation[~caseExpectation['gene'].isin(relatedGenes)]\n",
    "\n",
    "            listOfDicts.append({'cancerType': cancerType, 'Tumor_Sample_Barcode': case,\n",
    "                                'nmut_IM341': mutCounts[case],\n",
    "                'nRelatedObserved': relatedGenesMaf.shape[0],\n",
    "                'nUnrelatedObserved': notRelatedGenesMaf.shape[0],\n",
    "                'nRelatedExpected': mutCounts[case]*sum(relatedGenesExpected['oncogenicChance']),\n",
    "                'nUnrelatedExpected': mutCounts[case]*sum(notRelatedGenesExpected['oncogenicChance'])\n",
    "            })\n",
    "\n",
    "            cntr += 1\n",
    "        \n",
    "    df = pd.DataFrame(listOfDicts)\n",
    "    return df"
   ]
  },
  {
   "cell_type": "code",
   "execution_count": null,
   "metadata": {},
   "outputs": [],
   "source": [
    "allImpactMutsMaf = pd.read_table(filePathDict['IMPACT_BASE_MAF'])\n",
    "relatedGenesDict = get_gene_and_cohort_list_utils.get_related_genes_by_cancer_type()\n",
    "\n",
    "#Load in data as needed\n",
    "cancerTypeDict = dict(get_gene_and_cohort_list_utils.get_impact_cancer_type_info(impactCancerTypeInfoPath = filePathDict['CANCER_TYPE_INFO']))\n",
    "allImpactMutsMaf['cancerType'] = allImpactMutsMaf['Tumor_Sample_Barcode'].apply(lambda x: cancerTypeDict[x] if x in cancerTypeDict else None)\n",
    "hypermutantIds = get_gene_and_cohort_list_utils.get_all_hypermutant_ids(hypermutantIdDir=filePathDict['HYPERMUTATION_STATUS_IDS'])\n",
    "normalIds = get_gene_and_cohort_list_utils.get_all_normal_ids(hypermutantIdDir=filePathDict['HYPERMUTATION_STATUS_IDS'])\n",
    "allImpactMutsMaf['hypermutationStatus'] = allImpactMutsMaf['Tumor_Sample_Barcode'].apply(lambda x:\n",
    "    'hypermutated' if x in hypermutantIds else 'normal' if x in normalIds else 'Intermediate')\n",
    "hypermutantMaf = allImpactMutsMaf[allImpactMutsMaf['hypermutationStatus'] == 'hypermutated']\n",
    "\n",
    "df = summarize_obs_vs_expected_by_gene_type(hypermutantMaf, relatedGenesDict, expectedDf, cancerTypeDict)"
   ]
  },
  {
   "cell_type": "code",
   "execution_count": null,
   "metadata": {},
   "outputs": [],
   "source": [
    "writePath = os.path.join(writeDir, 'figure_2S_ii.tsv')\n",
    "df.to_csv(writePath, index=False, sep='\\t')"
   ]
  },
  {
   "cell_type": "markdown",
   "metadata": {},
   "source": [
    "## Figure 2S(iii)"
   ]
  },
  {
   "cell_type": "code",
   "execution_count": null,
   "metadata": {},
   "outputs": [],
   "source": [
    "df = pd.read_table('/Users/friedman/Desktop/hypermutationProjectFinal/tables/table5.tsv')\n",
    "allImpactMutsMaf = pd.read_table(filePathDict['IMPACT_BASE_MAF'])\n",
    "relatedGenesDict = get_gene_and_cohort_list_utils.get_related_genes_by_cancer_type()\n",
    "df['related'] = df.apply(lambda row:\n",
    "                'related' if row['CANCER_TYPE'] in relatedGenesDict and row['GENE'] in relatedGenesDict[row['CANCER_TYPE']]\n",
    "                           else 'not-related', axis=1)\n",
    "df['dndsIsSignificantHyper'] = df['DNDS_HYPER_SCORE'].apply(lambda x: 1 if x <.05 else 0)\n",
    "df['cancerTypeGene'] = df.apply(lambda row: row['CANCER_TYPE'] + '_' + row['related'], axis=1)"
   ]
  },
  {
   "cell_type": "code",
   "execution_count": null,
   "metadata": {},
   "outputs": [],
   "source": [
    "writePath = os.path.join(writeDir, 'figure_2S_iii.tsv')\n",
    "df.to_csv(writePath, index=False, sep='\\t')"
   ]
  },
  {
   "cell_type": "markdown",
   "metadata": {},
   "source": [
    "## Figure 2S(iv)"
   ]
  },
  {
   "cell_type": "code",
   "execution_count": null,
   "metadata": {},
   "outputs": [],
   "source": [
    "allImpactMutsMaf = pd.read_table(filePathDict['IMPACT_BASE_MAF'])\n",
    "cancerTypeDict = get_gene_and_cohort_list_utils.get_impact_cancer_type_info(impactCancerTypeInfoPath=filePathDict['CANCER_TYPE_INFO'])\n",
    "allImpactMutsMaf['cancerType'] = allImpactMutsMaf['Tumor_Sample_Barcode'].apply(lambda x: cancerTypeDict[x] if x in cancerTypeDict else None)\n",
    "msiCases = get_gene_and_cohort_list_utils.get_msi_cases(msiInfoFilePath = filePathDict['CASE_TMB_AND_MSI_STATS'], msiScoreThresh=10)\n",
    "apobecCases = get_gene_and_cohort_list_utils.get_impact_signature_cohort(filePathDict['IMPACT_SIGNATURE_DECOMPOSITIONS'], 'mean_APOBEC')\n",
    "poleCases = get_gene_and_cohort_list_utils.get_impact_signature_cohort(filePathDict['IMPACT_SIGNATURE_DECOMPOSITIONS'], 'mean_10')\n",
    "hypermutatedIds = get_gene_and_cohort_list_utils.get_all_hypermutant_ids(hypermutantIdDir=filePathDict['HYPERMUTATION_STATUS_IDS'])\n",
    "normalIds = get_gene_and_cohort_list_utils.get_all_normal_ids(hypermutantIdDir=filePathDict['HYPERMUTATION_STATUS_IDS'])\n",
    "normalMaf = allImpactMutsMaf[allImpactMutsMaf['Tumor_Sample_Barcode'].isin(normalIds)]\n",
    "\n",
    "#summarize the data for different signature cohorts\n",
    "#note more signature cohorts could be added here\n",
    "listOfDfs = []\n",
    "caseMapping = {'POLE': poleCases, 'APOBEC': apobecCases, 'MSI': msiCases}\n",
    "for sigType, cases in caseMapping.items():\n",
    "    print 'sampling', sigType\n",
    "    hypermutatedMaf = allImpactMutsMaf[(allImpactMutsMaf['Tumor_Sample_Barcode'].isin(cases))]\n",
    "    samples = sample_normal_maf(normalMaf, hypermutatedMaf, N=15)\n",
    "    print 'summarizing'\n",
    "    df = summarize_mutational_prevalence(hypermutatedMaf, samples)\n",
    "    df['signature'] = sigType\n",
    "    listOfDfs.append(df)\n",
    "\n",
    "\n",
    "combinedDf = pd.concat(listOfDfs)\n",
    "combinedDf['ratio'] = combinedDf['fracHyper']/combinedDf['fracNormal']\n",
    "combinedDf['ddrGene'] = combinedDf['gene'].apply(lambda x: True if x in ['POLE', 'MLH1', 'MSH2', 'MSH6', 'PMS2'] else False)\n"
   ]
  },
  {
   "cell_type": "code",
   "execution_count": null,
   "metadata": {},
   "outputs": [],
   "source": [
    "writePath = os.path.join(writeDir, 'figure_2S_iv.tsv')\n",
    "df.to_csv(writePath, index=False, sep='\\t')"
   ]
  },
  {
   "cell_type": "markdown",
   "metadata": {},
   "source": [
    "## Figure 2S(v)"
   ]
  },
  {
   "cell_type": "code",
   "execution_count": null,
   "metadata": {},
   "outputs": [],
   "source": [
    "#specfically look at pentanucleotide context in POLE cases and its relation to mutationa susceptibility\n",
    "poleMafWithPentaContext = pd.read_table(filePathDict['PENTANUCLEOTIDE_CONTEXT_ANNOTATED_MAF'])\n",
    "poleMafWithPentaContext['pentaChange'] = poleMafWithPentaContext.apply(lambda row: \n",
    "                                    mutationSigUtils.create_strand_specific_pentanucleotide_change(row['Ref_Tri.1'], row['Reference_Allele'], row['Tumor_Seq_Allele2'], row['Variant_Type']), axis=1)\n",
    "\n",
    "\n"
   ]
  },
  {
   "cell_type": "markdown",
   "metadata": {},
   "source": [
    "## Figure 2S(vi)"
   ]
  },
  {
   "cell_type": "code",
   "execution_count": null,
   "metadata": {},
   "outputs": [],
   "source": [
    "cancerTypes = ['Endometrial Cancer', 'Colorectal Cancer', 'Esophagogastric Cancer', 'Prostate Cancer']\n",
    "listOfDfs = []\n",
    "compsDone = []\n",
    "for c1 in cancerTypes:\n",
    "    for c2 in cancerTypes:\n",
    "        comp = '/'.join(sorted((c1, c2)))\n",
    "        if c1 != c2 and comp not in compsDone:\n",
    "            cancerTypesMaf = allMsiCasesMaf[\n",
    "                allMsiCasesMaf['cancerType'].isin([c1, c2]) & (allMsiCasesMaf['Tumor_Sample_Barcode'].isin(msiCases))]\n",
    "            df = make_comparissons(cancerTypesMaf, mode='gene', cancerType1 = c1, cancerType2 = c2)\n",
    "            df['comp'] = comp            \n",
    "            compsDone.append(comp)\n",
    "            listOfDfs.append(df)\n",
    "combinedDf = pd.concat(listOfDfs)"
   ]
  },
  {
   "cell_type": "code",
   "execution_count": null,
   "metadata": {},
   "outputs": [],
   "source": [
    "writePath = os.path.join(writeDir, 'figure_2S_v.tsv')\n",
    "combinedDf.to_csv(writePath, index=False, sep='\\t')\n"
   ]
  },
  {
   "cell_type": "markdown",
   "metadata": {},
   "source": [
    "## Figure 2S(vii)"
   ]
  },
  {
   "cell_type": "code",
   "execution_count": null,
   "metadata": {},
   "outputs": [],
   "source": [
    "poleCases = get_gene_and_cohort_list_utils.get_impact_signature_cohort(filePathDict['IMPACT_SIGNATURE_DECOMPOSITIONS'], 'mean_10')\n",
    "poleEndometrialColorectalMaf = allImpactMutsMaf[\n",
    "    (allImpactMutsMaf['cancerType'].isin(['Endometrial Cancer', 'Colorectal Cancer'])) & \n",
    "    (allImpactMutsMaf['Tumor_Sample_Barcode'].isin(poleCases))]\n",
    "df = make_comparissons(poleEndometrialColorectalMaf, mode = 'gene', mutationType='pole')"
   ]
  },
  {
   "cell_type": "code",
   "execution_count": null,
   "metadata": {},
   "outputs": [],
   "source": [
    "writePath = os.path.join(writeDir, 'figure_2S_i.tsv')\n",
    "df.to_csv(writePath, index=False, sep='\\t')"
   ]
  },
  {
   "cell_type": "markdown",
   "metadata": {},
   "source": [
    "## Figure 2S(vii)"
   ]
  },
  {
   "cell_type": "code",
   "execution_count": null,
   "metadata": {},
   "outputs": [],
   "source": []
  },
  {
   "cell_type": "markdown",
   "metadata": {},
   "source": [
    "## Figure 2S(viii)"
   ]
  },
  {
   "cell_type": "markdown",
   "metadata": {},
   "source": [
    "## SUPPLEMENTARY FIGURE: gene prevalene normal vs hyper by signature type"
   ]
  },
  {
   "cell_type": "code",
   "execution_count": null,
   "metadata": {},
   "outputs": [],
   "source": [
    "def make_comparissons(maf, mode = 'gene', mutationType='msi',\n",
    "        cancerType1 = 'Endometrial Cancer', cancerType2 = 'Colorectal Cancer'):\n",
    "    tsgs = get_gene_and_cohort_list_utils.get_tsgs()\n",
    "    oncogenes = get_gene_and_cohort_list_utils.get_oncogenes()\n",
    "    indelClassifications = ['Frame_Shift_Del', 'Frame_Shift_Ins']  #TODO actually only include MSI indels not just random indels\n",
    "    truncatingClassifications = ['']\n",
    "    \n",
    "    if mutationType == 'msi':\n",
    "        maf = maf[maf['Variant_Classification'].isin(indelClassifications)]\n",
    "        maf = maf[maf['correctedAllele'].notnull()]\n",
    "    elif mutationType == 'pole':\n",
    "        maf = maf[maf['Variant_Classification'].isin(['Nonsense_Mutation'])] \n",
    "    else:\n",
    "        pass\n",
    "    \n",
    "    if mode == 'gene':\n",
    "        maf['allele'] = maf['Hugo_Symbol']\n",
    "    else:\n",
    "        maf['allele'] = maf['Hugo_Symbol'] + '_' + maf['HGVSp_Short']\n",
    "    \n",
    "    c1Maf = maf[maf['cancerType'] == cancerType1]\n",
    "    c2Maf = maf[maf['cancerType'] == cancerType2]\n",
    "    \n",
    "    nC1 = 1.0*len(set(c1Maf['Tumor_Sample_Barcode']))\n",
    "    nC2 = 1.0*len(set(c2Maf['Tumor_Sample_Barcode']))\n",
    "    \n",
    "    listOfDicts = []\n",
    "    for allele in set(maf['allele']):\n",
    "        allele = str(allele)\n",
    "        aMafC1 = c1Maf[c1Maf['allele'] == allele]\n",
    "        aMafC2 = c2Maf[c2Maf['allele'] == allele]\n",
    "        \n",
    "        gene = ''\n",
    "        if mode == 'gene':\n",
    "            gene = allele\n",
    "        else:\n",
    "            gene = allele.split('_')[0]\n",
    "        \n",
    "        \n",
    "            \n",
    "        geneType = 'tsg' if gene in tsgs else 'oncogene' if gene in oncogenes else None\n",
    "        c1Count = len(set(aMafC1['Tumor_Sample_Barcode']))\n",
    "        c2Count = len(set(aMafC2['Tumor_Sample_Barcode']))\n",
    "        listOfDicts.append({'Allele': allele, 'GeneType': geneType, 'Gene': gene,\n",
    "                            'N_C1': c1Count, 'N_C2': c2Count, 'total_C1': nC1, 'total_C2': nC2,\n",
    "                            'c1_cancerType': cancerType1, 'c2_cancerType': cancerType2,\n",
    "                           'perCase_c1': c1Count/nC1, 'perCase_c2': c2Count/nC2})\n",
    "    \n",
    "    df = pd.DataFrame(listOfDicts)    \n",
    "    df['n_NotPresent_c1'] = df['N_C1'].apply(lambda x: nC1 - x)\n",
    "    df['n_NotPresent_c2'] = df['N_C2'].apply(lambda x: nC2 - x)\n",
    "    \n",
    "    #get fisher's test results\n",
    "    df['p_proportions_z_score'] = df.apply(lambda row: proportions_ztest(np.array([row['N_C1'], row['N_C2']]),\n",
    "                                                                         np.array([nC1, nC2]))[1], axis=1)\n",
    "    \n",
    "    df = df[df['p_proportions_z_score'].notnull()] #remove null z scores, otherwise the qVal wont calculate\n",
    "    fdrDict = dict(zip(df['Allele'], fdrcorrection(df['p_proportions_z_score'])[1]))\n",
    "    df['qVal'] = df['Allele'].apply(lambda x: fdrDict[x])\n",
    "    \n",
    "    wntGenes = get_gene_and_cohort_list_utils.get_pathway_genes('WNT')\n",
    "    pi3kGenes = get_gene_and_cohort_list_utils.get_pathway_genes('PI3K') | set(['INPPL1', 'JAK1']) #manually add these guys\n",
    "    df['pathway'] = df['Gene'].apply(lambda x: 'WNT' if x in wntGenes else 'PI3K' if x in pi3kGenes else 'OTHER')\n",
    "    return df"
   ]
  },
  {
   "cell_type": "code",
   "execution_count": null,
   "metadata": {},
   "outputs": [],
   "source": [
    "allImpactMutsMaf = pd.read_table(filePathDict['IMPACT_BASE_MAF'])"
   ]
  },
  {
   "cell_type": "code",
   "execution_count": null,
   "metadata": {},
   "outputs": [],
   "source": [
    "cancerTypeDict = get_gene_and_cohort_list_utils.get_impact_cancer_type_info(impactCancerTypeInfoPath=filePathDict['CANCER_TYPE_INFO'])\n",
    "allImpactMutsMaf['cancerType'] = allImpactMutsMaf['Tumor_Sample_Barcode'].apply(lambda x: cancerTypeDict[x] if x in cancerTypeDict else None)\n",
    "msiCases = get_gene_and_cohort_list_utils.get_msi_cases(msiInfoFilePath = filePathDict['CASE_TMB_AND_MSI_STATS'], msiScoreThresh=10)\n",
    "hypermutantIds = get_gene_and_cohort_list_utils.get_all_hypermutant_ids(hypermutantIdDir=filePathDict['HYPERMUTATION_STATUS_IDS'])\n"
   ]
  },
  {
   "cell_type": "code",
   "execution_count": null,
   "metadata": {},
   "outputs": [],
   "source": [
    "poleCases = get_gene_and_cohort_list_utils.get_impact_signature_cohort(filePathDict['IMPACT_SIGNATURE_DECOMPOSITIONS'], 'mean_10')\n",
    "apobecCases = get_gene_and_cohort_list_utils.get_impact_signature_cohort(filePathDict['IMPACT_SIGNATURE_DECOMPOSITIONS'], 'mean_APOBEC')\n"
   ]
  },
  {
   "cell_type": "code",
   "execution_count": null,
   "metadata": {},
   "outputs": [],
   "source": [
    "apobecMaf = allImpactMutsMaf[\n",
    "    allImpactMutsMaf['Tumor_Sample_Barcode'].isin(apobecCases) &\n",
    "    (allImpactMutsMaf['Tumor_Sample_Barcode'].isin(hypermutantIds))]"
   ]
  },
  {
   "cell_type": "code",
   "execution_count": null,
   "metadata": {},
   "outputs": [],
   "source": [
    "#Counter(apobecMaf.drop_duplicates(subset=['Tumor_Sample_Barcode'])['cancerType'])\n",
    "\n",
    "df = make_comparissons(apobecMaf, mode = 'gene', mutationType='',\n",
    "        cancerType1 = 'Bladder Cancer', cancerType2 = 'Breast Cancer')\n",
    "\n"
   ]
  },
  {
   "cell_type": "code",
   "execution_count": null,
   "metadata": {},
   "outputs": [],
   "source": [
    "df.to_csv('/Users/friedman/Desktop/WORK/dataForLocalPlotting/apobecCompTest.tsv', index=False, sep='\\t')"
   ]
  },
  {
   "cell_type": "markdown",
   "metadata": {},
   "source": [
    "## Observed and expcted by related vs unrelated gene class"
   ]
  },
  {
   "cell_type": "code",
   "execution_count": 9,
   "metadata": {},
   "outputs": [],
   "source": [
    "def summarize_obs_vs_expected_by_gene_type(maf, relatedGenesDict, expectedDf, cancerTypeDict):\n",
    "    impact341Genes = get_gene_and_cohort_list_utils.get_im3_genes()\n",
    "    expectedDf = expectedDf[expectedDf['gene'].isin(impact341Genes)]\n",
    "    maf = maf[maf['Hugo_Symbol'].isin(impact341Genes)]\n",
    "    oncSnpMaf = maf[(maf['oncogenic'].notnull()) & (maf['Variant_Type'] == 'SNP')]\n",
    "    mutCounts = dict(maf['Tumor_Sample_Barcode'].value_counts())\n",
    "    listOfDicts = []\n",
    "    cntr = 0\n",
    "    for case, cancerType in cancerTypeDict.items():\n",
    "        if case in set(maf['Tumor_Sample_Barcode']) and case in set(expectedDf['case']):\n",
    "        \n",
    "            if cntr%50 == 0: print cntr,\n",
    "            caseMaf = oncSnpMaf[oncSnpMaf['Tumor_Sample_Barcode'] == case]\n",
    "            caseExpectation = expectedDf[expectedDf['case'] == case]\n",
    "            relatedGenes = relatedGenesDict[cancerType]\n",
    "\n",
    "            relatedGenesMaf = caseMaf[caseMaf['Hugo_Symbol'].isin(relatedGenes)]\n",
    "            notRelatedGenesMaf = caseMaf[~caseMaf['Hugo_Symbol'].isin(relatedGenes)]\n",
    "            relatedGenesExpected = caseExpectation[caseExpectation['gene'].isin(relatedGenes)]\n",
    "            notRelatedGenesExpected = caseExpectation[~caseExpectation['gene'].isin(relatedGenes)]\n",
    "\n",
    "            listOfDicts.append({'cancerType': cancerType, 'Tumor_Sample_Barcode': case,\n",
    "                                'nmut_IM341': mutCounts[case],\n",
    "                'nRelatedObserved': relatedGenesMaf.shape[0],\n",
    "                'nUnrelatedObserved': notRelatedGenesMaf.shape[0],\n",
    "                'nRelatedExpected': mutCounts[case]*sum(relatedGenesExpected['oncogenicChance']),\n",
    "                'nUnrelatedExpected': mutCounts[case]*sum(notRelatedGenesExpected['oncogenicChance'])\n",
    "            })\n",
    "\n",
    "            cntr += 1\n",
    "        \n",
    "    df = pd.DataFrame(listOfDicts)\n",
    "    return df"
   ]
  },
  {
   "cell_type": "code",
   "execution_count": 4,
   "metadata": {},
   "outputs": [
    {
     "name": "stderr",
     "output_type": "stream",
     "text": [
      "/anaconda2/lib/python2.7/site-packages/ipykernel_launcher.py:1: FutureWarning: read_table is deprecated, use read_csv instead, passing sep='\\t'.\n",
      "  \"\"\"Entry point for launching an IPython kernel.\n",
      "/anaconda2/lib/python2.7/site-packages/ipykernel_launcher.py:2: FutureWarning: read_table is deprecated, use read_csv instead, passing sep='\\t'.\n",
      "  \n",
      "/anaconda2/lib/python2.7/site-packages/IPython/core/interactiveshell.py:2714: DtypeWarning: Columns (4,17,18,40,41,43,44,71,108,124,125,128,129,130,131,132,133,134,135,137) have mixed types. Specify dtype option on import or set low_memory=False.\n",
      "  interactivity=interactivity, compiler=compiler, result=result)\n",
      "/Users/friedman/Desktop/hypermutationProjectFinal/scripts/utilityScripts/get_gene_and_cohort_list_utils.py:302: FutureWarning: read_table is deprecated, use read_csv instead, passing sep='\\t'.\n",
      "  allImpactMutsMaf = pd.read_table(impactMafPath) #todo get this in a better way\n",
      "/anaconda2/lib/python2.7/site-packages/IPython/core/interactiveshell.py:2818: DtypeWarning: Columns (4,17,18,40,41,43,44,71,108,124,125,128,129,130,131,132,133,134,135,137) have mixed types. Specify dtype option on import or set low_memory=False.\n",
      "  if self.run_code(code, result):\n",
      "/Users/friedman/Desktop/hypermutationProjectFinal/scripts/utilityScripts/get_gene_and_cohort_list_utils.py:198: FutureWarning: read_table is deprecated, use read_csv instead, passing sep='\\t'.\n",
      "  impactCancerTypeDf = pd.read_table(impactCancerTypeInfoPath)\n",
      "/Users/friedman/Desktop/hypermutationProjectFinal/scripts/utilityScripts/get_gene_and_cohort_list_utils.py:207: FutureWarning: read_table is deprecated, use read_csv instead, passing sep='\\t'.\n",
      "  df = pd.read_table(path)\n",
      "/Users/friedman/Desktop/hypermutationProjectFinal/scripts/utilityScripts/get_gene_and_cohort_list_utils.py:296: SettingWithCopyWarning: \n",
      "A value is trying to be set on a copy of a slice from a DataFrame.\n",
      "Try using .loc[row_indexer,col_indexer] = value instead\n",
      "\n",
      "See the caveats in the documentation: http://pandas.pydata.org/pandas-docs/stable/indexing.html#indexing-view-versus-copy\n",
      "  oncMaf['caseGene'] = oncMaf['Tumor_Sample_Barcode'] + '_' + oncMaf['Hugo_Symbol']\n"
     ]
    }
   ],
   "source": [
    "expectedDf = pd.read_table(filePathDict['EXPECTED_MUTATION_INFO_BY_GENE'])\n",
    "allImpactMutsMaf = pd.read_table(filePathDict['IMPACT_BASE_MAF'])\n",
    "relatedGenesDict = get_gene_and_cohort_list_utils.get_related_genes_by_cancer_type()"
   ]
  },
  {
   "cell_type": "code",
   "execution_count": 7,
   "metadata": {},
   "outputs": [],
   "source": [
    "cancerTypeDict = dict(get_gene_and_cohort_list_utils.get_impact_cancer_type_info(impactCancerTypeInfoPath = filePathDict['CANCER_TYPE_INFO']))\n",
    "allImpactMutsMaf['cancerType'] = allImpactMutsMaf['Tumor_Sample_Barcode'].apply(lambda x: cancerTypeDict[x] if x in cancerTypeDict else None)\n",
    "hypermutantIds = get_gene_and_cohort_list_utils.get_all_hypermutant_ids(hypermutantIdDir=filePathDict['HYPERMUTATION_STATUS_IDS'])\n",
    "normalIds = get_gene_and_cohort_list_utils.get_all_normal_ids(hypermutantIdDir=filePathDict['HYPERMUTATION_STATUS_IDS'])\n",
    "allImpactMutsMaf['hypermutationStatus'] = allImpactMutsMaf['Tumor_Sample_Barcode'].apply(lambda x:\n",
    "    'hypermutated' if x in hypermutantIds else 'normal' if x in normalIds else 'Intermediate')\n",
    "hypermutantMaf = allImpactMutsMaf[allImpactMutsMaf['hypermutationStatus'] == 'hypermutated']"
   ]
  },
  {
   "cell_type": "code",
   "execution_count": 10,
   "metadata": {},
   "outputs": [
    {
     "name": "stdout",
     "output_type": "stream",
     "text": [
      "0 50 100 150 200 250 300 350 400 450 500 550 600 650 700 750 800 850 900 950 1000 1050 1100 1150 1200 1250 1300 1350 1400 1450\n"
     ]
    }
   ],
   "source": [
    "df = summarize_obs_vs_expected_by_gene_type(hypermutantMaf, relatedGenesDict, expectedDf, cancerTypeDict)"
   ]
  },
  {
   "cell_type": "code",
   "execution_count": 27,
   "metadata": {},
   "outputs": [],
   "source": [
    "#dominantSignatureDict = get_gene_and_cohort_list_utils.get_pan_impact_signature_mapping(filePathDict['IMPACT_SIGNATURE_DECOMPOSITIONS'])\n",
    "df['dominantSignature'] = df['Tumor_Sample_Barcode'].apply(lambda x:\n",
    "        dominantSignatureDict[x] if x in dominantSignatureDict else None)\n",
    "df['dominantSignature'] = df['dominantSignature'].apply(lambda x: \n",
    "        'APOBEC' if x == 'mean_APOBEC'\n",
    "        else 'TMZ' if x == 'mean_11'\n",
    "        else 'MMR' if x in ['mean_1', 'mean_MMR']\n",
    "        #else 'UV' if x == 'mean_7'\n",
    "        else 'POLE' if x == 'mean_10'\n",
    "        #else 'SMOKING' if x == 'mean_SMOKING'\n",
    "        else 'other')"
   ]
  },
  {
   "cell_type": "code",
   "execution_count": 28,
   "metadata": {},
   "outputs": [],
   "source": [
    "df.to_csv('/Users/friedman/Desktop/WORK/dataForLocalPlotting/obsExpectedRelatedGenesSup.tsv', index=False, sep='\\t')"
   ]
  },
  {
   "cell_type": "markdown",
   "metadata": {},
   "source": [
    "## Supplementary figure: enrichment of mutations in hypermutated tumors"
   ]
  },
  {
   "cell_type": "code",
   "execution_count": null,
   "metadata": {},
   "outputs": [],
   "source": [
    "#samples a normal maf to have mutations drawn from similar distribution as hypermutated cases\n",
    "def sample_normal_maf(normalMaf, hyperMaf, N=25):\n",
    "    \n",
    "    hyperCancerTypeCounter = Counter(hyperMaf['cancerType'])\n",
    "    normalCancerTypeCounter = Counter(normalMaf['cancerType'])\n",
    "    \n",
    "    normalMaf['weight'] = normalMaf['cancerType'].apply(lambda x: \n",
    "        (1.0*normalMaf.shape[0]*hyperCancerTypeCounter[x])/(hyperMaf.shape[0]*normalCancerTypeCounter[x]))\n",
    "    sampledCounts = normalMaf.sample(frac=N, weights='weight', replace=True)\n",
    "    return sampledCounts\n",
    "\n",
    "def summarize_mutational_prevalence(hyperMaf, normalMafSampled):\n",
    "    \n",
    "    nCasesHyper = len(set(hyperMaf['Tumor_Sample_Barcode']))\n",
    "    nCasesNormal = len(set(normalMaf['Tumor_Sample_Barcode']))\n",
    "    \n",
    "    oncoMafNormal = normalMafSampled[normalMafSampled['oncogenic'].notnull()]\n",
    "    oncoMafHyper = hyperMaf[hyperMaf['oncogenic'].notnull()]\n",
    "    \n",
    "    listOfDicts = []\n",
    "    \n",
    "    cntr = 0\n",
    "    for gene in set(oncoMafNormal['Hugo_Symbol']) | set(oncoMafHyper['Hugo_Symbol']):\n",
    "        \n",
    "        geneMafNormal = oncoMafNormal[oncoMafNormal['Hugo_Symbol'] == gene]\n",
    "        geneMafHyper = oncoMafHyper[oncoMafHyper['Hugo_Symbol'] == gene]\n",
    "        normalCount = len(set(geneMafNormal['Tumor_Sample_Barcode']))\n",
    "        hyperCount = len(set(geneMafHyper['Tumor_Sample_Barcode']))\n",
    "        \n",
    "        listOfDicts.append({'gene': gene,\n",
    "            'countNormal': normalCount,\n",
    "            'countHyper': hyperCount\n",
    "        })\n",
    "        \n",
    "        cntr += 1\n",
    "        if cntr%50 == 0: print cntr\n",
    "        \n",
    "    df = pd.DataFrame(listOfDicts)\n",
    "    df['fracNormal'] = df['countNormal'].apply(lambda x: (1.0*x)/nCasesNormal)\n",
    "    df['fracHyper'] = df['countHyper'].apply(lambda x:  (1.0*x)/nCasesHyper)\n",
    "    \n",
    "    return df\n",
    "        "
   ]
  },
  {
   "cell_type": "code",
   "execution_count": null,
   "metadata": {},
   "outputs": [],
   "source": [
    "allImpactMutsMaf = pd.read_table(filePathDict['IMPACT_BASE_MAF'])\n",
    "cancerTypeDict = get_gene_and_cohort_list_utils.get_impact_cancer_type_info(impactCancerTypeInfoPath=filePathDict['CANCER_TYPE_INFO'])\n",
    "allImpactMutsMaf['cancerType'] = allImpactMutsMaf['Tumor_Sample_Barcode'].apply(lambda x: cancerTypeDict[x] if x in cancerTypeDict else None)\n",
    "\n",
    "msiCases = get_gene_and_cohort_list_utils.get_msi_cases(msiInfoFilePath = filePathDict['CASE_TMB_AND_MSI_STATS'], msiScoreThresh=10)\n",
    "apobecCases = get_gene_and_cohort_list_utils.get_impact_signature_cohort(filePathDict['IMPACT_SIGNATURE_DECOMPOSITIONS'], 'mean_APOBEC')\n",
    "poleCases = get_gene_and_cohort_list_utils.get_impact_signature_cohort(filePathDict['IMPACT_SIGNATURE_DECOMPOSITIONS'], 'mean_10')\n",
    "\n",
    "hypermutatedIds = get_gene_and_cohort_list_utils.get_all_hypermutant_ids(hypermutantIdDir=filePathDict['HYPERMUTATION_STATUS_IDS'])\n",
    "normalIds = get_gene_and_cohort_list_utils.get_all_normal_ids(hypermutantIdDir=filePathDict['HYPERMUTATION_STATUS_IDS'])\n",
    "normalMaf = allImpactMutsMaf[allImpactMutsMaf['Tumor_Sample_Barcode'].isin(normalIds)]\n"
   ]
  },
  {
   "cell_type": "code",
   "execution_count": null,
   "metadata": {},
   "outputs": [],
   "source": [
    "listOfDfs = []\n",
    "caseMapping = {'POLE': poleCases, 'APOBEC': apobecCases, 'MSI': msiCases}\n",
    "\"\"\"for sigType, cases in caseMapping.items():\n",
    "    print 'sampling', sigType\n",
    "    hypermutatedMaf = allImpactMutsMaf[(allImpactMutsMaf['Tumor_Sample_Barcode'].isin(cases))]\n",
    "    samples = sample_normal_maf(normalMaf, hypermutatedMaf, N=15)\n",
    "    print 'summarizing'\n",
    "    df = summarize_mutational_prevalence(hypermutatedMaf, samples)\n",
    "    df['signature'] = sigType\n",
    "    listOfDfs.append(df)\n",
    "\"\"\"\n",
    "\n",
    "#combinedDf = pd.concat(listOfDfs)\n",
    "combinedDf['ratio'] = combinedDf['fracHyper']/combinedDf['fracNormal']\n",
    "combinedDf['ddrGene'] = combinedDf['gene'].apply(lambda x: True if x in ['POLE', 'MLH1', 'MSH2', 'MSH6', 'PMS2'] else False)\n"
   ]
  },
  {
   "cell_type": "code",
   "execution_count": null,
   "metadata": {},
   "outputs": [],
   "source": [
    "combinedDf.to_csv('~/Desktop/WORK/dataForLocalPlotting/percentComps.tsv', index=False, sep='\\t')"
   ]
  },
  {
   "cell_type": "markdown",
   "metadata": {},
   "source": [
    "## DNDS supplemental figure"
   ]
  },
  {
   "cell_type": "code",
   "execution_count": null,
   "metadata": {},
   "outputs": [],
   "source": [
    "df = pd.read_table('/Users/friedman/Desktop/hypermutationProjectFinal/tables/table5.tsv')\n",
    "allImpactMutsMaf = pd.read_table(filePathDict['IMPACT_BASE_MAF'])"
   ]
  },
  {
   "cell_type": "code",
   "execution_count": null,
   "metadata": {},
   "outputs": [],
   "source": [
    "relatedGenesDict = get_gene_and_cohort_list_utils.get_related_genes_by_cancer_type()"
   ]
  },
  {
   "cell_type": "code",
   "execution_count": null,
   "metadata": {},
   "outputs": [],
   "source": [
    "#relatedGenesDict\n",
    "df['related'] = df.apply(lambda row:\n",
    "                'related' if row['CANCER_TYPE'] in relatedGenesDict and row['GENE'] in relatedGenesDict[row['CANCER_TYPE']]\n",
    "                           else 'not-related', axis=1)\n",
    "df['dndsIsSignificantHyper'] = df['DNDS_HYPER_SCORE'].apply(lambda x: 1 if x <.05 else 0)\n",
    "df['cancerTypeGene'] = df.apply(lambda row: row['CANCER_TYPE'] + '_' + row['related'], axis=1)"
   ]
  },
  {
   "cell_type": "code",
   "execution_count": null,
   "metadata": {},
   "outputs": [],
   "source": [
    "df.to_csv('/Users/friedman/Desktop/WORK/dataForLocalPlotting/dndsSupplement.tsv',index=False, sep='\\t')"
   ]
  }
 ],
 "metadata": {
  "kernelspec": {
   "display_name": "Python 2",
   "language": "python",
   "name": "python2"
  },
  "language_info": {
   "codemirror_mode": {
    "name": "ipython",
    "version": 2
   },
   "file_extension": ".py",
   "mimetype": "text/x-python",
   "name": "python",
   "nbconvert_exporter": "python",
   "pygments_lexer": "ipython2",
   "version": "2.7.15"
  }
 },
 "nbformat": 4,
 "nbformat_minor": 2
}
