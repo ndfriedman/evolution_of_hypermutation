{
 "cells": [
  {
   "cell_type": "code",
   "execution_count": 2,
   "metadata": {},
   "outputs": [],
   "source": [
    "import sys\n",
    "import argparse\n",
    "import os\n",
    "import pandas as pd\n",
    "import numpy as np\n",
    "import numpy\n",
    "\n",
    "from collections import Counter\n",
    "\n",
    "sys.path.append('/Users/friedman/Desktop/hypermutationProjectFinal/scripts/utilityScripts')\n",
    "import analysis_utils \n",
    "import mutationSigUtils \n",
    "import maf_analysis_utils\n",
    "import clonality_analysis_util\n",
    "import get_gene_and_cohort_list_utils\n",
    "import configuration_util\n",
    "\n",
    "filePathDict = configuration_util.get_all_files_path_dict()"
   ]
  },
  {
   "cell_type": "code",
   "execution_count": 30,
   "metadata": {},
   "outputs": [],
   "source": [
    "def count_mutations_by_dep_map_score(maf, geneSizeDict, scoreDicts):\n",
    "    \n",
    "    tsgs = get_gene_and_cohort_list_utils.get_tsgs()\n",
    "    impactGenes = get_gene_and_cohort_list_utils.get_im6_genes()\n",
    "    oncogenes = impactGenes - tsgs\n",
    "    \n",
    "    truncatingConsequences = set(['Frame_Shift_Del', 'Frame_Shift_Ins', 'Nonsense_Mutation'])\n",
    "    \n",
    "    listOfDicts = []\n",
    "    for cancerType, d in scoreDicts.items():\n",
    "        print cancerType\n",
    "        \n",
    "        cTypeMaf = maf[maf['cancerTypeDepMap'] == cancerType]\n",
    "        truncatingMaf = cTypeMaf[cTypeMaf['Variant_Classification'].isin(truncatingConsequences)]\n",
    "        missenseMaf = cTypeMaf[cTypeMaf['Variant_Classification'] == 'Missense_Mutation']\n",
    "        silentMaf = cTypeMaf[cTypeMaf['Variant_Classification'] == 'Silent']\n",
    "    \n",
    "        cntr = 0\n",
    "        for gene, score in d.items():\n",
    "        \n",
    "            if cntr%1000==0:print round((1.0*cntr)/len(set(allExomeHypermutantMaf['Hugo_Symbol'])), 2),\n",
    "            geneMafTruncating = truncatingMaf[truncatingMaf['Hugo_Symbol'] == gene]\n",
    "            geneMafMissense = missenseMaf[missenseMaf['Hugo_Symbol'] == gene]\n",
    "            geneMafSilent = silentMaf[silentMaf['Hugo_Symbol'] == gene]\n",
    "\n",
    "            nDoubleTruncating = sum([1  if case > 1 else 0 for case, count in dict(geneMafTruncating['Tumor_Sample_Barcode'].value_counts()).items()])\n",
    "            nDoubleMissense = sum([1 if case > 1 else 0 for case, count in dict(geneMafMissense['Tumor_Sample_Barcode'].value_counts()).items()])\n",
    "            nDoubleSilent = sum([1 if case > 1 else 0 for case, count in dict(geneMafSilent['Tumor_Sample_Barcode'].value_counts()).items()])\n",
    "\n",
    "            listOfDicts.append({'gene': gene, 'score': score, 'cancerType': cancerType, 'context': cancerType + '_' + gene,\n",
    "                                'geneSize': geneSizeDict[gene] if gene in geneSizeDict else None,\n",
    "                                'nDoubleTruncating': nDoubleTruncating,\n",
    "                                'nDoubleMissense': nDoubleMissense,\n",
    "                                'nDoubleSilent': nDoubleSilent, \n",
    "                                'nMissense': geneMafMissense.shape[0],\n",
    "                                'nSilent': geneMafSilent.shape[0],\n",
    "                                'nTruncating': geneMafTruncating.shape[0]\n",
    "            })\n",
    "        \n",
    "            cntr += 1\n",
    "    \n",
    "    return pd.DataFrame(listOfDicts)\n",
    "    \n",
    "    \n",
    "    \n",
    "    "
   ]
  },
  {
   "cell_type": "code",
   "execution_count": 4,
   "metadata": {},
   "outputs": [
    {
     "name": "stderr",
     "output_type": "stream",
     "text": [
      "/anaconda2/lib/python2.7/site-packages/ipykernel_launcher.py:1: FutureWarning: read_table is deprecated, use read_csv instead, passing sep='\\t'.\n",
      "  \"\"\"Entry point for launching an IPython kernel.\n",
      "/anaconda2/lib/python2.7/site-packages/IPython/core/interactiveshell.py:2714: DtypeWarning: Columns (0,1,2,3,4,5,6,7,9,12,17,19,20,22,25,26,27,29,30,31,32,35,36,50,51,52,54,55,56,57,58,65,66,68,69,73,74,75,82,84,85,89,90,91,92,93,94,95,96,97,101,102,104,106,110,111,112,113,117,118,120,123,124,125,128,135,136,137,138,144,147,150,151,154,155,158,160,161,190,192,200,212,213,214,215,218,219,235,236,238,239,240,242,280,283,286,287,306,307,308,309,312,314,315) have mixed types. Specify dtype option on import or set low_memory=False.\n",
      "  interactivity=interactivity, compiler=compiler, result=result)\n"
     ]
    }
   ],
   "source": [
    "allExomeHypermutantMaf = pd.read_table(filePathDict['ALL_EXOME_HYPERMUTATOR_MAF'])\n"
   ]
  },
  {
   "cell_type": "code",
   "execution_count": 5,
   "metadata": {},
   "outputs": [
    {
     "name": "stderr",
     "output_type": "stream",
     "text": [
      "/Users/friedman/Desktop/hypermutationProjectFinal/scripts/utilityScripts/get_gene_and_cohort_list_utils.py:193: FutureWarning: read_table is deprecated, use read_csv instead, passing sep='\\t'.\n",
      "  tcgaDf = pd.read_table(tcgaInfoPath)\n",
      "/Users/friedman/Desktop/hypermutationProjectFinal/scripts/utilityScripts/get_gene_and_cohort_list_utils.py:197: FutureWarning: read_table is deprecated, use read_csv instead, passing sep='\\t'.\n",
      "  impactCancerTypeDf = pd.read_table(impactCancerTypeInfoPath)\n"
     ]
    }
   ],
   "source": [
    "#dictionary to reassign cancer type information\n",
    "\n",
    "#adjust dep map names to merge cancer types\n",
    "\n",
    "tcgaToDepMapCancerTypeMapping = {'TCGA-COAD': 'Colon/Colorectal Cancer',\n",
    "                                'TCGA-READ': 'Colon/Colorectal Cancer',\n",
    "                                'TCGA-UCEC': 'Endometrial/Uterine Cancer',\n",
    "                                'TCGA-GBM': 'Brain Cancer',\n",
    "                                'TCGA-LGG': 'Brain Cancer',\n",
    "                                'TCGA-LUAD': 'Lung Cancer',\n",
    "                                'TCGA-LUSC': 'Lung Cancer',\n",
    "                                'TCGA-SKCM': 'Skin Cancer',\n",
    "                                'TCGA-BLCA': 'Bladder Cancer',\n",
    "                                'TCGA-BRCA': 'Breast Cancer',\n",
    "                                'TCGA-PRAD': 'Prostate Cancer',\n",
    "                                'TCGA-ESCA': 'Esophageal Cancer',\n",
    "                                'TCGA-STAD': 'Gastric Cancer'}\n",
    "\n",
    "impactToDepMapCancerTypeMapping = {\n",
    "    'Colorectal Cancer': 'Colon/Colorectal Cancer',\n",
    "    'Endometrial Cancer': 'Endometrial/Uterine Cancer',\n",
    "    'Glioma': 'Brain Cancer',\n",
    "    'Non-Small Cell Lung Cancer': 'Lung Cancer',\n",
    "    'Small Cell Lung Cancer': 'Lung Cancer',\n",
    "    'Melanoma': 'Skin Cancer',\n",
    "    'Bladder Cancer': 'Bladder Cancer',\n",
    "    'Breast Cancer': 'Breast Cancer',\n",
    "    'Prostate Cancer': 'Prostate Cancer',\n",
    "    'Esophagogastric Cancer': 'Esophageal Cancer', #change to combine esophagus and gastric\n",
    "}\n",
    "\n",
    "\n",
    "tcgaCancerTypeDict = get_gene_and_cohort_list_utils.get_tcga_cancer_type_info(tcgaInfoPath = filePathDict['TCGA_CANCER_TYPE_INFO'], cancerTypes = [])\n",
    "impactCancerTypeDict = get_gene_and_cohort_list_utils.get_impact_cancer_type_info(impactCancerTypeInfoPath = filePathDict['CANCER_TYPE_INFO'])\n"
   ]
  },
  {
   "cell_type": "code",
   "execution_count": 6,
   "metadata": {},
   "outputs": [
    {
     "name": "stderr",
     "output_type": "stream",
     "text": [
      "/Users/friedman/Desktop/hypermutationProjectFinal/scripts/utilityScripts/get_gene_and_cohort_list_utils.py:258: FutureWarning: read_table is deprecated, use read_csv instead, passing sep='\\t'.\n",
      "  df = pd.read_table(exomeIdMappingPath)\n"
     ]
    }
   ],
   "source": [
    "exomeIdMapping = get_gene_and_cohort_list_utils.get_exome_id_mapping(exomeIdMappingPath = '~/Desktop/hypermutationProjectFinal/files/infoFiles/dmpToSampleNameMapping.tsv')[0]\n",
    "allExomeHypermutantMaf['Tumor_Sample_Barcode'] = allExomeHypermutantMaf['Tumor_Sample_Barcode'].apply(lambda x: exomeIdMapping[x] if x in exomeIdMapping else x)\n"
   ]
  },
  {
   "cell_type": "code",
   "execution_count": 7,
   "metadata": {},
   "outputs": [],
   "source": [
    "allExomeHypermutantMaf['Tumor_Sample_Barcode'] = allExomeHypermutantMaf['Tumor_Sample_Barcode'].apply(lambda x:\n",
    "                        x[:12] if len(x) == 15\n",
    "                       else x)\n",
    "\n",
    "allExomeHypermutantMaf['cancerType'] = allExomeHypermutantMaf['Tumor_Sample_Barcode'].apply(lambda x: \n",
    "    tcgaCancerTypeDict[x] if x in tcgaCancerTypeDict\n",
    "    else impactCancerTypeDict[x] if x in impactCancerTypeDict\n",
    "    else None)\n"
   ]
  },
  {
   "cell_type": "code",
   "execution_count": 8,
   "metadata": {},
   "outputs": [],
   "source": [
    "allExomeHypermutantMaf['cancerTypeDepMap'] = allExomeHypermutantMaf.apply(lambda row:\n",
    "        impactToDepMapCancerTypeMapping[row['cancerType']]\n",
    "            if row['cohort'] in ['mmr_RECAPTURE', 'pole_RECAPTURE'] and row['cancerType'] in impactToDepMapCancerTypeMapping\n",
    "        else tcgaToDepMapCancerTypeMapping[row['cancerType']]\n",
    "            if row['cohort'] in ['mmr_TCGA', 'pole_TCGA'] and row['cancerType'] in tcgaToDepMapCancerTypeMapping\n",
    "        else 'other', axis=1)"
   ]
  },
  {
   "cell_type": "code",
   "execution_count": 9,
   "metadata": {},
   "outputs": [
    {
     "name": "stdout",
     "output_type": "stream",
     "text": [
      "analyzing  Brain Cancer\n",
      "analyzing  Prostate Cancer\n",
      "analyzing  Bladder Cancer\n",
      "analyzing  Gastric Cancer\n",
      "analyzing  Esophageal Cancer\n",
      "analyzing  Skin Cancer\n",
      "analyzing  Lung Cancer\n",
      "analyzing  Breast Cancer\n",
      "analyzing  Endometrial/Uterine Cancer\n",
      "analyzing  Colon/Colorectal Cancer\n"
     ]
    }
   ],
   "source": [
    "cTypes = set(allExomeHypermutantMaf['cancerTypeDepMap']) - set(['other'])\n",
    "reload(get_gene_and_cohort_list_utils)\n",
    "d = get_gene_and_cohort_list_utils.get_cancer_type_specific_dep_map_data(cancerTypes = cTypes)"
   ]
  },
  {
   "cell_type": "code",
   "execution_count": 10,
   "metadata": {},
   "outputs": [],
   "source": [
    "allExomeHypermutantMaf = allExomeHypermutantMaf[allExomeHypermutantMaf['cancerTypeDepMap'].isin(cTypes)]\n",
    "allExomeHypermutantMaf['depMapScore'] = allExomeHypermutantMaf.apply(lambda row:\n",
    "         d[row['cancerTypeDepMap']][row['Hugo_Symbol']] if row['Hugo_Symbol'] in d[row['cancerTypeDepMap']] else None                                                          \n",
    "        ,axis=1)"
   ]
  },
  {
   "cell_type": "code",
   "execution_count": 11,
   "metadata": {},
   "outputs": [
    {
     "name": "stderr",
     "output_type": "stream",
     "text": [
      "/Users/friedman/Desktop/hypermutationProjectFinal/scripts/utilityScripts/get_gene_and_cohort_list_utils.py:32: FutureWarning: read_table is deprecated, use read_csv instead, passing sep='\\t'.\n",
      "  geneLengthInfo = pd.read_table('~/Desktop/hypermutationProjectFinal/files/infoFiles/all_gene_coding_sequences.tsv')\n"
     ]
    }
   ],
   "source": [
    "reload(get_gene_and_cohort_list_utils)\n",
    "geneSizeDict = get_gene_and_cohort_list_utils.get_gene_size_info()"
   ]
  },
  {
   "cell_type": "code",
   "execution_count": 13,
   "metadata": {},
   "outputs": [],
   "source": [
    "allExomeHypermutantMaf['geneSize'] = allExomeHypermutantMaf['Hugo_Symbol'].apply(lambda x:\n",
    "        geneSizeDict[x] if x in geneSizeDict else None)"
   ]
  },
  {
   "cell_type": "code",
   "execution_count": 31,
   "metadata": {},
   "outputs": [
    {
     "name": "stdout",
     "output_type": "stream",
     "text": [
      "Brain Cancer\n",
      "0.0 0.0468823253633 0.0937646507267 0.14064697609 0.187529301453 0.234411626817 0.28129395218 0.328176277543 0.375058602907 0.42194092827 0.468823253633 0.515705578997 0.56258790436 0.609470229723 0.656352555087 0.70323488045 0.750117205813 0.796999531177 0.84388185654 Prostate Cancer\n",
      "0.0 0.0468823253633 0.0937646507267 0.14064697609 0.187529301453 0.234411626817 0.28129395218 0.328176277543 0.375058602907 0.42194092827 0.468823253633 0.515705578997 0.56258790436 0.609470229723 0.656352555087 0.70323488045 0.750117205813 0.796999531177 0.84388185654 Bladder Cancer\n",
      "0.0 0.0468823253633 0.0937646507267 0.14064697609 0.187529301453 0.234411626817 0.28129395218 0.328176277543 0.375058602907 0.42194092827 0.468823253633 0.515705578997 0.56258790436 0.609470229723 0.656352555087 0.70323488045 0.750117205813 0.796999531177 0.84388185654 Gastric Cancer\n",
      "0.0 0.0468823253633 0.0937646507267 0.14064697609 0.187529301453 0.234411626817 0.28129395218 0.328176277543 0.375058602907 0.42194092827 0.468823253633 0.515705578997 0.56258790436 0.609470229723 0.656352555087 0.70323488045 0.750117205813 0.796999531177 0.84388185654 Esophageal Cancer\n",
      "0.0 0.0468823253633 0.0937646507267 0.14064697609 0.187529301453 0.234411626817 0.28129395218 0.328176277543 0.375058602907 0.42194092827 0.468823253633 0.515705578997 0.56258790436 0.609470229723 0.656352555087 0.70323488045 0.750117205813 0.796999531177 0.84388185654 Skin Cancer\n",
      "0.0 0.0468823253633 0.0937646507267 0.14064697609 0.187529301453 0.234411626817 0.28129395218 0.328176277543 0.375058602907 0.42194092827 0.468823253633 0.515705578997 0.56258790436 0.609470229723 0.656352555087 0.70323488045 0.750117205813 0.796999531177 0.84388185654 Lung Cancer\n",
      "0.0 0.0468823253633 0.0937646507267 0.14064697609 0.187529301453 0.234411626817 0.28129395218 0.328176277543 0.375058602907 0.42194092827 0.468823253633 0.515705578997 0.56258790436 0.609470229723 0.656352555087 0.70323488045 0.750117205813 0.796999531177 0.84388185654 Breast Cancer\n",
      "0.0 0.0468823253633 0.0937646507267 0.14064697609 0.187529301453 0.234411626817 0.28129395218 0.328176277543 0.375058602907 0.42194092827 0.468823253633 0.515705578997 0.56258790436 0.609470229723 0.656352555087 0.70323488045 0.750117205813 0.796999531177 0.84388185654 Endometrial/Uterine Cancer\n",
      "0.0 0.0468823253633 0.0937646507267 0.14064697609 0.187529301453 0.234411626817 0.28129395218 0.328176277543 0.375058602907 0.42194092827 0.468823253633 0.515705578997 0.56258790436 0.609470229723 0.656352555087 0.70323488045 0.750117205813 0.796999531177 0.84388185654 Colon/Colorectal Cancer\n",
      "0.0 0.0468823253633 0.0937646507267 0.14064697609 0.187529301453 0.234411626817 0.28129395218 0.328176277543 0.375058602907 0.42194092827 0.468823253633 0.515705578997 0.56258790436 0.609470229723 0.656352555087 0.70323488045 0.750117205813 0.796999531177 0.84388185654\n"
     ]
    }
   ],
   "source": [
    "df = count_mutations_by_dep_map_score(allExomeHypermutantMaf, geneSizeDict, d)"
   ]
  },
  {
   "cell_type": "code",
   "execution_count": 37,
   "metadata": {},
   "outputs": [],
   "source": [
    "nCasesDict = {}\n",
    "for cType in set(df['cancerType']):\n",
    "    nCases = len(set(allExomeHypermutantMaf[allExomeHypermutantMaf['cancerTypeDepMap'] == cType]['Tumor_Sample_Barcode']))\n",
    "    nCasesDict[cType] = nCases\n",
    "    \n",
    "df['nCancerType'] = df['cancerType'].apply(lambda x: nCasesDict[x])\n"
   ]
  },
  {
   "cell_type": "code",
   "execution_count": 39,
   "metadata": {},
   "outputs": [],
   "source": [
    "df.to_csv('~/Desktop/WORK/dataForLocalPlotting/essentialGeneInfo.tsv', index=False, sep='\\t')"
   ]
  },
  {
   "cell_type": "code",
   "execution_count": 42,
   "metadata": {},
   "outputs": [
    {
     "data": {
      "text/plain": [
       "array(['cancerType', 'context', 'gene', 'geneSize', 'nDoubleMissense',\n",
       "       'nDoubleSilent', 'nDoubleTruncating', 'nMissense', 'nSilent',\n",
       "       'nTruncating', 'score', 'nCancerType'], dtype=object)"
      ]
     },
     "execution_count": 42,
     "metadata": {},
     "output_type": "execute_result"
    }
   ],
   "source": [
    "df.columns.values"
   ]
  }
 ],
 "metadata": {
  "kernelspec": {
   "display_name": "Python 2",
   "language": "python",
   "name": "python2"
  },
  "language_info": {
   "codemirror_mode": {
    "name": "ipython",
    "version": 2
   },
   "file_extension": ".py",
   "mimetype": "text/x-python",
   "name": "python",
   "nbconvert_exporter": "python",
   "pygments_lexer": "ipython2",
   "version": "2.7.15"
  }
 },
 "nbformat": 4,
 "nbformat_minor": 2
}
