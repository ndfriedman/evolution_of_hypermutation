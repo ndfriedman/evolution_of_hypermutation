{
 "cells": [
  {
   "cell_type": "code",
   "execution_count": 6,
   "metadata": {},
   "outputs": [],
   "source": [
    "import sys\n",
    "import argparse\n",
    "import os\n",
    "import pandas as pd\n",
    "import numpy as np\n",
    "import numpy\n",
    "from collections import Counter\n",
    "import re\n",
    "from scipy import stats\n",
    "import math\n",
    "\n",
    "sys.path.append('/Users/friedman/Desktop/hypermutationProjectFinal/scripts/utilityScripts')\n",
    "import configuration_util\n",
    "filePathDict = configuration_util.get_all_files_path_dict()\n",
    "writeDir = os.path.join(os.getcwd(), 'FIGURE1_PLOTTING_FILES')\n",
    "\n",
    "import analysis_utils \n",
    "import mutationSigUtils \n",
    "import maf_analysis_utils\n",
    "import clonality_analysis_util\n",
    "\n",
    "#import msi_analysis_utils\n",
    "import get_gene_and_cohort_list_utils"
   ]
  },
  {
   "cell_type": "code",
   "execution_count": 2,
   "metadata": {},
   "outputs": [],
   "source": [
    "\n",
    "def summarize_allele_info(observedMaf, contextMaf, pentasToLookAt):\n",
    "\n",
    "    listOfDicts = []\n",
    "    for penta in pentasToLookAt:\n",
    "        pentasPossible = contextMaf[contextMaf['pentaChange'] == penta]\n",
    "        possiblePentaAlleles = set(pentasPossible['allele'])\n",
    "        nPossiblePentas = pentasPossible.shape[0]\n",
    "        if nPossiblePentas > 0:\n",
    "            realMafPenta = observedMaf[observedMaf['pentaChange'] == penta]\n",
    "            observedAlleles = set(realMafPenta['allele'])\n",
    "            neverObservedAlleles = possiblePentaAlleles - observedAlleles\n",
    "\n",
    "            alleleCounts = Counter(realMafPenta['allele'])\n",
    "\n",
    "            for allele, count in alleleCounts.items():\n",
    "                listOfDicts.append({\n",
    "                    'allele': allele,\n",
    "                    'count': count,\n",
    "                    'penta': penta\n",
    "                })\n",
    "\n",
    "            for allele in neverObservedAlleles:\n",
    "                listOfDicts.append({\n",
    "                    'allele': allele, 'count': 0, 'penta': penta\n",
    "                })\n",
    "\n",
    "\n",
    "    df = pd.DataFrame(listOfDicts)\n",
    "    return df"
   ]
  },
  {
   "cell_type": "code",
   "execution_count": 3,
   "metadata": {},
   "outputs": [
    {
     "name": "stderr",
     "output_type": "stream",
     "text": [
      "/anaconda2/lib/python2.7/site-packages/IPython/core/interactiveshell.py:2714: DtypeWarning: Columns (36,39,85) have mixed types. Specify dtype option on import or set low_memory=False.\n",
      "  interactivity=interactivity, compiler=compiler, result=result)\n"
     ]
    }
   ],
   "source": [
    "#poleMafWithPentaContext = pd.read_table(pathPrefix + '/ifs/work/taylorlab/friedman/myAdjustedDataFiles/poleCaseMafWithPentanucleotideContext.maf')\n",
    "poleMafWithPentaContext = pd.read_table('~/Desktop/offlineFilesForVirus/poleCaseMafWithPentanucleotideContext.maf')\n"
   ]
  },
  {
   "cell_type": "code",
   "execution_count": 4,
   "metadata": {},
   "outputs": [],
   "source": [
    "poleMafWithPentaContext['pentaChange'] = poleMafWithPentaContext.apply(lambda row: \n",
    "                                    mutationSigUtils.create_strand_specific_pentanucleotide_change(row['Ref_Tri.1'], row['Reference_Allele'], row['Tumor_Seq_Allele2'], row['Variant_Type']), axis=1)\n"
   ]
  },
  {
   "cell_type": "markdown",
   "metadata": {},
   "source": [
    "**HOTSPOT MUTATIONS**"
   ]
  },
  {
   "cell_type": "code",
   "execution_count": 5,
   "metadata": {},
   "outputs": [],
   "source": [
    "#hotspotContextSummary = pd.read_table(pathPrefix + '/ifs/work/taylorlab/friedman/myAdjustedDataFiles/hotspotContextSummary.tsv')\n",
    "hotspotContextSummary = pd.read_table('~/Desktop/offlineFilesForVirus/hotspotContextSummary.tsv')\n"
   ]
  },
  {
   "cell_type": "code",
   "execution_count": 6,
   "metadata": {},
   "outputs": [],
   "source": [
    "hotspotContextSummary['pentaChange'] = hotspotContextSummary.apply(lambda row: \n",
    "                                    mutationSigUtils.create_strand_specific_pentanucleotide_change(row['Ref_Tri.1'], row['Reference_Allele'], row['Tumor_Seq_Allele2'], row['Variant_Type']), axis=1)\n",
    "hotspotContextSummary['allele'] = hotspotContextSummary['Hugo_Symbol'] + '_' + hotspotContextSummary['HGVSp_Short']\n"
   ]
  },
  {
   "cell_type": "code",
   "execution_count": 7,
   "metadata": {},
   "outputs": [],
   "source": [
    "topTenPolePentas = [x[0] for x in Counter(poleMafWithPentaContext['pentaChange']).most_common(10)]"
   ]
  },
  {
   "cell_type": "code",
   "execution_count": 8,
   "metadata": {},
   "outputs": [],
   "source": [
    "poleMafHotspots = poleMafWithPentaContext[poleMafWithPentaContext['is-a-hotspot'] == 'Y']\n",
    "\n",
    "df = summarize_allele_info(poleMafHotspots, hotspotContextSummary, topTenPolePentas)\n"
   ]
  },
  {
   "cell_type": "code",
   "execution_count": null,
   "metadata": {
    "scrolled": true
   },
   "outputs": [],
   "source": [
    "displayThresh = 3\n",
    "df['gene'] = df['allele'].apply(lambda x: x.split('_')[0])\n",
    "displayThresh = 5\n",
    "df['displayLabel'] = df.apply(lambda row: row['allele'] if row['count'] >= displayThresh else None, axis=1)"
   ]
  },
  {
   "cell_type": "code",
   "execution_count": null,
   "metadata": {},
   "outputs": [],
   "source": [
    "df.to_csv('/Users/friedman/Desktop/WORK/dataForLocalPlotting/hotspotAlleleCounts.tsv', index=False, sep='\\t')"
   ]
  },
  {
   "cell_type": "code",
   "execution_count": null,
   "metadata": {},
   "outputs": [],
   "source": [
    "df[(df['count'] == 0) & (df['gene'] == 'NF1')]['allele']\n",
    "#print Counter(df[(df['count'] == 0)]['gene'])"
   ]
  },
  {
   "cell_type": "markdown",
   "metadata": {},
   "source": [
    "**TRUNCATING MUTATIONS**"
   ]
  },
  {
   "cell_type": "code",
   "execution_count": null,
   "metadata": {},
   "outputs": [],
   "source": [
    "def count_number_of_times_allele_is_in_multiplet(maf, allele):\n",
    "    casesWithAllele = set(maf[maf['allele'] == allele]['Tumor_Sample_Barcode'])\n",
    "    if len(casesWithAllele) == 0:\n",
    "        return None\n",
    "    alleleMaf = maf[maf['Tumor_Sample_Barcode'].isin(casesWithAllele)]\n",
    "    gene = allele.split('_')[0]\n",
    "    otherOncogenicGeneAlleles = alleleMaf[(alleleMaf['oncogenic'].notnull()) & (alleleMaf['Hugo_Symbol'] == gene) &(alleleMaf['allele'] != allele)]\n",
    "    return (1.0*len(set(otherOncogenicGeneAlleles['Tumor_Sample_Barcode'])))/len(casesWithAllele)"
   ]
  },
  {
   "cell_type": "code",
   "execution_count": null,
   "metadata": {},
   "outputs": [],
   "source": [
    "#lambda function that marks whether an allele is part of a multiplet\n",
    "def is_allele_multiplet(maf, allele, tsb):\n",
    "    gene = allele.split('_')[0]\n",
    "    if maf[(maf['allele'] != allele) & (maf['oncogenic'].notnull()) & (maf['Hugo_Symbol'] == gene) & (maf['Tumor_Sample_Barcode'] == tsb)].shape[0] > 0:\n",
    "        return 1\n",
    "    else:\n",
    "        return 0"
   ]
  },
  {
   "cell_type": "code",
   "execution_count": null,
   "metadata": {},
   "outputs": [],
   "source": [
    "truncatingContextSummary = pd.read_table(pathPrefix + '/ifs/work/taylorlab/friedman/myAdjustedDataFiles/truncatingContextSummary.tsv')"
   ]
  },
  {
   "cell_type": "code",
   "execution_count": null,
   "metadata": {},
   "outputs": [],
   "source": [
    "truncatingContextSummary['pentaChange'] = truncatingContextSummary.apply(lambda row: \n",
    "                                    mutationSigUtils.create_strand_specific_pentanucleotide_change(row['Ref_Tri.1'], row['Reference_Allele'], row['Tumor_Seq_Allele2'], row['Variant_Type']), axis=1)\n"
   ]
  },
  {
   "cell_type": "code",
   "execution_count": null,
   "metadata": {},
   "outputs": [],
   "source": [
    "poleMafWithPentaContext['allele'] = poleMafWithPentaContext['Hugo_Symbol'] + '_' + poleMafWithPentaContext['HGVSp_Short']\n",
    "truncatingContextSummary['allele'] = truncatingContextSummary['Hugo_Symbol'] + '_' + truncatingContextSummary['HGVSp_Short']\n",
    "poleMafWithPentaContext = maf_analysis_utils.fix_mll_genes(poleMafWithPentaContext)\n"
   ]
  },
  {
   "cell_type": "code",
   "execution_count": null,
   "metadata": {},
   "outputs": [],
   "source": [
    "poleMafWithPentaContextTrunc = poleMafWithPentaContext[poleMafWithPentaContext['Consequence'] == 'stop_gained']\n",
    "\n",
    "dfTruncSum = summarize_allele_info(poleMafWithPentaContextTrunc, truncatingContextSummary, topTenPolePentas)\n",
    "\n",
    "    "
   ]
  },
  {
   "cell_type": "code",
   "execution_count": null,
   "metadata": {},
   "outputs": [],
   "source": [
    "dfTruncSum['gene'] = dfTruncSum['allele'].apply(lambda x: x.split('_')[0])\n",
    "displayThresh = 5\n",
    "dfTruncSum['displayLabel'] = dfTruncSum.apply(lambda row: row['gene'] if row['count'] >= displayThresh else None, axis=1)"
   ]
  },
  {
   "cell_type": "code",
   "execution_count": null,
   "metadata": {},
   "outputs": [],
   "source": [
    "dfTruncSum.to_csv('/Users/friedman/Desktop/WORK/dataForLocalPlotting/alleleCounts.tsv', index=False, sep='\\t')"
   ]
  },
  {
   "cell_type": "code",
   "execution_count": null,
   "metadata": {},
   "outputs": [],
   "source": [
    "significantAlleles = set(dfTruncSum[dfTruncSum['displayLabel'].notnull()]['allele'])"
   ]
  },
  {
   "cell_type": "code",
   "execution_count": null,
   "metadata": {},
   "outputs": [],
   "source": [
    "#RELATED/UNRELATED genes as defined by DNDS\n",
    "relatedGenes = {\n",
    "    'Endometrial Cancer': [\"AKT1\",\"APC\",\"ARID1A\",\"BCOR\",\"CCND1\",\"CDKN2A.p16INK4a\",\"CTCF\",\"CTNNB1\",         \n",
    "\"ESR1\",\"FBXW7\",\"FGFR2\",\"KRAS\",\"NRAS\",\"PIK3CA\",\n",
    "                           \"PIK3R1\",\"PPP2R1A\",\"PTEN\",\"RB1\",\"RRAS2\",\"SOX17\",\"SPOP\",\"TP53\"],\n",
    "    'Colorectal Cancer':[\"AMER1\",\"APC\",\"ARID1A\",\"ASXL1\",\"ATM\",\"B2M\",\"BRAF\",\"CDKN2A.p16INK4a\",\"CTNNB1\",\"ELF3\",\"EPHA3\",\"ERBB3\",\"FBXW7\",\"JUN\",\"KRAS\",\"NRAS\",\"PIK3CA\",\"PIK3R1\",\"PTEN\",\"RBM10\",\"RNF43\",\"SMAD2\",\"SMAD3\",\"SMAD4\",\"SOX9\",\"TCF7L2\",\"TP53\"],\n",
    "    'Glioma': [\"ARID1A\",\"ARID2\",\"ATRX\",\"BCOR\",\"BRAF\",\"CBL\",\"CDKN1B\",\"CDKN2A.p14arf\",\"CDKN2A.p16INK4a\",\"CDKN2C\",\"CIC\",\"DNMT3A\",\"EGFR\",\"FUBP1\",\"H3F3A\",\"IDH1\",\"KRAS\",\"NF1\",\"NOTCH1\",\"PDGFRA\",\"PIK3CA\",\"PIK3R1\",\"PPM1D\",\"PTEN\",\"PTPN11\",\"RB1\",\"SETD2\",\"STAG2\",\"TP53\"]\n",
    "}"
   ]
  },
  {
   "cell_type": "code",
   "execution_count": null,
   "metadata": {},
   "outputs": [],
   "source": [
    "cohortRelatedGenes = set(relatedGenes['Endometrial Cancer']) | set(relatedGenes['Colorectal Cancer'])"
   ]
  },
  {
   "cell_type": "code",
   "execution_count": null,
   "metadata": {},
   "outputs": [],
   "source": [
    "recurrentAlleleThresh = 5\n",
    "tumorSuppresors = set(['ERRFI1', 'ASXL2', 'PMAIP1', 'ACTG1', 'SUFU', 'FBXO11', 'MEN1', 'FAM58A', 'B2M', 'RB1', 'DUSP22', 'SESN1', 'GPS2', 'RAD51D', 'SMG1', 'CDC73', 'MAP3K1', 'SMARCB1', 'INPP4B', 'PARK2', 'SMAD4', 'CBFB', 'CDH1', 'PPP6C', 'SETDB1', 'SETDB2', 'NF2', 'CDKN2B', 'CDKN2C', 'CDKN2A', 'DDX3X', 'PIK3R1', 'BARD1', 'PDS5B', 'KLF4', 'SPRED1', 'VHL', 'SMAD2', 'PMS1', 'PMS2', 'SETD2', 'GATA3', 'TBL1XR1', 'MUTYH', 'SOCS1', 'FAM175A', 'ROBO1', 'ARID1B', 'ARID1A', 'TCF7L2', 'STK11', 'FOXA1', 'PTEN', 'FAT1', 'FAS', 'CYLD', 'MAX', 'SH2D1A', 'APC', 'NTHL1', 'CTCF', 'KDM5C', 'KMT2C', 'ZFHX3', 'FOXP1', 'PIGA', 'CDKN1B', 'CDKN1A', 'FUBP1', 'MSH2', 'ID3', 'TNFRSF14', 'TRAF3', 'EP400', 'BRIP1', 'ARID4A', 'ARID4B', 'XRCC2', 'DAXX', 'SDHAF2', 'ASXL1', 'AMER1', 'RASA1', 'EGR1', 'MST1', 'SOX17', 'RUNX1', 'PIK3R3', 'NCOR1', 'NF1', 'JAK1', 'PTPRD', 'CHEK2', 'CHEK1', 'SMC1A', 'TMEM127', 'STAG1', 'RAD51', 'TCF3', 'STAG2', 'ARID2', 'RAD50', 'RNF43', 'PARP1', 'BLM', 'CUX1', 'RECQL', 'RAD21', 'PTPN2', 'PTPN1', 'SLX4', 'INHA', 'PAX5', 'IRF1', 'TP53', 'HLA-A', 'IRF8', 'CBL', 'TOP1', 'SHQ1', 'PRDM1', 'NSD1', 'ATXN2', 'CREBBP', 'HDAC4', 'SESN2', 'PPP2R1A', 'EPHA7', 'ATM', 'EPHA3', 'POT1', 'SMAD3', 'MOB3B', 'TBX3', 'POLE', 'ATR', 'FANCD2', 'FH', 'BCORL1', 'SOX9', 'IKZF3', 'TSC1', 'TP63', 'MRE11A', 'SDHC', 'BTG1', 'POLD1', 'CIITA', 'SMC3', 'SAMHD1', 'RTEL1', 'ECT2L', 'PIK3R2', 'CRBN', 'FANCC', 'NBN', 'FANCA', 'HLA-B', 'RECQL4', 'DUSP4', 'ERCC2', 'FBXW7', 'TGFBR2', 'TGFBR1', 'MSH3', 'RBM15', 'TET1', 'TET3', 'SESN3', 'MGA', 'LTB', 'FOXL2', 'SH2B3', 'BCOR', 'HIST1H1D', 'ATRX', 'EP300', 'RAD51C', 'RAD51B', 'HIST1H1B', 'TNFAIP3', 'DICER1', 'ARID5B', 'LATS2', 'FOXO1', 'KEAP1', 'EZH2', 'SP140', 'NKX3-1', 'PBRM1', 'PALB2', 'CIC', 'BRCA1', 'DTX1', 'FLCN', 'SPEN', 'CD58', 'ERCC3', 'ERCC4', 'MSH6', 'BCL11B', 'BMPR1A', 'ERF', 'BRCA2', 'NOTCH2', 'EED', 'MITF', 'ELF3', 'SMARCA4', 'BBC3', 'ANKRD11', 'CEBPA', 'BCL2L11', 'AXIN2', 'AXIN1', 'CDK12', 'ESCO2', 'MLH1', 'SDHB', 'MED12', 'HNF1A', 'RYBP', 'ATP6V1B2', 'DNMT3B', 'KMT2B', 'KMT2A', 'DNMT3A', 'NFKBIA', 'TRAF5', 'KMT2D', 'SPOP', 'RBM10', 'P2RY8', 'TP53BP1', 'TSC2', 'KDM6A', 'EPCAM', 'PHOX2B', 'NPM1', 'BCL10', 'LATS1', 'HOXB13', 'ARID3A', 'PTPRT', 'PTPRS', 'INPPL1', 'NOTCH4', 'TET2', 'NOTCH1', 'CASP8', 'NOTCH3', 'GRIN2A', 'MAP2K4', 'WT1', 'BACH2', 'SDHA', 'BAP1', 'PTCH1', 'SDHD'])\n",
    "poleMafTruncatingTSG = poleMafWithPentaContextTrunc[poleMafWithPentaContextTrunc['Hugo_Symbol'].isin(tumorSuppresors)]\n",
    "\n",
    "recurrentTruncatingAlleles = [allele for allele, count in Counter(poleMafWithPentaContextTrunc['allele']).items() if count > recurrentAlleleThresh]\n",
    "notRecurrentTruncatingAlleles = set(poleMafTruncatingTSG['allele']) - set(recurrentTruncatingAlleles)"
   ]
  },
  {
   "cell_type": "code",
   "execution_count": null,
   "metadata": {},
   "outputs": [],
   "source": [
    "#recurrentTruncatingAlleles\n",
    "notRecurrentTruncatingAlleles"
   ]
  },
  {
   "cell_type": "code",
   "execution_count": null,
   "metadata": {},
   "outputs": [],
   "source": [
    "listOfDicts = []\n",
    "\n",
    "#We get averages which we will use for our ordering val\n",
    "alleleFracDict = {}\n",
    "for allele in significantAlleles:\n",
    "    gene = allele.split('_')[0]\n",
    "    fracCasesWithMultiplet = count_number_of_times_allele_is_in_multiplet(poleMafTruncatingTSG, allele)\n",
    "    alleleFracDict[allele] = fracCasesWithMultiplet\n",
    "    #geneClass = 'unrelated'\n",
    "    #if gene in cohortRelatedGenes:\n",
    "    #    geneClass = 'related'\n",
    "    #listOfDicts.append({'gene': gene, 'frac': fracCasesWithMultiplet, \n",
    "    #            'allele': allele, 'geneClass': geneClass})\n",
    "\n",
    "#ABOVE IS A DEPRECATED WAY OF DOING THINGS\n",
    "                \n",
    "#do a second iteration where we get summary figures for the recurrent and non recurrent alleles\n",
    "\n",
    "\"\"\"relatedVals = []\n",
    "unrelatedVals = [] \n",
    "for allele in notRecurrentTruncatingAlleles:\n",
    "    gene = allele.split('_')[0]\n",
    "    fracCasesWithMultiplet = count_number_of_times_allele_is_in_multiplet(poleMafTruncatingTSG, allele)\n",
    "    if gene in cohortRelatedGenes:\n",
    "        relatedVals.append(fracCasesWithMultiplet)\n",
    "    else:\n",
    "        unrelatedVals.append(fracCasesWithMultiplet)\n",
    "\"\"\"\n",
    "\n",
    "#alleleFracDict['Average other \\nrelated gene alleles'] :  np.nanmean(relatedVals)\n",
    "#alleleFracDict['Average other \\nunrelated gene alleles'] :  np.nanmean(relatedVals)\n",
    "     \n",
    "#listOfDicts.append({\n",
    "    #'Hugo_Symbol': 'Average other \\nrelated gene alleles', 'frac': np.nanmean(relatedVals), \n",
    " #               'allele':'Average other \\nrelated gene alleles', 'geneClass': 'related_average'})\n",
    "#listOfDicts.append({\n",
    "    #'Hugo_Symbol': 'Average other \\nunrelated gene alleles', 'frac': np.nanmean(unrelatedVals), \n",
    "    #            'allele': 'Average other \\nunrelated gene alleles', 'geneClass': 'unrelated_average'})\n"
   ]
  },
  {
   "cell_type": "code",
   "execution_count": null,
   "metadata": {},
   "outputs": [],
   "source": [
    "#add columns to the maf so R can plot it with error bars\n",
    "poleMafTruncatingTSG['displayAllele'] = poleMafTruncatingTSG['allele'].apply(lambda x: x if x in significantAlleles\n",
    "                    else 'Average other \\nrelated gene alleles' if allele.split('_')[0] in cohortRelatedGenes\n",
    "                    else 'Average other \\nunrelated gene alleles')\n",
    "poleMafTruncatingTSG['multipletPresentInCase'] = poleMafTruncatingTSG.apply(lambda row:\n",
    "                is_allele_multiplet(poleMafTruncatingTSG, row['allele'], row['Tumor_Sample_Barcode']), axis=1)\n",
    "poleMafTruncatingTSG['geneClass'] = poleMafTruncatingTSG['Hugo_Symbol'].apply(lambda x: 'related' if x in cohortRelatedGenes else 'unrelated')"
   ]
  },
  {
   "cell_type": "code",
   "execution_count": null,
   "metadata": {},
   "outputs": [],
   "source": [
    "#poleMafTruncatingTSG.columns.values\n",
    "df = poleMafTruncatingTSG[['Hugo_Symbol', 'allele', 'multipletPresentInCase', 'displayAllele', 'geneClass']]"
   ]
  },
  {
   "cell_type": "code",
   "execution_count": null,
   "metadata": {},
   "outputs": [],
   "source": [
    "df['frac'] = df['allele'].apply(lambda x: alleleFracDict[x] if x in alleleFracDict else 0)"
   ]
  },
  {
   "cell_type": "code",
   "execution_count": null,
   "metadata": {},
   "outputs": [],
   "source": [
    "#order the plot\n",
    "df['orderingVal'] = df.apply(lambda row: -.01 if row['displayAllele'] == 'Average other \\nrelated gene alleles'\n",
    "                             else 1.01 if row['displayAllele'] == 'Average other \\nunrelated gene alleles'\n",
    "                            else 1- row['frac'] if row['geneClass'] == 'related'\n",
    "                            else 2.01 -row['frac'], axis=1)\n"
   ]
  },
  {
   "cell_type": "code",
   "execution_count": null,
   "metadata": {},
   "outputs": [],
   "source": [
    "df.to_csv('/Users/friedman/Desktop/WORK/dataForLocalPlotting/stopGainAlleleRecurrenceAndDoubles.tsv', index=False, sep='\\t')"
   ]
  },
  {
   "cell_type": "code",
   "execution_count": null,
   "metadata": {},
   "outputs": [],
   "source": [
    "poleMafTruncatingTSG[poleMafTruncatingTSG['allele']== 'APC_p.R2204*']['geneClass']"
   ]
  },
  {
   "cell_type": "markdown",
   "metadata": {},
   "source": [
    "**HOTSPOT mutations never seen**"
   ]
  },
  {
   "cell_type": "code",
   "execution_count": null,
   "metadata": {},
   "outputs": [],
   "source": [
    "def assign_hotspot_freq_dict(df):\n",
    "    d = {}\n",
    "    for index, row in df.iterrows():\n",
    "        \n",
    "        refAminoAcid = row['ref']\n",
    "        gene = row['Hugo_Symbol']\n",
    "        position = row['Amino_Acid_Position']\n",
    "        for entry in row['Var_AA'].split('|'):\n",
    "            fullAltName = ''\n",
    "            altAminoAcid, count = entry.split(':')\n",
    "            fullAltName = gene + ':' + refAminoAcid + position + altAminoAcid\n",
    "            d[fullAltName] = float(count)\n",
    "    return d\n"
   ]
  },
  {
   "cell_type": "code",
   "execution_count": null,
   "metadata": {},
   "outputs": [],
   "source": [
    "hotspotsNeverSeen = set(df[df['count'] < 1]['allele'])"
   ]
  },
  {
   "cell_type": "code",
   "execution_count": null,
   "metadata": {},
   "outputs": [],
   "source": [
    "hotspotsDf = pd.read_table(pathPrefix + '/home/gavrilae/snp_output_final_pancan.txt')\n",
    "hotspotIncidenceD = assign_hotspot_freq_dict(hotspotsDf)"
   ]
  },
  {
   "cell_type": "code",
   "execution_count": null,
   "metadata": {},
   "outputs": [],
   "source": [
    "listOfDicts = []\n",
    "for hotspot in hotspotsNeverSeen:\n",
    "    adjHotspot = re.sub('_p.', ':', hotspot)\n",
    "    if adjHotspot in hotspotIncidenceD:\n",
    "        listOfDicts.append({'allele': adjHotspot, 'count': hotspotIncidenceD[adjHotspot]})\n",
    "    else:\n",
    "        listOfDicts.append({'allele': adjHotspot, 'count': 0})\n",
    "df = pd.DataFrame(listOfDicts)"
   ]
  },
  {
   "cell_type": "code",
   "execution_count": null,
   "metadata": {},
   "outputs": [],
   "source": [
    "thresh = 10\n",
    "df['alleleLabel'] = df.apply(lambda row: row['allele'] if row['count'] > thresh else None, axis=1)"
   ]
  },
  {
   "cell_type": "code",
   "execution_count": null,
   "metadata": {},
   "outputs": [],
   "source": [
    "df.to_csv('/Users/friedman/Desktop/WORK/neverSeenHotspot24kCounts.tsv', index=False, sep='\\t')"
   ]
  },
  {
   "cell_type": "markdown",
   "metadata": {},
   "source": [
    "**analysis of palindromic pole susceptible signature**"
   ]
  },
  {
   "cell_type": "code",
   "execution_count": null,
   "metadata": {},
   "outputs": [],
   "source": [
    "palindromicDf = pd.read_table(pathPrefix + '/ifs/work/taylorlab/friedman/myAdjustedDataFiles/palindromicPoleContextSummary.tsv')\n"
   ]
  },
  {
   "cell_type": "code",
   "execution_count": null,
   "metadata": {},
   "outputs": [],
   "source": [
    "palindromicDf['genePosition'] = palindromicDf.apply(lambda row: row['Hugo_Symbol'] + '_' + str(row['aminoAcidPosition']), axis=1)"
   ]
  },
  {
   "cell_type": "code",
   "execution_count": null,
   "metadata": {},
   "outputs": [],
   "source": [
    "listOfDicts = []\n",
    "for position in set(palindromicDf['genePosition']):\n",
    "    positionDf = palindromicDf[palindromicDf['genePosition'] == position]\n",
    "    alleles = set(positionDf['HGVSp_Short'])\n",
    "    gene = positionDf['Hugo_Symbol'].iloc[0]\n",
    "    \n",
    "    rqVal = 0\n",
    "    rStarVal = 0\n",
    "    for allele in alleles:\n",
    "        nmut = poleMafWithPentaContext[(poleMafWithPentaContext['Hugo_Symbol'] == gene) & (poleMafWithPentaContext['HGVSp_Short'] == allele)].shape[0]\n",
    "        if allele[len(allele) - 1] == '*':\n",
    "            rStarVal = nmut\n",
    "        else:\n",
    "            rqVal = nmut\n",
    "    dif = rStarVal - rqVal \n",
    "    total = rStarVal + rqVal\n",
    "    listOfDicts.append({'gene': gene, 'position': position, 'residueName': str(position),\n",
    "                       'StarMinusQ': dif, 'total': total})\n",
    "    \n",
    "df = pd.DataFrame(listOfDicts)\n",
    "    \n",
    "    \n",
    "    "
   ]
  },
  {
   "cell_type": "code",
   "execution_count": null,
   "metadata": {},
   "outputs": [],
   "source": [
    "thresh = 5\n",
    "df['displayName'] = df.apply(lambda row: row['residueName'] if abs(row['StarMinusQ']) >= thresh else None, axis=1)"
   ]
  },
  {
   "cell_type": "code",
   "execution_count": null,
   "metadata": {},
   "outputs": [],
   "source": [
    "#assign counts for N alleles at each coordinate \n",
    "df['coord'] = df.apply(lambda row: str(row['StarMinusQ']) + ',' + str(row['total']), axis=1)\n",
    "coordCounter = Counter(df['coord'])\n",
    "df['nAllelesAtCoord'] = df['coord'].apply(lambda x: coordCounter[x])"
   ]
  },
  {
   "cell_type": "code",
   "execution_count": null,
   "metadata": {},
   "outputs": [],
   "source": [
    "df.to_csv('/Users/friedman/Desktop/WORK/dataForLocalPlotting/palindromicAlleleAnalysis.tsv', index=False, sep='\\t')"
   ]
  },
  {
   "cell_type": "markdown",
   "metadata": {},
   "source": [
    "**Get z scores for SNP mutations**"
   ]
  },
  {
   "cell_type": "code",
   "execution_count": 59,
   "metadata": {},
   "outputs": [],
   "source": [
    "def enumerate_never_seen_mutations(allPossibleMaf, cohortMaf, pentaChange):\n",
    "    allMutQuadnucMaf = allPossibleMaf[allPossibleMaf['pentaChange'] == pentaChange]\n",
    "    cohortQuadnucMaf = cohortMaf[cohortMaf['pentaChange'] == pentaChange]\n",
    "    \n",
    "    possibleAllelesAtQuadnuc = set(allMutQuadnucMaf['allele'])\n",
    "    \n",
    "    seenAlleles = set(cohortQuadnucMaf[cohortQuadnucMaf['allele'].isin(possibleAllelesAtQuadnuc)]['allele'])\n",
    "    neverSeenAlleles = possibleAllelesAtQuadnuc - seenAlleles\n",
    "    \n",
    "    neverSeenSummary = allMutQuadnucMaf[allMutQuadnucMaf['allele'].isin(neverSeenAlleles)]\n",
    "    seenSummary = allMutQuadnucMaf[allMutQuadnucMaf['allele'].isin(seenAlleles)]\n",
    "    seenAlleleCountsDict = dict(cohortQuadnucMaf['allele'].value_counts())\n",
    "    \n",
    "    neverSeenSummary['alleleCount'] = 0\n",
    "    seenSummary['alleleCount'] = seenSummary['allele'].apply(lambda x: seenAlleleCountsDict[x])\n",
    "    \n",
    "    combinedDf = pd.concat([neverSeenSummary, seenSummary])\n",
    "    combinedDf['pentaChange'] = pentaChange\n",
    "    finalDf = combinedDf[['pentaChange', 'alleleCount', 'allele', 'Consequence', 'is-a-hotspot', 'oncogenic']]\n",
    "    return finalDf\n",
    "    "
   ]
  },
  {
   "cell_type": "code",
   "execution_count": 180,
   "metadata": {},
   "outputs": [],
   "source": [
    "#assigns z scores to every mutation in the maf with z scores being calucluated based on quadnuc\n",
    "def assign_motif_specific_z_scores_to_mutations(maf, motifColName='pentaChange'):\n",
    "    maf['zScore'] = None\n",
    "    maf['motifMean'] = None\n",
    "    motifs = set(maf[motifColName])\n",
    "    for m in motifs:\n",
    "        print m\n",
    "        motifMaf = maf[maf[motifColName] == m]\n",
    "        alleles = motifMaf['allele']\n",
    "        counts = motifMaf['alleleCount']\n",
    "        transformedCounts = motifMaf['transformedCount']\n",
    "        meanTCount = np.nanmean(transformedCounts)\n",
    "        \n",
    "        zscores = stats.zscore(transformedCounts)\n",
    "        mapping = dict(zip(alleles, zscores))\n",
    "        maf['zScore'] = maf.apply(lambda row: mapping[row['allele']] if row['allele'] in mapping else row['zScore'], axis=1)\n",
    "        maf['motifMean'] = maf.apply(lambda row: meanTCount if row[motifColName] == m else row['motifMean'], axis=1)\n",
    "    return maf\n"
   ]
  },
  {
   "cell_type": "code",
   "execution_count": null,
   "metadata": {},
   "outputs": [],
   "source": [
    "dfAllPossibleAlleles = analysis_utils.load_in_df_with_progress(filePath = pathPrefix + '/ifs/work/taylorlab/friedman/myAdjustedDataFiles/allMutsContextSummary.tsv', nLinesFile = 4243342)\n",
    "\n"
   ]
  },
  {
   "cell_type": "code",
   "execution_count": 58,
   "metadata": {},
   "outputs": [],
   "source": [
    "dfAllPossibleAlleles['pentaChange'] = dfAllPossibleAlleles.apply(lambda row: \n",
    "                                    mutationSigUtils.create_strand_specific_pentanucleotide_change(row['Ref_Tri.1'], row['Reference_Allele'], row['Tumor_Seq_Allele2'], row['Variant_Type']), axis=1)\n"
   ]
  },
  {
   "cell_type": "code",
   "execution_count": 60,
   "metadata": {},
   "outputs": [],
   "source": [
    "poleMafWithPentaContext = pd.read_table(pathPrefix + '/ifs/work/taylorlab/friedman/myAdjustedDataFiles/poleCaseMafWithPentanucleotideContext.maf')\n",
    "poleMafWithPentaContext['pentaChange'] = poleMafWithPentaContext.apply(lambda row: \n",
    "                                    mutationSigUtils.create_strand_specific_pentanucleotide_change(row['Ref_Tri.1'], row['Reference_Allele'], row['Tumor_Seq_Allele2'], row['Variant_Type']), axis=1)\n"
   ]
  },
  {
   "cell_type": "code",
   "execution_count": null,
   "metadata": {},
   "outputs": [],
   "source": [
    "listOfDfs = []\n",
    "for penta in topTenPolePentas:\n",
    "    listOfDfs.append(enumerate_never_seen_mutations(dfAllPossibleAlleles, poleMafWithPentaContext, penta))\n",
    "combinedDf = pd.concat(listOfDfs)"
   ]
  },
  {
   "cell_type": "code",
   "execution_count": null,
   "metadata": {},
   "outputs": [],
   "source": [
    "combinedDfLimited = combinedDf[combinedDf['Consequence'].isin(\n",
    "    ['missense_variant', 'missense_variant;splice_region_variant', 'stop_gained'])]\n",
    "combinedDfLimited['mutationType'] = combinedDfLimited.apply(lambda row: 'hotspot' if row['is-a-hotspot'] == 'Y'\n",
    "        else 'oncogenic truncating' if (row['oncogenic'] == 'Likely Oncogenic') and (row['Consequence'] == 'stop_gained')\n",
    "        else 'other oncogenic' if row['oncogenic'] == 'Likely Oncogenic'                                                     \n",
    "        else 'other truncating' if row['Consequence'] == 'stop_gained' else 'other non-synonymous', axis=1)"
   ]
  },
  {
   "cell_type": "code",
   "execution_count": null,
   "metadata": {},
   "outputs": [],
   "source": [
    "combinedDfLimited['transformedCount'] = combinedDfLimited['alleleCount'].apply(lambda x: 2*math.sqrt(x))"
   ]
  },
  {
   "cell_type": "code",
   "execution_count": null,
   "metadata": {},
   "outputs": [],
   "source": [
    "combinedDfLimitedWithZScores = assign_motif_specific_z_scores_to_mutations(combinedDfLimited)"
   ]
  },
  {
   "cell_type": "code",
   "execution_count": 125,
   "metadata": {},
   "outputs": [
    {
     "name": "stderr",
     "output_type": "stream",
     "text": [
      "/anaconda2/lib/python2.7/site-packages/ipykernel_launcher.py:2: SettingWithCopyWarning: \n",
      "A value is trying to be set on a copy of a slice from a DataFrame.\n",
      "Try using .loc[row_indexer,col_indexer] = value instead\n",
      "\n",
      "See the caveats in the documentation: http://pandas.pydata.org/pandas-docs/stable/indexing.html#indexing-view-versus-copy\n",
      "  \n"
     ]
    }
   ],
   "source": [
    "combinedDfLimitedWithZScores['displayLabel'] = combinedDfLimitedWithZScores.apply(lambda row:\n",
    "        row['allele'] if row['transformedCount'] > row['pentaNucMean'] + 4 else None, axis=1)"
   ]
  },
  {
   "cell_type": "code",
   "execution_count": 126,
   "metadata": {},
   "outputs": [],
   "source": [
    "combinedDfLimitedWithZScores.to_csv('/Users/friedman/Desktop/WORK/dataForLocalPlotting/pentaPOLECounts.tsv', index=False, sep='\\t')"
   ]
  },
  {
   "cell_type": "markdown",
   "metadata": {},
   "source": [
    "**Summarize info for MMR tumors**"
   ]
  },
  {
   "cell_type": "code",
   "execution_count": 71,
   "metadata": {},
   "outputs": [
    {
     "name": "stderr",
     "output_type": "stream",
     "text": [
      "/anaconda2/lib/python2.7/site-packages/IPython/core/interactiveshell.py:2714: DtypeWarning: Columns (0,76,97) have mixed types. Specify dtype option on import or set low_memory=False.\n",
      "  interactivity=interactivity, compiler=compiler, result=result)\n"
     ]
    }
   ],
   "source": [
    "reload(msi_analysis_utils)\n",
    "msiSummary = pd.read_table('/Users/friedman/Desktop/impact_microsatellites.txt')\n"
   ]
  },
  {
   "cell_type": "code",
   "execution_count": 72,
   "metadata": {},
   "outputs": [
    {
     "name": "stderr",
     "output_type": "stream",
     "text": [
      "/anaconda2/lib/python2.7/site-packages/IPython/core/interactiveshell.py:2714: DtypeWarning: Columns (4,17,18,40,41,43,44,71,72,108,124,125,128,129,130,131,132,133,134,135,137,140,141) have mixed types. Specify dtype option on import or set low_memory=False.\n",
      "  interactivity=interactivity, compiler=compiler, result=result)\n"
     ]
    }
   ],
   "source": [
    "allImpactMuts = pd.read_table('/Users/friedman/Desktop/offlineFilesForVirus/data_mutations_extended_annotated_sigContext_nov19_2019.maf')\n",
    "#allImpactMuts = analysis_utils.load_in_df_with_progress(filePath = pathPrefix + '/ifs/work/taylorlab/friedman/hypermutationAnalysisProj/projectDataAndConfigFiles/all_impact_mutations_annotated_cohort.maf', nLinesFile = 275000)\n",
    "allImpactMuts['allele'] = allImpactMuts.apply(lambda row: str(row['Hugo_Symbol']) + '_' + str(row['HGVSp_Short']), axis=1)\n",
    "msiSummary['allele'] = msiSummary.apply(lambda row: str(row['Hugo_Symbol']) + '_' + str(row['HGVSp_Short']), axis=1)"
   ]
  },
  {
   "cell_type": "code",
   "execution_count": 73,
   "metadata": {
    "scrolled": true
   },
   "outputs": [
    {
     "name": "stdout",
     "output_type": "stream",
     "text": [
      "5.74382538771 percent done\n",
      "11.4876507754 percent done\n",
      "17.2314761631 percent done\n",
      "22.9753015508 percent done\n",
      "28.7191269385 percent done\n",
      "34.4629523262 percent done\n",
      "40.206777714 percent done\n",
      "45.9506031017 percent done\n",
      "51.6944284894 percent done\n",
      "57.4382538771 percent done\n",
      "63.1820792648 percent done\n",
      "68.9259046525 percent done\n",
      "74.6697300402 percent done\n",
      "80.4135554279 percent done\n",
      "86.1573808156 percent done\n",
      "91.9012062033 percent done\n",
      "97.645031591 percent done\n"
     ]
    }
   ],
   "source": [
    "neverObservedSites, msiSitesToNameMapping, mafMsiSiteToNameMapping =  msi_analysis_utils.standardize_allele_names(msiSummary, allImpactMuts)"
   ]
  },
  {
   "cell_type": "code",
   "execution_count": 75,
   "metadata": {},
   "outputs": [],
   "source": [
    "allImpactMuts['correctedAllele'] = allImpactMuts['allele'].apply(lambda x:\n",
    "                                                                 mafMsiSiteToNameMapping[x] if x in mafMsiSiteToNameMapping else None)\n",
    "msiSummary['correctedAllele'] = msiSummary['allele'].apply(lambda x:\n",
    "                                                           msiSitesToNameMapping[x] if x in msiSitesToNameMapping else None)\n"
   ]
  },
  {
   "cell_type": "code",
   "execution_count": 76,
   "metadata": {},
   "outputs": [],
   "source": [
    "allImpactMuts = maf_analysis_utils.fix_mll_genes(allImpactMuts)"
   ]
  },
  {
   "cell_type": "code",
   "execution_count": 78,
   "metadata": {},
   "outputs": [],
   "source": [
    "msiCases = get_gene_and_cohort_list_utils.get_msi_cases(msiInfoFilePath = pathPrefix + '/juno/work/taylorlab/friedman/myAdjustedDataFiles/mutations_TMB_and_MSI_stats.txt', msiScoreThresh=10)\n",
    "msiMaf = allImpactMuts[allImpactMuts['Tumor_Sample_Barcode'].isin(msiCases)]"
   ]
  },
  {
   "cell_type": "code",
   "execution_count": 80,
   "metadata": {},
   "outputs": [],
   "source": [
    "reload(msi_analysis_utils)\n",
    "occurenceSummaryDf = msi_analysis_utils.summarize_mutation_counts_and_msi_allele_relationship(msiMaf, msiSummary)"
   ]
  },
  {
   "cell_type": "code",
   "execution_count": 82,
   "metadata": {},
   "outputs": [],
   "source": [
    "occurenceSummaryDf['basePairClass'] = occurenceSummaryDf.apply(lambda row: str(row['repeat_length']) + '_AT' if row['basePair'] in set(['A', 'T'])\n",
    "                else str(row['repeat_length']) + '_CG' if row['basePair'] in set(['C', 'G']) else str(row['repeat_length']) + '_other', axis=1)\n"
   ]
  },
  {
   "cell_type": "code",
   "execution_count": 197,
   "metadata": {},
   "outputs": [
    {
     "name": "stdout",
     "output_type": "stream",
     "text": [
      "8_other\n",
      "22_other\n",
      "7_CG\n",
      "6_other\n",
      "3_other\n",
      "10_AT\n",
      "5_CG\n",
      "8_CG\n",
      "9_other\n",
      "5_other\n",
      "6_AT\n",
      "5_AT\n",
      "4_other\n",
      "7_other\n",
      "10_other\n",
      "9_AT\n",
      "8_AT\n",
      "7_AT\n",
      "6_CG\n"
     ]
    }
   ],
   "source": [
    "occurenceSummaryDf['alleleCount'] = occurenceSummaryDf['nOccurences']\n",
    "occurenceSummaryDf['transformedCount'] = occurenceSummaryDf['alleleCount'].apply(lambda x: 2*math.sqrt(x))\n",
    "combinedMsiSummaryDf = assign_motif_specific_z_scores_to_mutations(occurenceSummaryDf, motifColName='basePairClass')\n",
    " "
   ]
  },
  {
   "cell_type": "code",
   "execution_count": 198,
   "metadata": {},
   "outputs": [],
   "source": [
    "combinedMsiSummaryDf['displayLabel'] = combinedMsiSummaryDf.apply(lambda row:\n",
    "        row['allele'] if row['transformedCount'] > row['motifMean'] + 4 else None, axis=1)\n",
    "\n",
    "tumorSuppresors = set(['ERRFI1', 'ASXL2', 'PMAIP1', 'ACTG1', 'SUFU', 'FBXO11', 'MEN1', 'FAM58A', 'B2M', 'RB1', 'DUSP22', 'SESN1', 'GPS2', 'RAD51D', 'SMG1', 'CDC73', 'MAP3K1', 'SMARCB1', 'INPP4B', 'PARK2', 'SMAD4', 'CBFB', 'CDH1', 'PPP6C', 'SETDB1', 'SETDB2', 'NF2', 'CDKN2B', 'CDKN2C', 'CDKN2A', 'DDX3X', 'PIK3R1', 'BARD1', 'PDS5B', 'KLF4', 'SPRED1', 'VHL', 'SMAD2', 'PMS1', 'PMS2', 'SETD2', 'GATA3', 'TBL1XR1', 'MUTYH', 'SOCS1', 'FAM175A', 'ROBO1', 'ARID1B', 'ARID1A', 'TCF7L2', 'STK11', 'FOXA1', 'PTEN', 'FAT1', 'FAS', 'CYLD', 'MAX', 'SH2D1A', 'APC', 'NTHL1', 'CTCF', 'KDM5C', 'KMT2C', 'ZFHX3', 'FOXP1', 'PIGA', 'CDKN1B', 'CDKN1A', 'FUBP1', 'MSH2', 'ID3', 'TNFRSF14', 'TRAF3', 'EP400', 'BRIP1', 'ARID4A', 'ARID4B', 'XRCC2', 'DAXX', 'SDHAF2', 'ASXL1', 'AMER1', 'RASA1', 'EGR1', 'MST1', 'SOX17', 'RUNX1', 'PIK3R3', 'NCOR1', 'NF1', 'JAK1', 'PTPRD', 'CHEK2', 'CHEK1', 'SMC1A', 'TMEM127', 'STAG1', 'RAD51', 'TCF3', 'STAG2', 'ARID2', 'RAD50', 'RNF43', 'PARP1', 'BLM', 'CUX1', 'RECQL', 'RAD21', 'PTPN2', 'PTPN1', 'SLX4', 'INHA', 'PAX5', 'IRF1', 'TP53', 'HLA-A', 'IRF8', 'CBL', 'TOP1', 'SHQ1', 'PRDM1', 'NSD1', 'ATXN2', 'CREBBP', 'HDAC4', 'SESN2', 'PPP2R1A', 'EPHA7', 'ATM', 'EPHA3', 'POT1', 'SMAD3', 'MOB3B', 'TBX3', 'POLE', 'ATR', 'FANCD2', 'FH', 'BCORL1', 'SOX9', 'IKZF3', 'TSC1', 'TP63', 'MRE11A', 'SDHC', 'BTG1', 'POLD1', 'CIITA', 'SMC3', 'SAMHD1', 'RTEL1', 'ECT2L', 'PIK3R2', 'CRBN', 'FANCC', 'NBN', 'FANCA', 'HLA-B', 'RECQL4', 'DUSP4', 'ERCC2', 'FBXW7', 'TGFBR2', 'TGFBR1', 'MSH3', 'RBM15', 'TET1', 'TET3', 'SESN3', 'MGA', 'LTB', 'FOXL2', 'SH2B3', 'BCOR', 'HIST1H1D', 'ATRX', 'EP300', 'RAD51C', 'RAD51B', 'HIST1H1B', 'TNFAIP3', 'DICER1', 'ARID5B', 'LATS2', 'FOXO1', 'KEAP1', 'EZH2', 'SP140', 'NKX3-1', 'PBRM1', 'PALB2', 'CIC', 'BRCA1', 'DTX1', 'FLCN', 'SPEN', 'CD58', 'ERCC3', 'ERCC4', 'MSH6', 'BCL11B', 'BMPR1A', 'ERF', 'BRCA2', 'NOTCH2', 'EED', 'MITF', 'ELF3', 'SMARCA4', 'BBC3', 'ANKRD11', 'CEBPA', 'BCL2L11', 'AXIN2', 'AXIN1', 'CDK12', 'ESCO2', 'MLH1', 'SDHB', 'MED12', 'HNF1A', 'RYBP', 'ATP6V1B2', 'DNMT3B', 'KMT2B', 'KMT2A', 'DNMT3A', 'NFKBIA', 'TRAF5', 'KMT2D', 'SPOP', 'RBM10', 'P2RY8', 'TP53BP1', 'TSC2', 'KDM6A', 'EPCAM', 'PHOX2B', 'NPM1', 'BCL10', 'LATS1', 'HOXB13', 'ARID3A', 'PTPRT', 'PTPRS', 'INPPL1', 'NOTCH4', 'TET2', 'NOTCH1', 'CASP8', 'NOTCH3', 'GRIN2A', 'MAP2K4', 'WT1', 'BACH2', 'SDHA', 'BAP1', 'PTCH1', 'SDHD'])\n",
    "combinedMsiSummaryDf['geneType'] = combinedMsiSummaryDf['Hugo_Symbol'].apply(lambda x: 'TSG' if x in tumorSuppresors else 'Oncogene')\n"
   ]
  },
  {
   "cell_type": "code",
   "execution_count": 199,
   "metadata": {},
   "outputs": [],
   "source": [
    "combinedMsiSummaryDf.to_csv('/Users/friedman/Desktop/WORK/dataForLocalPlotting/msiMotifCounts.tsv', index=False, sep='\\t')"
   ]
  },
  {
   "cell_type": "markdown",
   "metadata": {},
   "source": [
    "**Make chart for recurrent alleles**"
   ]
  },
  {
   "cell_type": "code",
   "execution_count": 215,
   "metadata": {},
   "outputs": [],
   "source": [
    "def summarize_msi_allele_data_for_plotting(df):\n",
    "    totalN = sum(df['nOccurences'])\n",
    "    tsgDf = df[df['Hugo_Symbol'].isin(tumorSuppresors)]\n",
    "    oncogeneDf = df[~df['Hugo_Symbol'].isin(tumorSuppresors)]\n",
    "    listOfDs = [{'fracClass': (1.0*sum(tsgDf['nOccurences']))/totalN , 'geneType': 'TSG', 'class': 'MSI INDEL'},\n",
    "                {'fracClass': (1.0*sum(oncogeneDf['nOccurences']))/totalN, 'geneType': 'Oncogene', 'class': 'MSI INDEL'},\n",
    "               ]\n",
    "    return pd.DataFrame(listOfDs)\n",
    "\n",
    "def summarize_pole_allele_data_for_plotting(df):\n",
    "    totalN = sum(df['alleleCount'])\n",
    "    tsgDf = df[df['Hugo_Symbol'].isin(tumorSuppresors)]\n",
    "    oncogeneDf = df[~df['Hugo_Symbol'].isin(tumorSuppresors)]\n",
    "    listOfDs = [{'fracClass': (1.0*sum(tsgDf['alleleCount']))/totalN , 'geneType': 'TSG', 'class': 'POLE STOP-GAIN'},\n",
    "                {'fracClass': (1.0*sum(oncogeneDf['alleleCount']))/totalN, 'geneType': 'Oncogene', 'class': 'POLE STOP-GAIN'},\n",
    "               ]\n",
    "    return pd.DataFrame(listOfDs)\n",
    "    "
   ]
  },
  {
   "cell_type": "code",
   "execution_count": 210,
   "metadata": {},
   "outputs": [
    {
     "name": "stderr",
     "output_type": "stream",
     "text": [
      "/anaconda2/lib/python2.7/site-packages/ipykernel_launcher.py:5: SettingWithCopyWarning: \n",
      "A value is trying to be set on a copy of a slice from a DataFrame.\n",
      "Try using .loc[row_indexer,col_indexer] = value instead\n",
      "\n",
      "See the caveats in the documentation: http://pandas.pydata.org/pandas-docs/stable/indexing.html#indexing-view-versus-copy\n",
      "  \"\"\"\n"
     ]
    }
   ],
   "source": [
    "#MSI\n",
    "recurrentAllelesSummaryMsi = combinedMsiSummaryDf[combinedMsiSummaryDf['displayLabel'].notnull()]\n",
    "#POLE\n",
    "recurrentAllelesTruncSummaryPole = combinedDfLimitedWithZScores[(combinedDfLimitedWithZScores['displayLabel'].notnull()) & (combinedDfLimitedWithZScores['Consequence'] == 'stop_gained')]\n",
    "recurrentAllelesTruncSummaryPole['Hugo_Symbol'] = recurrentAllelesTruncSummaryPole['allele'].apply(lambda x: x.split('_')[0])"
   ]
  },
  {
   "cell_type": "code",
   "execution_count": 216,
   "metadata": {},
   "outputs": [],
   "source": [
    "msiDf = summarize_msi_allele_data_for_plotting(recurrentAllelesSummaryMsi)\n",
    "poleDf = summarize_pole_allele_data_for_plotting(recurrentAllelesTruncSummaryPole)"
   ]
  },
  {
   "cell_type": "code",
   "execution_count": 217,
   "metadata": {},
   "outputs": [],
   "source": [
    "combinedDf = pd.concat([msiDf, poleDf])\n",
    "combinedDf.to_csv('/Users/friedman/Desktop/WORK/dataForLocalPlotting/tsgFracsRecurrentAllelesPOLE_MMR.tsv', index=False, sep='\\t')"
   ]
  },
  {
   "cell_type": "code",
   "execution_count": null,
   "metadata": {},
   "outputs": [],
   "source": [
    "#\n",
    "#####\n",
    "#############\n",
    "####################\n",
    "############################\n",
    "######################\n",
    "##############\n",
    "######\n",
    "#\n",
    "\n",
    "#SUMMARIZE OUTLIER"
   ]
  },
  {
   "cell_type": "code",
   "execution_count": 119,
   "metadata": {},
   "outputs": [],
   "source": [
    "def summarize_outlier_scores_across_alleles(maf, contexts, contextCol):\n",
    "    listOfDicts = []\n",
    "    for context in contexts:\n",
    "        contextMaf = maf[maf[contextCol] == context]\n",
    "        alleleCounts = maf['allele'].value_counts()\n",
    "        for allele in set(contextMaf['allele']):\n",
    "            count = alleleCounts[allele]\n",
    "            gene = allele.split('_')[0]\n",
    "            listOfDicts.append({'allele': allele, 'count': count,\n",
    "                                'context': context, 'gene': gene})\n",
    "    df = pd.DataFrame(listOfDicts)\n",
    "    return df\n",
    "\n",
    "#for now we have a separate summary function for msi given the formatting I did in msiUtils\n",
    "def summarize_outlier_scores_across_alleles_msi(sumDf, contexts):\n",
    "    listOfDicts = []\n",
    "    for context in contexts:\n",
    "        contextSummaryDf = sumDf[sumDf['basePairClass'] == context]\n",
    "        nOccurencesDict = dict(zip(contextSummaryDf['allele'], contextSummaryDf['nOccurences']))\n",
    "        for allele, count in nOccurencesDict.items():\n",
    "            gene = allele.split('_')[0]\n",
    "            listOfDicts.append({'allele': allele, 'count': count,\n",
    "                                'context': context, 'gene': gene})\n",
    "    df = pd.DataFrame(listOfDicts)\n",
    "    return df"
   ]
  },
  {
   "cell_type": "code",
   "execution_count": 120,
   "metadata": {},
   "outputs": [],
   "source": [
    "#NOTE WE NEED TO USE THE ABOVE CODE LOGIC TO PROPELY SET UP THE POLE AND MSI MAFs\n",
    "pentaContexts = dict(Counter(poleMafWithPentaContext['pentaChange']).most_common(10)).keys()\n",
    "dfPole = summarize_outlier_scores_across_alleles(poleMafWithPentaContext, pentaContexts, 'pentaChange')\n",
    "\n",
    "msiContexts = dict(Counter(occurenceSummaryDf['basePairClass']).most_common(10)).keys()\n",
    "dfMsi = summarize_outlier_scores_across_alleles_msi(occurenceSummaryDf, msiContexts)\n"
   ]
  },
  {
   "cell_type": "code",
   "execution_count": 121,
   "metadata": {},
   "outputs": [],
   "source": [
    "dfPole['signatureClass'] = 'POLE'\n",
    "dfMsi['signatureClass'] = 'MSI'\n",
    "df = pd.concat([dfPole, dfMsi])"
   ]
  },
  {
   "cell_type": "code",
   "execution_count": 135,
   "metadata": {},
   "outputs": [],
   "source": [
    "df['adjCount'] = df['count'].apply(lambda x: 2*math.sqrt(x))\n",
    "tumorSuppresors = set(['ERRFI1', 'ASXL2', 'PMAIP1', 'ACTG1', 'SUFU', 'FBXO11', 'MEN1', 'FAM58A', 'B2M', 'RB1', 'DUSP22', 'SESN1', 'GPS2', 'RAD51D', 'SMG1', 'CDC73', 'MAP3K1', 'SMARCB1', 'INPP4B', 'PARK2', 'SMAD4', 'CBFB', 'CDH1', 'PPP6C', 'SETDB1', 'SETDB2', 'NF2', 'CDKN2B', 'CDKN2C', 'CDKN2A', 'DDX3X', 'PIK3R1', 'BARD1', 'PDS5B', 'KLF4', 'SPRED1', 'VHL', 'SMAD2', 'PMS1', 'PMS2', 'SETD2', 'GATA3', 'TBL1XR1', 'MUTYH', 'SOCS1', 'FAM175A', 'ROBO1', 'ARID1B', 'ARID1A', 'TCF7L2', 'STK11', 'FOXA1', 'PTEN', 'FAT1', 'FAS', 'CYLD', 'MAX', 'SH2D1A', 'APC', 'NTHL1', 'CTCF', 'KDM5C', 'KMT2C', 'ZFHX3', 'FOXP1', 'PIGA', 'CDKN1B', 'CDKN1A', 'FUBP1', 'MSH2', 'ID3', 'TNFRSF14', 'TRAF3', 'EP400', 'BRIP1', 'ARID4A', 'ARID4B', 'XRCC2', 'DAXX', 'SDHAF2', 'ASXL1', 'AMER1', 'RASA1', 'EGR1', 'MST1', 'SOX17', 'RUNX1', 'PIK3R3', 'NCOR1', 'NF1', 'JAK1', 'PTPRD', 'CHEK2', 'CHEK1', 'SMC1A', 'TMEM127', 'STAG1', 'RAD51', 'TCF3', 'STAG2', 'ARID2', 'RAD50', 'RNF43', 'PARP1', 'BLM', 'CUX1', 'RECQL', 'RAD21', 'PTPN2', 'PTPN1', 'SLX4', 'INHA', 'PAX5', 'IRF1', 'TP53', 'HLA-A', 'IRF8', 'CBL', 'TOP1', 'SHQ1', 'PRDM1', 'NSD1', 'ATXN2', 'CREBBP', 'HDAC4', 'SESN2', 'PPP2R1A', 'EPHA7', 'ATM', 'EPHA3', 'POT1', 'SMAD3', 'MOB3B', 'TBX3', 'POLE', 'ATR', 'FANCD2', 'FH', 'BCORL1', 'SOX9', 'IKZF3', 'TSC1', 'TP63', 'MRE11A', 'SDHC', 'BTG1', 'POLD1', 'CIITA', 'SMC3', 'SAMHD1', 'RTEL1', 'ECT2L', 'PIK3R2', 'CRBN', 'FANCC', 'NBN', 'FANCA', 'HLA-B', 'RECQL4', 'DUSP4', 'ERCC2', 'FBXW7', 'TGFBR2', 'TGFBR1', 'MSH3', 'RBM15', 'TET1', 'TET3', 'SESN3', 'MGA', 'LTB', 'FOXL2', 'SH2B3', 'BCOR', 'HIST1H1D', 'ATRX', 'EP300', 'RAD51C', 'RAD51B', 'HIST1H1B', 'TNFAIP3', 'DICER1', 'ARID5B', 'LATS2', 'FOXO1', 'KEAP1', 'EZH2', 'SP140', 'NKX3-1', 'PBRM1', 'PALB2', 'CIC', 'BRCA1', 'DTX1', 'FLCN', 'SPEN', 'CD58', 'ERCC3', 'ERCC4', 'MSH6', 'BCL11B', 'BMPR1A', 'ERF', 'BRCA2', 'NOTCH2', 'EED', 'MITF', 'ELF3', 'SMARCA4', 'BBC3', 'ANKRD11', 'CEBPA', 'BCL2L11', 'AXIN2', 'AXIN1', 'CDK12', 'ESCO2', 'MLH1', 'SDHB', 'MED12', 'HNF1A', 'RYBP', 'ATP6V1B2', 'DNMT3B', 'KMT2B', 'KMT2A', 'DNMT3A', 'NFKBIA', 'TRAF5', 'KMT2D', 'SPOP', 'RBM10', 'P2RY8', 'TP53BP1', 'TSC2', 'KDM6A', 'EPCAM', 'PHOX2B', 'NPM1', 'BCL10', 'LATS1', 'HOXB13', 'ARID3A', 'PTPRT', 'PTPRS', 'INPPL1', 'NOTCH4', 'TET2', 'NOTCH1', 'CASP8', 'NOTCH3', 'GRIN2A', 'MAP2K4', 'WT1', 'BACH2', 'SDHA', 'BAP1', 'PTCH1', 'SDHD'])\n",
    "df['geneType'] = df['gene'].apply(lambda x: 'TSG' if x in tumorSuppresors else 'Oncogene')\n",
    "\n",
    "hotspots = set(poleMafWithPentaContext[poleMafWithPentaContext['is-a-hotspot'] == 'Y']['allele'])\n",
    "oncogenic = set(poleMafWithPentaContext[poleMafWithPentaContext['oncogenic'].notnull()]['allele'])\n",
    "msiIndels = set(dfMsi['allele'])\n",
    "df['mutationType'] = df.apply(lambda row:\n",
    "        'Oncogene_Hotspot' if (row['allele'] in hotspots and row['geneType'] == 'Oncogene')\n",
    "        else 'TSG_hotspot' if (row['allele'] in hotspots and row['geneType'] == 'TSG')\n",
    "        else 'oncogene_oncogenic' if (row['allele'] in oncogenic and row['geneType'] == 'Oncogene')\n",
    "        else 'TSG_oncogenic' if (row['allele'] in oncogenic and row['geneType'] == 'TSG')\n",
    "        else 'TSG_msi_indel' if (row['allele'] in msiIndels and row['geneType'] == 'TSG')\n",
    "        else 'Oncogene_msi_indel' if (row['allele'] in msiIndels and row['geneType'] == 'Oncogene')\n",
    "        else 'VUS', axis=1)\n",
    "\n",
    "contextMeanDict = {}\n",
    "for context in set(df['context']):\n",
    "    contextDf = df[df['context'] == context]\n",
    "    mean = np.nanmean(contextDf['adjCount'])\n",
    "    contextMeanDict[context] = mean\n",
    "df['meanDif'] = df.apply(lambda row: row['adjCount'] - contextMeanDict[row['context']], axis=1)\n",
    "    "
   ]
  },
  {
   "cell_type": "code",
   "execution_count": 138,
   "metadata": {},
   "outputs": [],
   "source": [
    "df.to_csv('/Users/friedman/Desktop/WORK/dataForLocalPlotting/recurrentAlleleCounts.tsv', index=False, sep='\\t')"
   ]
  },
  {
   "cell_type": "markdown",
   "metadata": {},
   "source": [
    "**EXOME**"
   ]
  },
  {
   "cell_type": "code",
   "execution_count": 7,
   "metadata": {},
   "outputs": [
    {
     "name": "stderr",
     "output_type": "stream",
     "text": [
      "/anaconda2/lib/python2.7/site-packages/ipykernel_launcher.py:2: FutureWarning: read_table is deprecated, use read_csv instead, passing sep='\\t'.\n",
      "  \n"
     ]
    }
   ],
   "source": [
    "#TODO there is an error and trinucleotides didnt add properly\n",
    "exomeHypermutatorMaf = pd.read_table(filePathDict['ALL_EXOME_HYPERMUTATOR_MAF_WITH_TRINUC'])\n"
   ]
  },
  {
   "cell_type": "code",
   "execution_count": 8,
   "metadata": {},
   "outputs": [],
   "source": [
    "tcgaMmrIds, tcgaPoleIds = get_gene_and_cohort_list_utils.get_tcga_pole_mmr_hypermutator_ids(\n",
    "    tcgaSigsPath = filePathDict['TCGA_SIGNATURE_DECOMPOSITIONS']) \n",
    "recaptureMmrIds, recapturePoleIds = get_gene_and_cohort_list_utils.get_exome_recapture_pole_mmr_hypermutator_ids(exomeRecaptureSigsPath = filePathDict['EXOME_RECAPTURE_SIGNATURE_DECOMPOSITIONS'])\n",
    "poleHypermutatorMaf = exomeHypermutatorMaf[exomeHypermutatorMaf['Tumor_Sample_Barcode'].isin(tcgaPoleIds | recapturePoleIds)]\n",
    "mmrHypermutatorMaf = exomeHypermutatorMaf[exomeHypermutatorMaf['Tumor_Sample_Barcode'].isin(tcgaMmrIds | recaptureMmrIds)]\n"
   ]
  },
  {
   "cell_type": "code",
   "execution_count": 11,
   "metadata": {},
   "outputs": [],
   "source": [
    "essentialGenes = get_gene_and_cohort_list_utils.get_essential_genes(depMapPath = filePathDict['DEP_MAP_DATA'], mode='getEssentialGenes')\n",
    "tsgs = get_gene_and_cohort_list_utils.get_tsgs()\n",
    "oncogenes = get_gene_and_cohort_list_utils.get_oncogenes()\n"
   ]
  },
  {
   "cell_type": "code",
   "execution_count": 26,
   "metadata": {},
   "outputs": [],
   "source": [
    "depMapData = get_gene_and_cohort_list_utils.get_essential_genes(depMapPath = filePathDict['DEP_MAP_DATA'], mode='getAllGenes')"
   ]
  },
  {
   "cell_type": "code",
   "execution_count": 28,
   "metadata": {},
   "outputs": [],
   "source": [
    "superEssentialGenes = set(depMapData[depMapData['score'] < -1.5]['Hugo_Symbol'])"
   ]
  },
  {
   "cell_type": "code",
   "execution_count": 31,
   "metadata": {},
   "outputs": [
    {
     "name": "stdout",
     "output_type": "stream",
     "text": [
      "0.8037213032581454\n"
     ]
    }
   ],
   "source": [
    "#print Counter(mmrHypermutatorMaf['Variant_Classification']).most_common(20)\n",
    "truncatingConsequences = ['Frame_Shift_Ins', 'Frame_Shift_Del', 'Nonsense_Mutation']\n",
    "print np.nanmean(mmrHypermutatorMaf[\n",
    "    mmrHypermutatorMaf['Hugo_Symbol'].isin(tsgs) & \n",
    "    (mmrHypermutatorMaf['Variant_Classification'].isin(truncatingConsequences))]['ccf_Mcopies'])"
   ]
  },
  {
   "cell_type": "code",
   "execution_count": null,
   "metadata": {
    "scrolled": true
   },
   "outputs": [],
   "source": [
    "codingVariantClasses = set(['Frame_Shift_Del', 'Frame_Shift_Ins', 'In_Frame_Del', 'In_Frame_Ins',\n",
    "                           'Missense_Mutation', 'Nonsense_Mutation', 'Nonstop_Mutation', 'Splice_Site'])\n",
    "poleHypermutatorMaf['varUuid'] = poleHypermutatorMaf.apply(lambda row:\n",
    "    str(row['Hugo_Symbol']) + '_' + str(row['HGVSp_Short']) if row['Variant_Classification'] in codingVariantClasses\n",
    "    else str(row['Hugo_Symbol']) + '_' + str(row['Start_Position']), axis=1)\n",
    "mmrHypermutatorMaf['varUuid'] = mmrHypermutatorMaf.apply(lambda row:\n",
    "    str(row['Hugo_Symbol']) + '_' + str(row['HGVSp_Short']) if row['Variant_Classification'] in codingVariantClasses\n",
    "    else str(row['Hugo_Symbol']) + '_' + str(row['Start_Position']), axis=1)"
   ]
  },
  {
   "cell_type": "code",
   "execution_count": 5,
   "metadata": {},
   "outputs": [
    {
     "name": "stdout",
     "output_type": "stream",
     "text": [
      "RPL22_p.K15Rfs*5 84 1 6257785\n",
      "RNF43_p.G659Vfs*41 81 17 56435161\n",
      "DOCK3_p.P1852Qfs*45 74 3 51417604\n",
      "ACVR2A_p.K437Rfs*5 70 2 148683686\n",
      "DRD5_9785349 61 4 9785349\n",
      "ZBTB20_p.P692Lfs*43 59 3 114058003\n",
      "LARP4B_p.T163Hfs*47 45 10 890939\n",
      "PLEKHA6_p.V328Yfs*172 41 1 204228411\n",
      "PGM5_p.I98V 39 9 70993145\n",
      "ELMSAN1_p.N314Tfs*4 37 14 74205773\n"
     ]
    }
   ],
   "source": [
    "for allele, count in Counter(mmrHypermutatorMaf['varUuid']).most_common(10):\n",
    "    print allele, count,\n",
    "    print mmrHypermutatorMaf[mmrHypermutatorMaf['varUuid'] == allele]['Chromosome'].iloc[0],\n",
    "    print mmrHypermutatorMaf[mmrHypermutatorMaf['varUuid'] == allele]['Start_Position'].iloc[0]\n",
    "    \n",
    "    "
   ]
  },
  {
   "cell_type": "code",
   "execution_count": 31,
   "metadata": {},
   "outputs": [
    {
     "name": "stdout",
     "output_type": "stream",
     "text": [
      "Counter({'mmr_RECAPTURE': 113257, 'pole_RECAPTURE': 3175})\n"
     ]
    }
   ],
   "source": [
    "print Counter(exomeHypermutatorMaf[exomeHypermutatorMaf['Ref_Tri'].notnull()]['cohort'])\n",
    "#Counter(poleHypermutatorMaf['Ref_Tri'])\n",
    "#for trinuc in Counter(poleHypermutatorMaf['Ref_Tri']).most_common(10):\n",
    "#    print trinuc\n",
    "    "
   ]
  }
 ],
 "metadata": {
  "kernelspec": {
   "display_name": "Python 2",
   "language": "python",
   "name": "python2"
  },
  "language_info": {
   "codemirror_mode": {
    "name": "ipython",
    "version": 2
   },
   "file_extension": ".py",
   "mimetype": "text/x-python",
   "name": "python",
   "nbconvert_exporter": "python",
   "pygments_lexer": "ipython2",
   "version": "2.7.15"
  }
 },
 "nbformat": 4,
 "nbformat_minor": 2
}
