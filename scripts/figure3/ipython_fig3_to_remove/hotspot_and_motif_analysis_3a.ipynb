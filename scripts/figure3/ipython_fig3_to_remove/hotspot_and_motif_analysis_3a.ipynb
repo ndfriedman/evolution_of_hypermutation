{
 "cells": [
  {
   "cell_type": "code",
   "execution_count": 2,
   "metadata": {},
   "outputs": [],
   "source": [
    "import sys\n",
    "import argparse\n",
    "import os\n",
    "import pandas as pd\n",
    "import numpy as np\n",
    "import re\n",
    "import scipy.stats as stats\n",
    "from collections import Counter\n",
    "\n",
    "sys.path.append('/Users/friedman/Desktop/hypermutationProjectFinal/scripts/utilityScripts')\n",
    "import configuration_util\n",
    "filePathDict = configuration_util.get_all_files_path_dict()\n",
    "import analysis_utils \n",
    "import mutationSigUtils \n",
    "import maf_analysis_utils\n",
    "#import mutation_modeling_util\n",
    "import get_gene_and_cohort_list_utils"
   ]
  },
  {
   "cell_type": "code",
   "execution_count": null,
   "metadata": {
    "scrolled": true
   },
   "outputs": [],
   "source": [
    "allImpactMuts = analysis_utils.load_in_df_with_progress(filePath = pathPrefix + '/juno/work/taylorlab/friedman/myAdjustedDataFiles/data_mutations_extended_annotated_sigContext_nov19_2019.maf', nLinesFile = 331821)"
   ]
  },
  {
   "cell_type": "code",
   "execution_count": null,
   "metadata": {},
   "outputs": [],
   "source": [
    "\n",
    "simDfSummary = pd.read_table('/Users/friedman/Desktop/workOffline/mutSimulationInfoIncludingHotspots.tsv')"
   ]
  },
  {
   "cell_type": "code",
   "execution_count": null,
   "metadata": {},
   "outputs": [],
   "source": [
    "def calculate_n_muts_of_category(df, ignoreMotifs = ['TCAT', 'TCAA', 'TCTG', 'TCTT']):\n",
    "    allBases = ['A', 'C', 'G', 'T']\n",
    "    changes = ['CA', 'CG', 'CT', 'TA', 'TC', 'TG'] #format: 'CA' means a change from C>A\n",
    "    allQuadNucs = [firstBase + change + lastBase for firstBase in allBases for change in changes for lastBase in allBases] #enumerate all 96 quadnucs for signatures\n",
    "    \n",
    "    sQuadNuc = 0\n",
    "    sSilent = 0\n",
    "    sHotspot = 0\n",
    "    sOncogenic = 0\n",
    "    for q in allQuadNucs:\n",
    "        if q not in ignoreMotifs:\n",
    "            sQuadNuc += sum(df[q])\n",
    "            sSilent += sum(df[q + '_silent'])\n",
    "            sHotspot += sum(df[q + '_hotspot'])\n",
    "            sOncogenic += sum(df[q + '_oncogenic'])\n",
    "    \n",
    "    return sQuadNuc - sSilent, sHotspot, sOncogenic\n",
    "        "
   ]
  },
  {
   "cell_type": "code",
   "execution_count": null,
   "metadata": {},
   "outputs": [],
   "source": [
    "def calculate_n_possible_muts_by_category_and_sig(sigMotifs):\n",
    "    nSigNonSilentPOSSIBLE = sum([sum(simDfSummary[x]) for x in sigMotifs]) - sum([sum(simDfSummary[x + '_silent']) for x in sigMotifs])\n",
    "    nSigHotspotPOSSIBLE = sum([sum(simDfSummary[x + '_hotspot']) for x in sigMotifs])\n",
    "    nSigOncogenicPOSSIBLE = sum([sum(simDfSummary[x + '_oncogenic']) for x in sigMotifs])\n",
    "    nNOTSigNonSilentPOSSIBLE, nNOTSigHotspotPOSSIBLE, nNOTSigOncogenicPOSSIBLE = calculate_n_muts_of_category(simDfSummary, ignoreMotifs = sigMotifs)\n",
    "    return nSigNonSilentPOSSIBLE, nSigHotspotPOSSIBLE, nSigOncogenicPOSSIBLE, nNOTSigNonSilentPOSSIBLE, nNOTSigHotspotPOSSIBLE, nNOTSigOncogenicPOSSIBLE\n",
    "\n"
   ]
  },
  {
   "cell_type": "code",
   "execution_count": null,
   "metadata": {},
   "outputs": [],
   "source": [
    "allBases = ['A', 'C', 'G', 'T']\n",
    "changes = ['CA', 'CG', 'CT', 'TA', 'TC', 'TG'] #format: 'CA' means a change from C>A\n",
    "allQuadNucs = [firstBase + change + lastBase for firstBase in allBases for change in changes for lastBase in allBases] #enumerate all 96 quadnucs for signatures\n",
    "  \n",
    "tmzMotifs = set(['ACTC', 'ACTT', 'CCTC', 'CCTT', 'GCTC', 'GCTT', 'TCTC', 'TCTT'])\n",
    "apobecMotifs = set(['TCTA', 'TCTT', 'TCGA', 'TCGT'])\n",
    "\n",
    "allHotspotCols = [x + '_hotspot' for x in allQuadNucs]\n",
    "allSilentCols = [x + '_silent' for x in allQuadNucs]\n",
    "allOncogenicCols = [x + '_oncogenic' for x in allQuadNucs]\n",
    "\n"
   ]
  },
  {
   "cell_type": "code",
   "execution_count": null,
   "metadata": {},
   "outputs": [],
   "source": [
    "nPOLENonSilentPOSSIBLE, nPOLEHotspotPOSSIBLE, nPOLEOncogenicPOSSIBLE, nNOTPOLENonSilentPOSSIBLE, nNOTPOLEHotspotPOSSIBLE, nNOTPOLEOncogenicPOSSIBLE = calculate_n_possible_muts_by_category_and_sig(poleMotifs)\n",
    "\n",
    "nTMZNonSilentPOSSIBLE, nTMZHotspotPOSSIBLE, nTMZOncogenicPOSSIBLE, nNOTTMZNonSilentPOSSIBLE, nNOTTMZHotspotPOSSIBLE, nNOTTMZOncogenicPOSSIBLE = calculate_n_possible_muts_by_category_and_sig(tmzMotifs)\n",
    "\n",
    "nAPOBECNonSilentPOSSIBLE, nAPOBECHotspotPOSSIBLE, nAPOBECOncogenicPOSSIBLE, nNOTAPOBECNonSilentPOSSIBLE, nNOTAPOBECHotspotPOSSIBLE, nNOTAPOBECOncogenicPOSSIBLE = calculate_n_possible_muts_by_category_and_sig(apobecMotifs)\n",
    "\n",
    "\n"
   ]
  },
  {
   "cell_type": "code",
   "execution_count": null,
   "metadata": {},
   "outputs": [],
   "source": [
    "impactSigs = pd.read_table(filePathDict['IMPACT_SIGNATURE_DECOMPOSITIONS'])\n"
   ]
  },
  {
   "cell_type": "code",
   "execution_count": null,
   "metadata": {},
   "outputs": [],
   "source": [
    "poleCases = set(impactSigs[(impactSigs['Nmut_Mb'] > 50) & (impactSigs['mean_10'] > .33)]['Tumor_Sample_Barcode'])"
   ]
  },
  {
   "cell_type": "code",
   "execution_count": null,
   "metadata": {},
   "outputs": [],
   "source": [
    "tmzCases = set(impactSigs[(impactSigs['Nmut_Mb'] > 50) & (impactSigs['mean_11'] > .33)]['Tumor_Sample_Barcode'])"
   ]
  },
  {
   "cell_type": "code",
   "execution_count": null,
   "metadata": {},
   "outputs": [],
   "source": [
    "apobecCases = set(impactSigs[(impactSigs['Nmut_Mb'] > 75) & (impactSigs['mean_2'] + impactSigs['mean_13'] > .5)]['Tumor_Sample_Barcode'])\n"
   ]
  },
  {
   "cell_type": "markdown",
   "metadata": {},
   "source": [
    "now go and calculate p values <br/>"
   ]
  },
  {
   "cell_type": "code",
   "execution_count": null,
   "metadata": {},
   "outputs": [],
   "source": [
    "def get_pvalues_for_oncogneic_mutations_in_cases(ids, allMutsMaf, sigMotifs, \n",
    "                                                 nSigOncogenicPossible, nNotSigOncogenicPossible,\n",
    "                                                 nSigNotSilentPossible, nNotSigNonSilentPossible):\n",
    "\n",
    "    listOfDicts = []\n",
    "    for case in ids:\n",
    "        caseMaf = allMutsMaf[allMutsMaf['Tumor_Sample_Barcode'] == case]\n",
    "        nmut = caseMaf.shape[0]\n",
    "        nmutAtMotif = caseMaf[caseMaf['quadNuc'].isin(sigMotifs)].shape[0]\n",
    "        if nmut > 0:\n",
    "            nOncogenicSIG = caseMaf[(caseMaf['oncogenic'].notnull()) & (caseMaf['quadNuc'].isin(sigMotifs))].shape[0]\n",
    "            nOncogenicNOTSIG = caseMaf[(caseMaf['oncogenic'].notnull()) & (~caseMaf['quadNuc'].isin(sigMotifs))].shape[0]\n",
    "            nNOTOncogenicSIG = caseMaf[~(caseMaf['oncogenic'].notnull()) & (caseMaf['quadNuc'].isin(sigMotifs))].shape[0]\n",
    "            nNOTOncogenicNOTSIG = caseMaf[~(caseMaf['oncogenic'].notnull()) & (~caseMaf['quadNuc'].isin(sigMotifs))].shape[0]\n",
    "\n",
    "            oddsratioSIGMuts, pvalueSIGMuts = stats.fisher_exact([[nOncogenicSIG, nSigOncogenicPossible - nOncogenicSIG],\n",
    "                                                    [nNOTOncogenicSIG, nSigNotSilentPossible - nNOTOncogenicSIG]])\n",
    "\n",
    "            oddsratioNOTSIGMuts, pvalueNOTSIGMuts = stats.fisher_exact([[nOncogenicNOTSIG, nNotSigOncogenicPossible - nOncogenicNOTSIG],\n",
    "                                                    [nNOTOncogenicNOTSIG, nNotSigNonSilentPossible - nNOTOncogenicNOTSIG]])\n",
    "\n",
    "            listOfDicts.append({\n",
    "                'Tumor_Sample_Barcode': case,\n",
    "                'Nmut': nmut,\n",
    "                'pvalueSIGMuts': pvalueSIGMuts, 'pvalueNOTSIGMuts': pvalueNOTSIGMuts,\n",
    "                'oddsratioSIGMuts': oddsratioSIGMuts, 'oddsratioNOTSIGMuts': oddsratioNOTSIGMuts,\n",
    "                'mutOfInterestFrac': (1.0*nOncogenicSIG)/nmutAtMotif\n",
    "            })\n",
    "    df = pd.DataFrame(listOfDicts)\n",
    "    return df\n",
    "\n"
   ]
  },
  {
   "cell_type": "code",
   "execution_count": null,
   "metadata": {},
   "outputs": [],
   "source": [
    "def get_pvalues_for_hotspot_mutations_in_cases(ids, allMutsMaf, sigMotifs,\n",
    "                                               nSigHotspotPossible, nNotSigHotspotPossible,\n",
    "                                               nSigNotSilentPossible, nNotSigNonSilentPossible):\n",
    "\n",
    "    listOfDicts = []\n",
    "    for case in ids:\n",
    "        caseMaf = allMutsMaf[allMutsMaf['Tumor_Sample_Barcode'] == case]\n",
    "        nmut = caseMaf.shape[0]\n",
    "        nmutAtMotif = caseMaf[caseMaf['quadNuc'].isin(sigMotifs)].shape[0]\n",
    "        if nmut > 0:\n",
    "            nHotspotsSIG = caseMaf[(caseMaf['is-a-hotspot'] == 'Y') & (caseMaf['quadNuc'].isin(sigMotifs))].shape[0]\n",
    "            nHotspotsNOTSIG = caseMaf[(caseMaf['is-a-hotspot'] == 'Y') & (~caseMaf['quadNuc'].isin(sigMotifs))].shape[0]\n",
    "            nNOTHotspotsSIG = caseMaf[(caseMaf['is-a-hotspot'] != 'Y') & (caseMaf['quadNuc'].isin(sigMotifs))].shape[0]\n",
    "            nNOTHotspotsNOTSIG = caseMaf[(caseMaf['is-a-hotspot'] != 'Y') & (~caseMaf['quadNuc'].isin(sigMotifs))].shape[0]\n",
    "\n",
    "            oddsratioSIGMuts, pvalueSIGMuts = stats.fisher_exact([[nHotspotsSIG, nSigHotspotPossible - nHotspotsSIG],\n",
    "                                                    [nNOTHotspotsSIG, nSigNotSilentPossible - nNOTHotspotsSIG]])\n",
    "\n",
    "            oddsratioNOTSIGMuts, pvalueNOTSIGMuts = stats.fisher_exact([[nHotspotsNOTSIG, nNotSigHotspotPossible - nHotspotsNOTSIG],\n",
    "                                                    [nNOTHotspotsNOTSIG, nNotSigNonSilentPossible - nNOTHotspotsNOTSIG]])\n",
    "\n",
    "            listOfDicts.append({\n",
    "                'Tumor_Sample_Barcode': case,\n",
    "                'Nmut': nmut,\n",
    "                'pvalueSIGMuts': pvalueSIGMuts, 'pvalueNOTSIGMuts': pvalueNOTSIGMuts,\n",
    "                'oddsratioSIGMuts': oddsratioSIGMuts, 'oddsratioNOTSIGMuts': oddsratioNOTSIGMuts,\n",
    "                'mutOfInterestFrac': (1.0*nHotspotsSIG)/nmutAtMotif\n",
    "            })\n",
    "    df = pd.DataFrame(listOfDicts)\n",
    "    return df\n",
    "    \n",
    "    "
   ]
  },
  {
   "cell_type": "code",
   "execution_count": null,
   "metadata": {},
   "outputs": [],
   "source": [
    "dfOncPOLE = get_pvalues_for_oncogneic_mutations_in_cases(poleCases, allImpactMuts, poleMotifs,\n",
    "                                                       nPOLEOncogenicPOSSIBLE, nNOTPOLEOncogenicPOSSIBLE,\n",
    "                                                 nPOLENonSilentPOSSIBLE, nNOTPOLENonSilentPOSSIBLE)\n",
    "\n",
    "dfHotspotPOLE = get_pvalues_for_hotspot_mutations_in_cases(poleCases, allImpactMuts, poleMotifs,\n",
    "                                                         nPOLEHotspotPOSSIBLE, nNOTPOLEHotspotPOSSIBLE,\n",
    "                                               nPOLENonSilentPOSSIBLE, nNOTPOLENonSilentPOSSIBLE)"
   ]
  },
  {
   "cell_type": "code",
   "execution_count": null,
   "metadata": {},
   "outputs": [],
   "source": [
    "dfOncTMZ = get_pvalues_for_oncogneic_mutations_in_cases(tmzCases, allImpactMuts, tmzMotifs,\n",
    "                                                       nTMZOncogenicPOSSIBLE, nNOTTMZOncogenicPOSSIBLE,\n",
    "                                                 nTMZNonSilentPOSSIBLE, nNOTTMZNonSilentPOSSIBLE)\n",
    "\n",
    "dfHotspotTMZ = get_pvalues_for_hotspot_mutations_in_cases(tmzCases, allImpactMuts, tmzMotifs,\n",
    "                                                         nTMZHotspotPOSSIBLE, nNOTTMZHotspotPOSSIBLE,\n",
    "                                               nTMZNonSilentPOSSIBLE, nNOTTMZNonSilentPOSSIBLE)"
   ]
  },
  {
   "cell_type": "code",
   "execution_count": null,
   "metadata": {},
   "outputs": [],
   "source": [
    "dfOncAPOBEC = get_pvalues_for_oncogneic_mutations_in_cases(apobecCases, allImpactMuts, apobecMotifs,\n",
    "                                                       nAPOBECOncogenicPOSSIBLE, nNOTAPOBECOncogenicPOSSIBLE,\n",
    "                                                 nAPOBECNonSilentPOSSIBLE, nNOTAPOBECNonSilentPOSSIBLE)\n",
    "\n",
    "dfHotspotAPOBEC = get_pvalues_for_hotspot_mutations_in_cases(apobecCases, allImpactMuts, apobecMotifs,\n",
    "                                                         nAPOBECHotspotPOSSIBLE, nNOTAPOBECHotspotPOSSIBLE,\n",
    "                                               nAPOBECNonSilentPOSSIBLE, nNOTAPOBECNonSilentPOSSIBLE)"
   ]
  },
  {
   "cell_type": "code",
   "execution_count": null,
   "metadata": {},
   "outputs": [],
   "source": [
    "dfHotspotPOLE.to_csv('/Users/friedman/Desktop/WORK/dataForLocalPlotting/hotspotPValues_pole.tsv', index=False, sep='\\t')\n",
    "dfOncPOLE.to_csv('/Users/friedman/Desktop/WORK/dataForLocalPlotting/oncogenicPValues_pole.tsv', index=False, sep='\\t')\n"
   ]
  },
  {
   "cell_type": "code",
   "execution_count": null,
   "metadata": {},
   "outputs": [],
   "source": [
    "dfHotspotTMZ.to_csv('/Users/friedman/Desktop/WORK/dataForLocalPlotting/hotspotPValues_tmz.tsv', index=False, sep='\\t')\n",
    "dfOncTMZ.to_csv('/Users/friedman/Desktop/WORK/dataForLocalPlotting/oncogenicPValues_tmz.tsv', index=False, sep='\\t')\n"
   ]
  },
  {
   "cell_type": "code",
   "execution_count": null,
   "metadata": {},
   "outputs": [],
   "source": [
    "dfHotspotAPOBEC.to_csv('/Users/friedman/Desktop/WORK/dataForLocalPlotting/hotspotPValues_apobec.tsv', index=False, sep='\\t')\n",
    "dfOncAPOBEC.to_csv('/Users/friedman/Desktop/WORK/dataForLocalPlotting/oncogenicPValues_apobec.tsv', index=False, sep='\\t')\n"
   ]
  },
  {
   "cell_type": "markdown",
   "metadata": {},
   "source": [
    "**part ii--endometrial pole and not pole** others as well<br/> <br/> <br/> <br/><br/> <br/> <br/> <br/><br/> <br/> <br/> <br/><br/> <br/> <br/> <br/>"
   ]
  },
  {
   "cell_type": "code",
   "execution_count": null,
   "metadata": {},
   "outputs": [],
   "source": [
    "def summarize_hotspots_per_case_by_motif(maf, sigMotifs, cancerTypeRelatedGenes=None, mode='hotspot'):\n",
    "    listOfDicts = []\n",
    "    for case in set(maf['Tumor_Sample_Barcode']):\n",
    "        caseMaf = maf[maf['Tumor_Sample_Barcode'] == case]\n",
    "        \n",
    "        #ive been too lazy to change variable names but there is a mode that does onocgenic mutations\n",
    "        hotspotMuts = None\n",
    "        if mode == 'hotspot':\n",
    "            hotspotMuts = caseMaf[caseMaf['is-a-hotspot'] == 'Y']\n",
    "        elif mode == 'oncogenic':\n",
    "            hotspotMuts = caseMaf[caseMaf['oncogenic'].notnull()]\n",
    "        \n",
    "        hotspotMutsAtSigMotif = hotspotMuts[hotspotMuts['quadNuc'].isin(sigMotifs)]\n",
    "        hotspotMutsNotAtSigMotif = hotspotMuts[~hotspotMuts['quadNuc'].isin(sigMotifs)]\n",
    "        \n",
    "        nmut = caseMaf.shape[0]\n",
    "        nHotspotMutsAtSigMotif = hotspotMutsAtSigMotif.shape[0]\n",
    "        nHotspotMutsNotAtSigMotif = hotspotMutsNotAtSigMotif.shape[0]\n",
    "        \n",
    "        fracRelatedGenesAtSigMotif = None\n",
    "        if nHotspotMutsAtSigMotif > 0:\n",
    "            fracRelatedGenesAtSigMotif = (1.0*hotspotMutsAtSigMotif[hotspotMutsAtSigMotif['Hugo_Symbol'].isin(cancerTypeRelatedGenes)].shape[0])/nHotspotMutsAtSigMotif\n",
    "        \n",
    "        fracRelatedGenesAtNotSigMotif = None\n",
    "        if nHotspotMutsNotAtSigMotif > 0:\n",
    "            fracRelatedGenesAtNotSigMotif = (1.0*hotspotMutsNotAtSigMotif[hotspotMutsNotAtSigMotif['Hugo_Symbol'].isin(cancerTypeRelatedGenes)].shape[0])/nHotspotMutsNotAtSigMotif\n",
    "        \n",
    "        listOfDicts.append({'Tumor_Sample_Barcode': case, 'Nmut': nmut,\n",
    "                            'fracRelatedMotif': fracRelatedGenesAtSigMotif, 'fracRelatedNotMotif': fracRelatedGenesAtNotSigMotif,\n",
    "                            'nHotspotsAtMotif': nHotspotMutsAtSigMotif, 'hotspotMutsNotAtSigMotif': nHotspotMutsNotAtSigMotif})\n",
    "        #Todo--include cancer type related genes\n",
    "    return pd.DataFrame(listOfDicts)\n",
    "    "
   ]
  },
  {
   "cell_type": "code",
   "execution_count": null,
   "metadata": {},
   "outputs": [],
   "source": [
    "endometrialIds = analysis_utils.get_ids_by_hypermutant_status(hypermutantIdDir=pathPrefix +'/ifs/work/taylorlab/friedman/hypermutationAnalysisProj/projectDataAndConfigFiles/hypermutationStatusIds', cancerType='Endometrial Cancer', hypermutantStatus = 'all')\n",
    "endometrialHyperIds = analysis_utils.get_ids_by_hypermutant_status(hypermutantIdDir=pathPrefix +'/ifs/work/taylorlab/friedman/hypermutationAnalysisProj/projectDataAndConfigFiles/hypermutationStatusIds', cancerType='Endometrial Cancer', hypermutantStatus = 'Hypermutated')\n"
   ]
  },
  {
   "cell_type": "code",
   "execution_count": null,
   "metadata": {
    "scrolled": true
   },
   "outputs": [],
   "source": [
    "endometrialMuts = allImpactMuts[allImpactMuts['Tumor_Sample_Barcode'].isin(endometrialIds)]\n",
    "endometrialMuts = analysis_utils.map_cases_to_msi_sensor_class(endometrialMuts, msiSensorInfo= pathPrefix + '/ifs/work/taylorlab/friedman/mskImpactAsOfMarch2019/dmp/mskimpact/data_clinical_sample.txt')\n"
   ]
  },
  {
   "cell_type": "code",
   "execution_count": null,
   "metadata": {},
   "outputs": [],
   "source": [
    "endometrialMss = endometrialMuts[endometrialMuts['caseMsiClass'] == 'Stable']"
   ]
  },
  {
   "cell_type": "code",
   "execution_count": null,
   "metadata": {},
   "outputs": [],
   "source": [
    "impactSigs = pd.read_table(pathPrefix + '/ifs/work/taylorlab/friedman/hypermutationAnalysisProj/projectDataAndConfigFiles/signatures_from_unfiltered_maf.txt')"
   ]
  },
  {
   "cell_type": "code",
   "execution_count": null,
   "metadata": {},
   "outputs": [],
   "source": [
    "impactSigs = mutationSigUtils.merge_signature_columns(impactSigs)\n",
    "impactSigs['dominantSignature'] = impactSigs.apply(lambda row: \n",
    "        mutationSigUtils.get_dominant_signature(row.to_dict(), cols=None, prefix='mean', notEnoughMuts= True), axis=1)"
   ]
  },
  {
   "cell_type": "code",
   "execution_count": null,
   "metadata": {},
   "outputs": [],
   "source": [
    "#also filter out case where mmr is the dominant signature or sig1 or sig14 is the dominant signature in >30mut_mb cases\n",
    "casesWithMSISignature = set(impactSigs[(impactSigs['dominantSignature'] == 'mean_MMR')\n",
    "                                      |((impactSigs['Nmut_Mb'] >= 30) & (impactSigs['dominantSignature'].isin(set(['mean_1', 'mean_14']))))\n",
    "                                        ]['Tumor_Sample_Barcode'])"
   ]
  },
  {
   "cell_type": "code",
   "execution_count": null,
   "metadata": {},
   "outputs": [],
   "source": [
    "reload(analysis_utils)\n",
    "relatedGenesDict = analysis_utils.enumerate_related_unrelated_genes_for_hypermutation_analysis(allImpactMuts, cTypes = ['Endometrial Cancer', 'Glioma', 'Bladder Cancer'])"
   ]
  },
  {
   "cell_type": "code",
   "execution_count": null,
   "metadata": {},
   "outputs": [],
   "source": [
    "endometrialMSSNoMSISig = endometrialMss[~endometrialMss['Tumor_Sample_Barcode'].isin(casesWithMSISignature)]\n",
    "#df = summarize_hotspots_per_case_by_motif(endometrialMSSNoMSISig, poleMotifs, cancerTypeRelatedGenes=relatedGenesDict['Endometrial Cancer'])\n",
    "df = summarize_hotspots_per_case_by_motif(endometrialMSSNoMSISig, poleMotifs, cancerTypeRelatedGenes=relatedGenesDict['Endometrial Cancer'], mode='oncogenic')\n"
   ]
  },
  {
   "cell_type": "code",
   "execution_count": null,
   "metadata": {},
   "outputs": [],
   "source": [
    "df.to_csv('/Users/friedman/Desktop/WORK/dataForLocalPlotting/poleEndometrialHotspotCharacteristics.tsv', index=False, sep='\\t')"
   ]
  },
  {
   "cell_type": "code",
   "execution_count": null,
   "metadata": {},
   "outputs": [],
   "source": [
    "#Do the same for gliomas (TMZ) and bladders (APOBEC)\n",
    "bladderIds = analysis_utils.get_ids_by_hypermutant_status(hypermutantIdDir=pathPrefix +'/ifs/work/taylorlab/friedman/hypermutationAnalysisProj/projectDataAndConfigFiles/hypermutationStatusIds', cancerType='Bladder Cancer', hypermutantStatus = 'all')\n",
    "gliomaIds = analysis_utils.get_ids_by_hypermutant_status(hypermutantIdDir=pathPrefix +'/ifs/work/taylorlab/friedman/hypermutationAnalysisProj/projectDataAndConfigFiles/hypermutationStatusIds', cancerType='Glioma', hypermutantStatus = 'all')\n"
   ]
  },
  {
   "cell_type": "code",
   "execution_count": null,
   "metadata": {},
   "outputs": [],
   "source": [
    "bladderMaf = allImpactMuts[allImpactMuts['Tumor_Sample_Barcode'].isin(bladderIds)]\n",
    "gliomaMaf = allImpactMuts[allImpactMuts['Tumor_Sample_Barcode'].isin(gliomaIds)]"
   ]
  },
  {
   "cell_type": "code",
   "execution_count": null,
   "metadata": {},
   "outputs": [],
   "source": [
    "hypermutationGenes = set(['MLH1', 'MSH2', 'MSH6', 'POLE', 'PMS2'])\n",
    "relatedGenesDict['Bladder Cancer'] = relatedGenesDict['Bladder Cancer'] - hypermutationGenes\n",
    "relatedGenesDict['Glioma'] = relatedGenesDict['Glioma'] - hypermutationGenes"
   ]
  },
  {
   "cell_type": "code",
   "execution_count": null,
   "metadata": {},
   "outputs": [],
   "source": [
    "dfBladder = summarize_hotspots_per_case_by_motif(bladderMaf, apobecMotifs, cancerTypeRelatedGenes=relatedGenesDict['Bladder Cancer'])\n",
    "dfGlioma = summarize_hotspots_per_case_by_motif(gliomaMaf, tmzMotifs, cancerTypeRelatedGenes=relatedGenesDict['Glioma'])\n",
    "\n"
   ]
  },
  {
   "cell_type": "code",
   "execution_count": null,
   "metadata": {},
   "outputs": [],
   "source": [
    "dfBladder.to_csv('/Users/friedman/Desktop/WORK/dataForLocalPlotting/apobecBladderHotspotCharacteristics.tsv', index=False, sep='\\t')\n",
    "dfGlioma.to_csv('/Users/friedman/Desktop/WORK/dataForLocalPlotting/tmzGliomaHotspotCharacteristics.tsv', index=False, sep='\\t')"
   ]
  },
  {
   "cell_type": "markdown",
   "metadata": {},
   "source": [
    "**PART 3** <br/> <br/> <br/> <br/> <br/> <br/>\n",
    "<br/> We have 3 groups:  <br/>\n",
    "1. MSS endo (POLE motif vs not) <br/>\n",
    "2. MSI and low mut burden Colorectal (MSI snp vs INDEL vs Other snp <br/>\n",
    "3. TMZ and low mut burden Glioma (TMZ vs not TMZ motifs)"
   ]
  },
  {
   "cell_type": "code",
   "execution_count": 81,
   "metadata": {},
   "outputs": [],
   "source": [
    "#First enumerate the enriched spectra\n",
    "enrichedSpectra = mutationSigUtils.get_enriched_spectra_for_signatures(spectrumFile='/ifs/work/taylorlab/friedman/noahFirstProject/signature_sig_copy/mutation-signatures/Stratton_signatures30.txt', spectraSignificanceThresh=.025, pathPrefix=pathPrefix, signaturesToIgnore= set([]))"
   ]
  },
  {
   "cell_type": "code",
   "execution_count": 82,
   "metadata": {},
   "outputs": [],
   "source": [
    "poleMotifs = enrichedSpectra['Signature.10']\n",
    "tmzMotifs = enrichedSpectra['Signature.11']\n",
    "mmrMotifs = enrichedSpectra['Signature.MMR']\n",
    "motifDict = {'Endometrial Cancer': poleMotifs, 'Colorectal Cancer': mmrMotifs, 'Glioma': tmzMotifs}"
   ]
  },
  {
   "cell_type": "code",
   "execution_count": 4,
   "metadata": {},
   "outputs": [],
   "source": [
    "#GET in ids for normal and hypermutated\n",
    "\n",
    "endometrialIds = analysis_utils.get_ids_by_hypermutant_status(hypermutantIdDir=pathPrefix +'/ifs/work/taylorlab/friedman/hypermutationAnalysisProj/projectDataAndConfigFiles/hypermutationStatusIds', cancerType='Endometrial Cancer', hypermutantStatus = 'all')\n",
    "endometrialNormalIds = analysis_utils.get_ids_by_hypermutant_status(hypermutantIdDir=pathPrefix +'/ifs/work/taylorlab/friedman/hypermutationAnalysisProj/projectDataAndConfigFiles/hypermutationStatusIds', cancerType='Endometrial Cancer', hypermutantStatus = 'Normal')\n",
    "endometrialHyperIds = analysis_utils.get_ids_by_hypermutant_status(hypermutantIdDir=pathPrefix +'/ifs/work/taylorlab/friedman/hypermutationAnalysisProj/projectDataAndConfigFiles/hypermutationStatusIds', cancerType='Endometrial Cancer', hypermutantStatus = 'Hypermutated')\n",
    "\n",
    "colorectalIds = analysis_utils.get_ids_by_hypermutant_status(hypermutantIdDir=pathPrefix +'/ifs/work/taylorlab/friedman/hypermutationAnalysisProj/projectDataAndConfigFiles/hypermutationStatusIds', cancerType='Colorectal Cancer', hypermutantStatus = 'all')\n",
    "colorectalNormalIds = analysis_utils.get_ids_by_hypermutant_status(hypermutantIdDir=pathPrefix +'/ifs/work/taylorlab/friedman/hypermutationAnalysisProj/projectDataAndConfigFiles/hypermutationStatusIds', cancerType='Colorectal Cancer', hypermutantStatus = 'Normal')\n",
    "colorectalHyperIds = analysis_utils.get_ids_by_hypermutant_status(hypermutantIdDir=pathPrefix +'/ifs/work/taylorlab/friedman/hypermutationAnalysisProj/projectDataAndConfigFiles/hypermutationStatusIds', cancerType='Colorectal Cancer', hypermutantStatus = 'Hypermutated')\n",
    "\n",
    "gliomaIds = analysis_utils.get_ids_by_hypermutant_status(hypermutantIdDir=pathPrefix +'/ifs/work/taylorlab/friedman/hypermutationAnalysisProj/projectDataAndConfigFiles/hypermutationStatusIds', cancerType='Glioma', hypermutantStatus = 'all')\n",
    "gliomaNormalIds = analysis_utils.get_ids_by_hypermutant_status(hypermutantIdDir=pathPrefix +'/ifs/work/taylorlab/friedman/hypermutationAnalysisProj/projectDataAndConfigFiles/hypermutationStatusIds', cancerType='Glioma', hypermutantStatus = 'Normal')\n",
    "gliomaHyperIds = analysis_utils.get_ids_by_hypermutant_status(hypermutantIdDir=pathPrefix +'/ifs/work/taylorlab/friedman/hypermutationAnalysisProj/projectDataAndConfigFiles/hypermutationStatusIds', cancerType='Glioma', hypermutantStatus = 'Hypermutated')\n"
   ]
  },
  {
   "cell_type": "code",
   "execution_count": 18,
   "metadata": {},
   "outputs": [],
   "source": [
    "#load in signature information for ruling out cases for analysis\n",
    "impactSigs = pd.read_table(pathPrefix + '/ifs/work/taylorlab/friedman/hypermutationAnalysisProj/projectDataAndConfigFiles/signatures_from_unfiltered_maf.txt')\n",
    "impactSigs = mutationSigUtils.merge_signature_columns(impactSigs)\n",
    "impactSigs['dominantSignature'] = impactSigs.apply(lambda row: \n",
    "        mutationSigUtils.get_dominant_signature(row.to_dict(), cols=None, prefix='mean', notEnoughMuts= True), axis=1)"
   ]
  },
  {
   "cell_type": "code",
   "execution_count": 35,
   "metadata": {},
   "outputs": [],
   "source": [
    "#We enumerate pan impact marks of msi and tmz to filter stuff out\n",
    "casesWithMSISignature = set(impactSigs[(impactSigs['dominantSignature'] == 'mean_MMR')\n",
    "                                      |((impactSigs['Nmut_Mb'] >= 30) & (impactSigs['dominantSignature'].isin(set(['mean_1']))))\n",
    "                                        ]['Tumor_Sample_Barcode'])\n",
    "\n",
    "casesWithPOLESignature = set(impactSigs[(impactSigs['dominantSignature'] == 'mean_10')]['Tumor_Sample_Barcode'])\n",
    "casesWithTMZSignature = set(impactSigs[impactSigs['dominantSignature'] == 'mean_11']['Tumor_Sample_Barcode'])\n"
   ]
  },
  {
   "cell_type": "code",
   "execution_count": 36,
   "metadata": {},
   "outputs": [],
   "source": [
    "endometrialHyperPOLEOnly = endometrialHyperIds & casesWithPOLESignature\n",
    "colorectalHyperMMROnly = colorectalHyperIds & casesWithMSISignature\n",
    "gliomaHyperTMZOnly = gliomaHyperIds & casesWithTMZSignature"
   ]
  },
  {
   "cell_type": "code",
   "execution_count": null,
   "metadata": {},
   "outputs": [],
   "source": [
    "relatedGenesDict = analysis_utils.enumerate_related_unrelated_genes_for_hypermutation_analysis(allImpactMuts, cTypes = ['Endometrial Cancer', 'Glioma', 'Colorectal Cancer'])\n"
   ]
  },
  {
   "cell_type": "code",
   "execution_count": null,
   "metadata": {
    "scrolled": true
   },
   "outputs": [],
   "source": [
    "endometrialPOLEOnlyMaf = allImpactMuts[allImpactMuts['Tumor_Sample_Barcode'].isin(endometrialHyperPOLEOnly)]\n",
    "endometrialPOLEOnlyMaf['cancer_type'] = 'Endometrial Cancer'\n",
    "endometrialPOLEOnlyMaf['cohort'] = 'Endometrial_Cancer_Hyper'\n",
    "#####################\n",
    "endometrialNormalMaf = allImpactMuts[allImpactMuts['Tumor_Sample_Barcode'].isin(endometrialNormalIds)]\n",
    "endometrialNormalMaf['cancer_type'] = 'Endometrial Cancer'\n",
    "endometrialNormalMaf['cohort'] = 'Endometrial_Cancer_Normal'\n",
    "\n",
    "\n",
    "colorectalMMROnlyMaf = allImpactMuts[allImpactMuts['Tumor_Sample_Barcode'].isin(colorectalHyperMMROnly)]\n",
    "colorectalMMROnlyMaf['cancer_type'] = 'Colorectal Cancer'\n",
    "colorectalMMROnlyMaf['cohort'] = 'Colorectal_Cancer_Hyper'\n",
    "#####################\n",
    "colorectalNormalMaf = allImpactMuts[allImpactMuts['Tumor_Sample_Barcode'].isin(colorectalNormalIds)]\n",
    "colorectalNormalMaf['cancer_type'] = 'Colorectal Cancer'\n",
    "colorectalNormalMaf['cohort'] = 'Colorectal_Cancer_Normal'\n",
    "\n",
    "\n",
    "gliomaTMZOnlyMaf = allImpactMuts[allImpactMuts['Tumor_Sample_Barcode'].isin(gliomaHyperTMZOnly)]\n",
    "gliomaTMZOnlyMaf['cancer_type'] = 'Glioma'\n",
    "gliomaTMZOnlyMaf['cohort'] = 'Glioma_Hyper'\n",
    "#####################\n",
    "gliomaNormalMaf = allImpactMuts[allImpactMuts['Tumor_Sample_Barcode'].isin(gliomaNormalIds)]\n",
    "gliomaNormalMaf['cancer_type'] = 'Glioma'\n",
    "gliomaNormalMaf['cohort'] = 'Glioma_Normal'"
   ]
  },
  {
   "cell_type": "code",
   "execution_count": 41,
   "metadata": {},
   "outputs": [],
   "source": [
    "combinedMaf = pd.concat([endometrialPOLEOnlyMaf, colorectalMMROnlyMaf, gliomaTMZOnlyMaf,\n",
    "                        endometrialNormalMaf, colorectalNormalMaf, gliomaNormalMaf])"
   ]
  },
  {
   "cell_type": "code",
   "execution_count": 72,
   "metadata": {},
   "outputs": [],
   "source": [
    "#a function to summarize info for plotting\n",
    "def summarize_mutation_motif_info(maf, motifDict, relatedGenesD):\n",
    "    cancerTypeMotifNames = {'Endometrial Cancer': ['POLE', 'Not POLE'],\n",
    "                            'Colorectal Cancer': ['MSI', 'Not MSI'],\n",
    "                           'Glioma': ['TMZ', 'Not TMZ']}#a dictionary that maps cancer types to labels we will use\n",
    "    listOfDicts = []\n",
    "    cntr = 0\n",
    "    for case in set(maf['Tumor_Sample_Barcode']):\n",
    "        \n",
    "        cntr += 1\n",
    "        if cntr%50 == 0: print cntr\n",
    "        \n",
    "        #Count n oncogenic, nmut etc\n",
    "        caseMaf = maf[maf['Tumor_Sample_Barcode'] == case]\n",
    "        caseMafOncogenic = caseMaf[caseMaf['oncogenic'].notnull()]\n",
    "        nmut = caseMaf.shape[0]\n",
    "        nmutOnc = caseMafOncogenic.shape[0]\n",
    "        \n",
    "        #COUNT n times things happen at motifs\n",
    "        cancerType = caseMaf['cancer_type'].iloc[0]\n",
    "        cohort = caseMaf['cohort'].iloc[0]\n",
    "\n",
    "        motifs = motifDict[cancerType]\n",
    "        mafIndel = caseMafOncogenic[caseMafOncogenic['Variant_Type'].isin(set(['DEL', 'INS']))]\n",
    "        mafMotif = caseMafOncogenic[(caseMafOncogenic['quadNuc'].isin(motifs)) & (caseMafOncogenic['Variant_Type'] == 'SNP')]\n",
    "        mafNotMotif = caseMafOncogenic[(~caseMafOncogenic['quadNuc'].isin(motifs)) & (caseMafOncogenic['Variant_Type'] == 'SNP')]\n",
    "        nIndel = mafIndel.shape[0]\n",
    "        nMotif = mafMotif.shape[0]\n",
    "        nNOTMotif = mafNotMotif.shape[0]\n",
    "        \n",
    "        #related not related analyses\n",
    "        relatedGenes = relatedGenesD[cancerType]\n",
    "        nRelatedMotif = mafMotif[mafMotif['Hugo_Symbol'].isin(relatedGenes)].shape[0]\n",
    "        nRelatedNOTMotif = mafNotMotif[mafNotMotif['Hugo_Symbol'].isin(relatedGenes)].shape[0]\n",
    "        nRelatedIndel = mafIndel[mafIndel['Hugo_Symbol'].isin(relatedGenes)].shape[0]\n",
    "        fracRelatedMotif = None\n",
    "        fracRelatedNOTMotif = None\n",
    "        fracRelatedIndel = None\n",
    "        if nMotif > 0:\n",
    "            fracRelatedMotif = (1.0*nRelatedMotif)/nMotif\n",
    "        if nNOTMotif > 0:\n",
    "            fracRelatedNOTMotif = (1.0*nRelatedNOTMotif)/nNOTMotif   \n",
    "        if nIndel > 0:\n",
    "            fracRelatedIndel = (1.0*nRelatedIndel)/nIndel\n",
    "        \n",
    "        #NOW DO THE PROPER DICT ASSIGNMENT\n",
    "        sharedD = {'Tumor_Sample_Barcode': case, 'Cancer_Type': cancerType, 'cohort':cohort, 'NmutCase': nmut, 'nOncCase': nmutOnc}\n",
    "        motifD = sharedD.copy()\n",
    "        notMotifD = sharedD.copy()\n",
    "        indelD = sharedD.copy()\n",
    "        \n",
    "        motifD['type'], motifD['n'], motifD['frac'] = cancerTypeMotifNames[cancerType][0], nMotif, fracRelatedMotif\n",
    "        listOfDicts.append(motifD)\n",
    "        #\n",
    "        notMotifD['type'], notMotifD['n'], notMotifD['frac'] = cancerTypeMotifNames[cancerType][1], nNOTMotif, fracRelatedNOTMotif\n",
    "        listOfDicts.append(notMotifD)\n",
    "        #\n",
    "        indelD['type'], indelD['n'], indelD['frac'] = 'indel', nIndel, fracRelatedIndel\n",
    "        listOfDicts.append(indelD)\n",
    "        \n",
    "    return pd.DataFrame(listOfDicts)\n",
    "\n"
   ]
  },
  {
   "cell_type": "code",
   "execution_count": null,
   "metadata": {},
   "outputs": [],
   "source": [
    "df = summarize_mutation_motif_info(combinedMaf, motifDict, relatedGenesDict)"
   ]
  },
  {
   "cell_type": "code",
   "execution_count": 86,
   "metadata": {},
   "outputs": [],
   "source": [
    "df.to_csv('/Users/friedman/Desktop/WORK/dataForLocalPlotting/mutationMotifSummary.tsv', index=False, sep='\\t')"
   ]
  },
  {
   "cell_type": "markdown",
   "metadata": {},
   "source": [
    "**Recurrent hotspots at uncommon trinucletides** "
   ]
  },
  {
   "cell_type": "code",
   "execution_count": 64,
   "metadata": {},
   "outputs": [],
   "source": [
    "#OLD METHOD\n",
    "def count_hotspot_and_vus_quadnucs(maf):\n",
    "    \n",
    "    listOfDicts = []\n",
    "    \n",
    "    nTotalNotHotspotMuts = maf[~(maf['is-a-hotspot'] == 'Y')].shape[0]\n",
    "    onePctCount = .01*nTotalNotHotspotMuts\n",
    "    recurrentHotspotThresh = .1\n",
    "    \n",
    "    allBases = ['A', 'C', 'G', 'T']\n",
    "    changes = ['CA', 'CG', 'CT', 'TA', 'TC', 'TG'] #format: 'CA' means a change from C>A\n",
    "    allQuadNucs = [firstBase + change + lastBase for firstBase in allBases for change in changes for lastBase in allBases] #enumerate all 96 quadnucs for signatures\n",
    "    for quadNuc in allQuadNucs:\n",
    "        quadNucMuts = maf[maf['quadNuc'] == quadNuc]\n",
    "        nNotHotspotMuts =  quadNucMuts[~(quadNucMuts['is-a-hotspot'] == 'Y')].shape[0]\n",
    "        quadNucHotspotMuts = quadNucMuts[quadNucMuts['is-a-hotspot'] == 'Y']\n",
    "        nHotspotMuts = quadNucHotspotMuts.shape[0]\n",
    "        \n",
    "        mostCommonHotspot = None\n",
    "        recurrentAlleles = []\n",
    "        if quadNucHotspotMuts.shape[0] > 0 and nNotHotspotMuts < onePctCount:\n",
    "            for hotspot, count in Counter(quadNucHotspotMuts['allele']).most_common():\n",
    "                if (1.0*count)/nNotHotspotMuts > recurrentHotspotThresh and count > 1:\n",
    "                    #only include hotspots with a ratio of at least 1:10 to non-hotspot mutations and >1mutations\n",
    "                    recurrentAlleles.append(hotspot+':'+str(count))\n",
    "        alleleNames = '\\n'.join(recurrentAlleles)\n",
    "        listOfDicts.append({'quadNuc': quadNuc, 'nNotHotspotMuts': nNotHotspotMuts,\n",
    "                           'nHotspotMuts': nHotspotMuts, 'alleleNames': alleleNames})\n",
    "        \n",
    "    df = pd.DataFrame(listOfDicts)\n",
    "    return df\n",
    "            "
   ]
  },
  {
   "cell_type": "code",
   "execution_count": 80,
   "metadata": {},
   "outputs": [],
   "source": [
    "def summarize_hotspots_and_motif_fractions(maf):\n",
    "    \n",
    "    allBases = ['A', 'C', 'G', 'T']\n",
    "    changes = ['CA', 'CG', 'CT', 'TA', 'TC', 'TG'] #format: 'CA' means a change from C>A\n",
    "    allQuadNucs = [firstBase + change + lastBase for firstBase in allBases for change in changes for lastBase in allBases] #enumerate all 96 quadnucs for signatures\n",
    "    quadNucCountDict = dict(maf['quadNuc'].value_counts())\n",
    "    vusQuadNucCountDict = dict(maf[maf['oncogenic'].isnull()]['quadNuc'].value_counts())\n",
    "    for quadNuc in allQuadNucs:\n",
    "        if quadNuc not in quadNucCountDict: quadNucCountDict[quadNuc] = 0\n",
    "        if quadNuc not in vusQuadNucCountDict: vusQuadNucCountDict[quadNuc] = 0\n",
    "              \n",
    "    maf = maf[maf['is-a-hotspot'] == 'Y']\n",
    "    listOfDicts = []\n",
    "    for allele in set(maf['allele']):\n",
    "        alleleMaf = maf[maf['allele'] == allele]\n",
    "        for quadNuc in set(alleleMaf['quadNuc']):\n",
    "            if quadNuc != None:\n",
    "                quadNucAlleleMaf = alleleMaf[alleleMaf['quadNuc'] == quadNuc]\n",
    "                listOfDicts.append({'allele': allele, 'nMuts': quadNucAlleleMaf.shape[0],\n",
    "                                'quadNuc': quadNuc, 'nQuadnuc': quadNucCountDict[quadNuc],\n",
    "                                'nQuadnucVUS': vusQuadNucCountDict[quadNuc]})\n",
    "    df = pd.DataFrame(listOfDicts)\n",
    "    return df\n",
    "    "
   ]
  },
  {
   "cell_type": "code",
   "execution_count": 13,
   "metadata": {},
   "outputs": [],
   "source": [
    "allImpactMuts['allele'] = allImpactMuts.apply(lambda row: str(row['Hugo_Symbol']) + '_' + str(row['HGVSp_Short']), axis=1)"
   ]
  },
  {
   "cell_type": "code",
   "execution_count": 72,
   "metadata": {},
   "outputs": [],
   "source": [
    "idsDict = {}\n",
    "#cancerTypes where we have at least 40 hypermutated cases\n",
    "cancerTypes = ['Endometrial Cancer', 'Colorectal Cancer', 'Glioma', 'Non-Small Cell Lung Cancer',\n",
    "                  'Prostate Cancer', 'Esophagogastric Cancer', 'Bladder Cancer']\n",
    "for cancerType in cancerTypes:\n",
    "    idsDict[cancerType] = get_gene_and_cohort_list_utils.get_ids_by_hypermutant_status(hypermutantIdDir=pathPrefix +'/juno/work/taylorlab/friedman/hypermutationAnalysisProj/projectDataAndConfigFiles/hypermutationStatusIds', cancerType=cancerType, hypermutantStatus = 'Hypermutated')\n"
   ]
  },
  {
   "cell_type": "code",
   "execution_count": 76,
   "metadata": {},
   "outputs": [],
   "source": [
    "mafsDict = {}\n",
    "for cancerType, ids in idsDict.items():\n",
    "    mafsDict[cancerType] = allImpactMuts[allImpactMuts['Tumor_Sample_Barcode'].isin(ids)]\n"
   ]
  },
  {
   "cell_type": "code",
   "execution_count": 81,
   "metadata": {},
   "outputs": [],
   "source": [
    "summaryDfsList = []\n",
    "\n",
    "for cancerType, maf in mafsDict.items():\n",
    "    summaryDf = summarize_hotspots_and_motif_fractions(maf)\n",
    "    summaryDf['cancerType'] = cancerType\n",
    "    nCases = len(set(maf['Tumor_Sample_Barcode']))\n",
    "    summaryDf['fracCasesWithHotspot'] = summaryDf['nMuts'].apply(lambda x: (1.0*x)/nCases)\n",
    "    summaryDfsList.append(summaryDf)\n",
    "    \n",
    "combinedDf = pd.concat(summaryDfsList)\n",
    "combinedDf['alleleAndCancerType'] = combinedDf['allele'] + '\\n' + combinedDf['cancerType']"
   ]
  },
  {
   "cell_type": "code",
   "execution_count": 82,
   "metadata": {},
   "outputs": [],
   "source": [
    "combinedDf.to_csv('/Users/friedman/Desktop/WORK/dataForLocalPlotting/nonSignatureFavoredAlleles.tsv', index=False, sep='\\t')"
   ]
  },
  {
   "cell_type": "code",
   "execution_count": 121,
   "metadata": {},
   "outputs": [],
   "source": [
    "\n",
    "#impactSigsDf = pd.read_table(pathPrefix + '/juno/work/taylorlab/friedman/myAdjustedDataFiles/impactSignatureCalls_Nov20_2019.tsv')"
   ]
  },
  {
   "cell_type": "code",
   "execution_count": 131,
   "metadata": {},
   "outputs": [],
   "source": [
    "poleCases = impactSigsDf[impactSigsDf['dominantSignature'] == 'mean_10']['Tumor_Sample_Barcode']"
   ]
  },
  {
   "cell_type": "code",
   "execution_count": 132,
   "metadata": {},
   "outputs": [],
   "source": [
    "allPoleMuts = allImpactMuts[allImpactMuts['Tumor_Sample_Barcode'].isin(poleCases)]\n"
   ]
  },
  {
   "cell_type": "code",
   "execution_count": 133,
   "metadata": {},
   "outputs": [],
   "source": [
    "nHotspotMuts = dict(allPoleMuts[allPoleMuts['is-a-hotspot'] == 'Y']['Tumor_Sample_Barcode'].value_counts())\n",
    "nMuts = dict(allPoleMuts['Tumor_Sample_Barcode'].value_counts())"
   ]
  },
  {
   "cell_type": "code",
   "execution_count": 138,
   "metadata": {},
   "outputs": [],
   "source": [
    "listOfDicts = []\n",
    "for case in set(allPoleMuts['Tumor_Sample_Barcode']):\n",
    "    if case in nHotspotMuts and case in nMuts:\n",
    "        listOfDicts.append({'Tumor_Sample_Barcode': case, 'nHotspot': nHotspotMuts[case],\n",
    "                       'nmut': nMuts[case], 'hotspotRate': (1.0*nHotspotMuts[case])/nMuts[case]})\n",
    "    \n",
    "df = pd.DataFrame(listOfDicts)"
   ]
  },
  {
   "cell_type": "code",
   "execution_count": 145,
   "metadata": {},
   "outputs": [
    {
     "name": "stdout",
     "output_type": "stream",
     "text": [
      "P-0042339-T01-IM6\n",
      "P-0047608-T01-IM6\n",
      "P-0014528-T01-IM6\n",
      "P-0033990-T01-IM6\n",
      "P-0033990-T02-IM6\n"
     ]
    }
   ],
   "source": [
    "np.nanmedian(df['hotspotRate'])\n",
    "for i in df[df['hotspotRate'] > .25]['Tumor_Sample_Barcode']:\n",
    "    print i"
   ]
  },
  {
   "cell_type": "code",
   "execution_count": null,
   "metadata": {},
   "outputs": [],
   "source": []
  }
 ],
 "metadata": {
  "kernelspec": {
   "display_name": "Python 2",
   "language": "python",
   "name": "python2"
  },
  "language_info": {
   "codemirror_mode": {
    "name": "ipython",
    "version": 2
   },
   "file_extension": ".py",
   "mimetype": "text/x-python",
   "name": "python",
   "nbconvert_exporter": "python",
   "pygments_lexer": "ipython2",
   "version": "2.7.15"
  }
 },
 "nbformat": 4,
 "nbformat_minor": 2
}
