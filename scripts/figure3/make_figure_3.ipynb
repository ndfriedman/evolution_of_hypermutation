{
 "cells": [
  {
   "cell_type": "code",
   "execution_count": 38,
   "metadata": {},
   "outputs": [],
   "source": [
    "import pandas as pd\n",
    "import sys\n",
    "import argparse\n",
    "import os\n",
    "import pandas as pd\n",
    "import numpy as np\n",
    "import math\n",
    "import re\n",
    "from collections import Counter\n",
    "import scipy.stats as stats\n",
    "\n",
    "notebookPath = 'scripts/figure3'\n",
    "projectDir = re.sub(notebookPath, '', os.getcwd())\n",
    "sys.path.append('/Users/friedman/Desktop/hypermutationProjectFinal/scripts/utilityScripts')\n",
    "sys.path.append(os.path.join(projectDir, 'scripts/utilityScripts'))\n",
    "\n",
    "import configuration_util\n",
    "import get_gene_and_cohort_list_utils\n",
    "import analysis_utils\n",
    "import mutationSigUtils\n",
    "import maf_analysis_utils\n",
    "\n",
    "filePathDict = configuration_util.get_all_files_path_dict()"
   ]
  },
  {
   "cell_type": "code",
   "execution_count": 31,
   "metadata": {},
   "outputs": [],
   "source": [
    "#Set where to write the files\n",
    "writeDir = os.path.join(projectDir, 'scripts/figure3/FIGURE3_PLOTTING_FILES/plotDataFiles')"
   ]
  },
  {
   "cell_type": "markdown",
   "metadata": {},
   "source": [
    "## Mutations in essential genes figure"
   ]
  },
  {
   "cell_type": "code",
   "execution_count": 33,
   "metadata": {},
   "outputs": [],
   "source": [
    "def summarize_essential_gene_mutation_burden(maf, cancerTypeEssentialGenesDict):\n",
    "    impactGenes = get_gene_and_cohort_list_utils.get_im6_genes()\n",
    "    listOfDicts = []\n",
    "    cntr = 0\n",
    "    for case in set(maf['Tumor_Sample_Barcode']):\n",
    "        if cntr %50== 0: print round((1.0*cntr)/len(set(maf['Tumor_Sample_Barcode'])), 2),\n",
    "        cntr +=1\n",
    "        caseMaf = maf[maf['Tumor_Sample_Barcode'] == case]\n",
    "        cancerType = caseMaf['cancerTypeDepMap'].iloc[0]\n",
    "        essentialGenes = cancerTypeEssentialGenesDict[cancerType]\n",
    "        essentialGeneMaf = caseMaf[caseMaf['Hugo_Symbol'].isin(essentialGenes)]\n",
    "        neutralGeneMaf = caseMaf[~caseMaf['Hugo_Symbol'].isin(set(essentialGenes) | set(impactGenes))]\n",
    "        essentialGeneCompositeMaf = essentialGeneMaf[essentialGeneMaf['isComposite'] == 1]\n",
    "        neutralGeneCompositeMaf = neutralGeneMaf[neutralGeneMaf['isComposite'] == 1]\n",
    "        \n",
    "        listOfDicts.append({'Tumor_Sample_Barcode': case,\n",
    "                            'nNeutralTruncating': neutralGeneMaf.shape[0],\n",
    "                            'nEssentialTruncatingGenes': len(set(essentialGeneMaf['Hugo_Symbol'])),\n",
    "                            'nNeutralTruncatingGenes': len(set(neutralGeneMaf['Hugo_Symbol'])),\n",
    "                            'nEssentialDoubleTruncatingGenes': len(set(essentialGeneCompositeMaf['Hugo_Symbol'])),\n",
    "                            'nNeutralDoubleTruncatingGenes': len(set(neutralGeneCompositeMaf['Hugo_Symbol'])),\n",
    "                           })\n",
    "    return pd.DataFrame(listOfDicts)"
   ]
  },
  {
   "cell_type": "code",
   "execution_count": 34,
   "metadata": {},
   "outputs": [
    {
     "name": "stdout",
     "output_type": "stream",
     "text": [
      "0.0 0.07 0.15 0.22 0.3 0.37 0.44 0.52 0.59 0.67 0.74 0.81 0.89 0.96\n"
     ]
    }
   ],
   "source": [
    "exomeHypermutatorMaf = pd.read_table(filePathDict['ALL_EXOME_HYPERMUTATOR_MAF'])\n",
    "exomeHypermutatorMafWithCancerType = maf_analysis_utils.annotate_maf_with_dep_map_cancer_type(exomeHypermutatorMaf, tcgaInfoPath=filePathDict['TCGA_CANCER_TYPE_INFO'], impactInfoPath=filePathDict['CANCER_TYPE_INFO'])\n",
    "\n",
    "#specifically run analysis on certain cancer types where we can identify essential genes\n",
    "cTypes = set(exomeHypermutatorMafWithCancerType['cancerTypeDepMap'])\n",
    "d = get_gene_and_cohort_list_utils.get_cancer_type_specific_dep_map_data(cancerTypes = cTypes)\n",
    "cancerTypeEssentialGenesDict = get_gene_and_cohort_list_utils.get_cancer_type_specific_essential_genes(cTypes, essentialThresh = -1)\n",
    "\n",
    "exomeHypermutatorMafWithCancerType = exomeHypermutatorMafWithCancerType[exomeHypermutatorMafWithCancerType['cancerTypeDepMap'] != 'other']\n",
    "exomeHypermutatorMafWithCancerType = exomeHypermutatorMafWithCancerType[exomeHypermutatorMafWithCancerType['cancerTypeDepMap'] != 'other']\n",
    "truncatingConsequences = set(['Nonsense_Mutation', 'Frame_Shift_Del', 'Frame_Shift_Ins'])\n",
    "truncatingMaf = exomeHypermutatorMafWithCancerType[exomeHypermutatorMafWithCancerType['Variant_Classification'].isin(truncatingConsequences)]\n",
    "\n",
    "truncatingMaf['geneCase'] = truncatingMaf.apply(lambda row: row['Tumor_Sample_Barcode'] + '_' + row['Hugo_Symbol'], axis=1)\n",
    "mutCounts = truncatingMaf['geneCase'].value_counts()\n",
    "truncatingMaf['isComposite'] = truncatingMaf['geneCase'].apply(lambda x:\n",
    "            1 if x in mutCounts and mutCounts[x] > 1 else 0)\n",
    "\n",
    "df = summarize_essential_gene_mutation_burden(truncatingMaf, cancerTypeEssentialGenesDict)"
   ]
  },
  {
   "cell_type": "code",
   "execution_count": 35,
   "metadata": {},
   "outputs": [],
   "source": [
    "writePath = os.path.join(writeDir, 'figure_3z1.tsv')\n",
    "df.to_csv(writePath, index=False, sep='\\t')\n"
   ]
  },
  {
   "cell_type": "markdown",
   "metadata": {},
   "source": [
    "## Ongoing evolution late in tumor development"
   ]
  },
  {
   "cell_type": "code",
   "execution_count": 43,
   "metadata": {},
   "outputs": [],
   "source": [
    "def identify_parallel_evolution(maf, trunkId, branchId, pid):\n",
    "    oncoMaf = maf[maf['oncogenic'].notnull()]\n",
    "    otherBranchesMaf = oncoMaf[(~oncoMaf['adjLabel'].isin([trunkId, branchId])) &\n",
    "                    (oncoMaf['pid'] == pid)]\n",
    "    branchMaf = oncoMaf[oncoMaf['adjLabel'] == branchId]\n",
    "    if len(set(otherBranchesMaf['Hugo_Symbol']) & set(branchMaf['Hugo_Symbol'])) > 0:\n",
    "        return True\n",
    "    else:\n",
    "        return False\n",
    "    \n",
    "#todo this could return something non-boolean\n",
    "def identify_tsg_second_hit(maf, trunkId, branchId):\n",
    "    oncoMaf = maf[maf['oncogenic'].notnull()]\n",
    "    tsgs = get_gene_and_cohort_list_utils.get_tsgs()\n",
    "    oncoTsgMaf = oncoMaf[oncoMaf['Hugo_Symbol'].isin(tsgs)]\n",
    "    trunkOncoTsg = oncoTsgMaf[oncoTsgMaf['adjLabel'] == trunkId].drop_duplicates(subset=['varUuid']) #NOTE all mutations are at least duplicated in the truncal maf, fix it\n",
    "    branchOncoTsg = oncoTsgMaf[oncoTsgMaf['adjLabel'] == branchId]\n",
    "    \n",
    "    oneHitTrunkTsgs = [gene for gene, count in dict(trunkOncoTsg['Hugo_Symbol'].value_counts()).items() if count == 1]\n",
    "    secondHitTsgs = set(branchOncoTsg['Hugo_Symbol']) & set(oneHitTrunkTsgs)\n",
    "    if len(secondHitTsgs) > 0:\n",
    "        return True\n",
    "    else:\n",
    "        return False\n",
    "    \n",
    "def identify_denovo_biallelic_inactivation(maf, trunkId, branchId):\n",
    "    oncoMaf = maf[maf['oncogenic'].notnull()]\n",
    "    tsgs = get_gene_and_cohort_list_utils.get_tsgs()\n",
    "    oncoTsgMaf = oncoMaf[oncoMaf['Hugo_Symbol'].isin(tsgs)]\n",
    "    trunkOncoTsg = oncoTsgMaf[oncoTsgMaf['adjLabel'] == trunkId].drop_duplicates(subset=['varUuid']) #NOTE all mutations are at least duplicated in the truncal maf, fix it\n",
    "    branchOncoTsg = oncoTsgMaf[oncoTsgMaf['adjLabel'] == branchId]\n",
    "    \n",
    "    doubleHitBranchTsgs = [gene for gene, count in dict(branchOncoTsg['Hugo_Symbol'].value_counts()).items() if count > 1]\n",
    "    denovoBranchBiallelic = set(doubleHitBranchTsgs) - set(trunkOncoTsg['Hugo_Symbol'])\n",
    "    if len(denovoBranchBiallelic) > 0:\n",
    "        return True\n",
    "    else:\n",
    "        return False\n",
    "\n",
    "def summarize_mut_branch_info(maf, relatedGenesDict):\n",
    "    listOfDicts = []\n",
    "    for pid in set(maf['pid']):\n",
    "        patientMaf = maf[maf['pid'] == pid]\n",
    "        trunkLabel = pid + '_trunk'\n",
    "        branchNumber = 1\n",
    "        for branch in set(patientMaf['adjLabel']) - set([trunkLabel]):\n",
    "            trunkMaf = mutsLabeledByBranch[mutsLabeledByBranch['adjLabel'] == trunkLabel]\n",
    "            branchMaf = mutsLabeledByBranch[mutsLabeledByBranch['Tumor_Sample_Barcode'] == branch]\n",
    "            \n",
    "            cancerType = branchMaf['cancerType'].iloc[0]\n",
    "            relatedGenes = relatedGenesDict[cancerType]\n",
    "            \n",
    "            #Number of related and unrelated drivers\n",
    "            nRelatedDriverTrunk = trunkMaf[(trunkMaf['oncogenic'].notnull()) & (trunkMaf['Hugo_Symbol'].isin(relatedGenes))].shape[0]\n",
    "            nUnrelatedDriverTrunk = trunkMaf[(trunkMaf['oncogenic'].notnull()) & (~trunkMaf['Hugo_Symbol'].isin(relatedGenes))].shape[0]    \n",
    "            nRelatedDriverBranch = branchMaf[(branchMaf['oncogenic'].notnull()) & (branchMaf['Hugo_Symbol'].isin(relatedGenes))].shape[0]\n",
    "            nUnrelatedDriverBranch = branchMaf[(branchMaf['oncogenic'].notnull()) & (~branchMaf['Hugo_Symbol'].isin(relatedGenes))].shape[0]    \n",
    "            \n",
    "            convergentEvolution = identify_parallel_evolution(mutsLabeledByBranch, trunkLabel, branch, pid)\n",
    "            tsgSecondHit = identify_tsg_second_hit(mutsLabeledByBranch, trunkLabel, branch)\n",
    "            denovoBiallelicInactivation = identify_denovo_biallelic_inactivation(mutsLabeledByBranch, trunkLabel, branch)\n",
    "            \n",
    "            listOfDicts.append({'cancerType': cancerType, 'branchNumber': branchNumber,\n",
    "                               'trunkId': trunkLabel, 'nRelatedTrunk': nRelatedDriverTrunk, 'nUnrelatedTrunk': nUnrelatedDriverTrunk,\n",
    "                                'nRelatedBranch': nRelatedDriverBranch, 'nUnrelatedBranch': nUnrelatedDriverBranch,\n",
    "                                'branchId': branch, 'convergentEvolution': convergentEvolution,\n",
    "                                'secondHitTSG': tsgSecondHit, 'denovoBiallelicInactivation': denovoBiallelicInactivation\n",
    "                               })\n",
    "            \n",
    "            branchNumber += 1\n",
    "            \n",
    "    df = pd.DataFrame(listOfDicts)\n",
    "    \n",
    "    cancerTypeOrdering = {'Bladder Cancer': '1', 'Colorectal Cancer': '2', 'Endometrial Cancer': '3',\n",
    "                         'Esophagogastric Cancer': '4', 'Glioma': '5', 'Prostate Cancer': '6'}\n",
    "    \n",
    "    df['orderingVal'] = df.apply(lambda row: str(cancerTypeOrdering[row['cancerType']]) +\n",
    "                re.sub(\"[^0-9]\", '', str(row['trunkId'])) + str(row['branchNumber']), axis=1)\n",
    "    return df\n",
    "            \n",
    "            "
   ]
  },
  {
   "cell_type": "code",
   "execution_count": 44,
   "metadata": {},
   "outputs": [],
   "source": [
    "mutsLabeledByBranch = pd.read_table(filePathDict['BRANCH_ANNOTATED_MAF'])\n",
    "allImpactMutsMaf = pd.read_table(filePathDict['IMPACT_BASE_MAF'])\n",
    "cancerTypeDict = dict(get_gene_and_cohort_list_utils.get_impact_cancer_type_info(impactCancerTypeInfoPath = filePathDict['CANCER_TYPE_INFO']))\n",
    "allImpactMutsMaf['cancerType'] = allImpactMutsMaf['Tumor_Sample_Barcode'].apply(lambda x: cancerTypeDict[x] if x in cancerTypeDict else None)\n",
    "\n",
    "mutsLabeledByBranch['barcodeOld'] = mutsLabeledByBranch['adjLabel'].apply(lambda x: x.split('_')[0])\n",
    "mutsLabeledByBranch['cancerType'] = mutsLabeledByBranch['barcodeOld'].apply(lambda x: cancerTypeDict[x] if x in cancerTypeDict else None)\n",
    "\n",
    "hypermutantIds = get_gene_and_cohort_list_utils.get_all_hypermutant_ids(hypermutantIdDir=filePathDict['HYPERMUTATION_STATUS_IDS'])\n",
    "normalIds = get_gene_and_cohort_list_utils.get_all_normal_ids(hypermutantIdDir=filePathDict['HYPERMUTATION_STATUS_IDS'])\n",
    "allImpactMutsMaf['hypermutationStatus'] = allImpactMutsMaf['Tumor_Sample_Barcode'].apply(lambda x:\n",
    "    'hypermutated' if x in hypermutantIds else 'normal' if x in normalIds else 'Intermediate')\n",
    "\n",
    "relatedGenesDict = get_gene_and_cohort_list_utils.get_related_genes_by_cancer_type(thresh = 1.0/30.0, impactMafPath = filePathDict['IMPACT_BASE_MAF'])\n",
    "\n",
    "df = summarize_mut_branch_info(mutsLabeledByBranch, relatedGenesDict)"
   ]
  },
  {
   "cell_type": "code",
   "execution_count": 45,
   "metadata": {},
   "outputs": [],
   "source": [
    "writePath = os.path.join(writeDir, 'figure_3z2.tsv')\n",
    "df.to_csv(writePath, index=False, sep='\\t')"
   ]
  },
  {
   "cell_type": "markdown",
   "metadata": {},
   "source": [
    "## Clonality figure"
   ]
  },
  {
   "cell_type": "code",
   "execution_count": 47,
   "metadata": {},
   "outputs": [],
   "source": [
    "def summarize_clonality_info(maf):\n",
    "    tmzIds = get_gene_and_cohort_list_utils.get_impact_signature_cohort(filePathDict['IMPACT_SIGNATURE_DECOMPOSITIONS'], 'mean_11')\n",
    "    poleIds = get_gene_and_cohort_list_utils.get_impact_signature_cohort(filePathDict['IMPACT_SIGNATURE_DECOMPOSITIONS'], 'mean_10') | get_gene_and_cohort_list_utils.get_impact_signature_cohort(filePathDict['IMPACT_SIGNATURE_DECOMPOSITIONS'], 'mean_14')\n",
    "    mmrIds = get_gene_and_cohort_list_utils.get_impact_signature_cohort(filePathDict['IMPACT_SIGNATURE_DECOMPOSITIONS'], 'mean_MMR')\n",
    "    #aging ids in hypermutators are actually MMR\n",
    "    agingIds = get_gene_and_cohort_list_utils.get_impact_signature_cohort(filePathDict['IMPACT_SIGNATURE_DECOMPOSITIONS'], 'mean_1')\n",
    "    endogenousIds = poleIds | mmrIds | agingIds\n",
    "    hypermutantIds = get_gene_and_cohort_list_utils.get_all_hypermutant_ids(hypermutantIdDir=filePathDict['HYPERMUTATION_STATUS_IDS'])\n",
    "\n",
    "    hypermutantMaf = maf[maf['Tumor_Sample_Barcode'].isin(hypermutantIds)]\n",
    "    tmzGliomaIds = set(hypermutantMaf[(hypermutantMaf['Tumor_Sample_Barcode'].isin(tmzIds)) & (hypermutantMaf['cancerType'] == 'Glioma')]['Tumor_Sample_Barcode'])\n",
    "    \n",
    "    oncogenes = get_gene_and_cohort_list_utils.get_oncogenes()\n",
    "    tsgs = get_gene_and_cohort_list_utils.get_tsgs()\n",
    "    \n",
    "    hypermutantMaf['driverType'] = hypermutantMaf['oncogenic'].apply(lambda x: 'driver' if len(str(x)) > 4 else 'VUS')\n",
    "    hypermutantMaf['geneType'] = hypermutantMaf['Hugo_Symbol'].apply(lambda x: 'TSG' if x in tsgs else 'Oncogene' if x in oncogenes else None)\n",
    "    hypermutantMaf['mutationType'] = hypermutantMaf['Tumor_Sample_Barcode'].apply(lambda x: 'Endogenous' if x in endogenousIds else 'TMZ-glioma' if x in tmzGliomaIds else None)\n",
    "    \n",
    "    hypermutantMaf = hypermutantMaf[hypermutantMaf['HGVSp_Short'].notnull()]\n",
    "    \n",
    "    return hypermutantMaf"
   ]
  },
  {
   "cell_type": "code",
   "execution_count": 48,
   "metadata": {},
   "outputs": [
    {
     "name": "stderr",
     "output_type": "stream",
     "text": [
      "/Users/friedman/Desktop/hypermutationProjectFinal/scripts/utilityScripts/get_gene_and_cohort_list_utils.py:269: FutureWarning: read_table is deprecated, use read_csv instead, passing sep='\\t'.\n",
      "  sigsDf = pd.read_table(impactSigsPath)\n",
      "/anaconda2/lib/python2.7/site-packages/ipykernel_launcher.py:16: SettingWithCopyWarning: \n",
      "A value is trying to be set on a copy of a slice from a DataFrame.\n",
      "Try using .loc[row_indexer,col_indexer] = value instead\n",
      "\n",
      "See the caveats in the documentation: http://pandas.pydata.org/pandas-docs/stable/indexing.html#indexing-view-versus-copy\n",
      "  app.launch_new_instance()\n",
      "/anaconda2/lib/python2.7/site-packages/ipykernel_launcher.py:17: SettingWithCopyWarning: \n",
      "A value is trying to be set on a copy of a slice from a DataFrame.\n",
      "Try using .loc[row_indexer,col_indexer] = value instead\n",
      "\n",
      "See the caveats in the documentation: http://pandas.pydata.org/pandas-docs/stable/indexing.html#indexing-view-versus-copy\n",
      "/anaconda2/lib/python2.7/site-packages/ipykernel_launcher.py:18: SettingWithCopyWarning: \n",
      "A value is trying to be set on a copy of a slice from a DataFrame.\n",
      "Try using .loc[row_indexer,col_indexer] = value instead\n",
      "\n",
      "See the caveats in the documentation: http://pandas.pydata.org/pandas-docs/stable/indexing.html#indexing-view-versus-copy\n"
     ]
    }
   ],
   "source": [
    "\"\"\"allImpactMutsMaf = pd.read_table(filePathDict['IMPACT_BASE_MAF'])\n",
    "allImpactMutsMaf['varUuid'] = allImpactMutsMaf.apply(lambda row: str(row['Tumor_Sample_Barcode']) + '_' +\n",
    "                               str(row['Start_Position']) + '_' + str(row['Tumor_Seq_Allele2']), axis=1)\n",
    "oncogenicDict = dict(zip(allImpactMutsMaf['varUuid'], allImpactMutsMaf['oncogenic']))\n",
    "\n",
    "clonalityMaf = pd.read_csv(filePathDict['IMPACT_MAF_WITH_ADJUSTED_CLONALITY_ANNOTATION'])\n",
    "clonalityMaf['varUuid'] = clonalityMaf.apply(lambda row: str(row['Tumor_Sample_Barcode']) + '_' +\n",
    "                               str(row['Start_Position']) + '_' + str(row['Tumor_Seq_Allele2']), axis=1)\n",
    "clonalityMaf['oncogenic'] = clonalityMaf['varUuid'].apply(lambda x: oncogenicDict[x] if x in oncogenicDict else None)\n",
    "\n",
    "cancerTypeDict = get_gene_and_cohort_list_utils.get_impact_cancer_type_info(filePathDict['CANCER_TYPE_INFO'])\n",
    "clonalityMaf['cancerType'] = clonalityMaf['Tumor_Sample_Barcode'].apply(lambda x: cancerTypeDict[x] if x in cancerTypeDict else None)\n",
    "\"\"\"\n",
    "summaryMaf = summarize_clonality_info(clonalityMaf)\n",
    "\n",
    "summaryMaf['clonal'] = summaryMaf['isClonal'].apply(lambda x: 1 if x == True else 0 if x == False else None)\n",
    "summaryMaf = summaryMaf[['clonal', 'Tumor_Sample_Barcode', 'driverType', 'geneType', 'mutationType', 'Hugo_Symbol']]"
   ]
  },
  {
   "cell_type": "code",
   "execution_count": 49,
   "metadata": {},
   "outputs": [],
   "source": [
    "writePath = os.path.join(writeDir, 'figure_3z3.tsv')\n",
    "summaryMaf.to_csv(writePath, index=False, sep='\\t')"
   ]
  }
 ],
 "metadata": {
  "kernelspec": {
   "display_name": "Python 2",
   "language": "python",
   "name": "python2"
  },
  "language_info": {
   "codemirror_mode": {
    "name": "ipython",
    "version": 2
   },
   "file_extension": ".py",
   "mimetype": "text/x-python",
   "name": "python",
   "nbconvert_exporter": "python",
   "pygments_lexer": "ipython2",
   "version": "2.7.15"
  }
 },
 "nbformat": 4,
 "nbformat_minor": 2
}
